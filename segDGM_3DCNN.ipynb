{
 "cells": [
  {
   "cell_type": "code",
   "execution_count": 1,
   "metadata": {},
   "outputs": [
    {
     "name": "stderr",
     "output_type": "stream",
     "text": [
      "Using TensorFlow backend.\n"
     ]
    }
   ],
   "source": [
    "%matplotlib inline\n",
    "import nibabel as nib\n",
    "import numpy as np\n",
    "from scipy import ndimage\n",
    "from keras import backend as K\n",
    "from sklearn.metrics import accuracy_score, precision_score\n",
    "\n",
    "from utils import *\n",
    "from model_FCNN import generate_model\n"
   ]
  },
  {
   "cell_type": "code",
   "execution_count": 2,
   "metadata": {},
   "outputs": [
    {
     "data": {
      "text/plain": [
       "<module 'callback_custom' from '/home/kumamon/src/segDGM_3DCNN/callback_custom.py'>"
      ]
     },
     "execution_count": 2,
     "metadata": {},
     "output_type": "execute_result"
    }
   ],
   "source": [
    "from importlib import reload\n",
    "\n",
    "import keras\n",
    "reload(keras)\n",
    "from keras import backend as K\n",
    "\n",
    "import utils\n",
    "reload(utils)\n",
    "from utils import *\n",
    "\n",
    "import model_FCNN\n",
    "reload(model_FCNN)\n",
    "from model_FCNN import generate_model\n",
    "\n",
    "import callback_custom\n",
    "reload(callback_custom)"
   ]
  },
  {
   "cell_type": "markdown",
   "metadata": {},
   "source": [
    "# Problem configuration"
   ]
  },
  {
   "cell_type": "code",
   "execution_count": 17,
   "metadata": {},
   "outputs": [],
   "source": [
    "num_classes = 11\n",
    "num_channel = 3\n",
    "\n",
    "# K-fold validation (K=5)\n",
    "n_training = 16\n",
    "n_test = 4\n",
    "\n",
    "idxs_training = list(range(1, 1+16))\n",
    "idxs_test = list(range(17, 17+4))\n",
    "\n",
    "patience = 5\n",
    "model_filename = 'models/outrun_step_{}.h5'\n",
    "csv_filename = 'log/outrun_step_{}.cvs'\n",
    "\n",
    "nb_epoch = 40\n",
    "validation_split = 0.10\n",
    "monitor = 'val_loss'#'val_categorical_accuracy'\n",
    "\n",
    "class_mapper = {0:0}\n",
    "class_mapper.update({ i+1:i for i in range(1, 1+10) })\n",
    "class_mapper_inv = {0:0}\n",
    "class_mapper_inv.update({ i:i+1 for i in range(1, 1+10) })\n",
    "\n",
    "matrix_size = (160, 220, 48)\n",
    "\n",
    "#extraction_step = (3, 3, 3)\n",
    "extraction_step = (6, 6, 3)\n",
    "\n",
    "segment_size = (27, 27, 21)\n",
    "core_size = (9, 9, 3)"
   ]
  },
  {
   "cell_type": "markdown",
   "metadata": {},
   "source": [
    "# Architecture"
   ]
  },
  {
   "cell_type": "markdown",
   "metadata": {},
   "source": [
    "# 1. Initial segmentation"
   ]
  },
  {
   "cell_type": "markdown",
   "metadata": {},
   "source": [
    "## 1.1 Read data"
   ]
  },
  {
   "cell_type": "code",
   "execution_count": 4,
   "metadata": {},
   "outputs": [],
   "source": [
    "QSM_train = np.empty(((n_training,) + matrix_size), dtype=precision_global)\n",
    "MAG_train = np.empty(((n_training,) + matrix_size), dtype=precision_global)\n",
    "R2S_train = np.empty(((n_training,) + matrix_size), dtype=precision_global)\n",
    "label_train = np.empty(((n_training,) + matrix_size), dtype=precision_global)\n",
    "for i, case_idx in enumerate(idxs_training):\n",
    "    QSM_train[i, :, :, :] = read_data(case_idx, 'QSM')\n",
    "    MAG_train[i, :, :, :] = read_data(case_idx, 'MAG')\n",
    "    R2S_train[i, :, :, :] = read_data(case_idx, 'R2S')\n",
    "    label_train[i, :, :, :] = read_data(case_idx, 'label')"
   ]
  },
  {
   "cell_type": "code",
   "execution_count": 5,
   "metadata": {},
   "outputs": [],
   "source": [
    "data_train = np.stack((QSM_train, MAG_train, R2S_train), axis = 1)\n",
    "#data_train = np.stack((QSM_train,), axis = 1)"
   ]
  },
  {
   "cell_type": "code",
   "execution_count": 6,
   "metadata": {},
   "outputs": [],
   "source": [
    "QSM_test = np.empty(((n_test,) + matrix_size), dtype=precision_global)\n",
    "MAG_test = np.empty(((n_test,) + matrix_size), dtype=precision_global)\n",
    "R2S_test = np.empty(((n_test,) + matrix_size), dtype=precision_global)\n",
    "label_test = np.empty(((n_test,) + matrix_size), dtype=precision_global)\n",
    "for i, case_idx in enumerate(idxs_test):\n",
    "    QSM_test[i, :, :, :] = read_data(case_idx, 'QSM')\n",
    "    MAG_test[i, :, :, :] = read_data(case_idx, 'MAG')\n",
    "    R2S_test[i, :, :, :] = read_data(case_idx, 'R2S')\n",
    "    label_test[i, :, :, :] = read_data(case_idx, 'label')"
   ]
  },
  {
   "cell_type": "code",
   "execution_count": 7,
   "metadata": {},
   "outputs": [],
   "source": [
    "data_test = np.stack((QSM_test, MAG_test, R2S_test), axis = 1)\n",
    "#data_test = np.stack((QSM_test,), axis = 1)"
   ]
  },
  {
   "cell_type": "markdown",
   "metadata": {},
   "source": [
    "## 1.2 Pre-processing"
   ]
  },
  {
   "cell_type": "code",
   "execution_count": 8,
   "metadata": {},
   "outputs": [],
   "source": [
    "## Intensity normalisation (zero mean and unit variance)\n",
    "input_mean = 127.0\n",
    "input_std = 128.0\n",
    "data_train = (data_train - input_mean) / input_std\n",
    "data_test = (data_test - input_mean) / input_std\n",
    "\n",
    "# Map class label\n",
    "tmp = np.copy(label_train)\n",
    "for class_idx in class_mapper:\n",
    "    label_train[tmp == class_idx] = class_mapper[class_idx]\n",
    "tmp = np.copy(label_test)\n",
    "for class_idx in class_mapper:\n",
    "    label_test[tmp == class_idx] = class_mapper[class_idx]\n",
    "del tmp"
   ]
  },
  {
   "cell_type": "code",
   "execution_count": 9,
   "metadata": {},
   "outputs": [
    {
     "data": {
      "text/plain": [
       "10.0"
      ]
     },
     "execution_count": 9,
     "metadata": {},
     "output_type": "execute_result"
    }
   ],
   "source": [
    "label_train.max()"
   ]
  },
  {
   "cell_type": "code",
   "execution_count": 10,
   "metadata": {},
   "outputs": [
    {
     "data": {
      "image/png": "[encoded data removed]",
      "text/plain": [
       "<matplotlib.figure.Figure at 0x7feb35114588>"
      ]
     },
     "metadata": {},
     "output_type": "display_data"
    }
   ],
   "source": [
    "plots(np.squeeze(label_train[0,:,:,[29,25]]), scale = (0, 10))"
   ]
  },
  {
   "cell_type": "markdown",
   "metadata": {},
   "source": [
    "## 1.3 Data preparation"
   ]
  },
  {
   "cell_type": "code",
   "execution_count": 11,
   "metadata": {},
   "outputs": [
    {
     "name": "stdout",
     "output_type": "stream",
     "text": [
      "0\n",
      "1\n",
      "2\n",
      "3\n",
      "4\n",
      "5\n",
      "6\n",
      "7\n",
      "8\n",
      "9\n",
      "10\n",
      "11\n",
      "12\n",
      "13\n",
      "14\n",
      "15\n"
     ]
    },
    {
     "data": {
      "text/plain": [
       "((2731, 3, 27, 27, 21), (2731, 243, 11))"
      ]
     },
     "execution_count": 11,
     "metadata": {},
     "output_type": "execute_result"
    }
   ],
   "source": [
    "x_train, y_train = build_set(data_train, label_train, extraction_step, segment_size, core_size)\n",
    "x_train.shape, y_train.shape"
   ]
  },
  {
   "cell_type": "code",
   "execution_count": 12,
   "metadata": {},
   "outputs": [],
   "source": [
    "# shuffle array\n",
    "idxs_shuffle = shuffle(x_train)\n",
    "idxs_shuffle = shuffle(y_train, idxs_shuffle)"
   ]
  },
  {
   "cell_type": "markdown",
   "metadata": {},
   "source": [
    "## 1.4 Configure callbacks"
   ]
  },
  {
   "cell_type": "code",
   "execution_count": 19,
   "metadata": {},
   "outputs": [],
   "source": [
    "from keras.callbacks import ModelCheckpoint\n",
    "from keras.callbacks import CSVLogger\n",
    "from keras.callbacks import EarlyStopping\n",
    "\n",
    "from callback_custom import EarlyStoppingLowLR\n",
    "from callback_custom import ReduceLROnPlateauBestWeight\n",
    "\n",
    "\n",
    "\n",
    "# Model checkpoint to save the training results\n",
    "checkpointer = ModelCheckpoint(\n",
    "    filepath=model_filename.format('1'),\n",
    "    monitor=monitor,\n",
    "    verbose=0,\n",
    "    save_best_only=True,\n",
    "    save_weights_only=True)\n",
    "\n",
    "# CSVLogger to save the training results in a csv file\n",
    "csv_logger = CSVLogger(csv_filename.format(1), separator=';')\n",
    "\n",
    "\n",
    "stopper = EarlyStoppingLowLR(patience=patience, monitor=monitor, thresh_LR=1e-5)\n",
    "\n",
    "learning_rate_reduction = ReduceLROnPlateauBestWeight(filepath=model_filename.format('1'),\n",
    "                                                      monitor=monitor, \n",
    "                                                      patience=patience, \n",
    "                                                      verbose=1, \n",
    "                                                      factor=0.1, \n",
    "                                                      min_lr=1.001e-5)\n",
    "\n",
    "callbacks = [checkpointer, csv_logger, learning_rate_reduction, stopper]"
   ]
  },
  {
   "cell_type": "markdown",
   "metadata": {},
   "source": [
    "## 1.5 Training"
   ]
  },
  {
   "cell_type": "code",
   "execution_count": 20,
   "metadata": {
    "scrolled": false
   },
   "outputs": [
    {
     "name": "stdout",
     "output_type": "stream",
     "text": [
      "Train on 2457 samples, validate on 274 samples\n",
      "Epoch 1/40\n",
      "2457/2457 [==============================] - 17s 7ms/step - loss: 0.9840 - categorical_accuracy: 0.7623 - val_loss: 0.7589 - val_categorical_accuracy: 0.7744\n",
      "Epoch 2/40\n",
      "2457/2457 [==============================] - 15s 6ms/step - loss: 0.6995 - categorical_accuracy: 0.7873 - val_loss: 0.7682 - val_categorical_accuracy: 0.7902\n",
      "Epoch 3/40\n",
      "2457/2457 [==============================] - 15s 6ms/step - loss: 0.6199 - categorical_accuracy: 0.8058 - val_loss: 0.6587 - val_categorical_accuracy: 0.8111\n",
      "Epoch 4/40\n",
      "2457/2457 [==============================] - 16s 6ms/step - loss: 0.4926 - categorical_accuracy: 0.8473 - val_loss: 0.5111 - val_categorical_accuracy: 0.8491\n",
      "Epoch 5/40\n",
      "2457/2457 [==============================] - 15s 6ms/step - loss: 0.3950 - categorical_accuracy: 0.8724 - val_loss: 0.4379 - val_categorical_accuracy: 0.8649\n",
      "Epoch 6/40\n",
      "2457/2457 [==============================] - 16s 6ms/step - loss: 0.2887 - categorical_accuracy: 0.9010 - val_loss: 0.3674 - val_categorical_accuracy: 0.8746\n",
      "Epoch 7/40\n",
      "2457/2457 [==============================] - 16s 6ms/step - loss: 0.2147 - categorical_accuracy: 0.9210 - val_loss: 0.3180 - val_categorical_accuracy: 0.8883\n",
      "Epoch 8/40\n",
      "2457/2457 [==============================] - 16s 6ms/step - loss: 0.1580 - categorical_accuracy: 0.9378 - val_loss: 0.2457 - val_categorical_accuracy: 0.9144\n",
      "Epoch 9/40\n",
      "2457/2457 [==============================] - 16s 6ms/step - loss: 0.1379 - categorical_accuracy: 0.9446 - val_loss: 0.2099 - val_categorical_accuracy: 0.9252\n",
      "Epoch 10/40\n",
      "2432/2457 [============================>.] - ETA: 0s - loss: 0.1191 - categorical_accuracy: 0.95080.001 1e-05\n",
      "2457/2457 [==============================] - 16s 6ms/step - loss: 0.1187 - categorical_accuracy: 0.9511 - val_loss: 0.2490 - val_categorical_accuracy: 0.9161\n",
      "Epoch 11/40\n",
      "2432/2457 [============================>.] - ETA: 0s - loss: 0.1040 - categorical_accuracy: 0.95730.001 1e-05\n",
      "2457/2457 [==============================] - 16s 6ms/step - loss: 0.1039 - categorical_accuracy: 0.9574 - val_loss: 0.2341 - val_categorical_accuracy: 0.9214\n",
      "Epoch 12/40\n",
      "2432/2457 [============================>.] - ETA: 0s - loss: 0.0922 - categorical_accuracy: 0.96200.001 1e-05\n",
      "2457/2457 [==============================] - 16s 6ms/step - loss: 0.0922 - categorical_accuracy: 0.9620 - val_loss: 0.3369 - val_categorical_accuracy: 0.9067\n",
      "Epoch 13/40\n",
      "2432/2457 [============================>.] - ETA: 0s - loss: 0.0780 - categorical_accuracy: 0.96770.001 1e-05\n",
      "2457/2457 [==============================] - 16s 7ms/step - loss: 0.0784 - categorical_accuracy: 0.9675 - val_loss: 0.3309 - val_categorical_accuracy: 0.9101\n",
      "Epoch 14/40\n",
      "2432/2457 [============================>.] - ETA: 0s - loss: 0.0714 - categorical_accuracy: 0.97070.001 1e-05\n",
      "2457/2457 [==============================] - 16s 7ms/step - loss: 0.0714 - categorical_accuracy: 0.9708 - val_loss: 0.3650 - val_categorical_accuracy: 0.9078\n",
      "Epoch 15/40\n",
      "2432/2457 [============================>.] - ETA: 0s - loss: 0.0603 - categorical_accuracy: 0.9752\n",
      "Epoch 00015: ReduceLROnPlateau reducing learning rate to 0.00010000000474974513.\n",
      "2457/2457 [==============================] - 16s 7ms/step - loss: 0.0604 - categorical_accuracy: 0.9752 - val_loss: 0.3591 - val_categorical_accuracy: 0.9151\n",
      "Epoch 16/40\n",
      "2457/2457 [==============================] - 16s 7ms/step - loss: 0.1048 - categorical_accuracy: 0.9569 - val_loss: 0.2578 - val_categorical_accuracy: 0.9156\n",
      "Epoch 17/40\n",
      "2432/2457 [============================>.] - ETA: 0s - loss: 0.0962 - categorical_accuracy: 0.96040.0001 1e-05\n",
      "2457/2457 [==============================] - 16s 7ms/step - loss: 0.0961 - categorical_accuracy: 0.9605 - val_loss: 0.2618 - val_categorical_accuracy: 0.9170\n",
      "Epoch 18/40\n",
      "2457/2457 [==============================] - 16s 7ms/step - loss: 0.0919 - categorical_accuracy: 0.9618 - val_loss: 0.2566 - val_categorical_accuracy: 0.9191\n",
      "Epoch 19/40\n",
      "2432/2457 [============================>.] - ETA: 0s - loss: 0.0884 - categorical_accuracy: 0.96330.0001 1e-05\n",
      "2457/2457 [==============================] - 16s 6ms/step - loss: 0.0884 - categorical_accuracy: 0.9633 - val_loss: 0.2690 - val_categorical_accuracy: 0.9178\n",
      "Epoch 20/40\n",
      "2432/2457 [============================>.] - ETA: 0s - loss: 0.0854 - categorical_accuracy: 0.9647\n",
      "Epoch 00020: ReduceLROnPlateau reducing learning rate to 1.001e-05.\n",
      "2457/2457 [==============================] - 16s 7ms/step - loss: 0.0851 - categorical_accuracy: 0.9648 - val_loss: 0.2668 - val_categorical_accuracy: 0.9193\n",
      "Epoch 21/40\n",
      "2457/2457 [==============================] - 16s 6ms/step - loss: 0.1120 - categorical_accuracy: 0.9547 - val_loss: 0.2300 - val_categorical_accuracy: 0.9192\n",
      "Epoch 22/40\n",
      "2432/2457 [============================>.] - ETA: 0s - loss: 0.1047 - categorical_accuracy: 0.95731.001e-05 1e-05\n",
      "2457/2457 [==============================] - 16s 6ms/step - loss: 0.1047 - categorical_accuracy: 0.9573 - val_loss: 0.2342 - val_categorical_accuracy: 0.9196\n",
      "Epoch 23/40\n",
      "2432/2457 [============================>.] - ETA: 0s - loss: 0.1018 - categorical_accuracy: 0.95821.001e-05 1e-05\n",
      "2457/2457 [==============================] - 16s 6ms/step - loss: 0.1020 - categorical_accuracy: 0.9582 - val_loss: 0.2409 - val_categorical_accuracy: 0.9185\n",
      "Epoch 24/40\n",
      "2432/2457 [============================>.] - ETA: 0s - loss: 0.0999 - categorical_accuracy: 0.95891.001e-05 1e-05\n",
      "2457/2457 [==============================] - 16s 6ms/step - loss: 0.1002 - categorical_accuracy: 0.9587 - val_loss: 0.2487 - val_categorical_accuracy: 0.9171\n",
      "Epoch 25/40\n",
      "2432/2457 [============================>.] - ETA: 0s - loss: 0.0988 - categorical_accuracy: 0.95941.001e-05 1e-05\n",
      "2457/2457 [==============================] - 16s 6ms/step - loss: 0.0990 - categorical_accuracy: 0.9593 - val_loss: 0.2504 - val_categorical_accuracy: 0.9175\n",
      "Epoch 26/40\n",
      "2432/2457 [============================>.] - ETA: 0s - loss: 0.0978 - categorical_accuracy: 0.95971.001e-05 1e-05\n",
      "2457/2457 [==============================] - 16s 6ms/step - loss: 0.0979 - categorical_accuracy: 0.9597 - val_loss: 0.2520 - val_categorical_accuracy: 0.9176\n"
     ]
    },
    {
     "data": {
      "text/plain": [
       "<keras.callbacks.History at 0x7feafcbc82e8>"
      ]
     },
     "execution_count": 20,
     "metadata": {},
     "output_type": "execute_result"
    }
   ],
   "source": [
    "seed = 47\n",
    "np.random.seed(seed)\n",
    "\n",
    "# Build model\n",
    "model = generate_model(num_classes, num_channel, segment_size, core_size)\n",
    "\n",
    "K.set_value(model.optimizer.lr, 1e-3)\n",
    "\n",
    "model.fit(\n",
    "    x_train,\n",
    "    y_train,\n",
    "    epochs=nb_epoch,\n",
    "    validation_split=validation_split,\n",
    "    verbose=1,\n",
    "    callbacks=callbacks)\n",
    "\n",
    "# freeing space\n",
    "#del x_train\n",
    "#del y_train"
   ]
  },
  {
   "cell_type": "markdown",
   "metadata": {},
   "source": [
    "## 1.6 Classification"
   ]
  },
  {
   "cell_type": "code",
   "execution_count": 21,
   "metadata": {},
   "outputs": [],
   "source": [
    "from keras.models import load_model\n",
    "\n",
    "# Load best model\n",
    "model = generate_model(num_classes, num_channel, segment_size, core_size)\n",
    "model.load_weights(model_filename.format(1))"
   ]
  },
  {
   "cell_type": "code",
   "execution_count": 22,
   "metadata": {},
   "outputs": [
    {
     "name": "stdout",
     "output_type": "stream",
     "text": [
      "273/273 [==============================] - 0s 2ms/step\n"
     ]
    },
    {
     "data": {
      "text/plain": [
       "[0.21035868368851832, 0.924976089935163]"
      ]
     },
     "execution_count": 22,
     "metadata": {},
     "output_type": "execute_result"
    }
   ],
   "source": [
    "idx_start_valid = int(len(x_train)*validation_split)\n",
    "model.evaluate(x_train[-idx_start_valid:], y_train[-idx_start_valid:], verbose=1)"
   ]
  },
  {
   "cell_type": "code",
   "execution_count": 23,
   "metadata": {},
   "outputs": [
    {
     "data": {
      "text/plain": [
       "3300"
      ]
     },
     "execution_count": 23,
     "metadata": {},
     "output_type": "execute_result"
    }
   ],
   "source": [
    "len_patch = extract_patches(read_data(1, 'QSM'), patch_shape=segment_size, extraction_step=(9, 9, 3)).shape[0]\n",
    "len_patch"
   ]
  },
  {
   "cell_type": "code",
   "execution_count": 24,
   "metadata": {},
   "outputs": [
    {
     "name": "stdout",
     "output_type": "stream",
     "text": [
      "1\n",
      "3300/3300 [==============================] - 3s 907us/step\n",
      "2\n",
      "3300/3300 [==============================] - 3s 807us/step\n",
      "3\n",
      "3300/3300 [==============================] - 3s 817us/step\n",
      "4\n",
      "3300/3300 [==============================] - 3s 814us/step\n",
      "5\n",
      "3300/3300 [==============================] - 3s 834us/step\n",
      "6\n",
      "3300/3300 [==============================] - 3s 814us/step\n",
      "7\n",
      "3300/3300 [==============================] - 3s 811us/step\n",
      "8\n",
      "3300/3300 [==============================] - 3s 824us/step\n",
      "9\n",
      "3300/3300 [==============================] - 3s 817us/step\n",
      "10\n",
      "3300/3300 [==============================] - 3s 832us/step\n",
      "11\n",
      "3300/3300 [==============================] - 3s 827us/step\n",
      "12\n",
      "3300/3300 [==============================] - 3s 828us/step\n",
      "13\n",
      "3300/3300 [==============================] - 3s 820us/step\n",
      "14\n",
      "3300/3300 [==============================] - 3s 821us/step\n",
      "15\n",
      "3300/3300 [==============================] - 3s 833us/step\n",
      "16\n",
      "3300/3300 [==============================] - 3s 831us/step\n"
     ]
    }
   ],
   "source": [
    "segmentations_train = []\n",
    "\n",
    "for i_case, case_idx in enumerate(idxs_training):\n",
    "\n",
    "    print(case_idx)\n",
    "    input_train = data_train[i_case, :, :, :, :]\n",
    "\n",
    "    x_test = np.zeros((len_patch, num_channel,) + segment_size, dtype=precision_global)\n",
    "    for i_channel in range(num_channel):\n",
    "        x_test[:, i_channel, :, :, :] = extract_patches(input_train[i_channel], patch_shape=segment_size, extraction_step=(9, 9, 3))\n",
    "\n",
    "    pred = model.predict(x_test, verbose=1)\n",
    "    pred_classes = np.argmax(pred, axis=2)\n",
    "    pred_classes = pred_classes.reshape((len(pred_classes), 9, 9, 3))\n",
    "    segmentation = reconstruct_volume(pred_classes, matrix_size)\n",
    "    \n",
    "    segmentations_train = segmentations_train + [segmentation]\n",
    "    \n",
    "segmentations_train = np.stack(segmentations_train, axis=0)"
   ]
  },
  {
   "cell_type": "code",
   "execution_count": 78,
   "metadata": {},
   "outputs": [
    {
     "data": {
      "text/plain": [
       "10.0"
      ]
     },
     "execution_count": 78,
     "metadata": {},
     "output_type": "execute_result"
    }
   ],
   "source": [
    "segmentations_train.max()"
   ]
  },
  {
   "cell_type": "code",
   "execution_count": 46,
   "metadata": {},
   "outputs": [
    {
     "data": {
      "image/png": "[encoded data removed]",
      "text/plain": [
       "<matplotlib.figure.Figure at 0x7fa86ee7a0b8>"
      ]
     },
     "metadata": {},
     "output_type": "display_data"
    }
   ],
   "source": [
    "plots(np.squeeze(label_train[0:15,:,:,25]), rows=3, scale = (0, 10))"
   ]
  },
  {
   "cell_type": "code",
   "execution_count": 25,
   "metadata": {
    "scrolled": true
   },
   "outputs": [
    {
     "data": {
      "image/png": "[encoded data removed]",
      "text/plain": [
       "<matplotlib.figure.Figure at 0x7feae83fc2b0>"
      ]
     },
     "metadata": {},
     "output_type": "display_data"
    }
   ],
   "source": [
    "plots(np.squeeze(segmentations_train[0:15,:,:,25]), rows=3, scale = (0, 10))"
   ]
  },
  {
   "cell_type": "markdown",
   "metadata": {},
   "source": [
    "## 1.7 Check false-positive"
   ]
  },
  {
   "cell_type": "code",
   "execution_count": 26,
   "metadata": {},
   "outputs": [],
   "source": [
    "idx_fpos = (label_train == 0) & (segmentations_train != 0);"
   ]
  },
  {
   "cell_type": "code",
   "execution_count": 27,
   "metadata": {},
   "outputs": [],
   "source": [
    "mask_fpos = np.zeros(label_train.shape, dtype=precision_global)\n",
    "mask_fpos[idx_fpos == True] = 1"
   ]
  },
  {
   "cell_type": "code",
   "execution_count": 28,
   "metadata": {},
   "outputs": [
    {
     "data": {
      "image/png": "[encoded data removed]",
      "text/plain": [
       "<matplotlib.figure.Figure at 0x7feae847edd8>"
      ]
     },
     "metadata": {},
     "output_type": "display_data"
    }
   ],
   "source": [
    "plots(200*(np.squeeze(mask_fpos[0:15,:,:,25])), rows=3)"
   ]
  },
  {
   "cell_type": "markdown",
   "metadata": {},
   "source": [
    "# 2 Fine-tuning"
   ]
  },
  {
   "cell_type": "markdown",
   "metadata": {},
   "source": [
    "## 2.2 Rebuild training dataset"
   ]
  },
  {
   "cell_type": "code",
   "execution_count": 29,
   "metadata": {},
   "outputs": [],
   "source": [
    "del x_train, y_train"
   ]
  },
  {
   "cell_type": "code",
   "execution_count": 30,
   "metadata": {},
   "outputs": [
    {
     "name": "stdout",
     "output_type": "stream",
     "text": [
      "0\n",
      "1\n",
      "2\n",
      "3\n",
      "4\n",
      "5\n",
      "6\n",
      "7\n",
      "8\n",
      "9\n",
      "10\n",
      "11\n",
      "12\n",
      "13\n",
      "14\n",
      "15\n"
     ]
    },
    {
     "data": {
      "text/plain": [
       "((15864, 3, 27, 27, 21), (15864, 243, 11))"
      ]
     },
     "execution_count": 30,
     "metadata": {},
     "output_type": "execute_result"
    }
   ],
   "source": [
    "x_train, y_train = build_set(data_train, label_train, extraction_step, segment_size, core_size, mask_fpos)\n",
    "x_train.shape, y_train.shape"
   ]
  },
  {
   "cell_type": "code",
   "execution_count": 31,
   "metadata": {},
   "outputs": [],
   "source": [
    "# shuffle array\n",
    "idxs_shuffle = shuffle(x_train)\n",
    "idxs_shuffle = shuffle(y_train, idxs_shuffle)"
   ]
  },
  {
   "cell_type": "code",
   "execution_count": 32,
   "metadata": {},
   "outputs": [],
   "source": [
    "save_array('tmp/x_train.bc', x_train)\n",
    "save_array('tmp/y_train.bc', y_train)"
   ]
  },
  {
   "cell_type": "code",
   "execution_count": 4,
   "metadata": {},
   "outputs": [],
   "source": [
    "x_train = load_array('tmp/x_train.bc')\n",
    "y_train = load_array('tmp/y_train.bc')"
   ]
  },
  {
   "cell_type": "markdown",
   "metadata": {},
   "source": [
    "## 2.3 Regenerate model"
   ]
  },
  {
   "cell_type": "code",
   "execution_count": 33,
   "metadata": {},
   "outputs": [],
   "source": [
    "from keras.callbacks import ModelCheckpoint\n",
    "from keras.callbacks import CSVLogger\n",
    "from keras.callbacks import EarlyStopping\n",
    "\n",
    "from callback_custom import EarlyStoppingLowLR\n",
    "from callback_custom import ReduceLROnPlateauBestWeight\n",
    "\n",
    "\n",
    "\n",
    "# Model checkpoint to save the training results\n",
    "checkpointer = ModelCheckpoint(\n",
    "    filepath=model_filename.format('2'),\n",
    "    monitor=monitor,\n",
    "    verbose=0,\n",
    "    save_best_only=True,\n",
    "    save_weights_only=True)\n",
    "\n",
    "# CSVLogger to save the training results in a csv file\n",
    "csv_logger = CSVLogger(csv_filename.format(1), separator=';')\n",
    "\n",
    "\n",
    "stopper = EarlyStoppingLowLR(patience=patience, monitor=monitor, thresh_LR=1e-5)\n",
    "\n",
    "learning_rate_reduction = ReduceLROnPlateauBestWeight(filepath=model_filename.format('2'),\n",
    "                                                      monitor=monitor, \n",
    "                                                      patience=patience, \n",
    "                                                      verbose=1, \n",
    "                                                      factor=0.1, \n",
    "                                                      min_lr=1.001e-5)\n",
    "\n",
    "callbacks = [checkpointer, csv_logger, learning_rate_reduction, stopper]"
   ]
  },
  {
   "cell_type": "code",
   "execution_count": 34,
   "metadata": {},
   "outputs": [
    {
     "name": "stdout",
     "output_type": "stream",
     "text": [
      "Train on 14277 samples, validate on 1587 samples\n",
      "Epoch 1/40\n",
      "14277/14277 [==============================] - 87s 6ms/step - loss: 0.0258 - categorical_accuracy: 0.9901 - val_loss: 0.1352 - val_categorical_accuracy: 0.9717\n",
      "Epoch 2/40\n",
      "14277/14277 [==============================] - 86s 6ms/step - loss: 0.0185 - categorical_accuracy: 0.9926 - val_loss: 0.1320 - val_categorical_accuracy: 0.9732\n",
      "Epoch 3/40\n",
      "14277/14277 [==============================] - 87s 6ms/step - loss: 0.0162 - categorical_accuracy: 0.9933 - val_loss: 0.1345 - val_categorical_accuracy: 0.9735\n",
      "Epoch 4/40\n",
      "14272/14277 [============================>.] - ETA: 0s - loss: 0.0145 - categorical_accuracy: 0.99400.0001 1e-05\n",
      "14277/14277 [==============================] - 87s 6ms/step - loss: 0.0145 - categorical_accuracy: 0.9940 - val_loss: 0.1706 - val_categorical_accuracy: 0.9721\n",
      "Epoch 5/40\n",
      "14272/14277 [============================>.] - ETA: 0s - loss: 0.0128 - categorical_accuracy: 0.99480.0001 1e-05\n",
      "14277/14277 [==============================] - 87s 6ms/step - loss: 0.0128 - categorical_accuracy: 0.9948 - val_loss: 0.1773 - val_categorical_accuracy: 0.9717\n",
      "Epoch 6/40\n",
      "14272/14277 [============================>.] - ETA: 0s - loss: 0.0114 - categorical_accuracy: 0.99530.0001 1e-05\n",
      "14277/14277 [==============================] - 88s 6ms/step - loss: 0.0114 - categorical_accuracy: 0.9953 - val_loss: 0.1640 - val_categorical_accuracy: 0.9741\n",
      "Epoch 7/40\n",
      "14272/14277 [============================>.] - ETA: 0s - loss: 0.0107 - categorical_accuracy: 0.99570.0001 1e-05\n",
      "14277/14277 [==============================] - 88s 6ms/step - loss: 0.0107 - categorical_accuracy: 0.9956 - val_loss: 0.1714 - val_categorical_accuracy: 0.9724\n",
      "Epoch 8/40\n",
      "14272/14277 [============================>.] - ETA: 0s - loss: 0.0093 - categorical_accuracy: 0.9962\n",
      "Epoch 00008: ReduceLROnPlateau reducing learning rate to 1.001e-05.\n",
      "14277/14277 [==============================] - 89s 6ms/step - loss: 0.0093 - categorical_accuracy: 0.9962 - val_loss: 0.1837 - val_categorical_accuracy: 0.9728\n",
      "Epoch 9/40\n",
      "14277/14277 [==============================] - 89s 6ms/step - loss: 0.0151 - categorical_accuracy: 0.9938 - val_loss: 0.1364 - val_categorical_accuracy: 0.9731\n",
      "Epoch 10/40\n",
      "14277/14277 [==============================] - 89s 6ms/step - loss: 0.0145 - categorical_accuracy: 0.9940 - val_loss: 0.1349 - val_categorical_accuracy: 0.9737\n",
      "Epoch 11/40\n",
      "14272/14277 [============================>.] - ETA: 0s - loss: 0.0142 - categorical_accuracy: 0.99421.001e-05 1e-05\n",
      "14277/14277 [==============================] - 89s 6ms/step - loss: 0.0142 - categorical_accuracy: 0.9942 - val_loss: 0.1459 - val_categorical_accuracy: 0.9726\n",
      "Epoch 12/40\n",
      "14272/14277 [============================>.] - ETA: 0s - loss: 0.0138 - categorical_accuracy: 0.99431.001e-05 1e-05\n",
      "14277/14277 [==============================] - 89s 6ms/step - loss: 0.0138 - categorical_accuracy: 0.9943 - val_loss: 0.1524 - val_categorical_accuracy: 0.9726\n",
      "Epoch 13/40\n",
      "14272/14277 [============================>.] - ETA: 0s - loss: 0.0135 - categorical_accuracy: 0.99441.001e-05 1e-05\n",
      "14277/14277 [==============================] - 89s 6ms/step - loss: 0.0135 - categorical_accuracy: 0.9944 - val_loss: 0.1569 - val_categorical_accuracy: 0.9725\n",
      "Epoch 14/40\n",
      "14272/14277 [============================>.] - ETA: 0s - loss: 0.0132 - categorical_accuracy: 0.99451.001e-05 1e-05\n",
      "14277/14277 [==============================] - 89s 6ms/step - loss: 0.0132 - categorical_accuracy: 0.9945 - val_loss: 0.1629 - val_categorical_accuracy: 0.9718\n",
      "Epoch 15/40\n",
      "14272/14277 [============================>.] - ETA: 0s - loss: 0.0129 - categorical_accuracy: 0.99471.001e-05 1e-05\n",
      "14277/14277 [==============================] - 89s 6ms/step - loss: 0.0129 - categorical_accuracy: 0.9947 - val_loss: 0.1675 - val_categorical_accuracy: 0.9719\n"
     ]
    },
    {
     "data": {
      "text/plain": [
       "<keras.callbacks.History at 0x7feac41dd860>"
      ]
     },
     "execution_count": 34,
     "metadata": {},
     "output_type": "execute_result"
    }
   ],
   "source": [
    "# Build model\n",
    "model = generate_model(num_classes, num_channel, segment_size, core_size)\n",
    "\n",
    "# Load optimized weights\n",
    "model.load_weights(model_filename.format('1'))\n",
    "\n",
    "K.set_value(model.optimizer.lr, 1e-4)\n",
    "\n",
    "# Start fine-tuning\n",
    "model.fit(\n",
    "    x_train,\n",
    "    y_train,\n",
    "    epochs=nb_epoch,\n",
    "    validation_split=validation_split,\n",
    "    verbose=1,\n",
    "    callbacks=callbacks)\n",
    "\n",
    "# freeing space\n",
    "#del x_train\n",
    "#del y_train"
   ]
  },
  {
   "cell_type": "code",
   "execution_count": 50,
   "metadata": {},
   "outputs": [],
   "source": [
    "# Load best model\n",
    "model = generate_model(num_classes, num_channel, segment_size, core_size)\n",
    "model.load_weights(model_filename.format('2'))"
   ]
  },
  {
   "cell_type": "code",
   "execution_count": 51,
   "metadata": {},
   "outputs": [
    {
     "name": "stdout",
     "output_type": "stream",
     "text": [
      "1586/1586 [==============================] - 2s 976us/step\n"
     ]
    },
    {
     "data": {
      "text/plain": [
       "[0.132123952630472, 0.97314185527955444]"
      ]
     },
     "execution_count": 51,
     "metadata": {},
     "output_type": "execute_result"
    }
   ],
   "source": [
    "idx_start_valid = int(len(x_train)*validation_split)\n",
    "model.evaluate(x_train[-idx_start_valid:], y_train[-idx_start_valid:], verbose=1)"
   ]
  },
  {
   "cell_type": "code",
   "execution_count": 61,
   "metadata": {},
   "outputs": [
    {
     "name": "stdout",
     "output_type": "stream",
     "text": [
      "17\n",
      "3300/3300 [==============================] - 3s 835us/step\n",
      "18\n",
      "3300/3300 [==============================] - 3s 829us/step\n",
      "19\n",
      "3300/3300 [==============================] - 3s 829us/step\n",
      "20\n",
      "3300/3300 [==============================] - 3s 840us/step\n"
     ]
    }
   ],
   "source": [
    "segmentations_test = []\n",
    "\n",
    "for i_case, case_idx in enumerate(idxs_test):\n",
    "\n",
    "    print(case_idx)\n",
    "    input_test = data_test[i_case, :, :, :, :]\n",
    "\n",
    "    x_test = np.zeros((len_patch, num_channel,) + segment_size, dtype=precision_global)\n",
    "    for i_channel in range(num_channel):\n",
    "        x_test[:, i_channel, :, :, :] = extract_patches(input_test[i_channel], patch_shape=segment_size, extraction_step=(9, 9, 3))\n",
    "\n",
    "    pred = model.predict(x_test, verbose=1)\n",
    "    pred_classes = np.argmax(pred, axis=2)\n",
    "    pred_classes = pred_classes.reshape((len(pred_classes), 9, 9, 3))\n",
    "    segmentation = reconstruct_volume(pred_classes, matrix_size)\n",
    "    \n",
    "    segmentations_test = segmentations_test + [segmentation]\n",
    "    \n",
    "segmentations_test = np.stack(segmentations_test, axis=0)"
   ]
  },
  {
   "cell_type": "code",
   "execution_count": 39,
   "metadata": {},
   "outputs": [
    {
     "data": {
      "text/plain": [
       "10.0"
      ]
     },
     "execution_count": 39,
     "metadata": {},
     "output_type": "execute_result"
    }
   ],
   "source": [
    "segmentations_test.max()"
   ]
  },
  {
   "cell_type": "code",
   "execution_count": 40,
   "metadata": {},
   "outputs": [
    {
     "data": {
      "image/png": "[encoded data removed]",
      "text/plain": [
       "<matplotlib.figure.Figure at 0x7fea16d06be0>"
      ]
     },
     "metadata": {},
     "output_type": "display_data"
    }
   ],
   "source": [
    "plots(np.squeeze(label_test[:,:,:,22]), rows=1, scale = (0, 10))"
   ]
  },
  {
   "cell_type": "code",
   "execution_count": 46,
   "metadata": {},
   "outputs": [
    {
     "data": {
      "image/png": "[encoded data removed]",
      "text/plain": [
       "<matplotlib.figure.Figure at 0x7fea4be0e588>"
      ]
     },
     "metadata": {},
     "output_type": "display_data"
    }
   ],
   "source": [
    "plots(np.squeeze(segmentations_test[:,:,:,22]), rows=1, scale = (0, 10))"
   ]
  },
  {
   "cell_type": "markdown",
   "metadata": {},
   "source": [
    "# 3 Post-processing"
   ]
  },
  {
   "cell_type": "markdown",
   "metadata": {},
   "source": [
    "## 3.1 Pick the largest connected component for each class"
   ]
  },
  {
   "cell_type": "code",
   "execution_count": 62,
   "metadata": {},
   "outputs": [],
   "source": [
    "for i_case, case_idx in enumerate(idxs_test):\n",
    "    segmentation = np.squeeze(segmentations_test[i_case,:,:,:]);\n",
    "    tmp = np.zeros(segmentation.shape, dtype=segmentation.dtype)\n",
    "    \n",
    "    for class_idx in class_mapper_inv :\n",
    "        mask = (segmentation == class_idx)\n",
    "        \n",
    "        if class_idx != 0 and mask.sum() > 0:\n",
    "            labeled_mask, num_cc = ndimage.label(mask)\n",
    "            largest_cc_mask = (labeled_mask == (np.bincount(labeled_mask.flat)[1:].argmax() + 1))\n",
    "            \n",
    "            tmp[largest_cc_mask == 1] = class_idx\n",
    "        \n",
    "    segmentations_test[i_case,:,:,:] = tmp"
   ]
  },
  {
   "cell_type": "markdown",
   "metadata": {},
   "source": [
    "## 3.2 Save it "
   ]
  },
  {
   "cell_type": "code",
   "execution_count": 63,
   "metadata": {},
   "outputs": [
    {
     "name": "stdout",
     "output_type": "stream",
     "text": [
      "17\n",
      "18\n",
      "19\n",
      "20\n",
      "Done with Step 3\n"
     ]
    }
   ],
   "source": [
    "for i_case, case_idx in enumerate(idxs_test):\n",
    "    print(case_idx)\n",
    "    \n",
    "    segmentation = np.copy(np.squeeze(segmentations_test[i_case,:,:,:]))\n",
    "    \n",
    "    tmp = np.copy(segmentation)\n",
    "    for class_idx in class_mapper_inv:\n",
    "        segmentation[tmp == class_idx] = class_mapper_inv[class_idx]\n",
    "    del tmp\n",
    "\n",
    "    save_data(segmentation, case_idx, 'label')    \n",
    "\n",
    "print(\"Done with Step 3\")"
   ]
  },
  {
   "cell_type": "markdown",
   "metadata": {},
   "source": [
    "## 3.3 Calculate metric "
   ]
  },
  {
   "cell_type": "code",
   "execution_count": 64,
   "metadata": {},
   "outputs": [],
   "source": [
    "def calc_dice(m1, m2):\n",
    "    return 2*((m1==1) & (m2==1)).sum()/((m1==1).sum() + (m2==1).sum())"
   ]
  },
  {
   "cell_type": "code",
   "execution_count": 65,
   "metadata": {},
   "outputs": [
    {
     "name": "stdout",
     "output_type": "stream",
     "text": [
      "17\t0.9989\tN/A\t1.0000\t1.0000\t1.0000\t0.8598\t0.7097\t0.9585\t0.9007\t0.9050\t0.9299\t0.7322\t\n",
      "18\t0.9990\tN/A\t0.9348\t0.9459\t0.8130\t0.8571\t0.6865\t0.7677\t0.7677\t0.7633\t0.8109\t0.6846\t\n",
      "19\t0.9980\tN/A\tN/A\tN/A\tN/A\tN/A\t1.0000\t0.9819\t0.9167\t1.0000\t0.7113\t1.0000\t\n",
      "20\t0.9988\tN/A\t0.8108\t0.7901\t0.8756\t0.9173\t0.9543\t0.9079\t0.6240\t0.6546\t0.7175\t0.6903\t\n"
     ]
    }
   ],
   "source": [
    "for i_case, case_idx in enumerate(idxs_test):\n",
    "    print(case_idx, end='\\t')\n",
    "    print('{:.4f}'.format(accuracy_score(label_test[i_case,:,:,:].flat, segmentations_test[i_case,:,:,:].flat)), end='\\t')\n",
    "    for class_idx in class_mapper_inv:\n",
    "        mask = (np.squeeze(segmentations_test[i_case,:,:,:]) == class_idx)\n",
    "        if class_idx != 0 and mask.sum() > 0:\n",
    "            print('{:.4f}'.format(precision_score(label_test[i_case,:,:,:][mask], segmentations_test[i_case,:,:,:][mask], average='micro')), end='\\t')\n",
    "        else:\n",
    "            print('N/A', end='\\t')\n",
    "    print()"
   ]
  },
  {
   "cell_type": "code",
   "execution_count": 66,
   "metadata": {},
   "outputs": [
    {
     "name": "stdout",
     "output_type": "stream",
     "text": [
      "17\t0\t0.1386\t0.2376\t0.0824\t0.7188\t0.7933\t0.8813\t0.8661\t0.8360\t0.8436\t0.6163\t\n",
      "18\t0\t0.8037\t0.7527\t0.8000\t0.7261\t0.7954\t0.8316\t0.7357\t0.4697\t0.8295\t0.7846\t\n",
      "19\t0\t0\t0\t0\t0\t0.2193\t0.6260\t0.1692\t0.0913\t0.4363\t0.1872\t\n",
      "20\t0\t0.8824\t0.8000\t0.7860\t0.9071\t0.7786\t0.7532\t0.6809\t0.7548\t0.7794\t0.7471\t\n"
     ]
    }
   ],
   "source": [
    "for i_case, case_idx in enumerate(idxs_test):\n",
    "    print(case_idx, end='\\t')\n",
    "    for class_idx in class_mapper_inv:\n",
    "        mask = (np.squeeze(segmentations_test[i_case,:,:,:]) == class_idx)\n",
    "        if class_idx != 0 and mask.sum() > 0:\n",
    "            print('{:.4f}'.format(calc_dice((label_test[i_case,:,:,:]==class_idx).flat, (segmentations_test[i_case,:,:,:]==class_idx).flat)), end='\\t')\n",
    "        else:\n",
    "            print(0, end='\\t')\n",
    "    print()"
   ]
  },
  {
   "cell_type": "code",
   "execution_count": null,
   "metadata": {},
   "outputs": [],
   "source": []
  },
  {
   "cell_type": "code",
   "execution_count": null,
   "metadata": {},
   "outputs": [],
   "source": []
  }
 ],
 "metadata": {
  "kernelspec": {
   "display_name": "Python 3",
   "language": "python",
   "name": "python3"
  },
  "language_info": {
   "codemirror_mode": {
    "name": "ipython",
    "version": 3
   },
   "file_extension": ".py",
   "mimetype": "text/x-python",
   "name": "python",
   "nbconvert_exporter": "python",
   "pygments_lexer": "ipython3",
   "version": "3.5.2"
  }
 },
 "nbformat": 4,
 "nbformat_minor": 2
}
