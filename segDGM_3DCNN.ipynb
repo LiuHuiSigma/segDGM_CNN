{
 "cells": [
  {
   "cell_type": "code",
   "execution_count": 1,
   "metadata": {},
   "outputs": [
    {
     "name": "stderr",
     "output_type": "stream",
     "text": [
      "Using TensorFlow backend.\n"
     ]
    }
   ],
   "source": [
    "%matplotlib inline\n",
    "import nibabel as nib\n",
    "import numpy as np\n",
    "from scipy import ndimage\n",
    "from keras import backend as K\n",
    "from sklearn.metrics import accuracy_score, precision_score\n",
    "\n",
    "from utils import *\n",
    "from model_FCNN import generate_model\n",
    "\n",
    "seed = 47\n",
    "np.random.seed(seed)"
   ]
  },
  {
   "cell_type": "code",
   "execution_count": 61,
   "metadata": {},
   "outputs": [],
   "source": [
    "from importlib import reload\n",
    "\n",
    "import keras\n",
    "reload(keras)\n",
    "from keras import backend as K\n",
    "\n",
    "import utils\n",
    "reload(utils)\n",
    "from utils import *\n",
    "\n",
    "import model_FCNN\n",
    "reload(model_FCNN)\n",
    "from model_FCNN import generate_model"
   ]
  },
  {
   "cell_type": "markdown",
   "metadata": {},
   "source": [
    "# Problem configuration"
   ]
  },
  {
   "cell_type": "code",
   "execution_count": 3,
   "metadata": {},
   "outputs": [],
   "source": [
    "num_classes = 11\n",
    "num_channel = 3\n",
    "\n",
    "# K-fold validation (K=5)\n",
    "n_training = 16\n",
    "n_test = 4\n",
    "\n",
    "idxs_training = list(range(1, 1+16))\n",
    "idxs_test = list(range(17, 17+4))\n",
    "\n",
    "patience = 5\n",
    "model_filename = 'models/outrun_step_{}.h5'\n",
    "csv_filename = 'log/outrun_step_{}.cvs'\n",
    "\n",
    "nb_epoch = 40\n",
    "validation_split = 0.20\n",
    "\n",
    "class_mapper = {0:0}\n",
    "class_mapper.update({ i+1:i for i in range(1, 1+10) })\n",
    "class_mapper_inv = {0:0}\n",
    "class_mapper_inv.update({ i:i+1 for i in range(1, 1+10) })\n",
    "\n",
    "matrix_size = (160, 220, 48)\n",
    "\n",
    "extraction_step = (3, 3, 3)\n",
    "#extraction_step = (9, 9, 3)\n",
    "\n",
    "segment_size = (27, 27, 21)\n",
    "core_size = (9, 9, 3)"
   ]
  },
  {
   "cell_type": "markdown",
   "metadata": {},
   "source": [
    "# Architecture"
   ]
  },
  {
   "cell_type": "markdown",
   "metadata": {},
   "source": [
    "# 1. Initial segmentation"
   ]
  },
  {
   "cell_type": "markdown",
   "metadata": {},
   "source": [
    "## 1.1 Read data"
   ]
  },
  {
   "cell_type": "code",
   "execution_count": 4,
   "metadata": {},
   "outputs": [],
   "source": [
    "QSM_train = np.empty(((n_training,) + matrix_size), dtype=precision_global)\n",
    "MAG_train = np.empty(((n_training,) + matrix_size), dtype=precision_global)\n",
    "R2S_train = np.empty(((n_training,) + matrix_size), dtype=precision_global)\n",
    "label_train = np.empty(((n_training,) + matrix_size), dtype=precision_global)\n",
    "for i, case_idx in enumerate(idxs_training):\n",
    "    QSM_train[i, :, :, :] = read_data(case_idx, 'QSM')\n",
    "    MAG_train[i, :, :, :] = read_data(case_idx, 'MAG')\n",
    "    R2S_train[i, :, :, :] = read_data(case_idx, 'R2S')\n",
    "    label_train[i, :, :, :] = read_data(case_idx, 'label')"
   ]
  },
  {
   "cell_type": "code",
   "execution_count": 5,
   "metadata": {},
   "outputs": [],
   "source": [
    "data_train = np.stack((QSM_train, MAG_train, R2S_train), axis = 1)"
   ]
  },
  {
   "cell_type": "code",
   "execution_count": 6,
   "metadata": {},
   "outputs": [],
   "source": [
    "QSM_test = np.empty(((n_test,) + matrix_size), dtype=precision_global)\n",
    "MAG_test = np.empty(((n_test,) + matrix_size), dtype=precision_global)\n",
    "R2S_test = np.empty(((n_test,) + matrix_size), dtype=precision_global)\n",
    "label_test = np.empty(((n_test,) + matrix_size), dtype=precision_global)\n",
    "for i, case_idx in enumerate(idxs_test):\n",
    "    QSM_test[i, :, :, :] = read_data(case_idx, 'QSM')\n",
    "    MAG_test[i, :, :, :] = read_data(case_idx, 'MAG')\n",
    "    R2S_test[i, :, :, :] = read_data(case_idx, 'R2S')\n",
    "    label_test[i, :, :, :] = read_data(case_idx, 'label')"
   ]
  },
  {
   "cell_type": "code",
   "execution_count": 7,
   "metadata": {},
   "outputs": [],
   "source": [
    "data_test = np.stack((QSM_test, MAG_test, R2S_test), axis = 1)"
   ]
  },
  {
   "cell_type": "markdown",
   "metadata": {},
   "source": [
    "## 1.2 Pre-processing"
   ]
  },
  {
   "cell_type": "code",
   "execution_count": 8,
   "metadata": {},
   "outputs": [],
   "source": [
    "## Intensity normalisation (zero mean and unit variance)\n",
    "input_mean = 127.0\n",
    "input_std = 128.0\n",
    "data_train = (data_train - input_mean) / input_std\n",
    "data_test = (data_test - input_mean) / input_std\n",
    "\n",
    "# Map class label\n",
    "tmp = np.copy(label_train)\n",
    "for class_idx in class_mapper:\n",
    "    label_train[tmp == class_idx] = class_mapper[class_idx]\n",
    "tmp = np.copy(label_test)\n",
    "for class_idx in class_mapper:\n",
    "    label_test[tmp == class_idx] = class_mapper[class_idx]\n",
    "del tmp"
   ]
  },
  {
   "cell_type": "code",
   "execution_count": 8,
   "metadata": {},
   "outputs": [
    {
     "data": {
      "text/plain": [
       "10.0"
      ]
     },
     "execution_count": 8,
     "metadata": {},
     "output_type": "execute_result"
    }
   ],
   "source": [
    "label_train.max()"
   ]
  },
  {
   "cell_type": "code",
   "execution_count": 9,
   "metadata": {},
   "outputs": [
    {
     "data": {
      "image/png": "[encoded data removed]",
      "text/plain": [
       "<matplotlib.figure.Figure at 0x7fdd1c60fbe0>"
      ]
     },
     "metadata": {},
     "output_type": "display_data"
    }
   ],
   "source": [
    "plots(np.squeeze(label_train[0,:,:,[29,25]]), scale = (0, 10))"
   ]
  },
  {
   "cell_type": "markdown",
   "metadata": {},
   "source": [
    "## 1.3 Data preparation"
   ]
  },
  {
   "cell_type": "code",
   "execution_count": 15,
   "metadata": {},
   "outputs": [
    {
     "name": "stdout",
     "output_type": "stream",
     "text": [
      "0\n",
      "1\n",
      "2\n",
      "3\n",
      "4\n",
      "5\n",
      "6\n",
      "7\n",
      "8\n",
      "9\n",
      "10\n",
      "11\n",
      "12\n",
      "13\n",
      "14\n",
      "15\n"
     ]
    },
    {
     "data": {
      "text/plain": [
       "((10850, 3, 27, 27, 21), (10850, 243, 11))"
      ]
     },
     "execution_count": 15,
     "metadata": {},
     "output_type": "execute_result"
    }
   ],
   "source": [
    "x_train, y_train = build_set(data_train, label_train, extraction_step, segment_size, core_size)\n",
    "x_train.shape, y_train.shape"
   ]
  },
  {
   "cell_type": "markdown",
   "metadata": {},
   "source": [
    "## 1.4 Configure callbacks"
   ]
  },
  {
   "cell_type": "code",
   "execution_count": 19,
   "metadata": {},
   "outputs": [],
   "source": [
    "from keras.callbacks import ModelCheckpoint\n",
    "from keras.callbacks import CSVLogger\n",
    "from keras.callbacks import EarlyStopping\n",
    "\n",
    "# Early stopping for reducing over-fitting risk\n",
    "stopper = EarlyStopping(patience=patience, monitor='val_categorical_accuracy')\n",
    "\n",
    "# Model checkpoint to save the training results\n",
    "checkpointer = ModelCheckpoint(\n",
    "    filepath=model_filename.format('1'),\n",
    "    monitor='val_categorical_accuracy',\n",
    "    verbose=0,\n",
    "    save_best_only=True,\n",
    "    save_weights_only=True)\n",
    "\n",
    "# CSVLogger to save the training results in a csv file\n",
    "csv_logger = CSVLogger(csv_filename.format(1), separator=';')\n",
    "\n",
    "callbacks = [checkpointer, csv_logger, stopper]\n",
    "#callbacks = [checkpointer, csv_logger]"
   ]
  },
  {
   "cell_type": "markdown",
   "metadata": {},
   "source": [
    "## 1.5 Training"
   ]
  },
  {
   "cell_type": "code",
   "execution_count": 20,
   "metadata": {
    "scrolled": false
   },
   "outputs": [
    {
     "name": "stdout",
     "output_type": "stream",
     "text": [
      "Train on 8680 samples, validate on 2170 samples\n",
      "Epoch 1/40\n",
      "8680/8680 [==============================] - 54s 6ms/step - loss: 0.6022 - categorical_accuracy: 0.8213 - val_loss: 0.5360 - val_categorical_accuracy: 0.8416\n",
      "Epoch 2/40\n",
      "8680/8680 [==============================] - 53s 6ms/step - loss: 0.1988 - categorical_accuracy: 0.9240 - val_loss: 0.3791 - val_categorical_accuracy: 0.8804\n",
      "Epoch 3/40\n",
      "8680/8680 [==============================] - 53s 6ms/step - loss: 0.1201 - categorical_accuracy: 0.9506 - val_loss: 0.4850 - val_categorical_accuracy: 0.8776\n",
      "Epoch 4/40\n",
      "8680/8680 [==============================] - 54s 6ms/step - loss: 0.0951 - categorical_accuracy: 0.9609 - val_loss: 0.5189 - val_categorical_accuracy: 0.8802\n",
      "Epoch 5/40\n",
      "8680/8680 [==============================] - 54s 6ms/step - loss: 0.0650 - categorical_accuracy: 0.9732 - val_loss: 0.6099 - val_categorical_accuracy: 0.8867\n",
      "Epoch 6/40\n",
      "8680/8680 [==============================] - 54s 6ms/step - loss: 0.0521 - categorical_accuracy: 0.9788 - val_loss: 0.6408 - val_categorical_accuracy: 0.8859\n",
      "Epoch 7/40\n",
      "8680/8680 [==============================] - 55s 6ms/step - loss: 0.0418 - categorical_accuracy: 0.9833 - val_loss: 0.6537 - val_categorical_accuracy: 0.8932\n",
      "Epoch 8/40\n",
      "8680/8680 [==============================] - 56s 6ms/step - loss: 0.0311 - categorical_accuracy: 0.9879 - val_loss: 0.4873 - val_categorical_accuracy: 0.9030\n",
      "Epoch 9/40\n",
      "8680/8680 [==============================] - 56s 6ms/step - loss: 0.0235 - categorical_accuracy: 0.9910 - val_loss: 0.9549 - val_categorical_accuracy: 0.8852 36s - loss: 0.0278 - categorical_accuracy: 0.989 - ETA: 36s - loss: 0.0277 - categorical_accuracy: - ETA: 34s - loss: 0.0272 - categoric - ETA: 30s - loss: 0.\n",
      "Epoch 10/40\n",
      "8680/8680 [==============================] - 56s 6ms/step - loss: 0.0175 - categorical_accuracy: 0.9935 - val_loss: 0.8879 - val_categorical_accuracy: 0.8907\n",
      "Epoch 11/40\n",
      "8680/8680 [==============================] - 56s 6ms/step - loss: 0.0161 - categorical_accuracy: 0.9941 - val_loss: 0.9005 - val_categorical_accuracy: 0.8930\n",
      "Epoch 12/40\n",
      "8680/8680 [==============================] - 56s 6ms/step - loss: 0.0166 - categorical_accuracy: 0.9941 - val_loss: 0.8295 - val_categorical_accuracy: 0.8927\n",
      "Epoch 13/40\n",
      "8680/8680 [==============================] - 56s 6ms/step - loss: 0.0096 - categorical_accuracy: 0.9966 - val_loss: 0.9744 - val_categorical_accuracy: 0.8924\n"
     ]
    },
    {
     "data": {
      "text/plain": [
       "<keras.callbacks.History at 0x7f2531c85b38>"
      ]
     },
     "execution_count": 20,
     "metadata": {},
     "output_type": "execute_result"
    }
   ],
   "source": [
    "# Build model\n",
    "model = generate_model(num_classes, num_channel, segment_size, core_size)\n",
    "\n",
    "K.set_value(model.optimizer.lr, 1e-3)\n",
    "\n",
    "model.fit(\n",
    "    x_train,\n",
    "    y_train,\n",
    "    epochs=nb_epoch,\n",
    "    validation_split=validation_split,\n",
    "    verbose=1,\n",
    "    callbacks=callbacks)\n",
    "\n",
    "# freeing space\n",
    "#del x_train\n",
    "#del y_train"
   ]
  },
  {
   "cell_type": "code",
   "execution_count": 21,
   "metadata": {},
   "outputs": [
    {
     "name": "stdout",
     "output_type": "stream",
     "text": [
      "Train on 8680 samples, validate on 2170 samples\n",
      "Epoch 1/40\n",
      "8680/8680 [==============================] - 54s 6ms/step - loss: 0.0110 - categorical_accuracy: 0.9962 - val_loss: 1.0005 - val_categorical_accuracy: 0.8915\n",
      "Epoch 2/40\n",
      "8680/8680 [==============================] - 53s 6ms/step - loss: 0.0041 - categorical_accuracy: 0.9988 - val_loss: 1.1298 - val_categorical_accuracy: 0.8914\n",
      "Epoch 3/40\n",
      "8680/8680 [==============================] - 54s 6ms/step - loss: 0.0021 - categorical_accuracy: 0.9995 - val_loss: 1.2402 - val_categorical_accuracy: 0.8904\n",
      "Epoch 4/40\n",
      "8680/8680 [==============================] - 54s 6ms/step - loss: 0.0010 - categorical_accuracy: 0.9998 - val_loss: 1.3051 - val_categorical_accuracy: 0.8903\n",
      "Epoch 5/40\n",
      "8680/8680 [==============================] - 54s 6ms/step - loss: 6.0801e-04 - categorical_accuracy: 0.9999 - val_loss: 1.3650 - val_categorical_accuracy: 0.8898\n",
      "Epoch 6/40\n",
      "8680/8680 [==============================] - 54s 6ms/step - loss: 2.7818e-04 - categorical_accuracy: 1.0000 - val_loss: 1.3807 - val_categorical_accuracy: 0.8907\n"
     ]
    },
    {
     "data": {
      "text/plain": [
       "<keras.callbacks.History at 0x7f251b6a7860>"
      ]
     },
     "execution_count": 21,
     "metadata": {},
     "output_type": "execute_result"
    }
   ],
   "source": [
    "model.load_weights(model_filename.format('1'))\n",
    "\n",
    "K.set_value(model.optimizer.lr, 1e-4)\n",
    "\n",
    "model.fit(\n",
    "    x_train,\n",
    "    y_train,\n",
    "    epochs=nb_epoch,\n",
    "    validation_split=validation_split,\n",
    "    verbose=1,\n",
    "    callbacks=callbacks)"
   ]
  },
  {
   "cell_type": "code",
   "execution_count": 22,
   "metadata": {},
   "outputs": [
    {
     "name": "stdout",
     "output_type": "stream",
     "text": [
      "Train on 8680 samples, validate on 2170 samples\n",
      "Epoch 1/20\n",
      "8680/8680 [==============================] - 52s 6ms/step - loss: 0.0176 - categorical_accuracy: 0.9937 - val_loss: 0.7717 - val_categorical_accuracy: 0.8934\n",
      "Epoch 2/20\n",
      "8680/8680 [==============================] - 53s 6ms/step - loss: 0.0109 - categorical_accuracy: 0.9963 - val_loss: 0.8553 - val_categorical_accuracy: 0.8931\n",
      "Epoch 3/20\n",
      "8680/8680 [==============================] - 54s 6ms/step - loss: 0.0084 - categorical_accuracy: 0.9973 - val_loss: 0.9215 - val_categorical_accuracy: 0.8925\n",
      "Epoch 4/20\n",
      "8680/8680 [==============================] - 54s 6ms/step - loss: 0.0067 - categorical_accuracy: 0.9978 - val_loss: 0.9851 - val_categorical_accuracy: 0.8919\n",
      "Epoch 5/20\n",
      "8680/8680 [==============================] - 54s 6ms/step - loss: 0.0056 - categorical_accuracy: 0.9983 - val_loss: 1.0185 - val_categorical_accuracy: 0.8920\n",
      "Epoch 6/20\n",
      "8680/8680 [==============================] - 54s 6ms/step - loss: 0.0047 - categorical_accuracy: 0.9986 - val_loss: 1.0597 - val_categorical_accuracy: 0.8917\n"
     ]
    },
    {
     "data": {
      "text/plain": [
       "<keras.callbacks.History at 0x7f251b450dd8>"
      ]
     },
     "execution_count": 22,
     "metadata": {},
     "output_type": "execute_result"
    }
   ],
   "source": [
    "model.load_weights(model_filename.format('1'))\n",
    "\n",
    "K.set_value(model.optimizer.lr, 1e-5)\n",
    "\n",
    "model.fit(\n",
    "    x_train,\n",
    "    y_train,\n",
    "    epochs=20,\n",
    "    validation_split=validation_split,\n",
    "    verbose=1,\n",
    "    callbacks=callbacks)"
   ]
  },
  {
   "cell_type": "code",
   "execution_count": null,
   "metadata": {},
   "outputs": [],
   "source": [
    "model.save_weights(model_filename.format(1))"
   ]
  },
  {
   "cell_type": "markdown",
   "metadata": {},
   "source": [
    "## 1.6 Classification"
   ]
  },
  {
   "cell_type": "code",
   "execution_count": 23,
   "metadata": {},
   "outputs": [],
   "source": [
    "from keras.models import load_model\n",
    "\n",
    "# Load best model\n",
    "model = generate_model(num_classes, num_channel, segment_size, core_size)\n",
    "model.load_weights(model_filename.format(1))"
   ]
  },
  {
   "cell_type": "code",
   "execution_count": 24,
   "metadata": {},
   "outputs": [
    {
     "data": {
      "text/plain": [
       "3300"
      ]
     },
     "execution_count": 24,
     "metadata": {},
     "output_type": "execute_result"
    }
   ],
   "source": [
    "len_patch = extract_patches(read_data(1, 'QSM'), patch_shape=segment_size, extraction_step=(9, 9, 3)).shape[0]\n",
    "len_patch"
   ]
  },
  {
   "cell_type": "code",
   "execution_count": 25,
   "metadata": {},
   "outputs": [
    {
     "name": "stdout",
     "output_type": "stream",
     "text": [
      "1\n",
      "3300/3300 [==============================] - 3s 893us/step\n",
      "2\n",
      "3300/3300 [==============================] - 3s 828us/step\n",
      "3\n",
      "3300/3300 [==============================] - 3s 827us/step\n",
      "4\n",
      "3300/3300 [==============================] - 3s 830us/step\n",
      "5\n",
      "3300/3300 [==============================] - 3s 829us/step\n",
      "6\n",
      "3300/3300 [==============================] - 3s 829us/step\n",
      "7\n",
      "3300/3300 [==============================] - 3s 857us/step\n",
      "8\n",
      "3300/3300 [==============================] - 3s 835us/step\n",
      "9\n",
      "3300/3300 [==============================] - 3s 835us/step\n",
      "10\n",
      "3300/3300 [==============================] - 3s 841us/step\n",
      "11\n",
      "3300/3300 [==============================] - 3s 843us/step\n",
      "12\n",
      "3300/3300 [==============================] - 3s 859us/step\n",
      "13\n",
      "3300/3300 [==============================] - 3s 838us/step\n",
      "14\n",
      "3300/3300 [==============================] - 3s 834us/step\n",
      "15\n",
      "3300/3300 [==============================] - 3s 845us/step\n",
      "16\n",
      "3300/3300 [==============================] - 3s 841us/step\n"
     ]
    }
   ],
   "source": [
    "segmentations_train = []\n",
    "\n",
    "for i_case, case_idx in enumerate(idxs_training):\n",
    "\n",
    "    print(case_idx)\n",
    "    input_train = data_train[i_case, :, :, :, :]\n",
    "\n",
    "    x_test = np.zeros((len_patch, num_channel,) + segment_size, dtype=precision_global)\n",
    "    for i_channel in range(num_channel):\n",
    "        x_test[:, i_channel, :, :, :] = extract_patches(input_train[i_channel], patch_shape=segment_size, extraction_step=(9, 9, 3))\n",
    "\n",
    "    pred = model.predict(x_test, verbose=1)\n",
    "    pred_classes = np.argmax(pred, axis=2)\n",
    "    pred_classes = pred_classes.reshape((len(pred_classes), 9, 9, 3))\n",
    "    segmentation = reconstruct_volume(pred_classes, matrix_size)\n",
    "    \n",
    "    segmentations_train = segmentations_train + [segmentation]\n",
    "    \n",
    "segmentations_train = np.stack(segmentations_train, axis=0)"
   ]
  },
  {
   "cell_type": "code",
   "execution_count": 11,
   "metadata": {},
   "outputs": [
    {
     "data": {
      "text/plain": [
       "10.0"
      ]
     },
     "execution_count": 11,
     "metadata": {},
     "output_type": "execute_result"
    }
   ],
   "source": [
    "segmentations_train.max()"
   ]
  },
  {
   "cell_type": "code",
   "execution_count": 26,
   "metadata": {},
   "outputs": [
    {
     "data": {
      "image/png": "[encoded data removed]",
      "text/plain": [
       "<matplotlib.figure.Figure at 0x7f2531bbeb00>"
      ]
     },
     "metadata": {},
     "output_type": "display_data"
    }
   ],
   "source": [
    "plots(np.squeeze(label_train[0:15,:,:,25]), rows=3, scale = (0, 10))"
   ]
  },
  {
   "cell_type": "code",
   "execution_count": 27,
   "metadata": {},
   "outputs": [
    {
     "data": {
      "image/png": "[encoded data removed]",
      "text/plain": [
       "<matplotlib.figure.Figure at 0x7f2531b2ee80>"
      ]
     },
     "metadata": {},
     "output_type": "display_data"
    }
   ],
   "source": [
    "plots(np.squeeze(segmentations_train[0:15,:,:,25]), rows=3, scale = (0, 10))"
   ]
  },
  {
   "cell_type": "markdown",
   "metadata": {},
   "source": [
    "## 1.7 Check false-positive"
   ]
  },
  {
   "cell_type": "code",
   "execution_count": 28,
   "metadata": {},
   "outputs": [],
   "source": [
    "idx_fpos = (label_train == 0) & (segmentations_train != 0);"
   ]
  },
  {
   "cell_type": "code",
   "execution_count": 29,
   "metadata": {},
   "outputs": [],
   "source": [
    "mask_fpos = np.zeros(label_train.shape, dtype=precision_global)\n",
    "mask_fpos[idx_fpos == True] = 1"
   ]
  },
  {
   "cell_type": "code",
   "execution_count": 30,
   "metadata": {},
   "outputs": [
    {
     "data": {
      "image/png": "[encoded data removed]",
      "text/plain": [
       "<matplotlib.figure.Figure at 0x7f2519387630>"
      ]
     },
     "metadata": {},
     "output_type": "display_data"
    }
   ],
   "source": [
    "plots(200*(np.squeeze(mask_fpos[0:15,:,:,25])), rows=3)"
   ]
  },
  {
   "cell_type": "markdown",
   "metadata": {},
   "source": [
    "# 2 Fine-tuning"
   ]
  },
  {
   "cell_type": "markdown",
   "metadata": {},
   "source": [
    "## 2.2 Rebuild training dataset"
   ]
  },
  {
   "cell_type": "code",
   "execution_count": 31,
   "metadata": {},
   "outputs": [],
   "source": [
    "del x_train, y_train"
   ]
  },
  {
   "cell_type": "code",
   "execution_count": 32,
   "metadata": {},
   "outputs": [
    {
     "name": "stdout",
     "output_type": "stream",
     "text": [
      "0\n",
      "1\n",
      "2\n",
      "3\n",
      "4\n",
      "5\n",
      "6\n",
      "7\n",
      "8\n",
      "9\n",
      "10\n",
      "11\n",
      "12\n",
      "13\n",
      "14\n",
      "15\n"
     ]
    },
    {
     "data": {
      "text/plain": [
       "((79352, 3, 27, 27, 21), (79352, 243, 11))"
      ]
     },
     "execution_count": 32,
     "metadata": {},
     "output_type": "execute_result"
    }
   ],
   "source": [
    "x_train, y_train = build_set(data_train, label_train, extraction_step, segment_size, core_size, mask_fpos)\n",
    "x_train.shape, y_train.shape"
   ]
  },
  {
   "cell_type": "code",
   "execution_count": 33,
   "metadata": {},
   "outputs": [],
   "source": [
    "save_array('tmp/x_train.bc', x_train)\n",
    "save_array('tmp/y_train.bc', y_train)"
   ]
  },
  {
   "cell_type": "code",
   "execution_count": 4,
   "metadata": {},
   "outputs": [],
   "source": [
    "x_train = load_array('tmp/x_train.bc')\n",
    "y_train = load_array('tmp/y_train.bc')"
   ]
  },
  {
   "cell_type": "markdown",
   "metadata": {},
   "source": [
    "## 2.3 Regenerate model"
   ]
  },
  {
   "cell_type": "code",
   "execution_count": 35,
   "metadata": {},
   "outputs": [],
   "source": [
    "from keras.callbacks import ModelCheckpoint\n",
    "from keras.callbacks import CSVLogger\n",
    "from keras.callbacks import EarlyStopping\n",
    "\n",
    "# Early stopping for reducing over-fitting risk\n",
    "stopper = EarlyStopping(patience=patience, monitor='val_categorical_accuracy')\n",
    "\n",
    "# Model checkpoint to save the training results\n",
    "checkpointer = ModelCheckpoint(\n",
    "    filepath=model_filename.format('2'),\n",
    "    monitor='val_categorical_accuracy',\n",
    "    verbose=0,\n",
    "    save_best_only=True,\n",
    "    save_weights_only=True)\n",
    "\n",
    "# CSVLogger to save the training results in a csv file\n",
    "csv_logger = CSVLogger(csv_filename.format(1), separator=';')\n",
    "\n",
    "callbacks = [checkpointer, csv_logger, stopper]\n",
    "#callbacks = [checkpointer, csv_logger]"
   ]
  },
  {
   "cell_type": "code",
   "execution_count": 36,
   "metadata": {},
   "outputs": [
    {
     "name": "stdout",
     "output_type": "stream",
     "text": [
      "Train on 63481 samples, validate on 15871 samples\n",
      "Epoch 1/40\n",
      "63481/63481 [==============================] - 439s 7ms/step - loss: 0.0043 - categorical_accuracy: 0.9985 - val_loss: 0.1994 - val_categorical_accuracy: 0.9823\n",
      "Epoch 2/40\n",
      "63481/63481 [==============================] - 423s 7ms/step - loss: 0.0011 - categorical_accuracy: 0.9996 - val_loss: 0.2028 - val_categorical_accuracy: 0.9823\n",
      "Epoch 3/40\n",
      "63481/63481 [==============================] - 515s 8ms/step - loss: 7.6469e-04 - categorical_accuracy: 0.9998 - val_loss: 0.2122 - val_categorical_accuracy: 0.9824\n",
      "Epoch 4/40\n",
      "63481/63481 [==============================] - 580s 9ms/step - loss: 9.6305e-04 - categorical_accuracy: 0.9997 - val_loss: 0.2052 - val_categorical_accuracy: 0.9827\n",
      "Epoch 5/40\n",
      "63481/63481 [==============================] - 424s 7ms/step - loss: 5.6499e-04 - categorical_accuracy: 0.9998 - val_loss: 0.2214 - val_categorical_accuracy: 0.9822\n",
      "Epoch 6/40\n",
      "63481/63481 [==============================] - 451s 7ms/step - loss: 3.5597e-04 - categorical_accuracy: 0.9999 - val_loss: 0.2276 - val_categorical_accuracy: 0.9823\n",
      "Epoch 7/40\n",
      "63481/63481 [==============================] - 442s 7ms/step - loss: 6.3060e-04 - categorical_accuracy: 0.9998 - val_loss: 0.1961 - val_categorical_accuracy: 0.9821\n",
      "Epoch 8/40\n",
      "63481/63481 [==============================] - 423s 7ms/step - loss: 5.3456e-04 - categorical_accuracy: 0.9998 - val_loss: 0.2037 - val_categorical_accuracy: 0.9827\n",
      "Epoch 9/40\n",
      "63481/63481 [==============================] - 408s 6ms/step - loss: 3.9076e-04 - categorical_accuracy: 0.9999 - val_loss: 0.2177 - val_categorical_accuracy: 0.9827tegorical_ac - ETA: 2:05 - loss: 5.1429e-04 - categorical_ - ETA: 2:03 - loss: 5.1219e-04 - categori - ETA: 2:01 - los\n",
      "Epoch 10/40\n",
      "63481/63481 [==============================] - 420s 7ms/step - loss: 3.3115e-04 - categorical_accuracy: 0.9999 - val_loss: 0.2277 - val_categorical_accuracy: 0.9822\n",
      "Epoch 11/40\n",
      "63481/63481 [==============================] - 418s 7ms/step - loss: 5.2458e-04 - categorical_accuracy: 0.9998 - val_loss: 0.2166 - val_categorical_accuracy: 0.9827\n",
      "Epoch 12/40\n",
      "63481/63481 [==============================] - 413s 6ms/step - loss: 2.9603e-04 - categorical_accuracy: 0.9999 - val_loss: 0.2218 - val_categorical_accuracy: 0.9820\n",
      "Epoch 13/40\n",
      "63481/63481 [==============================] - 445s 7ms/step - loss: 3.7480e-04 - categorical_accuracy: 0.9999 - val_loss: 0.2119 - val_categorical_accuracy: 0.9828s: 3.3919e-04 - categorical_accuracy: 0.999 - ETA: 55s - loss: 3.3958e-04 - categorical_accuracy: 0.99 - ETA: 55s - loss: 3.4060e-04 - categorical_accur\n",
      "Epoch 14/40\n",
      "63481/63481 [==============================] - 444s 7ms/step - loss: 3.8272e-04 - categorical_accuracy: 0.9999 - val_loss: 0.2031 - val_categorical_accuracy: 0.9816\n",
      "Epoch 15/40\n",
      "63481/63481 [==============================] - 412s 6ms/step - loss: 4.0157e-04 - categorical_accuracy: 0.9999 - val_loss: 0.2086 - val_categorical_accuracy: 0.9824\n",
      "Epoch 16/40\n",
      "63481/63481 [==============================] - 448s 7ms/step - loss: 2.7214e-04 - categorical_accuracy: 0.9999 - val_loss: 0.2234 - val_categorical_accuracy: 0.9825\n",
      "Epoch 17/40\n",
      "63481/63481 [==============================] - 419s 7ms/step - loss: 2.4466e-04 - categorical_accuracy: 0.9999 - val_loss: 0.2210 - val_categorical_accuracy: 0.9826\n",
      "Epoch 18/40\n",
      "63481/63481 [==============================] - 409s 6ms/step - loss: 2.5854e-04 - categorical_accuracy: 0.9999 - val_loss: 0.2200 - val_categorical_accuracy: 0.9829 - loss: 2.6631e-04 - categorical_ - ETA: 17s - loss: 2.6444e-04 - categorical_\n",
      "Epoch 19/40\n",
      "63481/63481 [==============================] - 406s 6ms/step - loss: 3.6757e-04 - categorical_accuracy: 0.9999 - val_loss: 0.2249 - val_categorical_accuracy: 0.9821\n",
      "Epoch 20/40\n",
      "63481/63481 [==============================] - 405s 6ms/step - loss: 2.2421e-04 - categorical_accuracy: 0.9999 - val_loss: 0.2245 - val_categorical_accuracy: 0.9825\n",
      "Epoch 21/40\n",
      "63481/63481 [==============================] - 407s 6ms/step - loss: 4.1201e-04 - categorical_accuracy: 0.9999 - val_loss: 0.2188 - val_categorical_accuracy: 0.9827\n",
      "Epoch 22/40\n",
      "63481/63481 [==============================] - 407s 6ms/step - loss: 2.7372e-04 - categorical_accuracy: 0.9999 - val_loss: 0.2090 - val_categorical_accuracy: 0.9826\n",
      "Epoch 23/40\n",
      "63481/63481 [==============================] - 416s 7ms/step - loss: 2.1462e-04 - categorical_accuracy: 0.9999 - val_loss: 0.2025 - val_categorical_accuracy: 0.9832\n",
      "Epoch 24/40\n",
      "63481/63481 [==============================] - 415s 7ms/step - loss: 2.8610e-04 - categorical_accuracy: 0.9999 - val_loss: 0.2065 - val_categorical_accuracy: 0.9829\n",
      "Epoch 25/40\n",
      "63481/63481 [==============================] - 409s 6ms/step - loss: 2.1769e-04 - categorical_accuracy: 0.9999 - val_loss: 0.2163 - val_categorical_accuracy: 0.9826\n",
      "Epoch 26/40\n",
      "63481/63481 [==============================] - 421s 7ms/step - loss: 5.4959e-04 - categorical_accuracy: 0.9999 - val_loss: 0.1998 - val_categorical_accuracy: 0.9823\n",
      "Epoch 27/40\n",
      "63481/63481 [==============================] - 419s 7ms/step - loss: 5.4674e-05 - categorical_accuracy: 1.0000 - val_loss: 0.2307 - val_categorical_accuracy: 0.9824\n",
      "Epoch 28/40\n",
      "63481/63481 [==============================] - 459s 7ms/step - loss: 2.3864e-06 - categorical_accuracy: 1.0000 - val_loss: 0.2384 - val_categorical_accuracy: 0.9824\n"
     ]
    },
    {
     "data": {
      "text/plain": [
       "<keras.callbacks.History at 0x7f250e5ef2b0>"
      ]
     },
     "execution_count": 36,
     "metadata": {},
     "output_type": "execute_result"
    }
   ],
   "source": [
    "# Build model\n",
    "model = generate_model(num_classes, num_channel, segment_size, core_size)\n",
    "\n",
    "# Load optimized weights\n",
    "model.load_weights(model_filename.format('1'))\n",
    "\n",
    "K.set_value(model.optimizer.lr, 1e-4)\n",
    "\n",
    "# Start fine-tuning\n",
    "model.fit(\n",
    "    x_train,\n",
    "    y_train,\n",
    "    epochs=nb_epoch,\n",
    "    validation_split=validation_split,\n",
    "    verbose=1,\n",
    "    callbacks=callbacks)\n",
    "\n",
    "# freeing space\n",
    "#del x_train\n",
    "#del y_train"
   ]
  },
  {
   "cell_type": "code",
   "execution_count": 37,
   "metadata": {},
   "outputs": [
    {
     "name": "stdout",
     "output_type": "stream",
     "text": [
      "Train on 63481 samples, validate on 15871 samples\n",
      "Epoch 1/20\n",
      "63481/63481 [==============================] - 466s 7ms/step - loss: 2.3888e-05 - categorical_accuracy: 1.0000 - val_loss: 0.2141 - val_categorical_accuracy: 0.9830\n",
      "Epoch 2/20\n",
      "63481/63481 [==============================] - 394s 6ms/step - loss: 4.0586e-06 - categorical_accuracy: 1.0000 - val_loss: 0.2230 - val_categorical_accuracy: 0.9829\n",
      "Epoch 3/20\n",
      "63481/63481 [==============================] - 394s 6ms/step - loss: 1.4611e-06 - categorical_accuracy: 1.0000 - val_loss: 0.2274 - val_categorical_accuracy: 0.9829\n",
      "Epoch 4/20\n",
      "63481/63481 [==============================] - 401s 6ms/step - loss: 6.0525e-07 - categorical_accuracy: 1.0000 - val_loss: 0.2325 - val_categorical_accuracy: 0.9829\n",
      "Epoch 5/20\n",
      "63481/63481 [==============================] - 396s 6ms/step - loss: 2.9498e-07 - categorical_accuracy: 1.0000 - val_loss: 0.2362 - val_categorical_accuracy: 0.9829\n",
      "Epoch 6/20\n",
      "63481/63481 [==============================] - 402s 6ms/step - loss: 1.8255e-07 - categorical_accuracy: 1.0000 - val_loss: 0.2393 - val_categorical_accuracy: 0.9829\n"
     ]
    },
    {
     "data": {
      "text/plain": [
       "<keras.callbacks.History at 0x7f2531b02908>"
      ]
     },
     "execution_count": 37,
     "metadata": {},
     "output_type": "execute_result"
    }
   ],
   "source": [
    "model.load_weights(model_filename.format('2'))\n",
    "\n",
    "K.set_value(model.optimizer.lr, 1e-5)\n",
    "\n",
    "# Start fine-tuning\n",
    "model.fit(\n",
    "    x_train,\n",
    "    y_train,\n",
    "    epochs=20,\n",
    "    validation_split=validation_split,\n",
    "    verbose=1,\n",
    "    callbacks=callbacks)"
   ]
  },
  {
   "cell_type": "code",
   "execution_count": null,
   "metadata": {},
   "outputs": [],
   "source": [
    "model.save_weights(model_filename.format('2'))"
   ]
  },
  {
   "cell_type": "code",
   "execution_count": 39,
   "metadata": {},
   "outputs": [],
   "source": [
    "# Load best model\n",
    "model = generate_model(num_classes, num_channel, segment_size, core_size)\n",
    "model.load_weights(model_filename.format('2'))"
   ]
  },
  {
   "cell_type": "code",
   "execution_count": 40,
   "metadata": {},
   "outputs": [
    {
     "name": "stdout",
     "output_type": "stream",
     "text": [
      "17\n",
      "3300/3300 [==============================] - 11s 3ms/step\n",
      "18\n",
      "3300/3300 [==============================] - 6s 2ms/step\n",
      "19\n",
      "3300/3300 [==============================] - 3s 890us/step\n",
      "20\n",
      "3300/3300 [==============================] - 3s 969us/step\n"
     ]
    }
   ],
   "source": [
    "segmentations_test = []\n",
    "\n",
    "for i_case, case_idx in enumerate(idxs_test):\n",
    "\n",
    "    print(case_idx)\n",
    "    input_test = data_test[i_case, :, :, :, :]\n",
    "\n",
    "    x_test = np.zeros((len_patch, num_channel,) + segment_size, dtype=precision_global)\n",
    "    for i_channel in range(num_channel):\n",
    "        x_test[:, i_channel, :, :, :] = extract_patches(input_test[i_channel], patch_shape=segment_size, extraction_step=(9, 9, 3))\n",
    "\n",
    "    pred = model.predict(x_test, verbose=1)\n",
    "    pred_classes = np.argmax(pred, axis=2)\n",
    "    pred_classes = pred_classes.reshape((len(pred_classes), 9, 9, 3))\n",
    "    segmentation = reconstruct_volume(pred_classes, matrix_size)\n",
    "    \n",
    "    segmentations_test = segmentations_test + [segmentation]\n",
    "    \n",
    "segmentations_test = np.stack(segmentations_test, axis=0)"
   ]
  },
  {
   "cell_type": "code",
   "execution_count": 41,
   "metadata": {},
   "outputs": [
    {
     "data": {
      "text/plain": [
       "10.0"
      ]
     },
     "execution_count": 41,
     "metadata": {},
     "output_type": "execute_result"
    }
   ],
   "source": [
    "segmentations_test.max()"
   ]
  },
  {
   "cell_type": "code",
   "execution_count": 54,
   "metadata": {},
   "outputs": [
    {
     "data": {
      "image/png": "[encoded data removed]",
      "text/plain": [
       "<matplotlib.figure.Figure at 0x7f24fcee8f98>"
      ]
     },
     "metadata": {},
     "output_type": "display_data"
    }
   ],
   "source": [
    "plots(np.squeeze(label_test[:,:,:,27]), rows=1, scale = (0, 10))"
   ]
  },
  {
   "cell_type": "code",
   "execution_count": 58,
   "metadata": {},
   "outputs": [
    {
     "data": {
      "image/png": "[encoded data removed]",
      "text/plain": [
       "<matplotlib.figure.Figure at 0x7f24fcf35dd8>"
      ]
     },
     "metadata": {},
     "output_type": "display_data"
    }
   ],
   "source": [
    "plots(np.squeeze(segmentations_test[:,:,:,27]), rows=1, scale = (0, 10))"
   ]
  },
  {
   "cell_type": "markdown",
   "metadata": {},
   "source": [
    "# 3 Post-processing"
   ]
  },
  {
   "cell_type": "markdown",
   "metadata": {},
   "source": [
    "## 3.1 Pick the largest connected component for each class"
   ]
  },
  {
   "cell_type": "code",
   "execution_count": 57,
   "metadata": {},
   "outputs": [],
   "source": [
    "for i_case, case_idx in enumerate(idxs_test):\n",
    "    segmentation = np.squeeze(segmentations_test[i_case,:,:,:]);\n",
    "    tmp = np.zeros(segmentation.shape, dtype=segmentation.dtype)\n",
    "    \n",
    "    for class_idx in class_mapper_inv :\n",
    "        mask = (segmentation == class_idx)\n",
    "        \n",
    "        if class_idx != 0 and mask.sum() > 0:\n",
    "            labeled_mask, num_cc = ndimage.label(mask)\n",
    "            largest_cc_mask = (labeled_mask == (np.bincount(labeled_mask.flat)[1:].argmax() + 1))\n",
    "            \n",
    "            tmp[largest_cc_mask == 1] = class_idx\n",
    "        \n",
    "    segmentations_test[i_case,:,:,:] = tmp"
   ]
  },
  {
   "cell_type": "markdown",
   "metadata": {},
   "source": [
    "## 3.2 Save it "
   ]
  },
  {
   "cell_type": "code",
   "execution_count": 62,
   "metadata": {},
   "outputs": [
    {
     "name": "stdout",
     "output_type": "stream",
     "text": [
      "17\n",
      "18\n",
      "19\n",
      "20\n",
      "Done with Step 3\n"
     ]
    }
   ],
   "source": [
    "for i_case, case_idx in enumerate(idxs_test):\n",
    "    print(case_idx)\n",
    "    \n",
    "    segmentation = np.squeeze(segmentations_test[i_case,:,:,:]);\n",
    "\n",
    "    save_data(segmentation, case_idx, 'label')    \n",
    "\n",
    "print(\"Done with Step 3\")"
   ]
  },
  {
   "cell_type": "markdown",
   "metadata": {},
   "source": [
    "## 3.3 Calculate metric "
   ]
  },
  {
   "cell_type": "code",
   "execution_count": 63,
   "metadata": {},
   "outputs": [],
   "source": [
    "def calc_dice(m1, m2):\n",
    "    return 2*((m1==1) & (m2==1)).sum()/((m1==1).sum() + (m2==1).sum())"
   ]
  },
  {
   "cell_type": "code",
   "execution_count": 64,
   "metadata": {},
   "outputs": [
    {
     "name": "stdout",
     "output_type": "stream",
     "text": [
      "17\t0.9988\tN/A\t1.0000\t1.0000\t0.9720\t0.9296\t0.6794\t0.9336\t0.9334\t0.8700\t0.9301\t0.7874\t\n",
      "18\t0.9990\tN/A\t1.0000\t0.9500\t0.7755\t0.8154\t0.6910\t0.7524\t0.7576\t0.7190\t0.7517\t0.7819\t\n",
      "19\t0.9977\tN/A\tN/A\tN/A\t0.0000\tN/A\t1.0000\t0.9333\tN/A\tN/A\t0.6829\t0.4444\t\n",
      "20\t0.9989\tN/A\t1.0000\t0.8929\t0.8703\t0.9265\t0.9309\t0.9305\t0.7255\t0.6312\t0.7607\t0.7665\t\n"
     ]
    }
   ],
   "source": [
    "for i_case, case_idx in enumerate(idxs_test):\n",
    "    print(case_idx, end='\\t')\n",
    "    print('{:.4f}'.format(accuracy_score(label_test[i_case,:,:,:].flat, segmentations_test[i_case,:,:,:].flat)), end='\\t')\n",
    "    for class_idx in class_mapper_inv:\n",
    "        mask = (np.squeeze(segmentations_test[i_case,:,:,:]) == class_idx)\n",
    "        if class_idx != 0 and mask.sum() > 0:\n",
    "            print('{:.4f}'.format(precision_score(label_test[i_case,:,:,:][mask], segmentations_test[i_case,:,:,:][mask], average='micro')), end='\\t')\n",
    "        else:\n",
    "            print('N/A', end='\\t')\n",
    "    print()"
   ]
  },
  {
   "cell_type": "code",
   "execution_count": 65,
   "metadata": {},
   "outputs": [
    {
     "name": "stdout",
     "output_type": "stream",
     "text": [
      "17\t0\t0.2264\t0.0860\t0.7704\t0.6000\t0.7805\t0.8733\t0.7515\t0.7782\t0.7788\t0.7111\t\n",
      "18\t0\t0.5301\t0.7917\t0.8321\t0.6817\t0.7911\t0.8272\t0.7073\t0.6230\t0.7951\t0.8172\t\n",
      "19\t0\t0\t0\t0.0000\t0\t0.0110\t0.0461\t0\t0\t0.4619\t0.0656\t\n",
      "20\t0\t0.8519\t0.7407\t0.7630\t0.8781\t0.8235\t0.7814\t0.7325\t0.7095\t0.7534\t0.7705\t\n"
     ]
    }
   ],
   "source": [
    "for i_case, case_idx in enumerate(idxs_test):\n",
    "    print(case_idx, end='\\t')\n",
    "    for class_idx in class_mapper_inv:\n",
    "        mask = (np.squeeze(segmentations_test[i_case,:,:,:]) == class_idx)\n",
    "        if class_idx != 0 and mask.sum() > 0:\n",
    "            print('{:.4f}'.format(calc_dice((label_test[i_case,:,:,:]==class_idx).flat, (segmentations_test[i_case,:,:,:]==class_idx).flat)), end='\\t')\n",
    "        else:\n",
    "            print(0, end='\\t')\n",
    "    print()"
   ]
  }
 ],
 "metadata": {
  "kernelspec": {
   "display_name": "Python 3",
   "language": "python",
   "name": "python3"
  },
  "language_info": {
   "codemirror_mode": {
    "name": "ipython",
    "version": 3
   },
   "file_extension": ".py",
   "mimetype": "text/x-python",
   "name": "python",
   "nbconvert_exporter": "python",
   "pygments_lexer": "ipython3",
   "version": "3.5.2"
  }
 },
 "nbformat": 4,
 "nbformat_minor": 2
}
