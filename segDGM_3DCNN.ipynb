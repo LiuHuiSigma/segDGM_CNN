{
 "cells": [
  {
   "cell_type": "code",
   "execution_count": 1,
   "metadata": {},
   "outputs": [
    {
     "name": "stderr",
     "output_type": "stream",
     "text": [
      "Using TensorFlow backend.\n"
     ]
    }
   ],
   "source": [
    "%matplotlib inline\n",
    "import nibabel as nib\n",
    "import numpy as np\n",
    "from scipy import ndimage\n",
    "from keras import backend as K\n",
    "from sklearn.metrics import accuracy_score, precision_score\n",
    "\n",
    "from utils import *\n",
    "from model_FCNN import generate_model\n"
   ]
  },
  {
   "cell_type": "code",
   "execution_count": 2,
   "metadata": {},
   "outputs": [],
   "source": [
    "from importlib import reload\n",
    "\n",
    "import keras\n",
    "reload(keras)\n",
    "from keras import backend as K\n",
    "\n",
    "import utils\n",
    "reload(utils)\n",
    "from utils import *\n",
    "\n",
    "import model_FCNN\n",
    "reload(model_FCNN)\n",
    "from model_FCNN import generate_model\n",
    "\n",
    "import callback_custom\n",
    "reload(callback_custom);"
   ]
  },
  {
   "cell_type": "markdown",
   "metadata": {},
   "source": [
    "# Problem configuration"
   ]
  },
  {
   "cell_type": "code",
   "execution_count": 3,
   "metadata": {},
   "outputs": [],
   "source": [
    "num_classes = 11\n",
    "num_channel = 2\n",
    "\n",
    "# K-fold validation (K=5)\n",
    "n_training = 16\n",
    "n_test = 4\n",
    "\n",
    "#idxs_training = list(range(1, 1+16))\n",
    "#idxs_test = list(range(17, 17+4))\n",
    "idxs_training = list(range(1, 1+12)) + list(range(17, 17+4))\n",
    "idxs_test = list(range(13,13+4))\n",
    "\n",
    "patience = 5\n",
    "model_filename = 'models/outrun_step_{}.h5'\n",
    "csv_filename = 'log/outrun_step_{}.cvs'\n",
    "\n",
    "nb_epoch = 40\n",
    "validation_split = 0.10\n",
    "monitor = 'val_loss'#'val_categorical_accuracy'\n",
    "\n",
    "class_mapper = {0:0}\n",
    "class_mapper.update({ i+1:i for i in range(1, 1+10) })\n",
    "class_mapper_inv = {0:0}\n",
    "class_mapper_inv.update({ i:i+1 for i in range(1, 1+10) })\n",
    "\n",
    "matrix_size = (160, 220, 48)\n",
    "\n",
    "extraction_step = (3, 3, 1)\n",
    "#extraction_step = (5, 5, 3)\n",
    "\n",
    "segment_size = (27, 27, 21)\n",
    "core_size = (9, 9, 3)"
   ]
  },
  {
   "cell_type": "markdown",
   "metadata": {},
   "source": [
    "# Architecture"
   ]
  },
  {
   "cell_type": "markdown",
   "metadata": {},
   "source": [
    "# 1. Initial segmentation"
   ]
  },
  {
   "cell_type": "markdown",
   "metadata": {},
   "source": [
    "## 1.1 Read data"
   ]
  },
  {
   "cell_type": "code",
   "execution_count": 4,
   "metadata": {},
   "outputs": [],
   "source": [
    "QSM_train = np.empty(((n_training,) + matrix_size), dtype=precision_global)\n",
    "MAG_train = np.empty(((n_training,) + matrix_size), dtype=precision_global)\n",
    "R2S_train = np.empty(((n_training,) + matrix_size), dtype=precision_global)\n",
    "label_train = np.empty(((n_training,) + matrix_size), dtype=precision_global)\n",
    "for i, case_idx in enumerate(idxs_training):\n",
    "    QSM_train[i, :, :, :] = read_data(case_idx, 'QSM')\n",
    "    MAG_train[i, :, :, :] = read_data(case_idx, 'MAG')\n",
    "    R2S_train[i, :, :, :] = read_data(case_idx, 'R2S')\n",
    "    label_train[i, :, :, :] = read_data(case_idx, 'label')"
   ]
  },
  {
   "cell_type": "code",
   "execution_count": 5,
   "metadata": {},
   "outputs": [],
   "source": [
    "#data_train = np.stack((QSM_train, MAG_train, R2S_train), axis = 1)\n",
    "data_train = np.stack((QSM_train, R2S_train), axis = 1)\n",
    "#data_train = np.stack((QSM_train,), axis = 1)"
   ]
  },
  {
   "cell_type": "code",
   "execution_count": 6,
   "metadata": {},
   "outputs": [],
   "source": [
    "QSM_test = np.empty(((n_test,) + matrix_size), dtype=precision_global)\n",
    "MAG_test = np.empty(((n_test,) + matrix_size), dtype=precision_global)\n",
    "R2S_test = np.empty(((n_test,) + matrix_size), dtype=precision_global)\n",
    "label_test = np.empty(((n_test,) + matrix_size), dtype=precision_global)\n",
    "for i, case_idx in enumerate(idxs_test):\n",
    "    QSM_test[i, :, :, :] = read_data(case_idx, 'QSM')\n",
    "    MAG_test[i, :, :, :] = read_data(case_idx, 'MAG')\n",
    "    R2S_test[i, :, :, :] = read_data(case_idx, 'R2S')\n",
    "    label_test[i, :, :, :] = read_data(case_idx, 'label')"
   ]
  },
  {
   "cell_type": "code",
   "execution_count": 7,
   "metadata": {},
   "outputs": [],
   "source": [
    "#data_test = np.stack((QSM_test, MAG_test, R2S_test), axis = 1)\n",
    "data_test = np.stack((QSM_test, R2S_test), axis = 1)\n",
    "#data_test = np.stack((QSM_test,), axis = 1)"
   ]
  },
  {
   "cell_type": "markdown",
   "metadata": {},
   "source": [
    "## 1.2 Pre-processing"
   ]
  },
  {
   "cell_type": "code",
   "execution_count": 8,
   "metadata": {},
   "outputs": [],
   "source": [
    "## Intensity normalisation (zero mean and unit variance)\n",
    "input_mean = 127.0\n",
    "input_std = 128.0\n",
    "data_train = (data_train - input_mean) / input_std\n",
    "data_test = (data_test - input_mean) / input_std\n",
    "\n",
    "# Map class label\n",
    "tmp = np.copy(label_train)\n",
    "for class_idx in class_mapper:\n",
    "    label_train[tmp == class_idx] = class_mapper[class_idx]\n",
    "tmp = np.copy(label_test)\n",
    "for class_idx in class_mapper:\n",
    "    label_test[tmp == class_idx] = class_mapper[class_idx]\n",
    "del tmp"
   ]
  },
  {
   "cell_type": "code",
   "execution_count": 9,
   "metadata": {},
   "outputs": [
    {
     "data": {
      "text/plain": [
       "10.0"
      ]
     },
     "execution_count": 9,
     "metadata": {},
     "output_type": "execute_result"
    }
   ],
   "source": [
    "label_train.max()"
   ]
  },
  {
   "cell_type": "code",
   "execution_count": 10,
   "metadata": {},
   "outputs": [
    {
     "data": {
      "image/png": "[encoded data removed]",
      "text/plain": [
       "<matplotlib.figure.Figure at 0x7fe8a76ebc18>"
      ]
     },
     "metadata": {},
     "output_type": "display_data"
    }
   ],
   "source": [
    "plots(np.squeeze(label_train[0,:,:,[29,25]]), scale = (0, 10))"
   ]
  },
  {
   "cell_type": "markdown",
   "metadata": {},
   "source": [
    "## 1.3 Data preparation"
   ]
  },
  {
   "cell_type": "code",
   "execution_count": 11,
   "metadata": {},
   "outputs": [
    {
     "name": "stdout",
     "output_type": "stream",
     "text": [
      "0\n",
      "1\n",
      "2\n",
      "3\n",
      "4\n",
      "5\n",
      "6\n",
      "7\n",
      "8\n",
      "9\n",
      "10\n",
      "11\n",
      "12\n",
      "13\n",
      "14\n",
      "15\n"
     ]
    },
    {
     "data": {
      "text/plain": [
       "((32629, 2, 27, 27, 21), (32629, 243, 11))"
      ]
     },
     "execution_count": 11,
     "metadata": {},
     "output_type": "execute_result"
    }
   ],
   "source": [
    "x_train, y_train = build_set(data_train, label_train, extraction_step, segment_size, core_size)\n",
    "x_train.shape, y_train.shape"
   ]
  },
  {
   "cell_type": "code",
   "execution_count": 12,
   "metadata": {},
   "outputs": [],
   "source": [
    "# shuffle array\n",
    "idxs_shuffle = shuffle(x_train)\n",
    "idxs_shuffle = shuffle(y_train, idxs_shuffle)"
   ]
  },
  {
   "cell_type": "markdown",
   "metadata": {},
   "source": [
    "## 1.4 Configure callbacks"
   ]
  },
  {
   "cell_type": "code",
   "execution_count": 13,
   "metadata": {},
   "outputs": [],
   "source": [
    "from keras.callbacks import ModelCheckpoint\n",
    "from keras.callbacks import CSVLogger\n",
    "from keras.callbacks import EarlyStopping\n",
    "\n",
    "from callback_custom import EarlyStoppingLowLR\n",
    "from callback_custom import ReduceLROnPlateauBestWeight\n",
    "\n",
    "\n",
    "\n",
    "# Model checkpoint to save the training results\n",
    "checkpointer = ModelCheckpoint(\n",
    "    filepath=model_filename.format('1'),\n",
    "    monitor=monitor,\n",
    "    verbose=0,\n",
    "    save_best_only=True,\n",
    "    save_weights_only=True)\n",
    "\n",
    "# CSVLogger to save the training results in a csv file\n",
    "csv_logger = CSVLogger(csv_filename.format(1), separator=';')\n",
    "\n",
    "\n",
    "stopper = EarlyStoppingLowLR(patience=patience, monitor=monitor, thresh_LR=1e-5)\n",
    "\n",
    "learning_rate_reduction = ReduceLROnPlateauBestWeight(filepath=model_filename.format('1'),\n",
    "                                                      monitor=monitor, \n",
    "                                                      patience=patience, \n",
    "                                                      verbose=1, \n",
    "                                                      factor=0.1, \n",
    "                                                      min_lr=1.001e-5)\n",
    "\n",
    "callbacks = [checkpointer, csv_logger, learning_rate_reduction, stopper]"
   ]
  },
  {
   "cell_type": "markdown",
   "metadata": {},
   "source": [
    "## 1.5 Training"
   ]
  },
  {
   "cell_type": "code",
   "execution_count": 14,
   "metadata": {
    "scrolled": false
   },
   "outputs": [
    {
     "name": "stdout",
     "output_type": "stream",
     "text": [
      "Train on 29366 samples, validate on 3263 samples\n",
      "Epoch 1/40\n",
      "29366/29366 [==============================] - 182s 6ms/step - loss: 0.3901 - categorical_accuracy: 0.8737 - val_loss: 0.2947 - val_categorical_accuracy: 0.9054\n",
      "Epoch 2/40\n",
      "29366/29366 [==============================] - 180s 6ms/step - loss: 0.0921 - categorical_accuracy: 0.9624 - val_loss: 0.4249 - val_categorical_accuracy: 0.9055\n",
      "Epoch 3/40\n",
      "29344/29366 [============================>.] - ETA: 0s - loss: 0.0459 - categorical_accuracy: 0.98140.001 1e-05\n",
      "29366/29366 [==============================] - 181s 6ms/step - loss: 0.0459 - categorical_accuracy: 0.9814 - val_loss: 0.4917 - val_categorical_accuracy: 0.9111\n",
      "Epoch 4/40\n",
      "29344/29366 [============================>.] - ETA: 0s - loss: 0.0224 - categorical_accuracy: 0.99150.001 1e-05\n",
      "29366/29366 [==============================] - 181s 6ms/step - loss: 0.0224 - categorical_accuracy: 0.9915 - val_loss: 0.5812 - val_categorical_accuracy: 0.9204\n",
      "Epoch 5/40\n",
      "29344/29366 [============================>.] - ETA: 0s - loss: 0.0151 - categorical_accuracy: 0.99460.001 1e-05\n",
      "29366/29366 [==============================] - 181s 6ms/step - loss: 0.0151 - categorical_accuracy: 0.9946 - val_loss: 0.6244 - val_categorical_accuracy: 0.9171\n",
      "Epoch 6/40\n",
      "29344/29366 [============================>.] - ETA: 0s - loss: 0.0105 - categorical_accuracy: 0.99640.001 1e-05\n",
      "29366/29366 [==============================] - 181s 6ms/step - loss: 0.0105 - categorical_accuracy: 0.9964 - val_loss: 0.6295 - val_categorical_accuracy: 0.9099\n",
      "Epoch 7/40\n",
      "29344/29366 [============================>.] - ETA: 0s - loss: 0.0075 - categorical_accuracy: 0.9974\n",
      "Epoch 00007: ReduceLROnPlateau reducing learning rate to 0.00010000000474974513.\n",
      "29366/29366 [==============================] - 181s 6ms/step - loss: 0.0075 - categorical_accuracy: 0.9974 - val_loss: 0.7181 - val_categorical_accuracy: 0.9125\n",
      "Epoch 8/40\n",
      "29366/29366 [==============================] - 181s 6ms/step - loss: 0.0830 - categorical_accuracy: 0.9655 - val_loss: 0.3534 - val_categorical_accuracy: 0.9113\n",
      "Epoch 9/40\n",
      "29344/29366 [============================>.] - ETA: 0s - loss: 0.0543 - categorical_accuracy: 0.97770.0001 1e-05\n",
      "29366/29366 [==============================] - 186s 6ms/step - loss: 0.0543 - categorical_accuracy: 0.9777 - val_loss: 0.4746 - val_categorical_accuracy: 0.9094\n",
      "Epoch 10/40\n",
      "29344/29366 [============================>.] - ETA: 0s - loss: 0.0336 - categorical_accuracy: 0.9866 - ETA: 59s - loss: 0.03 - ETA: 52s - loss: 0.0358 - c0.0001 1e-05\n",
      "29366/29366 [==============================] - 187s 6ms/step - loss: 0.0336 - categorical_accuracy: 0.9866 - val_loss: 0.6115 - val_categorical_accuracy: 0.9083\n",
      "Epoch 11/40\n",
      "29344/29366 [============================>.] - ETA: 0s - loss: 0.0199 - categorical_accuracy: 0.99240.0001 1e-05\n",
      "29366/29366 [==============================] - 189s 6ms/step - loss: 0.0199 - categorical_accuracy: 0.9924 - val_loss: 0.7244 - val_categorical_accuracy: 0.9081\n",
      "Epoch 12/40\n",
      "29344/29366 [============================>.] - ETA: 0s - loss: 0.0115 - categorical_accuracy: 0.9959\n",
      "Epoch 00012: ReduceLROnPlateau reducing learning rate to 1.001e-05.\n",
      "29366/29366 [==============================] - 189s 6ms/step - loss: 0.0115 - categorical_accuracy: 0.9959 - val_loss: 0.9004 - val_categorical_accuracy: 0.9065\n",
      "Epoch 13/40\n",
      "29366/29366 [==============================] - 189s 6ms/step - loss: 0.0997 - categorical_accuracy: 0.9589 - val_loss: 0.3404 - val_categorical_accuracy: 0.9078\n",
      "Epoch 14/40\n",
      "29366/29366 [==============================] - 184s 6ms/step - loss: 0.0925 - categorical_accuracy: 0.9616 - val_loss: 0.3219 - val_categorical_accuracy: 0.9099\n",
      "Epoch 15/40\n",
      "29366/29366 [==============================] - 183s 6ms/step - loss: 0.0880 - categorical_accuracy: 0.9634 - val_loss: 0.3178 - val_categorical_accuracy: 0.9107\n",
      "Epoch 16/40\n",
      "29344/29366 [============================>.] - ETA: 0s - loss: 0.0838 - categorical_accuracy: 0.9651 - ETA: 30s - loss: 0. - ETA:1.001e-05 1e-05\n",
      "29366/29366 [==============================] - 186s 6ms/step - loss: 0.0838 - categorical_accuracy: 0.9651 - val_loss: 0.3327 - val_categorical_accuracy: 0.9106\n",
      "Epoch 17/40\n",
      "29344/29366 [============================>.] - ETA: 0s - loss: 0.0797 - categorical_accuracy: 0.9668 - ETA: 42s - loss: 0.0803 - categorical_accurac - ETA: 40s - loss:  - ETA: 33s - loss: 0.0801 - categoric - ETA: 29s - loss: 0.0801 - c1.001e-05 1e-05\n",
      "29366/29366 [==============================] - 186s 6ms/step - loss: 0.0797 - categorical_accuracy: 0.9668 - val_loss: 0.3526 - val_categorical_accuracy: 0.9104\n",
      "Epoch 18/40\n",
      "29344/29366 [============================>.] - ETA: 0s - loss: 0.0755 - categorical_accuracy: 0.9686 ETA: 3s - loss: 0.0755 - categorical_ac - ETA: 2s - loss: 0.0755 - cate1.001e-05 1e-05\n",
      "29366/29366 [==============================] - 186s 6ms/step - loss: 0.0756 - categorical_accuracy: 0.9686 - val_loss: 0.3555 - val_categorical_accuracy: 0.9107\n",
      "Epoch 19/40\n",
      "29344/29366 [============================>.] - ETA: 0s - loss: 0.0714 - categorical_accuracy: 0.97041.001e-05 1e-05\n",
      "29366/29366 [==============================] - 190s 6ms/step - loss: 0.0714 - categorical_accuracy: 0.9704 - val_loss: 0.3724 - val_categorical_accuracy: 0.9096\n",
      "Epoch 20/40\n",
      "29344/29366 [============================>.] - ETA: 0s - loss: 0.0673 - categorical_accuracy: 0.97211.001e-05 1e-05\n",
      "29366/29366 [==============================] - 191s 6ms/step - loss: 0.0673 - categorical_accuracy: 0.9721 - val_loss: 0.3982 - val_categorical_accuracy: 0.9095\n"
     ]
    },
    {
     "data": {
      "text/plain": [
       "<keras.callbacks.History at 0x7fe880c5da90>"
      ]
     },
     "execution_count": 14,
     "metadata": {},
     "output_type": "execute_result"
    }
   ],
   "source": [
    "seed = 47\n",
    "np.random.seed(seed)\n",
    "\n",
    "# Build model\n",
    "model = generate_model(num_classes, num_channel, segment_size, core_size)\n",
    "\n",
    "K.set_value(model.optimizer.lr, 1e-3)\n",
    "\n",
    "model.fit(\n",
    "    x_train,\n",
    "    y_train,\n",
    "    epochs=nb_epoch,\n",
    "    validation_split=validation_split,\n",
    "    verbose=1,\n",
    "    callbacks=callbacks)\n",
    "\n",
    "# freeing space\n",
    "#del x_train\n",
    "#del y_train"
   ]
  },
  {
   "cell_type": "markdown",
   "metadata": {},
   "source": [
    "## 1.6 Classification"
   ]
  },
  {
   "cell_type": "code",
   "execution_count": 15,
   "metadata": {},
   "outputs": [],
   "source": [
    "from keras.models import load_model\n",
    "\n",
    "# Load best model\n",
    "model = generate_model(num_classes, num_channel, segment_size, core_size)\n",
    "model.load_weights(model_filename.format(1))"
   ]
  },
  {
   "cell_type": "code",
   "execution_count": 16,
   "metadata": {},
   "outputs": [
    {
     "name": "stdout",
     "output_type": "stream",
     "text": [
      "3262/3262 [==============================] - 3s 893us/step\n"
     ]
    },
    {
     "data": {
      "text/plain": [
       "[0.29481033337657103, 0.90539377405188848]"
      ]
     },
     "execution_count": 16,
     "metadata": {},
     "output_type": "execute_result"
    }
   ],
   "source": [
    "idx_start_valid = int(len(x_train)*validation_split)\n",
    "model.evaluate(x_train[-idx_start_valid:], y_train[-idx_start_valid:], verbose=1)"
   ]
  },
  {
   "cell_type": "code",
   "execution_count": 17,
   "metadata": {},
   "outputs": [
    {
     "data": {
      "text/plain": [
       "3300"
      ]
     },
     "execution_count": 17,
     "metadata": {},
     "output_type": "execute_result"
    }
   ],
   "source": [
    "len_patch = extract_patches(read_data(1, 'QSM'), patch_shape=segment_size, extraction_step=(9, 9, 3)).shape[0]\n",
    "len_patch"
   ]
  },
  {
   "cell_type": "code",
   "execution_count": 38,
   "metadata": {
    "scrolled": false
   },
   "outputs": [
    {
     "name": "stdout",
     "output_type": "stream",
     "text": [
      "1\n",
      "3300/3300 [==============================] - 2s 740us/step\n",
      "2\n",
      "3300/3300 [==============================] - 2s 744us/step\n",
      "3\n",
      "3300/3300 [==============================] - 3s 773us/step\n",
      "4\n",
      "3300/3300 [==============================] - 2s 747us/step\n",
      "5\n",
      "3300/3300 [==============================] - 2s 746us/step\n",
      "6\n",
      "3300/3300 [==============================] - 2s 752us/step\n",
      "7\n",
      "3300/3300 [==============================] - 2s 752us/step\n",
      "8\n",
      "3300/3300 [==============================] - 2s 754us/step\n",
      "9\n",
      "3300/3300 [==============================] - 2s 754us/step\n",
      "10\n",
      "3300/3300 [==============================] - 2s 757us/step\n",
      "11\n",
      "3300/3300 [==============================] - 2s 756us/step\n",
      "12\n",
      "3300/3300 [==============================] - 2s 757us/step\n",
      "17\n",
      "3300/3300 [==============================] - 2s 757us/step\n",
      "18\n",
      "3300/3300 [==============================] - 3s 760us/step\n",
      "19\n",
      "3300/3300 [==============================] - 2s 757us/step\n",
      "20\n",
      "3300/3300 [==============================] - 3s 782us/step\n"
     ]
    }
   ],
   "source": [
    "segmentations_train = []\n",
    "\n",
    "for i_case, case_idx in enumerate(idxs_training):\n",
    "\n",
    "    print(case_idx)\n",
    "    input_train = data_train[i_case, :, :, :, :]\n",
    "\n",
    "    x_test = np.zeros((len_patch, num_channel,) + segment_size, dtype=precision_global)\n",
    "    for i_channel in range(num_channel):\n",
    "        x_test[:, i_channel, :, :, :] = extract_patches(input_train[i_channel], patch_shape=segment_size, extraction_step=(9, 9, 3))\n",
    "\n",
    "    pred = model.predict(x_test, verbose=1)\n",
    "    pred_classes = np.argmax(pred, axis=2)\n",
    "    pred_classes = pred_classes.reshape((len(pred_classes), 9, 9, 3))\n",
    "    segmentation = reconstruct_volume(pred_classes, matrix_size)\n",
    "    \n",
    "    segmentations_train = segmentations_train + [segmentation]\n",
    "    \n",
    "segmentations_train = np.stack(segmentations_train, axis=0)"
   ]
  },
  {
   "cell_type": "code",
   "execution_count": 19,
   "metadata": {},
   "outputs": [
    {
     "data": {
      "text/plain": [
       "10.0"
      ]
     },
     "execution_count": 19,
     "metadata": {},
     "output_type": "execute_result"
    }
   ],
   "source": [
    "segmentations_train.max()"
   ]
  },
  {
   "cell_type": "code",
   "execution_count": 20,
   "metadata": {},
   "outputs": [
    {
     "data": {
      "image/png": "[encoded data removed]",
      "text/plain": [
       "<matplotlib.figure.Figure at 0x7fe8692ff0f0>"
      ]
     },
     "metadata": {},
     "output_type": "display_data"
    }
   ],
   "source": [
    "plots(np.squeeze(label_train[0:15,:,:,25]), rows=3, scale = (0, 10))"
   ]
  },
  {
   "cell_type": "code",
   "execution_count": 39,
   "metadata": {
    "scrolled": true
   },
   "outputs": [
    {
     "data": {
      "image/png": "[encoded data removed]",
      "text/plain": [
       "<matplotlib.figure.Figure at 0x7fe834fe2cf8>"
      ]
     },
     "metadata": {},
     "output_type": "display_data"
    }
   ],
   "source": [
    "plots(np.squeeze(segmentations_train[0:15,:,:,25]), rows=3, scale = (0, 10))"
   ]
  },
  {
   "cell_type": "markdown",
   "metadata": {},
   "source": [
    "## 1.7 Check false-positive"
   ]
  },
  {
   "cell_type": "code",
   "execution_count": 22,
   "metadata": {},
   "outputs": [],
   "source": [
    "idx_fpos = (label_train == 0) & (segmentations_train != 0);"
   ]
  },
  {
   "cell_type": "code",
   "execution_count": 23,
   "metadata": {},
   "outputs": [],
   "source": [
    "mask_fpos = np.zeros(label_train.shape, dtype=precision_global)\n",
    "mask_fpos[idx_fpos == True] = 1"
   ]
  },
  {
   "cell_type": "code",
   "execution_count": 24,
   "metadata": {},
   "outputs": [
    {
     "data": {
      "image/png": "[encoded data removed]",
      "text/plain": [
       "<matplotlib.figure.Figure at 0x7fe86911de48>"
      ]
     },
     "metadata": {},
     "output_type": "display_data"
    }
   ],
   "source": [
    "plots(200*(np.squeeze(mask_fpos[0:15,:,:,25])), rows=3)"
   ]
  },
  {
   "cell_type": "markdown",
   "metadata": {},
   "source": [
    "# 2 Fine-tuning"
   ]
  },
  {
   "cell_type": "markdown",
   "metadata": {},
   "source": [
    "## 2.2 Rebuild training dataset"
   ]
  },
  {
   "cell_type": "code",
   "execution_count": 25,
   "metadata": {},
   "outputs": [],
   "source": [
    "del x_train, y_train"
   ]
  },
  {
   "cell_type": "code",
   "execution_count": 26,
   "metadata": {},
   "outputs": [
    {
     "name": "stdout",
     "output_type": "stream",
     "text": [
      "0\n",
      "1\n",
      "2\n",
      "3\n",
      "4\n",
      "5\n",
      "6\n",
      "7\n",
      "8\n",
      "9\n",
      "10\n",
      "11\n",
      "12\n",
      "13\n",
      "14\n",
      "15\n"
     ]
    },
    {
     "data": {
      "text/plain": [
       "((10547, 2, 27, 27, 21), (10547, 243, 11))"
      ]
     },
     "execution_count": 26,
     "metadata": {},
     "output_type": "execute_result"
    }
   ],
   "source": [
    "extraction_step_ft = (6,6,3)\n",
    "x_train, y_train = build_set(data_train, label_train, extraction_step_ft, segment_size, core_size, mask_fpos)\n",
    "x_train.shape, y_train.shape"
   ]
  },
  {
   "cell_type": "code",
   "execution_count": 27,
   "metadata": {},
   "outputs": [],
   "source": [
    "# shuffle array\n",
    "#idxs_shuffle = shuffle(x_train)\n",
    "#idxs_shuffle = shuffle(y_train, idxs_shuffle)"
   ]
  },
  {
   "cell_type": "code",
   "execution_count": 28,
   "metadata": {},
   "outputs": [],
   "source": [
    "save_array('tmp/x_train.bc', x_train)\n",
    "save_array('tmp/y_train.bc', y_train)"
   ]
  },
  {
   "cell_type": "code",
   "execution_count": 29,
   "metadata": {},
   "outputs": [],
   "source": [
    "#x_train = load_array('tmp/x_train.bc')\n",
    "#y_train = load_array('tmp/y_train.bc')"
   ]
  },
  {
   "cell_type": "markdown",
   "metadata": {},
   "source": [
    "## 2.3 Regenerate model"
   ]
  },
  {
   "cell_type": "code",
   "execution_count": 30,
   "metadata": {},
   "outputs": [],
   "source": [
    "from keras.callbacks import ModelCheckpoint\n",
    "from keras.callbacks import CSVLogger\n",
    "from keras.callbacks import EarlyStopping\n",
    "\n",
    "from callback_custom import EarlyStoppingLowLR\n",
    "from callback_custom import ReduceLROnPlateauBestWeight\n",
    "\n",
    "\n",
    "\n",
    "# Model checkpoint to save the training results\n",
    "checkpointer = ModelCheckpoint(\n",
    "    filepath=model_filename.format('2'),\n",
    "    monitor=monitor,\n",
    "    verbose=0,\n",
    "    save_best_only=True,\n",
    "    save_weights_only=True)\n",
    "\n",
    "# CSVLogger to save the training results in a csv file\n",
    "csv_logger = CSVLogger(csv_filename.format(1), separator=';')\n",
    "\n",
    "\n",
    "stopper = EarlyStoppingLowLR(patience=patience, monitor=monitor, thresh_LR=1e-5)\n",
    "\n",
    "learning_rate_reduction = ReduceLROnPlateauBestWeight(filepath=model_filename.format('2'),\n",
    "                                                      monitor=monitor, \n",
    "                                                      patience=patience, \n",
    "                                                      verbose=1, \n",
    "                                                      factor=0.1, \n",
    "                                                      min_lr=1.001e-5)\n",
    "\n",
    "callbacks = [checkpointer, csv_logger, learning_rate_reduction, stopper]"
   ]
  },
  {
   "cell_type": "code",
   "execution_count": 31,
   "metadata": {
    "scrolled": false
   },
   "outputs": [
    {
     "name": "stdout",
     "output_type": "stream",
     "text": [
      "Train on 9492 samples, validate on 1055 samples\n",
      "Epoch 1/40\n",
      "9492/9492 [==============================] - 57s 6ms/step - loss: 0.0449 - categorical_accuracy: 0.9833 - val_loss: 0.0039 - val_categorical_accuracy: 0.9987\n",
      "Epoch 2/40\n",
      "9492/9492 [==============================] - 57s 6ms/step - loss: 0.0327 - categorical_accuracy: 0.9870 - val_loss: 0.0015 - val_categorical_accuracy: 0.9996\n",
      "Epoch 3/40\n",
      "9492/9492 [==============================] - 57s 6ms/step - loss: 0.0290 - categorical_accuracy: 0.9883 - val_loss: 0.0017 - val_categorical_accuracy: 0.9995\n",
      "Epoch 4/40\n",
      "9492/9492 [==============================] - 58s 6ms/step - loss: 0.0266 - categorical_accuracy: 0.9892 - val_loss: 8.2780e-04 - val_categorical_accuracy: 0.9997\n",
      "Epoch 5/40\n",
      "9472/9492 [============================>.] - ETA: 0s - loss: 0.0250 - categorical_accuracy: 0.98980.0001 1e-05\n",
      "9492/9492 [==============================] - 58s 6ms/step - loss: 0.0250 - categorical_accuracy: 0.9898 - val_loss: 0.0017 - val_categorical_accuracy: 0.9994\n",
      "Epoch 6/40\n",
      "9472/9492 [============================>.] - ETA: 0s - loss: 0.0221 - categorical_accuracy: 0.99090.0001 1e-05\n",
      "9492/9492 [==============================] - 58s 6ms/step - loss: 0.0221 - categorical_accuracy: 0.9909 - val_loss: 9.1122e-04 - val_categorical_accuracy: 0.9996\n",
      "Epoch 7/40\n",
      "9472/9492 [============================>.] - ETA: 0s - loss: 0.0208 - categorical_accuracy: 0.9914 ETA: 8s - loss: 0.00.0001 1e-05\n",
      "9492/9492 [==============================] - 59s 6ms/step - loss: 0.0208 - categorical_accuracy: 0.9915 - val_loss: 0.0014 - val_categorical_accuracy: 0.9995\n",
      "Epoch 8/40\n",
      "9472/9492 [============================>.] - ETA: 0s - loss: 0.0187 - categorical_accuracy: 0.9923 - ETA: 55s 0.0001 1e-05\n",
      "9492/9492 [==============================] - 60s 6ms/step - loss: 0.0188 - categorical_accuracy: 0.9923 - val_loss: 0.0013 - val_categorical_accuracy: 0.9995\n",
      "Epoch 9/40\n",
      "9472/9492 [============================>.] - ETA: 0s - loss: 0.0178 - categorical_accuracy: 0.9927 - ETA0.0001 1e-05\n",
      "9492/9492 [==============================] - 59s 6ms/step - loss: 0.0177 - categorical_accuracy: 0.9927 - val_loss: 0.0012 - val_categorical_accuracy: 0.9996\n",
      "Epoch 10/40\n",
      "9472/9492 [============================>.] - ETA: 0s - loss: 0.0158 - categorical_accuracy: 0.9936\n",
      "Epoch 00010: ReduceLROnPlateau reducing learning rate to 1.001e-05.\n",
      "9492/9492 [==============================] - 59s 6ms/step - loss: 0.0158 - categorical_accuracy: 0.9936 - val_loss: 0.0010 - val_categorical_accuracy: 0.9996\n",
      "Epoch 11/40\n",
      "9472/9492 [============================>.] - ETA: 0s - loss: 0.0230 - categorical_accuracy: 0.99061.001e-05 1e-05\n",
      "9492/9492 [==============================] - 59s 6ms/step - loss: 0.0230 - categorical_accuracy: 0.9906 - val_loss: 0.0015 - val_categorical_accuracy: 0.9996\n",
      "Epoch 12/40\n",
      "9472/9492 [============================>.] - ETA: 0s - loss: 0.0224 - categorical_accuracy: 0.99081.001e-05 1e-05\n",
      "9492/9492 [==============================] - 60s 6ms/step - loss: 0.0224 - categorical_accuracy: 0.9908 - val_loss: 0.0016 - val_categorical_accuracy: 0.9995\n",
      "Epoch 13/40\n",
      "9472/9492 [============================>.] - ETA: 0s - loss: 0.0221 - categorical_accuracy: 0.99091.001e-05 1e-05\n",
      "9492/9492 [==============================] - 59s 6ms/step - loss: 0.0221 - categorical_accuracy: 0.9909 - val_loss: 0.0014 - val_categorical_accuracy: 0.9995\n",
      "Epoch 14/40\n",
      "9472/9492 [============================>.] - ETA: 0s - loss: 0.0218 - categorical_accuracy: 0.99101.001e-05 1e-05\n",
      "9492/9492 [==============================] - 59s 6ms/step - loss: 0.0218 - categorical_accuracy: 0.9910 - val_loss: 0.0016 - val_categorical_accuracy: 0.9995\n",
      "Epoch 15/40\n",
      "9472/9492 [============================>.] - ETA: 0s - loss: 0.0214 - categorical_accuracy: 0.99121.001e-05 1e-05\n",
      "9492/9492 [==============================] - 59s 6ms/step - loss: 0.0215 - categorical_accuracy: 0.9912 - val_loss: 0.0013 - val_categorical_accuracy: 0.9996\n"
     ]
    },
    {
     "data": {
      "text/plain": [
       "<keras.callbacks.History at 0x7fe878732320>"
      ]
     },
     "execution_count": 31,
     "metadata": {},
     "output_type": "execute_result"
    }
   ],
   "source": [
    "# Build model\n",
    "model = generate_model(num_classes, num_channel, segment_size, core_size)\n",
    "\n",
    "# Load optimized weights\n",
    "model.load_weights(model_filename.format('1'))\n",
    "\n",
    "K.set_value(model.optimizer.lr, 1e-4)\n",
    "\n",
    "# Start fine-tuning\n",
    "model.fit(\n",
    "    x_train,\n",
    "    y_train,\n",
    "    epochs=nb_epoch,\n",
    "    validation_split=validation_split,\n",
    "    verbose=1,\n",
    "    callbacks=callbacks)\n",
    "\n",
    "# freeing space\n",
    "#del x_train\n",
    "#del y_train"
   ]
  },
  {
   "cell_type": "code",
   "execution_count": 32,
   "metadata": {},
   "outputs": [],
   "source": [
    "# Load best model\n",
    "model = generate_model(num_classes, num_channel, segment_size, core_size)\n",
    "model.load_weights(model_filename.format('2'))"
   ]
  },
  {
   "cell_type": "code",
   "execution_count": 33,
   "metadata": {},
   "outputs": [
    {
     "name": "stdout",
     "output_type": "stream",
     "text": [
      "1054/1054 [==============================] - 1s 923us/step\n"
     ]
    },
    {
     "data": {
      "text/plain": [
       "[0.00082844707712158207, 0.99971090367442061]"
      ]
     },
     "execution_count": 33,
     "metadata": {},
     "output_type": "execute_result"
    }
   ],
   "source": [
    "idx_start_valid = int(len(x_train)*validation_split)\n",
    "model.evaluate(x_train[-idx_start_valid:], y_train[-idx_start_valid:], verbose=1)"
   ]
  },
  {
   "cell_type": "code",
   "execution_count": 40,
   "metadata": {},
   "outputs": [
    {
     "name": "stdout",
     "output_type": "stream",
     "text": [
      "13\n",
      "3300/3300 [==============================] - 2s 757us/step\n",
      "14\n",
      "3300/3300 [==============================] - 2s 756us/step\n",
      "15\n",
      "3300/3300 [==============================] - 2s 746us/step\n",
      "16\n",
      "3300/3300 [==============================] - 2s 749us/step\n"
     ]
    }
   ],
   "source": [
    "segmentations_test = []\n",
    "\n",
    "for i_case, case_idx in enumerate(idxs_test):\n",
    "\n",
    "    print(case_idx)\n",
    "    input_test = data_test[i_case, :, :, :, :]\n",
    "\n",
    "    x_test = np.zeros((len_patch, num_channel,) + segment_size, dtype=precision_global)\n",
    "    for i_channel in range(num_channel):\n",
    "        x_test[:, i_channel, :, :, :] = extract_patches(input_test[i_channel], patch_shape=segment_size, extraction_step=(9, 9, 3))\n",
    "\n",
    "    pred = model.predict(x_test, verbose=1)\n",
    "    pred_classes = np.argmax(pred, axis=2)\n",
    "    pred_classes = pred_classes.reshape((len(pred_classes), 9, 9, 3))\n",
    "    segmentation = reconstruct_volume(pred_classes, matrix_size)\n",
    "    #segmentation = reconstruct_volume_majority(pred_classes, matrix_size, extraction_step=(3, 3, 3))\n",
    "    \n",
    "    segmentations_test = segmentations_test + [segmentation]\n",
    "    \n",
    "segmentations_test = np.stack(segmentations_test, axis=0)"
   ]
  },
  {
   "cell_type": "code",
   "execution_count": 41,
   "metadata": {},
   "outputs": [
    {
     "data": {
      "text/plain": [
       "10.0"
      ]
     },
     "execution_count": 41,
     "metadata": {},
     "output_type": "execute_result"
    }
   ],
   "source": [
    "segmentations_test.max()"
   ]
  },
  {
   "cell_type": "code",
   "execution_count": 42,
   "metadata": {},
   "outputs": [
    {
     "data": {
      "image/png": "[encoded data removed]",
      "text/plain": [
       "<matplotlib.figure.Figure at 0x7fe857290a20>"
      ]
     },
     "metadata": {},
     "output_type": "display_data"
    }
   ],
   "source": [
    "plots(np.squeeze(label_test[:,:,:,23]), rows=1, scale = (0, 10))"
   ]
  },
  {
   "cell_type": "code",
   "execution_count": 43,
   "metadata": {},
   "outputs": [
    {
     "data": {
      "image/png": "[encoded data removed]",
      "text/plain": [
       "<matplotlib.figure.Figure at 0x7fe857cd95c0>"
      ]
     },
     "metadata": {},
     "output_type": "display_data"
    }
   ],
   "source": [
    "plots(np.squeeze(segmentations_test[:,:,:,23]), rows=1, scale = (0, 10))"
   ]
  },
  {
   "cell_type": "markdown",
   "metadata": {},
   "source": [
    "# 3 Post-processing"
   ]
  },
  {
   "cell_type": "markdown",
   "metadata": {},
   "source": [
    "## 3.1 Pick the largest connected component for each class"
   ]
  },
  {
   "cell_type": "code",
   "execution_count": 44,
   "metadata": {},
   "outputs": [],
   "source": [
    "for i_case, case_idx in enumerate(idxs_test):\n",
    "    segmentation = np.squeeze(segmentations_test[i_case,:,:,:]);\n",
    "    tmp = np.zeros(segmentation.shape, dtype=segmentation.dtype)\n",
    "    \n",
    "    for class_idx in class_mapper_inv :\n",
    "        mask = (segmentation == class_idx)\n",
    "        \n",
    "        if class_idx != 0 and mask.sum() > 0:\n",
    "            labeled_mask, num_cc = ndimage.label(mask)\n",
    "            largest_cc_mask = (labeled_mask == (np.bincount(labeled_mask.flat)[1:].argmax() + 1))\n",
    "            \n",
    "            tmp[largest_cc_mask == 1] = class_idx\n",
    "        \n",
    "    segmentations_test[i_case,:,:,:] = tmp"
   ]
  },
  {
   "cell_type": "markdown",
   "metadata": {},
   "source": [
    "## 3.2 Save it "
   ]
  },
  {
   "cell_type": "code",
   "execution_count": 45,
   "metadata": {},
   "outputs": [
    {
     "name": "stdout",
     "output_type": "stream",
     "text": [
      "13\n",
      "14\n",
      "15\n",
      "16\n",
      "Done with Step 3\n"
     ]
    }
   ],
   "source": [
    "for i_case, case_idx in enumerate(idxs_test):\n",
    "    print(case_idx)\n",
    "    \n",
    "    segmentation = np.copy(np.squeeze(segmentations_test[i_case,:,:,:]))\n",
    "    \n",
    "    tmp = np.copy(segmentation)\n",
    "    for class_idx in class_mapper_inv:\n",
    "        segmentation[tmp == class_idx] = class_mapper_inv[class_idx]\n",
    "    del tmp\n",
    "\n",
    "    save_data(segmentation, case_idx, 'label')    \n",
    "\n",
    "print(\"Done with Step 3\")"
   ]
  },
  {
   "cell_type": "markdown",
   "metadata": {},
   "source": [
    "## 3.3 Calculate metric "
   ]
  },
  {
   "cell_type": "code",
   "execution_count": 46,
   "metadata": {},
   "outputs": [],
   "source": [
    "def calc_dice(m1, m2):\n",
    "    return 2*((m1==1) & (m2==1)).sum()/((m1==1).sum() + (m2==1).sum())"
   ]
  },
  {
   "cell_type": "code",
   "execution_count": 47,
   "metadata": {},
   "outputs": [
    {
     "name": "stdout",
     "output_type": "stream",
     "text": [
      "13\t0.9993\tN/A\t0.8889\t0.9434\t0.8922\t0.9892\t0.9177\t0.9281\t0.9210\t0.8951\t0.8536\t0.9389\t\n",
      "14\t0.9985\tN/A\t0.9796\t0.9839\t0.8617\t0.9679\t0.8262\t0.7761\t0.9261\t0.9201\t0.9072\tN/A\t\n",
      "15\t0.9981\tN/A\t0.9524\t1.0000\t0.8452\t0.8842\t0.9633\t0.9879\t0.9107\t1.0000\t0.9889\t1.0000\t\n",
      "16\t0.9986\tN/A\t0.9231\t0.9474\t0.8778\t0.8808\t0.8864\t0.9556\t0.9599\t0.9180\t1.0000\t0.8636\t\n"
     ]
    }
   ],
   "source": [
    "for i_case, case_idx in enumerate(idxs_test):\n",
    "    print(case_idx, end='\\t')\n",
    "    print('{:.4f}'.format(accuracy_score(label_test[i_case,:,:,:].flat, segmentations_test[i_case,:,:,:].flat)), end='\\t')\n",
    "    for class_idx in class_mapper_inv:\n",
    "        mask = (np.squeeze(segmentations_test[i_case,:,:,:]) == class_idx)\n",
    "        if class_idx != 0 and mask.sum() > 0:\n",
    "            print('{:.4f}'.format(precision_score(label_test[i_case,:,:,:][mask], segmentations_test[i_case,:,:,:][mask], average='micro')), end='\\t')\n",
    "        else:\n",
    "            print('N/A', end='\\t')\n",
    "    print()"
   ]
  },
  {
   "cell_type": "code",
   "execution_count": 48,
   "metadata": {},
   "outputs": [
    {
     "name": "stdout",
     "output_type": "stream",
     "text": [
      "13\t0\t0.8205\t0.8475\t0.8445\t0.8026\t0.9161\t0.8558\t0.8701\t0.7800\t0.6846\t0.7376\t\n",
      "14\t0\t0.8727\t0.6421\t0.8417\t0.8229\t0.8459\t0.8232\t0.5165\t0.7031\t0.7002\t0\t\n",
      "15\t0\t0.7619\t0.3836\t0.9034\t0.7814\t0.9164\t0.9142\t0.5249\t0.2778\t0.1926\t0.0743\t\n",
      "16\t0\t0.8623\t0.8623\t0.9159\t0.8339\t0.9007\t0.9232\t0.7769\t0.7635\t0.0109\t0.0968\t\n"
     ]
    }
   ],
   "source": [
    "for i_case, case_idx in enumerate(idxs_test):\n",
    "    print(case_idx, end='\\t')\n",
    "    for class_idx in class_mapper_inv:\n",
    "        mask = (np.squeeze(segmentations_test[i_case,:,:,:]) == class_idx)\n",
    "        if class_idx != 0 and mask.sum() > 0:\n",
    "            print('{:.4f}'.format(calc_dice((label_test[i_case,:,:,:]==class_idx).flat, (segmentations_test[i_case,:,:,:]==class_idx).flat)), end='\\t')\n",
    "        else:\n",
    "            print(0, end='\\t')\n",
    "    print()"
   ]
  },
  {
   "cell_type": "code",
   "execution_count": null,
   "metadata": {},
   "outputs": [],
   "source": []
  },
  {
   "cell_type": "code",
   "execution_count": null,
   "metadata": {},
   "outputs": [],
   "source": []
  }
 ],
 "metadata": {
  "kernelspec": {
   "display_name": "Python 3",
   "language": "python",
   "name": "python3"
  },
  "language_info": {
   "codemirror_mode": {
    "name": "ipython",
    "version": 3
   },
   "file_extension": ".py",
   "mimetype": "text/x-python",
   "name": "python",
   "nbconvert_exporter": "python",
   "pygments_lexer": "ipython3",
   "version": "3.5.2"
  }
 },
 "nbformat": 4,
 "nbformat_minor": 2
}
