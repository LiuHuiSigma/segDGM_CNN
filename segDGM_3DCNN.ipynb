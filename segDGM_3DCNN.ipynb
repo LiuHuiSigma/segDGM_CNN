{
 "cells": [
  {
   "cell_type": "code",
   "execution_count": 1,
   "metadata": {},
   "outputs": [
    {
     "name": "stderr",
     "output_type": "stream",
     "text": [
      "Using TensorFlow backend.\n"
     ]
    }
   ],
   "source": [
    "%matplotlib inline\n",
    "import nibabel as nib\n",
    "import numpy as np\n",
    "from scipy import ndimage\n",
    "from keras import backend as K\n",
    "from sklearn.metrics import accuracy_score, precision_score\n",
    "\n",
    "from utils import *\n",
    "from model_FCNN import generate_model\n"
   ]
  },
  {
   "cell_type": "code",
   "execution_count": 2,
   "metadata": {},
   "outputs": [],
   "source": [
    "from importlib import reload\n",
    "\n",
    "import keras\n",
    "reload(keras)\n",
    "from keras import backend as K\n",
    "\n",
    "import utils\n",
    "reload(utils)\n",
    "from utils import *\n",
    "\n",
    "import model_FCNN\n",
    "reload(model_FCNN)\n",
    "from model_FCNN import generate_model\n",
    "\n",
    "import callback_custom\n",
    "reload(callback_custom);"
   ]
  },
  {
   "cell_type": "markdown",
   "metadata": {},
   "source": [
    "# Problem configuration"
   ]
  },
  {
   "cell_type": "code",
   "execution_count": 4,
   "metadata": {},
   "outputs": [],
   "source": [
    "num_classes = 11\n",
    "num_channel = 1\n",
    "\n",
    "# K-fold validation (K=5)\n",
    "n_training = 16\n",
    "n_test = 4\n",
    "\n",
    "idxs_training = list(range(1, 1+16))\n",
    "idxs_test = list(range(17, 17+4))\n",
    "\n",
    "patience = 5\n",
    "model_filename = 'models/outrun_step_{}.h5'\n",
    "csv_filename = 'log/outrun_step_{}.cvs'\n",
    "\n",
    "nb_epoch = 40\n",
    "validation_split = 0.10\n",
    "monitor = 'val_loss'#'val_categorical_accuracy'\n",
    "\n",
    "class_mapper = {0:0}\n",
    "class_mapper.update({ i+1:i for i in range(1, 1+10) })\n",
    "class_mapper_inv = {0:0}\n",
    "class_mapper_inv.update({ i:i+1 for i in range(1, 1+10) })\n",
    "\n",
    "matrix_size = (160, 220, 48)\n",
    "\n",
    "#extraction_step = (3, 3, 3)\n",
    "extraction_step = (5, 5, 3)\n",
    "\n",
    "segment_size = (27, 27, 21)\n",
    "core_size = (9, 9, 3)"
   ]
  },
  {
   "cell_type": "markdown",
   "metadata": {},
   "source": [
    "# Architecture"
   ]
  },
  {
   "cell_type": "markdown",
   "metadata": {},
   "source": [
    "# 1. Initial segmentation"
   ]
  },
  {
   "cell_type": "markdown",
   "metadata": {},
   "source": [
    "## 1.1 Read data"
   ]
  },
  {
   "cell_type": "code",
   "execution_count": 5,
   "metadata": {},
   "outputs": [],
   "source": [
    "QSM_train = np.empty(((n_training,) + matrix_size), dtype=precision_global)\n",
    "MAG_train = np.empty(((n_training,) + matrix_size), dtype=precision_global)\n",
    "R2S_train = np.empty(((n_training,) + matrix_size), dtype=precision_global)\n",
    "label_train = np.empty(((n_training,) + matrix_size), dtype=precision_global)\n",
    "for i, case_idx in enumerate(idxs_training):\n",
    "    QSM_train[i, :, :, :] = read_data(case_idx, 'QSM')\n",
    "    MAG_train[i, :, :, :] = read_data(case_idx, 'MAG')\n",
    "    R2S_train[i, :, :, :] = read_data(case_idx, 'R2S')\n",
    "    label_train[i, :, :, :] = read_data(case_idx, 'label')"
   ]
  },
  {
   "cell_type": "code",
   "execution_count": 6,
   "metadata": {},
   "outputs": [],
   "source": [
    "#data_train = np.stack((QSM_train, MAG_train, R2S_train), axis = 1)\n",
    "#data_train = np.stack((QSM_train, R2S_train), axis = 1)\n",
    "data_train = np.stack((QSM_train,), axis = 1)"
   ]
  },
  {
   "cell_type": "code",
   "execution_count": 7,
   "metadata": {},
   "outputs": [],
   "source": [
    "QSM_test = np.empty(((n_test,) + matrix_size), dtype=precision_global)\n",
    "MAG_test = np.empty(((n_test,) + matrix_size), dtype=precision_global)\n",
    "R2S_test = np.empty(((n_test,) + matrix_size), dtype=precision_global)\n",
    "label_test = np.empty(((n_test,) + matrix_size), dtype=precision_global)\n",
    "for i, case_idx in enumerate(idxs_test):\n",
    "    QSM_test[i, :, :, :] = read_data(case_idx, 'QSM')\n",
    "    MAG_test[i, :, :, :] = read_data(case_idx, 'MAG')\n",
    "    R2S_test[i, :, :, :] = read_data(case_idx, 'R2S')\n",
    "    label_test[i, :, :, :] = read_data(case_idx, 'label')"
   ]
  },
  {
   "cell_type": "code",
   "execution_count": 8,
   "metadata": {},
   "outputs": [],
   "source": [
    "#data_test = np.stack((QSM_test, MAG_test, R2S_test), axis = 1)\n",
    "#data_test = np.stack((QSM_test, R2S_test), axis = 1)\n",
    "data_test = np.stack((QSM_test,), axis = 1)"
   ]
  },
  {
   "cell_type": "markdown",
   "metadata": {},
   "source": [
    "## 1.2 Pre-processing"
   ]
  },
  {
   "cell_type": "code",
   "execution_count": 9,
   "metadata": {},
   "outputs": [],
   "source": [
    "## Intensity normalisation (zero mean and unit variance)\n",
    "input_mean = 127.0\n",
    "input_std = 128.0\n",
    "data_train = (data_train - input_mean) / input_std\n",
    "data_test = (data_test - input_mean) / input_std\n",
    "\n",
    "# Map class label\n",
    "tmp = np.copy(label_train)\n",
    "for class_idx in class_mapper:\n",
    "    label_train[tmp == class_idx] = class_mapper[class_idx]\n",
    "tmp = np.copy(label_test)\n",
    "for class_idx in class_mapper:\n",
    "    label_test[tmp == class_idx] = class_mapper[class_idx]\n",
    "del tmp"
   ]
  },
  {
   "cell_type": "code",
   "execution_count": 10,
   "metadata": {},
   "outputs": [
    {
     "data": {
      "text/plain": [
       "10.0"
      ]
     },
     "execution_count": 10,
     "metadata": {},
     "output_type": "execute_result"
    }
   ],
   "source": [
    "label_train.max()"
   ]
  },
  {
   "cell_type": "code",
   "execution_count": 33,
   "metadata": {},
   "outputs": [
    {
     "data": {
      "image/png": "[encoded data removed]",
      "text/plain": [
       "<matplotlib.figure.Figure at 0x7fc6e1a33438>"
      ]
     },
     "metadata": {},
     "output_type": "display_data"
    }
   ],
   "source": [
    "plots(np.squeeze(label_train[0,:,:,[29,25]]), scale = (0, 10))"
   ]
  },
  {
   "cell_type": "markdown",
   "metadata": {},
   "source": [
    "## 1.3 Data preparation"
   ]
  },
  {
   "cell_type": "code",
   "execution_count": 11,
   "metadata": {},
   "outputs": [
    {
     "name": "stdout",
     "output_type": "stream",
     "text": [
      "0\n",
      "1\n",
      "2\n",
      "3\n",
      "4\n",
      "5\n",
      "6\n",
      "7\n",
      "8\n",
      "9\n",
      "10\n",
      "11\n",
      "12\n",
      "13\n",
      "14\n",
      "15\n"
     ]
    },
    {
     "data": {
      "text/plain": [
       "((3964, 1, 27, 27, 21), (3964, 243, 11))"
      ]
     },
     "execution_count": 11,
     "metadata": {},
     "output_type": "execute_result"
    }
   ],
   "source": [
    "x_train, y_train = build_set(data_train, label_train, extraction_step, segment_size, core_size)\n",
    "x_train.shape, y_train.shape"
   ]
  },
  {
   "cell_type": "code",
   "execution_count": 35,
   "metadata": {},
   "outputs": [],
   "source": [
    "# shuffle array\n",
    "idxs_shuffle = shuffle(x_train)\n",
    "idxs_shuffle = shuffle(y_train, idxs_shuffle)"
   ]
  },
  {
   "cell_type": "markdown",
   "metadata": {},
   "source": [
    "## 1.4 Configure callbacks"
   ]
  },
  {
   "cell_type": "code",
   "execution_count": 36,
   "metadata": {},
   "outputs": [],
   "source": [
    "from keras.callbacks import ModelCheckpoint\n",
    "from keras.callbacks import CSVLogger\n",
    "from keras.callbacks import EarlyStopping\n",
    "\n",
    "from callback_custom import EarlyStoppingLowLR\n",
    "from callback_custom import ReduceLROnPlateauBestWeight\n",
    "\n",
    "\n",
    "\n",
    "# Model checkpoint to save the training results\n",
    "checkpointer = ModelCheckpoint(\n",
    "    filepath=model_filename.format('1'),\n",
    "    monitor=monitor,\n",
    "    verbose=0,\n",
    "    save_best_only=True,\n",
    "    save_weights_only=True)\n",
    "\n",
    "# CSVLogger to save the training results in a csv file\n",
    "csv_logger = CSVLogger(csv_filename.format(1), separator=';')\n",
    "\n",
    "\n",
    "stopper = EarlyStoppingLowLR(patience=patience, monitor=monitor, thresh_LR=1e-5)\n",
    "\n",
    "learning_rate_reduction = ReduceLROnPlateauBestWeight(filepath=model_filename.format('1'),\n",
    "                                                      monitor=monitor, \n",
    "                                                      patience=patience, \n",
    "                                                      verbose=1, \n",
    "                                                      factor=0.1, \n",
    "                                                      min_lr=1.001e-5)\n",
    "\n",
    "callbacks = [checkpointer, csv_logger, learning_rate_reduction, stopper]"
   ]
  },
  {
   "cell_type": "markdown",
   "metadata": {},
   "source": [
    "## 1.5 Training"
   ]
  },
  {
   "cell_type": "code",
   "execution_count": 37,
   "metadata": {
    "scrolled": false
   },
   "outputs": [
    {
     "name": "stdout",
     "output_type": "stream",
     "text": [
      "Train on 3567 samples, validate on 397 samples\n",
      "Epoch 1/40\n",
      "3567/3567 [==============================] - 22s 6ms/step - loss: 0.8903 - categorical_accuracy: 0.7765 - val_loss: 0.7590 - val_categorical_accuracy: 0.7907\n",
      "Epoch 2/40\n",
      "3567/3567 [==============================] - 21s 6ms/step - loss: 0.5678 - categorical_accuracy: 0.8335 - val_loss: 0.5833 - val_categorical_accuracy: 0.8231\n",
      "Epoch 3/40\n",
      "3567/3567 [==============================] - 21s 6ms/step - loss: 0.4023 - categorical_accuracy: 0.8693 - val_loss: 0.4705 - val_categorical_accuracy: 0.8510\n",
      "Epoch 4/40\n",
      "3567/3567 [==============================] - 22s 6ms/step - loss: 0.2949 - categorical_accuracy: 0.8942 - val_loss: 0.3328 - val_categorical_accuracy: 0.8932\n",
      "Epoch 5/40\n",
      "3567/3567 [==============================] - 22s 6ms/step - loss: 0.2281 - categorical_accuracy: 0.9174 - val_loss: 0.3295 - val_categorical_accuracy: 0.8934\n",
      "Epoch 6/40\n",
      "3567/3567 [==============================] - 22s 6ms/step - loss: 0.1588 - categorical_accuracy: 0.9365 - val_loss: 0.3053 - val_categorical_accuracy: 0.9014\n",
      "Epoch 7/40\n",
      "3567/3567 [==============================] - 22s 6ms/step - loss: 0.1386 - categorical_accuracy: 0.9437 - val_loss: 0.3146 - val_categorical_accuracy: 0.9060\n",
      "Epoch 8/40\n",
      "3552/3567 [============================>.] - ETA: 0s - loss: 0.1161 - categorical_accuracy: 0.95190.001 1e-05\n",
      "3567/3567 [==============================] - 22s 6ms/step - loss: 0.1160 - categorical_accuracy: 0.9520 - val_loss: 0.3632 - val_categorical_accuracy: 0.8996\n",
      "Epoch 9/40\n",
      "3552/3567 [============================>.] - ETA: 0s - loss: 0.1043 - categorical_accuracy: 0.95700.001 1e-05\n",
      "3567/3567 [==============================] - 22s 6ms/step - loss: 0.1046 - categorical_accuracy: 0.9569 - val_loss: 0.4532 - val_categorical_accuracy: 0.8939\n",
      "Epoch 10/40\n",
      "3552/3567 [============================>.] - ETA: 0s - loss: 0.0929 - categorical_accuracy: 0.96180.001 1e-05\n",
      "3567/3567 [==============================] - 22s 6ms/step - loss: 0.0928 - categorical_accuracy: 0.9618 - val_loss: 0.4112 - val_categorical_accuracy: 0.9038\n",
      "Epoch 11/40\n",
      "3552/3567 [============================>.] - ETA: 0s - loss: 0.0789 - categorical_accuracy: 0.96710.001 1e-05\n",
      "3567/3567 [==============================] - 22s 6ms/step - loss: 0.0789 - categorical_accuracy: 0.9671 - val_loss: 0.3472 - val_categorical_accuracy: 0.9120\n",
      "Epoch 12/40\n",
      "3552/3567 [============================>.] - ETA: 0s - loss: 0.0676 - categorical_accuracy: 0.9721\n",
      "Epoch 00012: ReduceLROnPlateau reducing learning rate to 0.00010000000474974513.\n",
      "3567/3567 [==============================] - 22s 6ms/step - loss: 0.0676 - categorical_accuracy: 0.9721 - val_loss: 0.4019 - val_categorical_accuracy: 0.9119\n",
      "Epoch 13/40\n",
      "3567/3567 [==============================] - 22s 6ms/step - loss: 0.1206 - categorical_accuracy: 0.9500 - val_loss: 0.3220 - val_categorical_accuracy: 0.9056\n",
      "Epoch 14/40\n",
      "3552/3567 [============================>.] - ETA: 0s - loss: 0.1104 - categorical_accuracy: 0.95380.0001 1e-05\n",
      "3567/3567 [==============================] - 22s 6ms/step - loss: 0.1105 - categorical_accuracy: 0.9537 - val_loss: 0.3479 - val_categorical_accuracy: 0.9030\n",
      "Epoch 15/40\n",
      "3552/3567 [============================>.] - ETA: 0s - loss: 0.1057 - categorical_accuracy: 0.95580.0001 1e-05\n",
      "3567/3567 [==============================] - 22s 6ms/step - loss: 0.1057 - categorical_accuracy: 0.9558 - val_loss: 0.3380 - val_categorical_accuracy: 0.9057\n",
      "Epoch 16/40\n",
      "3552/3567 [============================>.] - ETA: 0s - loss: 0.1012 - categorical_accuracy: 0.95770.0001 1e-05\n",
      "3567/3567 [==============================] - 22s 6ms/step - loss: 0.1011 - categorical_accuracy: 0.9577 - val_loss: 0.3416 - val_categorical_accuracy: 0.9079\n",
      "Epoch 17/40\n",
      "3552/3567 [============================>.] - ETA: 0s - loss: 0.0970 - categorical_accuracy: 0.9596\n",
      "Epoch 00017: ReduceLROnPlateau reducing learning rate to 1.001e-05.\n",
      "3567/3567 [==============================] - 22s 6ms/step - loss: 0.0969 - categorical_accuracy: 0.9596 - val_loss: 0.3538 - val_categorical_accuracy: 0.9071\n",
      "Epoch 18/40\n",
      "3567/3567 [==============================] - 22s 6ms/step - loss: 0.1264 - categorical_accuracy: 0.9481 - val_loss: 0.3313 - val_categorical_accuracy: 0.9039\n",
      "Epoch 19/40\n",
      "3567/3567 [==============================] - 22s 6ms/step - loss: 0.1188 - categorical_accuracy: 0.9508 - val_loss: 0.3228 - val_categorical_accuracy: 0.9051\n",
      "Epoch 20/40\n",
      "3567/3567 [==============================] - 23s 6ms/step - loss: 0.1166 - categorical_accuracy: 0.9515 - val_loss: 0.3148 - val_categorical_accuracy: 0.9063\n",
      "Epoch 21/40\n",
      "3567/3567 [==============================] - 22s 6ms/step - loss: 0.1150 - categorical_accuracy: 0.9521 - val_loss: 0.3124 - val_categorical_accuracy: 0.9063\n",
      "Epoch 22/40\n",
      "3552/3567 [============================>.] - ETA: 0s - loss: 0.1136 - categorical_accuracy: 0.9527 ETA: 7s - loss: 0.1134 - categorical_ac - ETA:  - ETA: 1s - loss: 0.1132 - categorical_ac1.001e-05 1e-05\n",
      "3567/3567 [==============================] - 22s 6ms/step - loss: 0.1137 - categorical_accuracy: 0.9527 - val_loss: 0.3128 - val_categorical_accuracy: 0.9072\n",
      "Epoch 23/40\n",
      "3552/3567 [============================>.] - ETA: 0s - loss: 0.1126 - categorical_accuracy: 0.95311.001e-05 1e-05\n",
      "3567/3567 [==============================] - 22s 6ms/step - loss: 0.1126 - categorical_accuracy: 0.9531 - val_loss: 0.3131 - val_categorical_accuracy: 0.9064\n",
      "Epoch 24/40\n",
      "3567/3567 [==============================] - 23s 6ms/step - loss: 0.1115 - categorical_accuracy: 0.9535 - val_loss: 0.3109 - val_categorical_accuracy: 0.9070\n",
      "Epoch 25/40\n",
      "3552/3567 [============================>.] - ETA: 0s - loss: 0.1105 - categorical_accuracy: 0.95381.001e-05 1e-05\n",
      "3567/3567 [==============================] - 23s 6ms/step - loss: 0.1105 - categorical_accuracy: 0.9538 - val_loss: 0.3173 - val_categorical_accuracy: 0.9060\n",
      "Epoch 26/40\n",
      "3552/3567 [============================>.] - ETA: 0s - loss: 0.1095 - categorical_accuracy: 0.9542 ETA: 2s - loss: 0.1079 - cate1.001e-05 1e-05\n",
      "3567/3567 [==============================] - 23s 6ms/step - loss: 0.1096 - categorical_accuracy: 0.9541 - val_loss: 0.3156 - val_categorical_accuracy: 0.9065\n",
      "Epoch 27/40\n",
      "3552/3567 [============================>.] - ETA: 0s - loss: 0.1085 - categorical_accuracy: 0.95461.001e-05 1e-05\n",
      "3567/3567 [==============================] - 23s 6ms/step - loss: 0.1086 - categorical_accuracy: 0.9546 - val_loss: 0.3262 - val_categorical_accuracy: 0.9057\n",
      "Epoch 28/40\n",
      "3552/3567 [============================>.] - ETA: 0s - loss: 0.1078 - categorical_accuracy: 0.9549 ETA: 2s - loss: 0.1074 - ca1.001e-05 1e-05\n",
      "3567/3567 [==============================] - 23s 6ms/step - loss: 0.1077 - categorical_accuracy: 0.9550 - val_loss: 0.3356 - val_categorical_accuracy: 0.9045\n",
      "Epoch 29/40\n",
      "3552/3567 [============================>.] - ETA: 0s - loss: 0.1069 - categorical_accuracy: 0.95521.001e-05 1e-05\n",
      "3567/3567 [==============================] - 23s 6ms/step - loss: 0.1069 - categorical_accuracy: 0.9552 - val_loss: 0.3240 - val_categorical_accuracy: 0.9061\n"
     ]
    },
    {
     "data": {
      "text/plain": [
       "<keras.callbacks.History at 0x7fc70498ed30>"
      ]
     },
     "execution_count": 37,
     "metadata": {},
     "output_type": "execute_result"
    }
   ],
   "source": [
    "seed = 47\n",
    "np.random.seed(seed)\n",
    "\n",
    "# Build model\n",
    "model = generate_model(num_classes, num_channel, segment_size, core_size)\n",
    "\n",
    "K.set_value(model.optimizer.lr, 1e-3)\n",
    "\n",
    "model.fit(\n",
    "    x_train,\n",
    "    y_train,\n",
    "    epochs=nb_epoch,\n",
    "    validation_split=validation_split,\n",
    "    verbose=1,\n",
    "    callbacks=callbacks)\n",
    "\n",
    "# freeing space\n",
    "#del x_train\n",
    "#del y_train"
   ]
  },
  {
   "cell_type": "markdown",
   "metadata": {},
   "source": [
    "## 1.6 Classification"
   ]
  },
  {
   "cell_type": "code",
   "execution_count": 12,
   "metadata": {},
   "outputs": [],
   "source": [
    "from keras.models import load_model\n",
    "\n",
    "# Load best model\n",
    "model = generate_model(num_classes, num_channel, segment_size, core_size)\n",
    "model.load_weights(model_filename.format(1))"
   ]
  },
  {
   "cell_type": "code",
   "execution_count": 13,
   "metadata": {},
   "outputs": [
    {
     "name": "stdout",
     "output_type": "stream",
     "text": [
      "396/396 [==============================] - 3s 7ms/step\n"
     ]
    },
    {
     "data": {
      "text/plain": [
       "[0.30588613766612427, 0.90123438835144043]"
      ]
     },
     "execution_count": 13,
     "metadata": {},
     "output_type": "execute_result"
    }
   ],
   "source": [
    "idx_start_valid = int(len(x_train)*validation_split)\n",
    "model.evaluate(x_train[-idx_start_valid:], y_train[-idx_start_valid:], verbose=1)"
   ]
  },
  {
   "cell_type": "code",
   "execution_count": 14,
   "metadata": {},
   "outputs": [
    {
     "data": {
      "text/plain": [
       "3300"
      ]
     },
     "execution_count": 14,
     "metadata": {},
     "output_type": "execute_result"
    }
   ],
   "source": [
    "len_patch = extract_patches(read_data(1, 'QSM'), patch_shape=segment_size, extraction_step=(9, 9, 3)).shape[0]\n",
    "len_patch"
   ]
  },
  {
   "cell_type": "code",
   "execution_count": 15,
   "metadata": {},
   "outputs": [
    {
     "name": "stdout",
     "output_type": "stream",
     "text": [
      "1\n",
      "3300/3300 [==============================] - 3s 778us/step\n",
      "2\n",
      "3300/3300 [==============================] - 3s 767us/step\n",
      "3\n",
      "3300/3300 [==============================] - 2s 742us/step\n",
      "4\n",
      "3300/3300 [==============================] - 2s 749us/step\n",
      "5\n",
      "3300/3300 [==============================] - 2s 748us/step\n",
      "6\n",
      "3300/3300 [==============================] - 2s 756us/step\n",
      "7\n",
      "3300/3300 [==============================] - 3s 761us/step\n",
      "8\n",
      "3300/3300 [==============================] - 2s 755us/step\n",
      "9\n",
      "3300/3300 [==============================] - 2s 756us/step\n",
      "10\n",
      "3300/3300 [==============================] - 2s 755us/step\n",
      "11\n",
      "3300/3300 [==============================] - 3s 760us/step\n",
      "12\n",
      "3300/3300 [==============================] - 3s 759us/step\n",
      "13\n",
      "3300/3300 [==============================] - 3s 761us/step\n",
      "14\n",
      "3300/3300 [==============================] - 3s 763us/step\n",
      "15\n",
      "3300/3300 [==============================] - 2s 755us/step\n",
      "16\n",
      "3300/3300 [==============================] - 3s 767us/step\n"
     ]
    }
   ],
   "source": [
    "segmentations_train = []\n",
    "\n",
    "for i_case, case_idx in enumerate(idxs_training):\n",
    "\n",
    "    print(case_idx)\n",
    "    input_train = data_train[i_case, :, :, :, :]\n",
    "\n",
    "    x_test = np.zeros((len_patch, num_channel,) + segment_size, dtype=precision_global)\n",
    "    for i_channel in range(num_channel):\n",
    "        x_test[:, i_channel, :, :, :] = extract_patches(input_train[i_channel], patch_shape=segment_size, extraction_step=(9, 9, 3))\n",
    "\n",
    "    pred = model.predict(x_test, verbose=1)\n",
    "    pred_classes = np.argmax(pred, axis=2)\n",
    "    pred_classes = pred_classes.reshape((len(pred_classes), 9, 9, 3))\n",
    "    segmentation = reconstruct_volume(pred_classes, matrix_size)\n",
    "    \n",
    "    segmentations_train = segmentations_train + [segmentation]\n",
    "    \n",
    "segmentations_train = np.stack(segmentations_train, axis=0)"
   ]
  },
  {
   "cell_type": "code",
   "execution_count": 16,
   "metadata": {},
   "outputs": [
    {
     "data": {
      "text/plain": [
       "10.0"
      ]
     },
     "execution_count": 16,
     "metadata": {},
     "output_type": "execute_result"
    }
   ],
   "source": [
    "segmentations_train.max()"
   ]
  },
  {
   "cell_type": "code",
   "execution_count": 17,
   "metadata": {},
   "outputs": [
    {
     "data": {
      "image/png": "[encoded data removed]",
      "text/plain": [
       "<matplotlib.figure.Figure at 0x7f5985af9e48>"
      ]
     },
     "metadata": {},
     "output_type": "display_data"
    }
   ],
   "source": [
    "plots(np.squeeze(label_train[0:15,:,:,25]), rows=3, scale = (0, 10))"
   ]
  },
  {
   "cell_type": "code",
   "execution_count": 18,
   "metadata": {
    "scrolled": true
   },
   "outputs": [
    {
     "data": {
      "image/png": "[encoded data removed]",
      "text/plain": [
       "<matplotlib.figure.Figure at 0x7f5985ae1c18>"
      ]
     },
     "metadata": {},
     "output_type": "display_data"
    }
   ],
   "source": [
    "plots(np.squeeze(segmentations_train[0:15,:,:,25]), rows=3, scale = (0, 10))"
   ]
  },
  {
   "cell_type": "markdown",
   "metadata": {},
   "source": [
    "## 1.7 Check false-positive"
   ]
  },
  {
   "cell_type": "code",
   "execution_count": 19,
   "metadata": {},
   "outputs": [],
   "source": [
    "idx_fpos = (label_train == 0) & (segmentations_train != 0);"
   ]
  },
  {
   "cell_type": "code",
   "execution_count": 20,
   "metadata": {},
   "outputs": [],
   "source": [
    "mask_fpos = np.zeros(label_train.shape, dtype=precision_global)\n",
    "mask_fpos[idx_fpos == True] = 1"
   ]
  },
  {
   "cell_type": "code",
   "execution_count": 21,
   "metadata": {},
   "outputs": [
    {
     "data": {
      "image/png": "[encoded data removed]",
      "text/plain": [
       "<matplotlib.figure.Figure at 0x7f596f6620b8>"
      ]
     },
     "metadata": {},
     "output_type": "display_data"
    }
   ],
   "source": [
    "plots(200*(np.squeeze(mask_fpos[0:15,:,:,25])), rows=3)"
   ]
  },
  {
   "cell_type": "markdown",
   "metadata": {},
   "source": [
    "# 2 Fine-tuning"
   ]
  },
  {
   "cell_type": "markdown",
   "metadata": {},
   "source": [
    "## 2.2 Rebuild training dataset"
   ]
  },
  {
   "cell_type": "code",
   "execution_count": 22,
   "metadata": {},
   "outputs": [],
   "source": [
    "del x_train, y_train"
   ]
  },
  {
   "cell_type": "code",
   "execution_count": 25,
   "metadata": {},
   "outputs": [
    {
     "name": "stdout",
     "output_type": "stream",
     "text": [
      "0\n",
      "1\n",
      "2\n",
      "3\n",
      "4\n",
      "5\n",
      "6\n",
      "7\n",
      "8\n",
      "9\n",
      "10\n",
      "11\n",
      "12\n",
      "13\n",
      "14\n",
      "15\n"
     ]
    },
    {
     "data": {
      "text/plain": [
       "((19255, 1, 27, 27, 21), (19255, 243, 11))"
      ]
     },
     "execution_count": 25,
     "metadata": {},
     "output_type": "execute_result"
    }
   ],
   "source": [
    "x_train, y_train = build_set(data_train, label_train, extraction_step, segment_size, core_size, mask_fpos)\n",
    "x_train.shape, y_train.shape"
   ]
  },
  {
   "cell_type": "code",
   "execution_count": 24,
   "metadata": {},
   "outputs": [],
   "source": [
    "# shuffle array\n",
    "idxs_shuffle = shuffle(x_train)\n",
    "idxs_shuffle = shuffle(y_train, idxs_shuffle)"
   ]
  },
  {
   "cell_type": "code",
   "execution_count": 50,
   "metadata": {},
   "outputs": [],
   "source": [
    "save_array('tmp/x_train.bc', x_train)\n",
    "save_array('tmp/y_train.bc', y_train)"
   ]
  },
  {
   "cell_type": "code",
   "execution_count": 4,
   "metadata": {},
   "outputs": [],
   "source": [
    "x_train = load_array('tmp/x_train.bc')\n",
    "y_train = load_array('tmp/y_train.bc')"
   ]
  },
  {
   "cell_type": "markdown",
   "metadata": {},
   "source": [
    "## 2.3 Regenerate model"
   ]
  },
  {
   "cell_type": "code",
   "execution_count": 26,
   "metadata": {},
   "outputs": [],
   "source": [
    "from keras.callbacks import ModelCheckpoint\n",
    "from keras.callbacks import CSVLogger\n",
    "from keras.callbacks import EarlyStopping\n",
    "\n",
    "from callback_custom import EarlyStoppingLowLR\n",
    "from callback_custom import ReduceLROnPlateauBestWeight\n",
    "\n",
    "\n",
    "\n",
    "# Model checkpoint to save the training results\n",
    "checkpointer = ModelCheckpoint(\n",
    "    filepath=model_filename.format('2'),\n",
    "    monitor=monitor,\n",
    "    verbose=0,\n",
    "    save_best_only=True,\n",
    "    save_weights_only=True)\n",
    "\n",
    "# CSVLogger to save the training results in a csv file\n",
    "csv_logger = CSVLogger(csv_filename.format(1), separator=';')\n",
    "\n",
    "\n",
    "stopper = EarlyStoppingLowLR(patience=patience, monitor=monitor, thresh_LR=1e-5)\n",
    "\n",
    "learning_rate_reduction = ReduceLROnPlateauBestWeight(filepath=model_filename.format('2'),\n",
    "                                                      monitor=monitor, \n",
    "                                                      patience=patience, \n",
    "                                                      verbose=1, \n",
    "                                                      factor=0.1, \n",
    "                                                      min_lr=1.001e-5)\n",
    "\n",
    "callbacks = [checkpointer, csv_logger, learning_rate_reduction, stopper]"
   ]
  },
  {
   "cell_type": "code",
   "execution_count": 27,
   "metadata": {},
   "outputs": [
    {
     "name": "stdout",
     "output_type": "stream",
     "text": [
      "Train on 17329 samples, validate on 1926 samples\n",
      "Epoch 1/40\n",
      "17329/17329 [==============================] - 103s 6ms/step - loss: 0.0346 - categorical_accuracy: 0.9864 - val_loss: 0.1712 - val_categorical_accuracy: 0.9658\n",
      "Epoch 2/40\n",
      "17329/17329 [==============================] - 104s 6ms/step - loss: 0.0252 - categorical_accuracy: 0.9897 - val_loss: 0.1957 - val_categorical_accuracy: 0.9663\n",
      "Epoch 3/40\n",
      "17312/17329 [============================>.] - ETA: 0s - loss: 0.0219 - categorical_accuracy: 0.99100.0001 1e-05\n",
      "17329/17329 [==============================] - 104s 6ms/step - loss: 0.0219 - categorical_accuracy: 0.9910 - val_loss: 0.2052 - val_categorical_accuracy: 0.9662\n",
      "Epoch 4/40\n",
      "17312/17329 [============================>.] - ETA: 0s - loss: 0.0193 - categorical_accuracy: 0.99200.0001 1e-05\n",
      "17329/17329 [==============================] - 105s 6ms/step - loss: 0.0193 - categorical_accuracy: 0.9920 - val_loss: 0.2458 - val_categorical_accuracy: 0.9658\n",
      "Epoch 5/40\n",
      "17312/17329 [============================>.] - ETA: 0s - loss: 0.0174 - categorical_accuracy: 0.99280.0001 1e-05\n",
      "17329/17329 [==============================] - 105s 6ms/step - loss: 0.0174 - categorical_accuracy: 0.9928 - val_loss: 0.2989 - val_categorical_accuracy: 0.9634\n",
      "Epoch 6/40\n",
      "17312/17329 [============================>.] - ETA: 0s - loss: 0.0154 - categorical_accuracy: 0.99360.0001 1e-05\n",
      "17329/17329 [==============================] - 106s 6ms/step - loss: 0.0154 - categorical_accuracy: 0.9936 - val_loss: 0.2189 - val_categorical_accuracy: 0.9667\n",
      "Epoch 7/40\n",
      "17312/17329 [============================>.] - ETA: 0s - loss: 0.0135 - categorical_accuracy: 0.9944\n",
      "Epoch 00007: ReduceLROnPlateau reducing learning rate to 1.001e-05.\n",
      "17329/17329 [==============================] - 107s 6ms/step - loss: 0.0136 - categorical_accuracy: 0.9944 - val_loss: 0.2973 - val_categorical_accuracy: 0.9654\n",
      "Epoch 8/40\n",
      "17329/17329 [==============================] - 108s 6ms/step - loss: 0.0248 - categorical_accuracy: 0.9899 - val_loss: 0.1546 - val_categorical_accuracy: 0.9673\n",
      "Epoch 9/40\n",
      "17312/17329 [============================>.] - ETA: 0s - loss: 0.0238 - categorical_accuracy: 0.99031.001e-05 1e-05\n",
      "17329/17329 [==============================] - 108s 6ms/step - loss: 0.0238 - categorical_accuracy: 0.9903 - val_loss: 0.1695 - val_categorical_accuracy: 0.9667\n",
      "Epoch 10/40\n",
      "17312/17329 [============================>.] - ETA: 0s - loss: 0.0232 - categorical_accuracy: 0.99051.001e-05 1e-05\n",
      "17329/17329 [==============================] - 108s 6ms/step - loss: 0.0232 - categorical_accuracy: 0.9905 - val_loss: 0.1797 - val_categorical_accuracy: 0.9662\n",
      "Epoch 11/40\n",
      "17312/17329 [============================>.] - ETA: 0s - loss: 0.0225 - categorical_accuracy: 0.99081.001e-05 1e-05\n",
      "17329/17329 [==============================] - 108s 6ms/step - loss: 0.0225 - categorical_accuracy: 0.9908 - val_loss: 0.1970 - val_categorical_accuracy: 0.9657\n",
      "Epoch 12/40\n",
      "17312/17329 [============================>.] - ETA: 0s - loss: 0.0220 - categorical_accuracy: 0.9910   ETA - ETA - ETA: 59s - loss: 0.0220 - categorical_accuracy: 0.91.001e-05 1e-05\n",
      "17329/17329 [==============================] - 109s 6ms/step - loss: 0.0220 - categorical_accuracy: 0.9910 - val_loss: 0.1971 - val_categorical_accuracy: 0.9657\n",
      "Epoch 13/40\n",
      "17312/17329 [============================>.] - ETA: 0s - loss: 0.0214 - categorical_accuracy: 0.99131.001e-05 1e-05\n",
      "17329/17329 [==============================] - 109s 6ms/step - loss: 0.0214 - categorical_accuracy: 0.9913 - val_loss: 0.1875 - val_categorical_accuracy: 0.9669\n"
     ]
    },
    {
     "data": {
      "text/plain": [
       "<keras.callbacks.History at 0x7f597d25e860>"
      ]
     },
     "execution_count": 27,
     "metadata": {},
     "output_type": "execute_result"
    }
   ],
   "source": [
    "# Build model\n",
    "model = generate_model(num_classes, num_channel, segment_size, core_size)\n",
    "\n",
    "# Load optimized weights\n",
    "model.load_weights(model_filename.format('1'))\n",
    "\n",
    "K.set_value(model.optimizer.lr, 1e-4)\n",
    "\n",
    "# Start fine-tuning\n",
    "model.fit(\n",
    "    x_train,\n",
    "    y_train,\n",
    "    epochs=nb_epoch,\n",
    "    validation_split=validation_split,\n",
    "    verbose=1,\n",
    "    callbacks=callbacks)\n",
    "\n",
    "# freeing space\n",
    "#del x_train\n",
    "#del y_train"
   ]
  },
  {
   "cell_type": "code",
   "execution_count": 28,
   "metadata": {},
   "outputs": [],
   "source": [
    "# Load best model\n",
    "model = generate_model(num_classes, num_channel, segment_size, core_size)\n",
    "model.load_weights(model_filename.format('2'))"
   ]
  },
  {
   "cell_type": "code",
   "execution_count": 29,
   "metadata": {},
   "outputs": [
    {
     "name": "stdout",
     "output_type": "stream",
     "text": [
      "1925/1925 [==============================] - 2s 839us/step\n"
     ]
    },
    {
     "data": {
      "text/plain": [
       "[0.15466259370051483, 0.96726183293701762]"
      ]
     },
     "execution_count": 29,
     "metadata": {},
     "output_type": "execute_result"
    }
   ],
   "source": [
    "idx_start_valid = int(len(x_train)*validation_split)\n",
    "model.evaluate(x_train[-idx_start_valid:], y_train[-idx_start_valid:], verbose=1)"
   ]
  },
  {
   "cell_type": "code",
   "execution_count": 30,
   "metadata": {},
   "outputs": [
    {
     "name": "stdout",
     "output_type": "stream",
     "text": [
      "17\n",
      "3300/3300 [==============================] - 2s 753us/step\n",
      "18\n",
      "3300/3300 [==============================] - 2s 734us/step\n",
      "19\n",
      "3300/3300 [==============================] - 2s 736us/step\n",
      "20\n",
      "3300/3300 [==============================] - 2s 741us/step\n"
     ]
    }
   ],
   "source": [
    "segmentations_test = []\n",
    "\n",
    "for i_case, case_idx in enumerate(idxs_test):\n",
    "\n",
    "    print(case_idx)\n",
    "    input_test = data_test[i_case, :, :, :, :]\n",
    "\n",
    "    x_test = np.zeros((len_patch, num_channel,) + segment_size, dtype=precision_global)\n",
    "    for i_channel in range(num_channel):\n",
    "        x_test[:, i_channel, :, :, :] = extract_patches(input_test[i_channel], patch_shape=segment_size, extraction_step=(9, 9, 3))\n",
    "\n",
    "    pred = model.predict(x_test, verbose=1)\n",
    "    pred_classes = np.argmax(pred, axis=2)\n",
    "    pred_classes = pred_classes.reshape((len(pred_classes), 9, 9, 3))\n",
    "    segmentation = reconstruct_volume(pred_classes, matrix_size)\n",
    "    #segmentation = reconstruct_volume_majority(pred_classes, matrix_size, extraction_step=(3, 3, 3))\n",
    "    \n",
    "    segmentations_test = segmentations_test + [segmentation]\n",
    "    \n",
    "segmentations_test = np.stack(segmentations_test, axis=0)"
   ]
  },
  {
   "cell_type": "code",
   "execution_count": 31,
   "metadata": {},
   "outputs": [
    {
     "data": {
      "text/plain": [
       "10.0"
      ]
     },
     "execution_count": 31,
     "metadata": {},
     "output_type": "execute_result"
    }
   ],
   "source": [
    "segmentations_test.max()"
   ]
  },
  {
   "cell_type": "code",
   "execution_count": 32,
   "metadata": {},
   "outputs": [
    {
     "data": {
      "image/png": "[encoded data removed]",
      "text/plain": [
       "<matplotlib.figure.Figure at 0x7f5992118eb8>"
      ]
     },
     "metadata": {},
     "output_type": "display_data"
    }
   ],
   "source": [
    "plots(np.squeeze(label_test[:,:,:,23]), rows=1, scale = (0, 10))"
   ]
  },
  {
   "cell_type": "code",
   "execution_count": 33,
   "metadata": {},
   "outputs": [
    {
     "data": {
      "image/png": "[encoded data removed]",
      "text/plain": [
       "<matplotlib.figure.Figure at 0x7f599213ef28>"
      ]
     },
     "metadata": {},
     "output_type": "display_data"
    }
   ],
   "source": [
    "plots(np.squeeze(segmentations_test[:,:,:,23]), rows=1, scale = (0, 10))"
   ]
  },
  {
   "cell_type": "markdown",
   "metadata": {},
   "source": [
    "# 3 Post-processing"
   ]
  },
  {
   "cell_type": "markdown",
   "metadata": {},
   "source": [
    "## 3.1 Pick the largest connected component for each class"
   ]
  },
  {
   "cell_type": "code",
   "execution_count": 34,
   "metadata": {},
   "outputs": [],
   "source": [
    "for i_case, case_idx in enumerate(idxs_test):\n",
    "    segmentation = np.squeeze(segmentations_test[i_case,:,:,:]);\n",
    "    tmp = np.zeros(segmentation.shape, dtype=segmentation.dtype)\n",
    "    \n",
    "    for class_idx in class_mapper_inv :\n",
    "        mask = (segmentation == class_idx)\n",
    "        \n",
    "        if class_idx != 0 and mask.sum() > 0:\n",
    "            labeled_mask, num_cc = ndimage.label(mask)\n",
    "            largest_cc_mask = (labeled_mask == (np.bincount(labeled_mask.flat)[1:].argmax() + 1))\n",
    "            \n",
    "            tmp[largest_cc_mask == 1] = class_idx\n",
    "        \n",
    "    segmentations_test[i_case,:,:,:] = tmp"
   ]
  },
  {
   "cell_type": "markdown",
   "metadata": {},
   "source": [
    "## 3.2 Save it "
   ]
  },
  {
   "cell_type": "code",
   "execution_count": 35,
   "metadata": {},
   "outputs": [
    {
     "name": "stdout",
     "output_type": "stream",
     "text": [
      "17\n",
      "18\n",
      "19\n",
      "20\n",
      "Done with Step 3\n"
     ]
    }
   ],
   "source": [
    "for i_case, case_idx in enumerate(idxs_test):\n",
    "    print(case_idx)\n",
    "    \n",
    "    segmentation = np.copy(np.squeeze(segmentations_test[i_case,:,:,:]))\n",
    "    \n",
    "    tmp = np.copy(segmentation)\n",
    "    for class_idx in class_mapper_inv:\n",
    "        segmentation[tmp == class_idx] = class_mapper_inv[class_idx]\n",
    "    del tmp\n",
    "\n",
    "    save_data(segmentation, case_idx, 'label')    \n",
    "\n",
    "print(\"Done with Step 3\")"
   ]
  },
  {
   "cell_type": "markdown",
   "metadata": {},
   "source": [
    "## 3.3 Calculate metric "
   ]
  },
  {
   "cell_type": "code",
   "execution_count": 36,
   "metadata": {},
   "outputs": [],
   "source": [
    "def calc_dice(m1, m2):\n",
    "    return 2*((m1==1) & (m2==1)).sum()/((m1==1).sum() + (m2==1).sum())"
   ]
  },
  {
   "cell_type": "code",
   "execution_count": 37,
   "metadata": {},
   "outputs": [
    {
     "name": "stdout",
     "output_type": "stream",
     "text": [
      "17\t0.9992\tN/A\t0.9231\t0.8514\t0.7846\t0.6980\t0.7263\t0.9431\t0.8711\t0.8754\t0.9589\t0.7337\t\n",
      "18\t0.9989\tN/A\t0.0000\t0.8333\t0.8986\t0.8644\t0.7743\t0.7606\t0.8802\t0.7556\t0.8200\t0.8149\t\n",
      "19\t0.9991\tN/A\t0.9200\t0.9375\t0.9503\t0.8862\t0.9586\t0.9850\t0.8686\t0.8241\t0.6980\t0.7333\t\n",
      "20\t0.9988\tN/A\t0.8169\t0.8485\t0.7870\t0.9156\t0.9389\t0.9510\t0.6667\t0.6760\t0.7367\t0.7293\t\n"
     ]
    }
   ],
   "source": [
    "for i_case, case_idx in enumerate(idxs_test):\n",
    "    print(case_idx, end='\\t')\n",
    "    print('{:.4f}'.format(accuracy_score(label_test[i_case,:,:,:].flat, segmentations_test[i_case,:,:,:].flat)), end='\\t')\n",
    "    for class_idx in class_mapper_inv:\n",
    "        mask = (np.squeeze(segmentations_test[i_case,:,:,:]) == class_idx)\n",
    "        if class_idx != 0 and mask.sum() > 0:\n",
    "            print('{:.4f}'.format(precision_score(label_test[i_case,:,:,:][mask], segmentations_test[i_case,:,:,:][mask], average='micro')), end='\\t')\n",
    "        else:\n",
    "            print('N/A', end='\\t')\n",
    "    print()"
   ]
  },
  {
   "cell_type": "code",
   "execution_count": 38,
   "metadata": {},
   "outputs": [
    {
     "name": "stdout",
     "output_type": "stream",
     "text": [
      "17\t0\t0.9081\t0.7730\t0.8547\t0.8034\t0.8218\t0.9031\t0.8789\t0.8897\t0.8544\t0.8026\t\n",
      "18\t0\t0.0000\t0.1613\t0.6327\t0.8547\t0.8344\t0.8155\t0.7132\t0.6012\t0.3388\t0.7884\t\n",
      "19\t0\t0.6053\t0.6316\t0.8384\t0.7475\t0.8774\t0.8698\t0.8330\t0.8349\t0.6721\t0.1719\t\n",
      "20\t0\t0.8722\t0.7724\t0.7752\t0.8527\t0.7696\t0.7791\t0.6337\t0.6725\t0.6824\t0.7413\t\n"
     ]
    }
   ],
   "source": [
    "for i_case, case_idx in enumerate(idxs_test):\n",
    "    print(case_idx, end='\\t')\n",
    "    for class_idx in class_mapper_inv:\n",
    "        mask = (np.squeeze(segmentations_test[i_case,:,:,:]) == class_idx)\n",
    "        if class_idx != 0 and mask.sum() > 0:\n",
    "            print('{:.4f}'.format(calc_dice((label_test[i_case,:,:,:]==class_idx).flat, (segmentations_test[i_case,:,:,:]==class_idx).flat)), end='\\t')\n",
    "        else:\n",
    "            print(0, end='\\t')\n",
    "    print()"
   ]
  },
  {
   "cell_type": "code",
   "execution_count": null,
   "metadata": {},
   "outputs": [],
   "source": []
  },
  {
   "cell_type": "code",
   "execution_count": null,
   "metadata": {},
   "outputs": [],
   "source": []
  }
 ],
 "metadata": {
  "kernelspec": {
   "display_name": "Python 3",
   "language": "python",
   "name": "python3"
  },
  "language_info": {
   "codemirror_mode": {
    "name": "ipython",
    "version": 3
   },
   "file_extension": ".py",
   "mimetype": "text/x-python",
   "name": "python",
   "nbconvert_exporter": "python",
   "pygments_lexer": "ipython3",
   "version": "3.5.2"
  }
 },
 "nbformat": 4,
 "nbformat_minor": 2
}
