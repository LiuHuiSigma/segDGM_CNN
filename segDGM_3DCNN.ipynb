{
 "cells": [
  {
   "cell_type": "code",
   "execution_count": 1,
   "metadata": {},
   "outputs": [
    {
     "name": "stderr",
     "output_type": "stream",
     "text": [
      "Using TensorFlow backend.\n"
     ]
    }
   ],
   "source": [
    "%matplotlib inline\n",
    "import nibabel as nib\n",
    "import numpy as np\n",
    "from scipy import ndimage\n",
    "from keras import backend as K\n",
    "from sklearn.metrics import accuracy_score, precision_score\n",
    "\n",
    "from utils import *\n",
    "from model_FCNN import generate_model\n"
   ]
  },
  {
   "cell_type": "code",
   "execution_count": 2,
   "metadata": {},
   "outputs": [],
   "source": [
    "from importlib import reload\n",
    "\n",
    "import keras\n",
    "reload(keras)\n",
    "from keras import backend as K\n",
    "\n",
    "import utils\n",
    "reload(utils)\n",
    "from utils import *\n",
    "\n",
    "import model_FCNN\n",
    "reload(model_FCNN)\n",
    "from model_FCNN import generate_model\n",
    "\n",
    "import callback_custom\n",
    "reload(callback_custom);"
   ]
  },
  {
   "cell_type": "markdown",
   "metadata": {},
   "source": [
    "# Problem configuration"
   ]
  },
  {
   "cell_type": "code",
   "execution_count": 4,
   "metadata": {},
   "outputs": [],
   "source": [
    "num_classes = 11\n",
    "num_channel = 2\n",
    "\n",
    "# K-fold validation (K=5)\n",
    "n_training = 16\n",
    "n_test = 4\n",
    "\n",
    "#idxs_training = list(range(1, 1+16))\n",
    "#idxs_test = list(range(17, 17+4))\n",
    "idxs_training = list(range(1, 1+4)) + list(range(9, 9+12))\n",
    "idxs_test = list(range(5,5+4))\n",
    "\n",
    "patience = 5\n",
    "model_filename = 'models/outrun_step_{}.h5'\n",
    "csv_filename = 'log/outrun_step_{}.cvs'\n",
    "\n",
    "nb_epoch = 40\n",
    "validation_split = 0.10\n",
    "monitor = 'val_loss'#'val_categorical_accuracy'\n",
    "\n",
    "class_mapper = {0:0}\n",
    "class_mapper.update({ i+1:i for i in range(1, 1+10) })\n",
    "class_mapper_inv = {0:0}\n",
    "class_mapper_inv.update({ i:i+1 for i in range(1, 1+10) })\n",
    "\n",
    "matrix_size = (160, 220, 48)\n",
    "\n",
    "extraction_step = (3, 3, 1)\n",
    "#extraction_step = (5, 5, 3)\n",
    "\n",
    "segment_size = (27, 27, 21)\n",
    "core_size = (9, 9, 3)"
   ]
  },
  {
   "cell_type": "markdown",
   "metadata": {},
   "source": [
    "# Architecture"
   ]
  },
  {
   "cell_type": "markdown",
   "metadata": {},
   "source": [
    "# 1. Initial segmentation"
   ]
  },
  {
   "cell_type": "markdown",
   "metadata": {},
   "source": [
    "## 1.1 Read data"
   ]
  },
  {
   "cell_type": "code",
   "execution_count": 5,
   "metadata": {},
   "outputs": [],
   "source": [
    "QSM_train = np.empty(((n_training,) + matrix_size), dtype=precision_global)\n",
    "MAG_train = np.empty(((n_training,) + matrix_size), dtype=precision_global)\n",
    "R2S_train = np.empty(((n_training,) + matrix_size), dtype=precision_global)\n",
    "label_train = np.empty(((n_training,) + matrix_size), dtype=precision_global)\n",
    "for i, case_idx in enumerate(idxs_training):\n",
    "    QSM_train[i, :, :, :] = read_data(case_idx, 'QSM')\n",
    "    MAG_train[i, :, :, :] = read_data(case_idx, 'MAG')\n",
    "    R2S_train[i, :, :, :] = read_data(case_idx, 'R2S')\n",
    "    label_train[i, :, :, :] = read_data(case_idx, 'label')"
   ]
  },
  {
   "cell_type": "code",
   "execution_count": 6,
   "metadata": {},
   "outputs": [],
   "source": [
    "#data_train = np.stack((QSM_train, MAG_train, R2S_train), axis = 1)\n",
    "data_train = np.stack((QSM_train, R2S_train), axis = 1)\n",
    "#data_train = np.stack((QSM_train,), axis = 1)"
   ]
  },
  {
   "cell_type": "code",
   "execution_count": 7,
   "metadata": {},
   "outputs": [],
   "source": [
    "QSM_test = np.empty(((n_test,) + matrix_size), dtype=precision_global)\n",
    "MAG_test = np.empty(((n_test,) + matrix_size), dtype=precision_global)\n",
    "R2S_test = np.empty(((n_test,) + matrix_size), dtype=precision_global)\n",
    "label_test = np.empty(((n_test,) + matrix_size), dtype=precision_global)\n",
    "for i, case_idx in enumerate(idxs_test):\n",
    "    QSM_test[i, :, :, :] = read_data(case_idx, 'QSM')\n",
    "    MAG_test[i, :, :, :] = read_data(case_idx, 'MAG')\n",
    "    R2S_test[i, :, :, :] = read_data(case_idx, 'R2S')\n",
    "    label_test[i, :, :, :] = read_data(case_idx, 'label')"
   ]
  },
  {
   "cell_type": "code",
   "execution_count": 8,
   "metadata": {},
   "outputs": [],
   "source": [
    "#data_test = np.stack((QSM_test, MAG_test, R2S_test), axis = 1)\n",
    "data_test = np.stack((QSM_test, R2S_test), axis = 1)\n",
    "#data_test = np.stack((QSM_test,), axis = 1)"
   ]
  },
  {
   "cell_type": "markdown",
   "metadata": {},
   "source": [
    "## 1.2 Pre-processing"
   ]
  },
  {
   "cell_type": "code",
   "execution_count": 9,
   "metadata": {},
   "outputs": [],
   "source": [
    "## Intensity normalisation (zero mean and unit variance)\n",
    "input_mean = 127.0\n",
    "input_std = 128.0\n",
    "data_train = (data_train - input_mean) / input_std\n",
    "data_test = (data_test - input_mean) / input_std\n",
    "\n",
    "# Map class label\n",
    "tmp = np.copy(label_train)\n",
    "for class_idx in class_mapper:\n",
    "    label_train[tmp == class_idx] = class_mapper[class_idx]\n",
    "tmp = np.copy(label_test)\n",
    "for class_idx in class_mapper:\n",
    "    label_test[tmp == class_idx] = class_mapper[class_idx]\n",
    "del tmp"
   ]
  },
  {
   "cell_type": "code",
   "execution_count": 10,
   "metadata": {},
   "outputs": [
    {
     "data": {
      "text/plain": [
       "10.0"
      ]
     },
     "execution_count": 10,
     "metadata": {},
     "output_type": "execute_result"
    }
   ],
   "source": [
    "label_train.max()"
   ]
  },
  {
   "cell_type": "code",
   "execution_count": 11,
   "metadata": {},
   "outputs": [
    {
     "data": {
      "image/png": "[encoded data removed]",
      "text/plain": [
       "<matplotlib.figure.Figure at 0x7fab01f2ee48>"
      ]
     },
     "metadata": {},
     "output_type": "display_data"
    }
   ],
   "source": [
    "plots(np.squeeze(label_train[0,:,:,[29,25]]), scale = (0, 10))"
   ]
  },
  {
   "cell_type": "markdown",
   "metadata": {},
   "source": [
    "## 1.3 Data preparation"
   ]
  },
  {
   "cell_type": "code",
   "execution_count": 12,
   "metadata": {},
   "outputs": [
    {
     "name": "stdout",
     "output_type": "stream",
     "text": [
      "0\n",
      "1\n",
      "2\n",
      "3\n",
      "4\n",
      "5\n",
      "6\n",
      "7\n",
      "8\n",
      "9\n",
      "10\n",
      "11\n",
      "12\n",
      "13\n",
      "14\n",
      "15\n"
     ]
    },
    {
     "data": {
      "text/plain": [
       "((33401, 2, 27, 27, 21), (33401, 243, 11))"
      ]
     },
     "execution_count": 12,
     "metadata": {},
     "output_type": "execute_result"
    }
   ],
   "source": [
    "x_train, y_train = build_set(data_train, label_train, extraction_step, segment_size, core_size)\n",
    "x_train.shape, y_train.shape"
   ]
  },
  {
   "cell_type": "code",
   "execution_count": 15,
   "metadata": {},
   "outputs": [],
   "source": [
    "# shuffle array\n",
    "idxs_shuffle = shuffle(x_train)\n",
    "idxs_shuffle = shuffle(y_train, idxs_shuffle)"
   ]
  },
  {
   "cell_type": "markdown",
   "metadata": {},
   "source": [
    "## 1.4 Configure callbacks"
   ]
  },
  {
   "cell_type": "code",
   "execution_count": 16,
   "metadata": {},
   "outputs": [],
   "source": [
    "from keras.callbacks import ModelCheckpoint\n",
    "from keras.callbacks import CSVLogger\n",
    "from keras.callbacks import EarlyStopping\n",
    "\n",
    "from callback_custom import EarlyStoppingLowLR\n",
    "from callback_custom import ReduceLROnPlateauBestWeight\n",
    "\n",
    "\n",
    "\n",
    "# Model checkpoint to save the training results\n",
    "checkpointer = ModelCheckpoint(\n",
    "    filepath=model_filename.format('1'),\n",
    "    monitor=monitor,\n",
    "    verbose=0,\n",
    "    save_best_only=True,\n",
    "    save_weights_only=True)\n",
    "\n",
    "# CSVLogger to save the training results in a csv file\n",
    "csv_logger = CSVLogger(csv_filename.format(1), separator=';')\n",
    "\n",
    "\n",
    "stopper = EarlyStoppingLowLR(patience=patience, monitor=monitor, thresh_LR=1e-5)\n",
    "\n",
    "learning_rate_reduction = ReduceLROnPlateauBestWeight(filepath=model_filename.format('1'),\n",
    "                                                      monitor=monitor, \n",
    "                                                      patience=patience, \n",
    "                                                      verbose=1, \n",
    "                                                      factor=0.1, \n",
    "                                                      min_lr=1.001e-5)\n",
    "\n",
    "callbacks = [checkpointer, csv_logger, learning_rate_reduction, stopper]"
   ]
  },
  {
   "cell_type": "markdown",
   "metadata": {},
   "source": [
    "## 1.5 Training"
   ]
  },
  {
   "cell_type": "code",
   "execution_count": 17,
   "metadata": {
    "scrolled": false
   },
   "outputs": [
    {
     "name": "stdout",
     "output_type": "stream",
     "text": [
      "Train on 30060 samples, validate on 3341 samples\n",
      "Epoch 1/40\n",
      "30060/30060 [==============================] - 186s 6ms/step - loss: 0.3684 - categorical_accuracy: 0.8824 - val_loss: 0.2664 - val_categorical_accuracy: 0.9226\n",
      "Epoch 2/40\n",
      "30060/30060 [==============================] - 185s 6ms/step - loss: 0.0845 - categorical_accuracy: 0.9653 - val_loss: 0.3606 - val_categorical_accuracy: 0.9209\n",
      "Epoch 3/40\n",
      "30048/30060 [============================>.] - ETA: 0s - loss: 0.0455 - categorical_accuracy: 0.98170.001 1e-05\n",
      "30060/30060 [==============================] - 186s 6ms/step - loss: 0.0455 - categorical_accuracy: 0.9817 - val_loss: 0.4383 - val_categorical_accuracy: 0.9236\n",
      "Epoch 4/40\n",
      "30048/30060 [============================>.] - ETA: 0s - loss: 0.0382 - categorical_accuracy: 0.98580.001 1e-05\n",
      "30060/30060 [==============================] - 186s 6ms/step - loss: 0.0382 - categorical_accuracy: 0.9858 - val_loss: 0.4179 - val_categorical_accuracy: 0.9252\n",
      "Epoch 5/40\n",
      "30048/30060 [============================>.] - ETA: 0s - loss: 0.0140 - categorical_accuracy: 0.99480.001 1e-05\n",
      "30060/30060 [==============================] - 187s 6ms/step - loss: 0.0140 - categorical_accuracy: 0.9948 - val_loss: 0.5816 - val_categorical_accuracy: 0.9267\n",
      "Epoch 6/40\n",
      "30048/30060 [============================>.] - ETA: 0s - loss: 0.0113 - categorical_accuracy: 0.99610.001 1e-05\n",
      "30060/30060 [==============================] - 188s 6ms/step - loss: 0.0113 - categorical_accuracy: 0.9961 - val_loss: 0.4695 - val_categorical_accuracy: 0.9213\n",
      "Epoch 7/40\n",
      "30048/30060 [============================>.] - ETA: 0s - loss: 0.0091 - categorical_accuracy: 0.9969\n",
      "Epoch 00007: ReduceLROnPlateau reducing learning rate to 0.00010000000474974513.\n",
      "30060/30060 [==============================] - 189s 6ms/step - loss: 0.0091 - categorical_accuracy: 0.9969 - val_loss: 0.6002 - val_categorical_accuracy: 0.9277\n",
      "Epoch 8/40\n",
      "30060/30060 [==============================] - 190s 6ms/step - loss: 0.0780 - categorical_accuracy: 0.9675 - val_loss: 0.3792 - val_categorical_accuracy: 0.9212TA: 3s - loss: 0.0\n",
      "Epoch 9/40\n",
      "30048/30060 [============================>.] - ETA: 0s - loss: 0.0495 - categorical_accuracy: 0.97970.0001 1e-05\n",
      "30060/30060 [==============================] - 190s 6ms/step - loss: 0.0495 - categorical_accuracy: 0.9797 - val_loss: 0.5394 - val_categorical_accuracy: 0.9141\n",
      "Epoch 10/40\n",
      "30048/30060 [============================>.] - ETA: 0s - loss: 0.0302 - categorical_accuracy: 0.9881   ETA: 1:02 - loss: 0. - ETA: 59s - loss: 0.0324 - - ETA: 53s - loss: 0.0320.0001 1e-05\n",
      "30060/30060 [==============================] - 190s 6ms/step - loss: 0.0302 - categorical_accuracy: 0.9881 - val_loss: 0.6072 - val_categorical_accuracy: 0.9181\n",
      "Epoch 11/40\n",
      "30048/30060 [============================>.] - ETA: 0s - loss: 0.0176 - categorical_accuracy: 0.99340.0001 1e-05\n",
      "30060/30060 [==============================] - 190s 6ms/step - loss: 0.0176 - categorical_accuracy: 0.9934 - val_loss: 0.7235 - val_categorical_accuracy: 0.9164\n",
      "Epoch 12/40\n",
      "30048/30060 [============================>.] - ETA: 0s - loss: 0.0109 - categorical_accuracy: 0.9961 ETA: 4s -\n",
      "Epoch 00012: ReduceLROnPlateau reducing learning rate to 1.001e-05.\n",
      "30060/30060 [==============================] - 190s 6ms/step - loss: 0.0109 - categorical_accuracy: 0.9961 - val_loss: 0.8256 - val_categorical_accuracy: 0.9150\n",
      "Epoch 13/40\n",
      "30060/30060 [==============================] - 190s 6ms/step - loss: 0.0954 - categorical_accuracy: 0.9604 - val_loss: 0.2677 - val_categorical_accuracy: 0.9262\n",
      "Epoch 14/40\n",
      "30048/30060 [============================>.] - ETA: 0s - loss: 0.0879 - categorical_accuracy: 0.9633 - ETA: 29s - loss: 0.0882 - c1.001e-05 1e-05\n",
      "30060/30060 [==============================] - 190s 6ms/step - loss: 0.0879 - categorical_accuracy: 0.9633 - val_loss: 0.2842 - val_categorical_accuracy: 0.9238\n",
      "Epoch 15/40\n",
      "30048/30060 [============================>.] - ETA: 0s - loss: 0.0831 - categorical_accuracy: 0.96531.001e-05 1e-05\n",
      "30060/30060 [==============================] - 190s 6ms/step - loss: 0.0831 - categorical_accuracy: 0.9653 - val_loss: 0.3096 - val_categorical_accuracy: 0.9226\n",
      "Epoch 16/40\n",
      "30048/30060 [============================>.] - ETA: 0s - loss: 0.0787 - categorical_accuracy: 0.9671 - ETA: 37s - loss: 0 - ETA: 30s - loss: 0.0791 -1.001e-05 1e-05\n",
      "30060/30060 [==============================] - 190s 6ms/step - loss: 0.0787 - categorical_accuracy: 0.9671 - val_loss: 0.3227 - val_categorical_accuracy: 0.9228\n",
      "Epoch 17/40\n",
      "30048/30060 [============================>.] - ETA: 0s - loss: 0.0745 - categorical_accuracy: 0.9689 - ETA: 33s1.001e-05 1e-05\n",
      "30060/30060 [==============================] - 190s 6ms/step - loss: 0.0745 - categorical_accuracy: 0.9689 - val_loss: 0.3420 - val_categorical_accuracy: 0.9227\n",
      "Epoch 18/40\n",
      "30048/30060 [============================>.] - ETA: 0s - loss: 0.0703 - categorical_accuracy: 0.9708  - ETA: 3 - ETA: 28s - loss: 0.0709  - ETA: 11s - loss: 0.0706 - categorical_accur - E - ETA: 4s -1.001e-05 1e-05\n",
      "30060/30060 [==============================] - 190s 6ms/step - loss: 0.0703 - categorical_accuracy: 0.9708 - val_loss: 0.3620 - val_categorical_accuracy: 0.9216\n"
     ]
    },
    {
     "data": {
      "text/plain": [
       "<keras.callbacks.History at 0x7faadb6d8b00>"
      ]
     },
     "execution_count": 17,
     "metadata": {},
     "output_type": "execute_result"
    }
   ],
   "source": [
    "seed = 47\n",
    "np.random.seed(seed)\n",
    "\n",
    "# Build model\n",
    "model = generate_model(num_classes, num_channel, segment_size, core_size)\n",
    "\n",
    "K.set_value(model.optimizer.lr, 1e-3)\n",
    "\n",
    "model.fit(\n",
    "    x_train,\n",
    "    y_train,\n",
    "    epochs=nb_epoch,\n",
    "    validation_split=validation_split,\n",
    "    verbose=1,\n",
    "    callbacks=callbacks)\n",
    "\n",
    "# freeing space\n",
    "#del x_train\n",
    "#del y_train"
   ]
  },
  {
   "cell_type": "markdown",
   "metadata": {},
   "source": [
    "## 1.6 Classification"
   ]
  },
  {
   "cell_type": "code",
   "execution_count": 20,
   "metadata": {},
   "outputs": [],
   "source": [
    "from keras.models import load_model\n",
    "\n",
    "# Load best model\n",
    "model = generate_model(num_classes, num_channel, segment_size, core_size)\n",
    "model.load_weights(model_filename.format(1))"
   ]
  },
  {
   "cell_type": "code",
   "execution_count": 21,
   "metadata": {},
   "outputs": [
    {
     "name": "stdout",
     "output_type": "stream",
     "text": [
      "3340/3340 [==============================] - 3s 797us/step\n"
     ]
    },
    {
     "data": {
      "text/plain": [
       "[0.26649031562362602, 0.92253991401124147]"
      ]
     },
     "execution_count": 21,
     "metadata": {},
     "output_type": "execute_result"
    }
   ],
   "source": [
    "idx_start_valid = int(len(x_train)*validation_split)\n",
    "model.evaluate(x_train[-idx_start_valid:], y_train[-idx_start_valid:], verbose=1)"
   ]
  },
  {
   "cell_type": "code",
   "execution_count": 22,
   "metadata": {},
   "outputs": [
    {
     "data": {
      "text/plain": [
       "3300"
      ]
     },
     "execution_count": 22,
     "metadata": {},
     "output_type": "execute_result"
    }
   ],
   "source": [
    "len_patch = extract_patches(read_data(1, 'QSM'), patch_shape=segment_size, extraction_step=(9, 9, 3)).shape[0]\n",
    "len_patch"
   ]
  },
  {
   "cell_type": "code",
   "execution_count": 23,
   "metadata": {
    "scrolled": false
   },
   "outputs": [
    {
     "name": "stdout",
     "output_type": "stream",
     "text": [
      "1\n",
      "3300/3300 [==============================] - ETA:  - 3s 815us/step\n",
      "2\n",
      "3300/3300 [==============================] - 3s 766us/step\n",
      "3\n",
      "3300/3300 [==============================] - 3s 772us/step\n",
      "4\n",
      "3300/3300 [==============================] - 3s 768us/step\n",
      "9\n",
      "3300/3300 [==============================] - 3s 771us/step\n",
      "10\n",
      "3300/3300 [==============================] - 3s 774us/step\n",
      "11\n",
      "3300/3300 [==============================] - 3s 776us/step\n",
      "12\n",
      "3300/3300 [==============================] - 3s 780us/step\n",
      "13\n",
      "3300/3300 [==============================] - 3s 774us/step\n",
      "14\n",
      "3300/3300 [==============================] - 3s 789us/step\n",
      "15\n",
      "3300/3300 [==============================] - 3s 782us/step\n",
      "16\n",
      "3300/3300 [==============================] - 3s 789us/step\n",
      "17\n",
      "3300/3300 [==============================] - 3s 786us/step\n",
      "18\n",
      "3300/3300 [==============================] - 3s 785us/step\n",
      "19\n",
      "3300/3300 [==============================] - 3s 787us/step\n",
      "20\n",
      "3300/3300 [==============================] - 3s 794us/step\n"
     ]
    }
   ],
   "source": [
    "segmentations_train = []\n",
    "\n",
    "for i_case, case_idx in enumerate(idxs_training):\n",
    "\n",
    "    print(case_idx)\n",
    "    input_train = data_train[i_case, :, :, :, :]\n",
    "\n",
    "    x_test = np.zeros((len_patch, num_channel,) + segment_size, dtype=precision_global)\n",
    "    for i_channel in range(num_channel):\n",
    "        x_test[:, i_channel, :, :, :] = extract_patches(input_train[i_channel], patch_shape=segment_size, extraction_step=(9, 9, 3))\n",
    "\n",
    "    pred = model.predict(x_test, verbose=1)\n",
    "    pred_classes = np.argmax(pred, axis=2)\n",
    "    pred_classes = pred_classes.reshape((len(pred_classes), 9, 9, 3))\n",
    "    segmentation = reconstruct_volume(pred_classes, matrix_size)\n",
    "    \n",
    "    segmentations_train = segmentations_train + [segmentation]\n",
    "    \n",
    "segmentations_train = np.stack(segmentations_train, axis=0)"
   ]
  },
  {
   "cell_type": "code",
   "execution_count": 24,
   "metadata": {},
   "outputs": [
    {
     "data": {
      "text/plain": [
       "10.0"
      ]
     },
     "execution_count": 24,
     "metadata": {},
     "output_type": "execute_result"
    }
   ],
   "source": [
    "segmentations_train.max()"
   ]
  },
  {
   "cell_type": "code",
   "execution_count": 25,
   "metadata": {},
   "outputs": [
    {
     "data": {
      "image/png": "[encoded data removed]",
      "text/plain": [
       "<matplotlib.figure.Figure at 0x7faab1553860>"
      ]
     },
     "metadata": {},
     "output_type": "display_data"
    }
   ],
   "source": [
    "plots(np.squeeze(label_train[0:15,:,:,25]), rows=3, scale = (0, 10))"
   ]
  },
  {
   "cell_type": "code",
   "execution_count": 26,
   "metadata": {
    "scrolled": true
   },
   "outputs": [
    {
     "data": {
      "image/png": "[encoded data removed]",
      "text/plain": [
       "<matplotlib.figure.Figure at 0x7faab1527da0>"
      ]
     },
     "metadata": {},
     "output_type": "display_data"
    }
   ],
   "source": [
    "plots(np.squeeze(segmentations_train[0:15,:,:,25]), rows=3, scale = (0, 10))"
   ]
  },
  {
   "cell_type": "markdown",
   "metadata": {},
   "source": [
    "## 1.7 Check false-positive"
   ]
  },
  {
   "cell_type": "code",
   "execution_count": 27,
   "metadata": {},
   "outputs": [],
   "source": [
    "idx_fpos = (label_train == 0) & (segmentations_train != 0);"
   ]
  },
  {
   "cell_type": "code",
   "execution_count": 28,
   "metadata": {},
   "outputs": [],
   "source": [
    "mask_fpos = np.zeros(label_train.shape, dtype=precision_global)\n",
    "mask_fpos[idx_fpos == True] = 1"
   ]
  },
  {
   "cell_type": "code",
   "execution_count": 29,
   "metadata": {},
   "outputs": [
    {
     "data": {
      "image/png": "[encoded data removed]",
      "text/plain": [
       "<matplotlib.figure.Figure at 0x7faad2eecba8>"
      ]
     },
     "metadata": {},
     "output_type": "display_data"
    }
   ],
   "source": [
    "plots(200*(np.squeeze(mask_fpos[0:15,:,:,25])), rows=3)"
   ]
  },
  {
   "cell_type": "markdown",
   "metadata": {},
   "source": [
    "# 2 Fine-tuning"
   ]
  },
  {
   "cell_type": "markdown",
   "metadata": {},
   "source": [
    "## 2.2 Rebuild training dataset"
   ]
  },
  {
   "cell_type": "code",
   "execution_count": 30,
   "metadata": {},
   "outputs": [],
   "source": [
    "del x_train, y_train"
   ]
  },
  {
   "cell_type": "code",
   "execution_count": 31,
   "metadata": {},
   "outputs": [
    {
     "name": "stdout",
     "output_type": "stream",
     "text": [
      "0\n",
      "1\n",
      "2\n",
      "3\n",
      "4\n",
      "5\n",
      "6\n",
      "7\n",
      "8\n",
      "9\n",
      "10\n",
      "11\n",
      "12\n",
      "13\n",
      "14\n",
      "15\n"
     ]
    },
    {
     "data": {
      "text/plain": [
       "((8112, 2, 27, 27, 21), (8112, 243, 11))"
      ]
     },
     "execution_count": 31,
     "metadata": {},
     "output_type": "execute_result"
    }
   ],
   "source": [
    "extraction_step_ft = (6,6,3)\n",
    "x_train, y_train = build_set(data_train, label_train, extraction_step_ft, segment_size, core_size, mask_fpos)\n",
    "x_train.shape, y_train.shape"
   ]
  },
  {
   "cell_type": "code",
   "execution_count": 24,
   "metadata": {},
   "outputs": [],
   "source": [
    "# shuffle array\n",
    "idxs_shuffle = shuffle(x_train)\n",
    "idxs_shuffle = shuffle(y_train, idxs_shuffle)"
   ]
  },
  {
   "cell_type": "code",
   "execution_count": 32,
   "metadata": {},
   "outputs": [],
   "source": [
    "save_array('tmp/x_train.bc', x_train)\n",
    "save_array('tmp/y_train.bc', y_train)"
   ]
  },
  {
   "cell_type": "code",
   "execution_count": 4,
   "metadata": {},
   "outputs": [],
   "source": [
    "x_train = load_array('tmp/x_train.bc')\n",
    "y_train = load_array('tmp/y_train.bc')"
   ]
  },
  {
   "cell_type": "markdown",
   "metadata": {},
   "source": [
    "## 2.3 Regenerate model"
   ]
  },
  {
   "cell_type": "code",
   "execution_count": 33,
   "metadata": {},
   "outputs": [],
   "source": [
    "from keras.callbacks import ModelCheckpoint\n",
    "from keras.callbacks import CSVLogger\n",
    "from keras.callbacks import EarlyStopping\n",
    "\n",
    "from callback_custom import EarlyStoppingLowLR\n",
    "from callback_custom import ReduceLROnPlateauBestWeight\n",
    "\n",
    "\n",
    "\n",
    "# Model checkpoint to save the training results\n",
    "checkpointer = ModelCheckpoint(\n",
    "    filepath=model_filename.format('2'),\n",
    "    monitor=monitor,\n",
    "    verbose=0,\n",
    "    save_best_only=True,\n",
    "    save_weights_only=True)\n",
    "\n",
    "# CSVLogger to save the training results in a csv file\n",
    "csv_logger = CSVLogger(csv_filename.format(1), separator=';')\n",
    "\n",
    "\n",
    "stopper = EarlyStoppingLowLR(patience=patience, monitor=monitor, thresh_LR=1e-5)\n",
    "\n",
    "learning_rate_reduction = ReduceLROnPlateauBestWeight(filepath=model_filename.format('2'),\n",
    "                                                      monitor=monitor, \n",
    "                                                      patience=patience, \n",
    "                                                      verbose=1, \n",
    "                                                      factor=0.1, \n",
    "                                                      min_lr=1.001e-5)\n",
    "\n",
    "callbacks = [checkpointer, csv_logger, learning_rate_reduction, stopper]"
   ]
  },
  {
   "cell_type": "code",
   "execution_count": 34,
   "metadata": {
    "scrolled": false
   },
   "outputs": [
    {
     "name": "stdout",
     "output_type": "stream",
     "text": [
      "Train on 7300 samples, validate on 812 samples\n",
      "Epoch 1/40\n",
      "7300/7300 [==============================] - 44s 6ms/step - loss: 0.0528 - categorical_accuracy: 0.9798 - val_loss: 0.0044 - val_categorical_accuracy: 0.9985\n",
      "Epoch 2/40\n",
      "7300/7300 [==============================] - 44s 6ms/step - loss: 0.0410 - categorical_accuracy: 0.9835 - val_loss: 0.0070 - val_categorical_accuracy: 0.9973\n",
      "Epoch 3/40\n",
      "7300/7300 [==============================] - 44s 6ms/step - loss: 0.0368 - categorical_accuracy: 0.9851 - val_loss: 0.0056 - val_categorical_accuracy: 0.9976\n",
      "Epoch 4/40\n",
      "7296/7300 [============================>.] - ETA: 0s - loss: 0.0336 - categorical_accuracy: 0.98640.0001 1e-05\n",
      "7300/7300 [==============================] - 44s 6ms/step - loss: 0.0336 - categorical_accuracy: 0.9864 - val_loss: 0.0059 - val_categorical_accuracy: 0.9976\n",
      "Epoch 5/40\n",
      "7300/7300 [==============================] - 44s 6ms/step - loss: 0.0312 - categorical_accuracy: 0.9873 - val_loss: 0.0049 - val_categorical_accuracy: 0.9980\n",
      "Epoch 6/40\n",
      "7296/7300 [============================>.] - ETA: 0s - loss: 0.0291 - categorical_accuracy: 0.98810.0001 1e-05\n",
      "7300/7300 [==============================] - 45s 6ms/step - loss: 0.0291 - categorical_accuracy: 0.9881 - val_loss: 0.0081 - val_categorical_accuracy: 0.9969\n",
      "Epoch 7/40\n",
      "7300/7300 [==============================] - 45s 6ms/step - loss: 0.0266 - categorical_accuracy: 0.9892 - val_loss: 0.0032 - val_categorical_accuracy: 0.9987\n",
      "Epoch 8/40\n",
      "7296/7300 [============================>.] - ETA: 0s - loss: 0.0245 - categorical_accuracy: 0.9900 ETA: 5s - l - ETA: 1s - loss: 0.0245 - categorica0.0001 1e-05\n",
      "7300/7300 [==============================] - 46s 6ms/step - loss: 0.0245 - categorical_accuracy: 0.9900 - val_loss: 0.0086 - val_categorical_accuracy: 0.9968\n",
      "Epoch 9/40\n",
      "7296/7300 [============================>.] - ETA: 0s - loss: 0.0223 - categorical_accuracy: 0.99100.0001 1e-05\n",
      "7300/7300 [==============================] - 46s 6ms/step - loss: 0.0223 - categorical_accuracy: 0.9910 - val_loss: 0.0037 - val_categorical_accuracy: 0.9985\n",
      "Epoch 10/40\n",
      "7296/7300 [============================>.] - ETA: 0s - loss: 0.0205 - categorical_accuracy: 0.99180.0001 1e-05\n",
      "7300/7300 [==============================] - 46s 6ms/step - loss: 0.0205 - categorical_accuracy: 0.9918 - val_loss: 0.0066 - val_categorical_accuracy: 0.9977\n",
      "Epoch 11/40\n",
      "7296/7300 [============================>.] - ETA: 0s - loss: 0.0191 - categorical_accuracy: 0.99240.0001 1e-05\n",
      "7300/7300 [==============================] - 45s 6ms/step - loss: 0.0191 - categorical_accuracy: 0.9924 - val_loss: 0.0043 - val_categorical_accuracy: 0.9985\n",
      "Epoch 12/40\n",
      "7296/7300 [============================>.] - ETA: 0s - loss: 0.0173 - categorical_accuracy: 0.99310.0001 1e-05\n",
      "7300/7300 [==============================] - 45s 6ms/step - loss: 0.0173 - categorical_accuracy: 0.9931 - val_loss: 0.0048 - val_categorical_accuracy: 0.9984\n",
      "Epoch 13/40\n",
      "7296/7300 [============================>.] - ETA: 0s - loss: 0.0162 - categorical_accuracy: 0.9935\n",
      "Epoch 00013: ReduceLROnPlateau reducing learning rate to 1.001e-05.\n",
      "7300/7300 [==============================] - 45s 6ms/step - loss: 0.0162 - categorical_accuracy: 0.9935 - val_loss: 0.0036 - val_categorical_accuracy: 0.9987\n",
      "Epoch 14/40\n",
      "7296/7300 [============================>.] - ETA: 0s - loss: 0.0230 - categorical_accuracy: 0.99081.001e-05 1e-05\n",
      "7300/7300 [==============================] - 45s 6ms/step - loss: 0.0230 - categorical_accuracy: 0.9907 - val_loss: 0.0046 - val_categorical_accuracy: 0.9983\n",
      "Epoch 15/40\n",
      "7296/7300 [============================>.] - ETA: 0s - loss: 0.0222 - categorical_accuracy: 0.99111.001e-05 1e-05\n",
      "7300/7300 [==============================] - 45s 6ms/step - loss: 0.0222 - categorical_accuracy: 0.9911 - val_loss: 0.0046 - val_categorical_accuracy: 0.9983\n",
      "Epoch 16/40\n",
      "7296/7300 [============================>.] - ETA: 0s - loss: 0.0218 - categorical_accuracy: 0.99121.001e-05 1e-05\n",
      "7300/7300 [==============================] - 45s 6ms/step - loss: 0.0218 - categorical_accuracy: 0.9913 - val_loss: 0.0051 - val_categorical_accuracy: 0.9982\n",
      "Epoch 17/40\n",
      "7296/7300 [============================>.] - ETA: 0s - loss: 0.0215 - categorical_accuracy: 0.99141.001e-05 1e-05\n",
      "7300/7300 [==============================] - 45s 6ms/step - loss: 0.0215 - categorical_accuracy: 0.9914 - val_loss: 0.0054 - val_categorical_accuracy: 0.9981\n",
      "Epoch 18/40\n",
      "7296/7300 [============================>.] - ETA: 0s - loss: 0.0211 - categorical_accuracy: 0.99151.001e-05 1e-05\n",
      "7300/7300 [==============================] - 45s 6ms/step - loss: 0.0212 - categorical_accuracy: 0.9915 - val_loss: 0.0064 - val_categorical_accuracy: 0.9978\n"
     ]
    },
    {
     "data": {
      "text/plain": [
       "<keras.callbacks.History at 0x7faad2e046a0>"
      ]
     },
     "execution_count": 34,
     "metadata": {},
     "output_type": "execute_result"
    }
   ],
   "source": [
    "# Build model\n",
    "model = generate_model(num_classes, num_channel, segment_size, core_size)\n",
    "\n",
    "# Load optimized weights\n",
    "model.load_weights(model_filename.format('1'))\n",
    "\n",
    "K.set_value(model.optimizer.lr, 1e-4)\n",
    "\n",
    "# Start fine-tuning\n",
    "model.fit(\n",
    "    x_train,\n",
    "    y_train,\n",
    "    epochs=nb_epoch,\n",
    "    validation_split=validation_split,\n",
    "    verbose=1,\n",
    "    callbacks=callbacks)\n",
    "\n",
    "# freeing space\n",
    "#del x_train\n",
    "#del y_train"
   ]
  },
  {
   "cell_type": "code",
   "execution_count": 35,
   "metadata": {},
   "outputs": [],
   "source": [
    "# Load best model\n",
    "model = generate_model(num_classes, num_channel, segment_size, core_size)\n",
    "model.load_weights(model_filename.format('2'))"
   ]
  },
  {
   "cell_type": "code",
   "execution_count": 36,
   "metadata": {},
   "outputs": [
    {
     "name": "stdout",
     "output_type": "stream",
     "text": [
      "811/811 [==============================] - 1s 1ms/step\n"
     ]
    },
    {
     "data": {
      "text/plain": [
       "[0.0032079768180215567, 0.99866021179241549]"
      ]
     },
     "execution_count": 36,
     "metadata": {},
     "output_type": "execute_result"
    }
   ],
   "source": [
    "idx_start_valid = int(len(x_train)*validation_split)\n",
    "model.evaluate(x_train[-idx_start_valid:], y_train[-idx_start_valid:], verbose=1)"
   ]
  },
  {
   "cell_type": "code",
   "execution_count": 37,
   "metadata": {},
   "outputs": [
    {
     "name": "stdout",
     "output_type": "stream",
     "text": [
      "5\n",
      "3300/3300 [==============================] - 3s 798us/step\n",
      "6\n",
      "3300/3300 [==============================] - 3s 766us/step\n",
      "7\n",
      "3300/3300 [==============================] - 3s 770us/step\n",
      "8\n",
      "3300/3300 [==============================] - 3s 771us/step\n"
     ]
    }
   ],
   "source": [
    "segmentations_test = []\n",
    "\n",
    "for i_case, case_idx in enumerate(idxs_test):\n",
    "\n",
    "    print(case_idx)\n",
    "    input_test = data_test[i_case, :, :, :, :]\n",
    "\n",
    "    x_test = np.zeros((len_patch, num_channel,) + segment_size, dtype=precision_global)\n",
    "    for i_channel in range(num_channel):\n",
    "        x_test[:, i_channel, :, :, :] = extract_patches(input_test[i_channel], patch_shape=segment_size, extraction_step=(9, 9, 3))\n",
    "\n",
    "    pred = model.predict(x_test, verbose=1)\n",
    "    pred_classes = np.argmax(pred, axis=2)\n",
    "    pred_classes = pred_classes.reshape((len(pred_classes), 9, 9, 3))\n",
    "    segmentation = reconstruct_volume(pred_classes, matrix_size)\n",
    "    #segmentation = reconstruct_volume_majority(pred_classes, matrix_size, extraction_step=(3, 3, 3))\n",
    "    \n",
    "    segmentations_test = segmentations_test + [segmentation]\n",
    "    \n",
    "segmentations_test = np.stack(segmentations_test, axis=0)"
   ]
  },
  {
   "cell_type": "code",
   "execution_count": 38,
   "metadata": {},
   "outputs": [
    {
     "data": {
      "text/plain": [
       "10.0"
      ]
     },
     "execution_count": 38,
     "metadata": {},
     "output_type": "execute_result"
    }
   ],
   "source": [
    "segmentations_test.max()"
   ]
  },
  {
   "cell_type": "code",
   "execution_count": 39,
   "metadata": {},
   "outputs": [
    {
     "data": {
      "image/png": "[encoded data removed]",
      "text/plain": [
       "<matplotlib.figure.Figure at 0x7faa5d843e80>"
      ]
     },
     "metadata": {},
     "output_type": "display_data"
    }
   ],
   "source": [
    "plots(np.squeeze(label_test[:,:,:,23]), rows=1, scale = (0, 10))"
   ]
  },
  {
   "cell_type": "code",
   "execution_count": 40,
   "metadata": {},
   "outputs": [
    {
     "data": {
      "image/png": "[encoded data removed]",
      "text/plain": [
       "<matplotlib.figure.Figure at 0x7faa5d9b7400>"
      ]
     },
     "metadata": {},
     "output_type": "display_data"
    }
   ],
   "source": [
    "plots(np.squeeze(segmentations_test[:,:,:,23]), rows=1, scale = (0, 10))"
   ]
  },
  {
   "cell_type": "markdown",
   "metadata": {},
   "source": [
    "# 3 Post-processing"
   ]
  },
  {
   "cell_type": "markdown",
   "metadata": {},
   "source": [
    "## 3.1 Pick the largest connected component for each class"
   ]
  },
  {
   "cell_type": "code",
   "execution_count": 41,
   "metadata": {},
   "outputs": [],
   "source": [
    "for i_case, case_idx in enumerate(idxs_test):\n",
    "    segmentation = np.squeeze(segmentations_test[i_case,:,:,:]);\n",
    "    tmp = np.zeros(segmentation.shape, dtype=segmentation.dtype)\n",
    "    \n",
    "    for class_idx in class_mapper_inv :\n",
    "        mask = (segmentation == class_idx)\n",
    "        \n",
    "        if class_idx != 0 and mask.sum() > 0:\n",
    "            labeled_mask, num_cc = ndimage.label(mask)\n",
    "            largest_cc_mask = (labeled_mask == (np.bincount(labeled_mask.flat)[1:].argmax() + 1))\n",
    "            \n",
    "            tmp[largest_cc_mask == 1] = class_idx\n",
    "        \n",
    "    segmentations_test[i_case,:,:,:] = tmp"
   ]
  },
  {
   "cell_type": "markdown",
   "metadata": {},
   "source": [
    "## 3.2 Save it "
   ]
  },
  {
   "cell_type": "code",
   "execution_count": 42,
   "metadata": {},
   "outputs": [
    {
     "name": "stdout",
     "output_type": "stream",
     "text": [
      "5\n",
      "6\n",
      "7\n",
      "8\n",
      "Done with Step 3\n"
     ]
    }
   ],
   "source": [
    "for i_case, case_idx in enumerate(idxs_test):\n",
    "    print(case_idx)\n",
    "    \n",
    "    segmentation = np.copy(np.squeeze(segmentations_test[i_case,:,:,:]))\n",
    "    \n",
    "    tmp = np.copy(segmentation)\n",
    "    for class_idx in class_mapper_inv:\n",
    "        segmentation[tmp == class_idx] = class_mapper_inv[class_idx]\n",
    "    del tmp\n",
    "\n",
    "    save_data(segmentation, case_idx, 'label')    \n",
    "\n",
    "print(\"Done with Step 3\")"
   ]
  },
  {
   "cell_type": "markdown",
   "metadata": {},
   "source": [
    "## 3.3 Calculate metric "
   ]
  },
  {
   "cell_type": "code",
   "execution_count": 43,
   "metadata": {},
   "outputs": [],
   "source": [
    "def calc_dice(m1, m2):\n",
    "    return 2*((m1==1) & (m2==1)).sum()/((m1==1).sum() + (m2==1).sum())"
   ]
  },
  {
   "cell_type": "code",
   "execution_count": 44,
   "metadata": {},
   "outputs": [
    {
     "name": "stdout",
     "output_type": "stream",
     "text": [
      "5\t0.9993\tN/A\t0.8485\t0.9625\t0.9328\t0.7902\t0.9525\t0.9277\t0.8466\t0.8701\t0.6604\t0.7470\t\n",
      "6\t0.9989\tN/A\t0.8611\t0.8400\t0.9191\t0.8939\t0.9566\t0.9776\t0.9375\t0.8797\t0.9565\t1.0000\t\n",
      "7\t0.9993\tN/A\t0.9043\t0.8953\t0.9586\t0.9462\t0.9229\t0.9340\t0.8753\t0.8675\t0.8085\t0.8630\t\n",
      "8\t0.9992\tN/A\t0.9211\t0.9077\t0.9438\t0.9184\t0.8622\t0.8275\t0.9391\t0.9136\t0.9404\t0.8632\t\n"
     ]
    }
   ],
   "source": [
    "for i_case, case_idx in enumerate(idxs_test):\n",
    "    print(case_idx, end='\\t')\n",
    "    print('{:.4f}'.format(accuracy_score(label_test[i_case,:,:,:].flat, segmentations_test[i_case,:,:,:].flat)), end='\\t')\n",
    "    for class_idx in class_mapper_inv:\n",
    "        mask = (np.squeeze(segmentations_test[i_case,:,:,:]) == class_idx)\n",
    "        if class_idx != 0 and mask.sum() > 0:\n",
    "            print('{:.4f}'.format(precision_score(label_test[i_case,:,:,:][mask], segmentations_test[i_case,:,:,:][mask], average='micro')), end='\\t')\n",
    "        else:\n",
    "            print('N/A', end='\\t')\n",
    "    print()"
   ]
  },
  {
   "cell_type": "code",
   "execution_count": 45,
   "metadata": {},
   "outputs": [
    {
     "name": "stdout",
     "output_type": "stream",
     "text": [
      "5\t0\t0.9032\t0.8603\t0.6831\t0.8100\t0.8630\t0.9197\t0.8136\t0.8551\t0.7704\t0.7178\t\n",
      "6\t0\t0.8671\t0.7778\t0.6667\t0.7289\t0.7733\t0.8033\t0.8320\t0.8012\t0.5591\t0.3238\t\n",
      "7\t0\t0.8854\t0.7979\t0.8770\t0.8571\t0.9001\t0.8483\t0.8899\t0.8238\t0.7677\t0.8376\t\n",
      "8\t0\t0.9150\t0.7867\t0.8682\t0.7200\t0.8853\t0.8756\t0.8560\t0.8459\t0.6296\t0.6821\t\n"
     ]
    }
   ],
   "source": [
    "for i_case, case_idx in enumerate(idxs_test):\n",
    "    print(case_idx, end='\\t')\n",
    "    for class_idx in class_mapper_inv:\n",
    "        mask = (np.squeeze(segmentations_test[i_case,:,:,:]) == class_idx)\n",
    "        if class_idx != 0 and mask.sum() > 0:\n",
    "            print('{:.4f}'.format(calc_dice((label_test[i_case,:,:,:]==class_idx).flat, (segmentations_test[i_case,:,:,:]==class_idx).flat)), end='\\t')\n",
    "        else:\n",
    "            print(0, end='\\t')\n",
    "    print()"
   ]
  },
  {
   "cell_type": "code",
   "execution_count": null,
   "metadata": {},
   "outputs": [],
   "source": []
  },
  {
   "cell_type": "code",
   "execution_count": null,
   "metadata": {},
   "outputs": [],
   "source": []
  }
 ],
 "metadata": {
  "kernelspec": {
   "display_name": "Python 3",
   "language": "python",
   "name": "python3"
  },
  "language_info": {
   "codemirror_mode": {
    "name": "ipython",
    "version": 3
   },
   "file_extension": ".py",
   "mimetype": "text/x-python",
   "name": "python",
   "nbconvert_exporter": "python",
   "pygments_lexer": "ipython3",
   "version": "3.5.2"
  }
 },
 "nbformat": 4,
 "nbformat_minor": 2
}
