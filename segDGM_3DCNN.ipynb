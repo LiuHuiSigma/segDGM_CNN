{
 "cells": [
  {
   "cell_type": "code",
   "execution_count": 1,
   "metadata": {},
   "outputs": [
    {
     "name": "stderr",
     "output_type": "stream",
     "text": [
      "Using TensorFlow backend.\n"
     ]
    }
   ],
   "source": [
    "%matplotlib inline\n",
    "import nibabel as nib\n",
    "import numpy as np\n",
    "from scipy import ndimage\n",
    "from keras import backend as K\n",
    "from sklearn.metrics import accuracy_score, precision_score\n",
    "\n",
    "from utils import *\n",
    "from model_FCNN import generate_model\n"
   ]
  },
  {
   "cell_type": "code",
   "execution_count": 2,
   "metadata": {},
   "outputs": [],
   "source": [
    "from importlib import reload\n",
    "\n",
    "import keras\n",
    "reload(keras)\n",
    "from keras import backend as K\n",
    "\n",
    "import utils\n",
    "reload(utils)\n",
    "from utils import *\n",
    "\n",
    "import model_FCNN\n",
    "reload(model_FCNN)\n",
    "from model_FCNN import generate_model\n",
    "\n",
    "import callback_custom\n",
    "reload(callback_custom);"
   ]
  },
  {
   "cell_type": "markdown",
   "metadata": {},
   "source": [
    "# Problem configuration"
   ]
  },
  {
   "cell_type": "code",
   "execution_count": 43,
   "metadata": {},
   "outputs": [],
   "source": [
    "num_classes = 11\n",
    "num_channel = 2\n",
    "\n",
    "# K-fold validation (K=5)\n",
    "n_training = 16\n",
    "n_test = 4\n",
    "\n",
    "#idxs_training = list(range(1, 1+16))\n",
    "#idxs_test = list(range(17, 17+4))\n",
    "idxs_training = list(range(5, 5+16))\n",
    "idxs_test = list(range(1,1+4))\n",
    "\n",
    "patience = 5\n",
    "model_filename = 'models/outrun_step_{}.h5'\n",
    "csv_filename = 'log/outrun_step_{}.cvs'\n",
    "\n",
    "nb_epoch = 40\n",
    "validation_split = 0.10\n",
    "monitor = 'val_loss'#'val_categorical_accuracy'\n",
    "\n",
    "class_mapper = {0:0}\n",
    "class_mapper.update({ i+1:i for i in range(1, 1+10) })\n",
    "class_mapper_inv = {0:0}\n",
    "class_mapper_inv.update({ i:i+1 for i in range(1, 1+10) })\n",
    "\n",
    "matrix_size = (160, 220, 48)\n",
    "\n",
    "extraction_step = (3, 3, 1)\n",
    "#extraction_step = (5, 5, 3)\n",
    "\n",
    "segment_size = (27, 27, 21)\n",
    "core_size = (9, 9, 3)"
   ]
  },
  {
   "cell_type": "markdown",
   "metadata": {},
   "source": [
    "# Architecture"
   ]
  },
  {
   "cell_type": "markdown",
   "metadata": {},
   "source": [
    "# 1. Initial segmentation"
   ]
  },
  {
   "cell_type": "markdown",
   "metadata": {},
   "source": [
    "## 1.1 Read data"
   ]
  },
  {
   "cell_type": "code",
   "execution_count": 47,
   "metadata": {},
   "outputs": [],
   "source": [
    "QSM_train = np.empty(((n_training,) + matrix_size), dtype=precision_global)\n",
    "MAG_train = np.empty(((n_training,) + matrix_size), dtype=precision_global)\n",
    "R2S_train = np.empty(((n_training,) + matrix_size), dtype=precision_global)\n",
    "label_train = np.empty(((n_training,) + matrix_size), dtype=precision_global)\n",
    "for i, case_idx in enumerate(idxs_training):\n",
    "    QSM_train[i, :, :, :] = read_data(case_idx, 'QSM')\n",
    "    MAG_train[i, :, :, :] = read_data(case_idx, 'MAG')\n",
    "    R2S_train[i, :, :, :] = read_data(case_idx, 'R2S')\n",
    "    label_train[i, :, :, :] = read_data(case_idx, 'label')"
   ]
  },
  {
   "cell_type": "code",
   "execution_count": 48,
   "metadata": {},
   "outputs": [],
   "source": [
    "#data_train = np.stack((QSM_train, MAG_train, R2S_train), axis = 1)\n",
    "data_train = np.stack((QSM_train, R2S_train), axis = 1)\n",
    "#data_train = np.stack((QSM_train,), axis = 1)"
   ]
  },
  {
   "cell_type": "code",
   "execution_count": 49,
   "metadata": {},
   "outputs": [],
   "source": [
    "QSM_test = np.empty(((n_test,) + matrix_size), dtype=precision_global)\n",
    "MAG_test = np.empty(((n_test,) + matrix_size), dtype=precision_global)\n",
    "R2S_test = np.empty(((n_test,) + matrix_size), dtype=precision_global)\n",
    "label_test = np.empty(((n_test,) + matrix_size), dtype=precision_global)\n",
    "for i, case_idx in enumerate(idxs_test):\n",
    "    QSM_test[i, :, :, :] = read_data(case_idx, 'QSM')\n",
    "    MAG_test[i, :, :, :] = read_data(case_idx, 'MAG')\n",
    "    R2S_test[i, :, :, :] = read_data(case_idx, 'R2S')\n",
    "    label_test[i, :, :, :] = read_data(case_idx, 'label')"
   ]
  },
  {
   "cell_type": "code",
   "execution_count": 50,
   "metadata": {},
   "outputs": [],
   "source": [
    "#data_test = np.stack((QSM_test, MAG_test, R2S_test), axis = 1)\n",
    "data_test = np.stack((QSM_test, R2S_test), axis = 1)\n",
    "#data_test = np.stack((QSM_test,), axis = 1)"
   ]
  },
  {
   "cell_type": "markdown",
   "metadata": {},
   "source": [
    "## 1.2 Pre-processing"
   ]
  },
  {
   "cell_type": "code",
   "execution_count": 51,
   "metadata": {},
   "outputs": [],
   "source": [
    "## Intensity normalisation (zero mean and unit variance)\n",
    "input_mean = 127.0\n",
    "input_std = 128.0\n",
    "data_train = (data_train - input_mean) / input_std\n",
    "data_test = (data_test - input_mean) / input_std\n",
    "\n",
    "# Map class label\n",
    "tmp = np.copy(label_train)\n",
    "for class_idx in class_mapper:\n",
    "    label_train[tmp == class_idx] = class_mapper[class_idx]\n",
    "tmp = np.copy(label_test)\n",
    "for class_idx in class_mapper:\n",
    "    label_test[tmp == class_idx] = class_mapper[class_idx]\n",
    "del tmp"
   ]
  },
  {
   "cell_type": "code",
   "execution_count": 52,
   "metadata": {},
   "outputs": [
    {
     "data": {
      "text/plain": [
       "10.0"
      ]
     },
     "execution_count": 52,
     "metadata": {},
     "output_type": "execute_result"
    }
   ],
   "source": [
    "label_train.max()"
   ]
  },
  {
   "cell_type": "code",
   "execution_count": 53,
   "metadata": {},
   "outputs": [
    {
     "data": {
      "image/png": "[encoded data removed]",
      "text/plain": [
       "<matplotlib.figure.Figure at 0x7efdba39c898>"
      ]
     },
     "metadata": {},
     "output_type": "display_data"
    }
   ],
   "source": [
    "plots(np.squeeze(label_train[0,:,:,[29,25]]), scale = (0, 10))"
   ]
  },
  {
   "cell_type": "markdown",
   "metadata": {},
   "source": [
    "## 1.3 Data preparation"
   ]
  },
  {
   "cell_type": "code",
   "execution_count": 54,
   "metadata": {},
   "outputs": [
    {
     "name": "stdout",
     "output_type": "stream",
     "text": [
      "0\n",
      "1\n",
      "2\n",
      "3\n",
      "4\n",
      "5\n",
      "6\n",
      "7\n",
      "8\n",
      "9\n",
      "10\n",
      "11\n",
      "12\n",
      "13\n",
      "14\n",
      "15\n"
     ]
    },
    {
     "data": {
      "text/plain": [
       "((32992, 2, 27, 27, 21), (32992, 243, 11))"
      ]
     },
     "execution_count": 54,
     "metadata": {},
     "output_type": "execute_result"
    }
   ],
   "source": [
    "x_train, y_train = build_set(data_train, label_train, extraction_step, segment_size, core_size)\n",
    "x_train.shape, y_train.shape"
   ]
  },
  {
   "cell_type": "code",
   "execution_count": 58,
   "metadata": {},
   "outputs": [],
   "source": [
    "# shuffle array\n",
    "idxs_shuffle = shuffle(x_train)\n",
    "idxs_shuffle = shuffle(y_train, idxs_shuffle)"
   ]
  },
  {
   "cell_type": "markdown",
   "metadata": {},
   "source": [
    "## 1.4 Configure callbacks"
   ]
  },
  {
   "cell_type": "code",
   "execution_count": 59,
   "metadata": {},
   "outputs": [],
   "source": [
    "from keras.callbacks import ModelCheckpoint\n",
    "from keras.callbacks import CSVLogger\n",
    "from keras.callbacks import EarlyStopping\n",
    "\n",
    "from callback_custom import EarlyStoppingLowLR\n",
    "from callback_custom import ReduceLROnPlateauBestWeight\n",
    "\n",
    "\n",
    "\n",
    "# Model checkpoint to save the training results\n",
    "checkpointer = ModelCheckpoint(\n",
    "    filepath=model_filename.format('1'),\n",
    "    monitor=monitor,\n",
    "    verbose=0,\n",
    "    save_best_only=True,\n",
    "    save_weights_only=True)\n",
    "\n",
    "# CSVLogger to save the training results in a csv file\n",
    "csv_logger = CSVLogger(csv_filename.format(1), separator=';')\n",
    "\n",
    "\n",
    "stopper = EarlyStoppingLowLR(patience=patience, monitor=monitor, thresh_LR=1e-5)\n",
    "\n",
    "learning_rate_reduction = ReduceLROnPlateauBestWeight(filepath=model_filename.format('1'),\n",
    "                                                      monitor=monitor, \n",
    "                                                      patience=patience, \n",
    "                                                      verbose=1, \n",
    "                                                      factor=0.1, \n",
    "                                                      min_lr=1.001e-5)\n",
    "\n",
    "callbacks = [checkpointer, csv_logger, learning_rate_reduction, stopper]"
   ]
  },
  {
   "cell_type": "markdown",
   "metadata": {},
   "source": [
    "## 1.5 Training"
   ]
  },
  {
   "cell_type": "code",
   "execution_count": 60,
   "metadata": {
    "scrolled": false
   },
   "outputs": [
    {
     "name": "stdout",
     "output_type": "stream",
     "text": [
      "Train on 29692 samples, validate on 3300 samples\n",
      "Epoch 1/40\n",
      "29692/29692 [==============================] - 186s 6ms/step - loss: 0.3608 - categorical_accuracy: 0.8860 - val_loss: 0.2252 - val_categorical_accuracy: 0.9220\n",
      "Epoch 2/40\n",
      "29692/29692 [==============================] - 180s 6ms/step - loss: 0.0987 - categorical_accuracy: 0.9596 - val_loss: 0.2917 - val_categorical_accuracy: 0.9266\n",
      "Epoch 3/40\n",
      "29664/29692 [============================>.] - ETA: 0s - loss: 0.0467 - categorical_accuracy: 0.98090.001 1e-05\n",
      "29692/29692 [==============================] - 180s 6ms/step - loss: 0.0467 - categorical_accuracy: 0.9809 - val_loss: 0.4356 - val_categorical_accuracy: 0.9217\n",
      "Epoch 4/40\n",
      "29664/29692 [============================>.] - ETA: 0s - loss: 0.0240 - categorical_accuracy: 0.99070.001 1e-05\n",
      "29692/29692 [==============================] - 181s 6ms/step - loss: 0.0240 - categorical_accuracy: 0.9907 - val_loss: 0.5728 - val_categorical_accuracy: 0.9236\n",
      "Epoch 5/40\n",
      "29664/29692 [============================>.] - ETA: 0s - loss: 0.0214 - categorical_accuracy: 0.99220.001 1e-05\n",
      "29692/29692 [==============================] - 182s 6ms/step - loss: 0.0214 - categorical_accuracy: 0.9922 - val_loss: 0.6293 - val_categorical_accuracy: 0.9230\n",
      "Epoch 6/40\n",
      "29664/29692 [============================>.] - ETA: 0s - loss: 0.0080 - categorical_accuracy: 0.99720.001 1e-05\n",
      "29692/29692 [==============================] - 185s 6ms/step - loss: 0.0080 - categorical_accuracy: 0.9972 - val_loss: 0.6462 - val_categorical_accuracy: 0.9227\n",
      "Epoch 7/40\n",
      "29664/29692 [============================>.] - ETA: 0s - loss: 0.0150 - categorical_accuracy: 0.9949\n",
      "Epoch 00007: ReduceLROnPlateau reducing learning rate to 0.00010000000474974513.\n",
      "29692/29692 [==============================] - 187s 6ms/step - loss: 0.0150 - categorical_accuracy: 0.9949 - val_loss: 0.6792 - val_categorical_accuracy: 0.9214\n",
      "Epoch 8/40\n",
      "29692/29692 [==============================] - 188s 6ms/step - loss: 0.0798 - categorical_accuracy: 0.9664 - val_loss: 0.3645 - val_categorical_accuracy: 0.9160\n",
      "Epoch 9/40\n",
      "29664/29692 [============================>.] - ETA: 0s - loss: 0.0516 - categorical_accuracy: 0.9786   ETA: 1:02 - loss: 0.0 - ETA: 59s - loss: 0.0552 - ETA: 52s - loss: - ETA: 45s - loss: - ETA: 37s - loss: 0.0540 - categor - ETA: 33s 0.0001 1e-05\n",
      "29692/29692 [==============================] - 188s 6ms/step - loss: 0.0516 - categorical_accuracy: 0.9786 - val_loss: 0.5155 - val_categorical_accuracy: 0.9147\n",
      "Epoch 10/40\n",
      "29664/29692 [============================>.] - ETA: 0s - loss: 0.0314 - categorical_accuracy: 0.98750.0001 1e-05\n",
      "29692/29692 [==============================] - 187s 6ms/step - loss: 0.0314 - categorical_accuracy: 0.9875 - val_loss: 0.6007 - val_categorical_accuracy: 0.9153\n",
      "Epoch 11/40\n",
      "29664/29692 [============================>.] - ETA: 0s - loss: 0.0182 - categorical_accuracy: 0.99300.0001 1e-05\n",
      "29692/29692 [==============================] - 184s 6ms/step - loss: 0.0182 - categorical_accuracy: 0.9930 - val_loss: 0.7505 - val_categorical_accuracy: 0.9138\n",
      "Epoch 12/40\n",
      "29664/29692 [============================>.] - ETA: 0s - loss: 0.0106 - categorical_accuracy: 0.9961\n",
      "Epoch 00012: ReduceLROnPlateau reducing learning rate to 1.001e-05.\n",
      "29692/29692 [==============================] - 184s 6ms/step - loss: 0.0106 - categorical_accuracy: 0.9961 - val_loss: 0.8023 - val_categorical_accuracy: 0.9150\n",
      "Epoch 13/40\n",
      "29692/29692 [==============================] - 189s 6ms/step - loss: 0.0952 - categorical_accuracy: 0.9602 - val_loss: 0.2429 - val_categorical_accuracy: 0.9229oss: 0.0953 - categorical_accuracy: 0.96\n",
      "Epoch 14/40\n",
      "29664/29692 [============================>.] - ETA: 0s - loss: 0.0885 - categorical_accuracy: 0.96291.001e-05 1e-05\n",
      "29692/29692 [==============================] - 191s 6ms/step - loss: 0.0885 - categorical_accuracy: 0.9628 - val_loss: 0.2618 - val_categorical_accuracy: 0.9213\n",
      "Epoch 15/40\n",
      "29664/29692 [============================>.] - ETA: 0s - loss: 0.0840 - categorical_accuracy: 0.96471.001e-05 1e-05\n",
      "29692/29692 [==============================] - 188s 6ms/step - loss: 0.0840 - categorical_accuracy: 0.9647 - val_loss: 0.2730 - val_categorical_accuracy: 0.9211\n",
      "Epoch 16/40\n",
      "29664/29692 [============================>.] - ETA: 0s - loss: 0.0797 - categorical_accuracy: 0.9665 - ETA: 53s - loss: 0.0802 - categorica - ETA: 49s  - ETA: 40s -  - ETA: 32s - loss: 0.0798 - categorical_accur -  - ETA: 19s - loss: 0.07991.001e-05 1e-05\n",
      "29692/29692 [==============================] - 188s 6ms/step - loss: 0.0797 - categorical_accuracy: 0.9665 - val_loss: 0.2919 - val_categorical_accuracy: 0.9197\n",
      "Epoch 17/40\n",
      "29664/29692 [============================>.] - ETA: 0s - loss: 0.0755 - categorical_accuracy: 0.96831.001e-05 1e-05\n",
      "29692/29692 [==============================] - 187s 6ms/step - loss: 0.0755 - categorical_accuracy: 0.9683 - val_loss: 0.3152 - val_categorical_accuracy: 0.9184\n",
      "Epoch 18/40\n",
      "29664/29692 [============================>.] - ETA: 0s - loss: 0.0713 - categorical_accuracy: 0.97011.001e-05 1e-05\n",
      "29692/29692 [==============================] - 186s 6ms/step - loss: 0.0713 - categorical_accuracy: 0.9701 - val_loss: 0.3380 - val_categorical_accuracy: 0.9174\n"
     ]
    },
    {
     "data": {
      "text/plain": [
       "<keras.callbacks.History at 0x7efdbabc5a20>"
      ]
     },
     "execution_count": 60,
     "metadata": {},
     "output_type": "execute_result"
    }
   ],
   "source": [
    "seed = 47\n",
    "np.random.seed(seed)\n",
    "\n",
    "# Build model\n",
    "model = generate_model(num_classes, num_channel, segment_size, core_size)\n",
    "\n",
    "K.set_value(model.optimizer.lr, 1e-3)\n",
    "\n",
    "model.fit(\n",
    "    x_train,\n",
    "    y_train,\n",
    "    epochs=nb_epoch,\n",
    "    validation_split=validation_split,\n",
    "    verbose=1,\n",
    "    callbacks=callbacks)\n",
    "\n",
    "# freeing space\n",
    "#del x_train\n",
    "#del y_train"
   ]
  },
  {
   "cell_type": "markdown",
   "metadata": {},
   "source": [
    "## 1.6 Classification"
   ]
  },
  {
   "cell_type": "code",
   "execution_count": 61,
   "metadata": {},
   "outputs": [],
   "source": [
    "from keras.models import load_model\n",
    "\n",
    "# Load best model\n",
    "model = generate_model(num_classes, num_channel, segment_size, core_size)\n",
    "model.load_weights(model_filename.format(1))"
   ]
  },
  {
   "cell_type": "code",
   "execution_count": 62,
   "metadata": {},
   "outputs": [
    {
     "name": "stdout",
     "output_type": "stream",
     "text": [
      "3299/3299 [==============================] - 3s 894us/step\n"
     ]
    },
    {
     "data": {
      "text/plain": [
       "[0.22528750823133731, 0.9219801498926492]"
      ]
     },
     "execution_count": 62,
     "metadata": {},
     "output_type": "execute_result"
    }
   ],
   "source": [
    "idx_start_valid = int(len(x_train)*validation_split)\n",
    "model.evaluate(x_train[-idx_start_valid:], y_train[-idx_start_valid:], verbose=1)"
   ]
  },
  {
   "cell_type": "code",
   "execution_count": 63,
   "metadata": {},
   "outputs": [
    {
     "data": {
      "text/plain": [
       "3300"
      ]
     },
     "execution_count": 63,
     "metadata": {},
     "output_type": "execute_result"
    }
   ],
   "source": [
    "len_patch = extract_patches(read_data(1, 'QSM'), patch_shape=segment_size, extraction_step=(9, 9, 3)).shape[0]\n",
    "len_patch"
   ]
  },
  {
   "cell_type": "code",
   "execution_count": 64,
   "metadata": {
    "scrolled": false
   },
   "outputs": [
    {
     "name": "stdout",
     "output_type": "stream",
     "text": [
      "5\n",
      "3300/3300 [==============================] - 3s 838us/step\n",
      "6\n",
      "3300/3300 [==============================] - 3s 819us/step\n",
      "7\n",
      "3300/3300 [==============================] - 3s 789us/step\n",
      "8\n",
      "3300/3300 [==============================] - 3s 791us/step\n",
      "9\n",
      "3300/3300 [==============================] - 3s 796us/step\n",
      "10\n",
      "3300/3300 [==============================] - 3s 801us/step\n",
      "11\n",
      "3300/3300 [==============================] - 3s 795us/step\n",
      "12\n",
      "3300/3300 [==============================] - 3s 799us/step\n",
      "13\n",
      "3300/3300 [==============================] - 3s 806us/step\n",
      "14\n",
      "3300/3300 [==============================] - 3s 812us/step\n",
      "15\n",
      "3300/3300 [==============================] - 3s 812us/step\n",
      "16\n",
      "3300/3300 [==============================] - 3s 813us/step\n",
      "17\n",
      "3300/3300 [==============================] - 3s 810us/step\n",
      "18\n",
      "3300/3300 [==============================] - 3s 815us/step\n",
      "19\n",
      "3300/3300 [==============================] - 3s 811us/step\n",
      "20\n",
      "3300/3300 [==============================] - 3s 817us/step\n"
     ]
    }
   ],
   "source": [
    "segmentations_train = []\n",
    "\n",
    "for i_case, case_idx in enumerate(idxs_training):\n",
    "\n",
    "    print(case_idx)\n",
    "    input_train = data_train[i_case, :, :, :, :]\n",
    "\n",
    "    x_test = np.zeros((len_patch, num_channel,) + segment_size, dtype=precision_global)\n",
    "    for i_channel in range(num_channel):\n",
    "        x_test[:, i_channel, :, :, :] = extract_patches(input_train[i_channel], patch_shape=segment_size, extraction_step=(9, 9, 3))\n",
    "\n",
    "    pred = model.predict(x_test, verbose=1)\n",
    "    pred_classes = np.argmax(pred, axis=2)\n",
    "    pred_classes = pred_classes.reshape((len(pred_classes), 9, 9, 3))\n",
    "    segmentation = reconstruct_volume(pred_classes, matrix_size)\n",
    "    \n",
    "    segmentations_train = segmentations_train + [segmentation]\n",
    "    \n",
    "segmentations_train = np.stack(segmentations_train, axis=0)"
   ]
  },
  {
   "cell_type": "code",
   "execution_count": 65,
   "metadata": {},
   "outputs": [
    {
     "data": {
      "text/plain": [
       "10.0"
      ]
     },
     "execution_count": 65,
     "metadata": {},
     "output_type": "execute_result"
    }
   ],
   "source": [
    "segmentations_train.max()"
   ]
  },
  {
   "cell_type": "code",
   "execution_count": 66,
   "metadata": {},
   "outputs": [
    {
     "data": {
      "image/png": "[encoded data removed]",
      "text/plain": [
       "<matplotlib.figure.Figure at 0x7efdba2d3f60>"
      ]
     },
     "metadata": {},
     "output_type": "display_data"
    }
   ],
   "source": [
    "plots(np.squeeze(label_train[0:15,:,:,25]), rows=3, scale = (0, 10))"
   ]
  },
  {
   "cell_type": "code",
   "execution_count": 67,
   "metadata": {
    "scrolled": true
   },
   "outputs": [
    {
     "data": {
      "image/png": "[encoded data removed]",
      "text/plain": [
       "<matplotlib.figure.Figure at 0x7efea6a74a90>"
      ]
     },
     "metadata": {},
     "output_type": "display_data"
    }
   ],
   "source": [
    "plots(np.squeeze(segmentations_train[0:15,:,:,25]), rows=3, scale = (0, 10))"
   ]
  },
  {
   "cell_type": "markdown",
   "metadata": {},
   "source": [
    "## 1.7 Check false-positive"
   ]
  },
  {
   "cell_type": "code",
   "execution_count": 68,
   "metadata": {},
   "outputs": [],
   "source": [
    "idx_fpos = (label_train == 0) & (segmentations_train != 0);"
   ]
  },
  {
   "cell_type": "code",
   "execution_count": 69,
   "metadata": {},
   "outputs": [],
   "source": [
    "mask_fpos = np.zeros(label_train.shape, dtype=precision_global)\n",
    "mask_fpos[idx_fpos == True] = 1"
   ]
  },
  {
   "cell_type": "code",
   "execution_count": 70,
   "metadata": {},
   "outputs": [
    {
     "data": {
      "image/png": "[encoded data removed]",
      "text/plain": [
       "<matplotlib.figure.Figure at 0x7efea64a8f60>"
      ]
     },
     "metadata": {},
     "output_type": "display_data"
    }
   ],
   "source": [
    "plots(200*(np.squeeze(mask_fpos[0:15,:,:,25])), rows=3)"
   ]
  },
  {
   "cell_type": "markdown",
   "metadata": {},
   "source": [
    "# 2 Fine-tuning"
   ]
  },
  {
   "cell_type": "markdown",
   "metadata": {},
   "source": [
    "## 2.2 Rebuild training dataset"
   ]
  },
  {
   "cell_type": "code",
   "execution_count": 71,
   "metadata": {},
   "outputs": [],
   "source": [
    "del x_train, y_train"
   ]
  },
  {
   "cell_type": "code",
   "execution_count": 72,
   "metadata": {},
   "outputs": [
    {
     "name": "stdout",
     "output_type": "stream",
     "text": [
      "0\n",
      "1\n",
      "2\n",
      "3\n",
      "4\n",
      "5\n",
      "6\n",
      "7\n",
      "8\n",
      "9\n",
      "10\n",
      "11\n",
      "12\n",
      "13\n",
      "14\n",
      "15\n"
     ]
    },
    {
     "data": {
      "text/plain": [
       "((8006, 2, 27, 27, 21), (8006, 243, 11))"
      ]
     },
     "execution_count": 72,
     "metadata": {},
     "output_type": "execute_result"
    }
   ],
   "source": [
    "extraction_step_ft = (6,6,3)\n",
    "x_train, y_train = build_set(data_train, label_train, extraction_step_ft, segment_size, core_size, mask_fpos)\n",
    "x_train.shape, y_train.shape"
   ]
  },
  {
   "cell_type": "code",
   "execution_count": 24,
   "metadata": {},
   "outputs": [],
   "source": [
    "# shuffle array\n",
    "idxs_shuffle = shuffle(x_train)\n",
    "idxs_shuffle = shuffle(y_train, idxs_shuffle)"
   ]
  },
  {
   "cell_type": "code",
   "execution_count": 73,
   "metadata": {},
   "outputs": [],
   "source": [
    "save_array('tmp/x_train.bc', x_train)\n",
    "save_array('tmp/y_train.bc', y_train)"
   ]
  },
  {
   "cell_type": "code",
   "execution_count": 4,
   "metadata": {},
   "outputs": [],
   "source": [
    "x_train = load_array('tmp/x_train.bc')\n",
    "y_train = load_array('tmp/y_train.bc')"
   ]
  },
  {
   "cell_type": "markdown",
   "metadata": {},
   "source": [
    "## 2.3 Regenerate model"
   ]
  },
  {
   "cell_type": "code",
   "execution_count": 74,
   "metadata": {},
   "outputs": [],
   "source": [
    "from keras.callbacks import ModelCheckpoint\n",
    "from keras.callbacks import CSVLogger\n",
    "from keras.callbacks import EarlyStopping\n",
    "\n",
    "from callback_custom import EarlyStoppingLowLR\n",
    "from callback_custom import ReduceLROnPlateauBestWeight\n",
    "\n",
    "\n",
    "\n",
    "# Model checkpoint to save the training results\n",
    "checkpointer = ModelCheckpoint(\n",
    "    filepath=model_filename.format('2'),\n",
    "    monitor=monitor,\n",
    "    verbose=0,\n",
    "    save_best_only=True,\n",
    "    save_weights_only=True)\n",
    "\n",
    "# CSVLogger to save the training results in a csv file\n",
    "csv_logger = CSVLogger(csv_filename.format(1), separator=';')\n",
    "\n",
    "\n",
    "stopper = EarlyStoppingLowLR(patience=patience, monitor=monitor, thresh_LR=1e-5)\n",
    "\n",
    "learning_rate_reduction = ReduceLROnPlateauBestWeight(filepath=model_filename.format('2'),\n",
    "                                                      monitor=monitor, \n",
    "                                                      patience=patience, \n",
    "                                                      verbose=1, \n",
    "                                                      factor=0.1, \n",
    "                                                      min_lr=1.001e-5)\n",
    "\n",
    "callbacks = [checkpointer, csv_logger, learning_rate_reduction, stopper]"
   ]
  },
  {
   "cell_type": "code",
   "execution_count": 75,
   "metadata": {
    "scrolled": false
   },
   "outputs": [
    {
     "name": "stdout",
     "output_type": "stream",
     "text": [
      "Train on 7205 samples, validate on 801 samples\n",
      "Epoch 1/40\n",
      "7205/7205 [==============================] - 45s 6ms/step - loss: 0.0553 - categorical_accuracy: 0.9784 - val_loss: 0.0024 - val_categorical_accuracy: 0.9996\n",
      "Epoch 2/40\n",
      "7205/7205 [==============================] - 43s 6ms/step - loss: 0.0413 - categorical_accuracy: 0.9832 - val_loss: 0.0036 - val_categorical_accuracy: 0.9988\n",
      "Epoch 3/40\n",
      "7200/7205 [============================>.] - ETA: 0s - loss: 0.0366 - categorical_accuracy: 0.98490.0001 1e-05\n",
      "7205/7205 [==============================] - 43s 6ms/step - loss: 0.0366 - categorical_accuracy: 0.9849 - val_loss: 0.0057 - val_categorical_accuracy: 0.9978\n",
      "Epoch 4/40\n",
      "7200/7205 [============================>.] - ETA: 0s - loss: 0.0336 - categorical_accuracy: 0.98610.0001 1e-05\n",
      "7205/7205 [==============================] - 44s 6ms/step - loss: 0.0336 - categorical_accuracy: 0.9861 - val_loss: 0.0066 - val_categorical_accuracy: 0.9973\n",
      "Epoch 5/40\n",
      "7205/7205 [==============================] - 44s 6ms/step - loss: 0.0310 - categorical_accuracy: 0.9871 - val_loss: 0.0032 - val_categorical_accuracy: 0.9988\n",
      "Epoch 6/40\n",
      "7200/7205 [============================>.] - ETA: 0s - loss: 0.0294 - categorical_accuracy: 0.98780.0001 1e-05\n",
      "7205/7205 [==============================] - 44s 6ms/step - loss: 0.0294 - categorical_accuracy: 0.9878 - val_loss: 0.0039 - val_categorical_accuracy: 0.9985\n",
      "Epoch 7/40\n",
      "7205/7205 [==============================] - 45s 6ms/step - loss: 0.0275 - categorical_accuracy: 0.9887 - val_loss: 0.0019 - val_categorical_accuracy: 0.9993\n",
      "Epoch 8/40\n",
      "7200/7205 [============================>.] - ETA: 0s - loss: 0.0248 - categorical_accuracy: 0.9898 - ETA: 44s - loss: 0.0337 - categorical_accuracy: 0. - ETA: 43s - loss: - ETA: 0s - loss: 0.0248 - categorical_accuracy: 0.980.0001 1e-05\n",
      "7205/7205 [==============================] - 45s 6ms/step - loss: 0.0248 - categorical_accuracy: 0.9898 - val_loss: 0.0065 - val_categorical_accuracy: 0.9975\n",
      "Epoch 9/40\n",
      "7200/7205 [============================>.] - ETA: 0s - loss: 0.0229 - categorical_accuracy: 0.99070.0001 1e-05\n",
      "7205/7205 [==============================] - 45s 6ms/step - loss: 0.0229 - categorical_accuracy: 0.9907 - val_loss: 0.0053 - val_categorical_accuracy: 0.9981\n",
      "Epoch 10/40\n",
      "7200/7205 [============================>.] - ETA: 0s - loss: 0.0212 - categorical_accuracy: 0.99140.0001 1e-05\n",
      "7205/7205 [==============================] - 45s 6ms/step - loss: 0.0212 - categorical_accuracy: 0.9914 - val_loss: 0.0027 - val_categorical_accuracy: 0.9989\n",
      "Epoch 11/40\n",
      "7200/7205 [============================>.] - ETA: 0s - loss: 0.0195 - categorical_accuracy: 0.99210.0001 1e-05\n",
      "7205/7205 [==============================] - 45s 6ms/step - loss: 0.0195 - categorical_accuracy: 0.9922 - val_loss: 0.0032 - val_categorical_accuracy: 0.9988\n",
      "Epoch 12/40\n",
      "7200/7205 [============================>.] - ETA: 0s - loss: 0.0189 - categorical_accuracy: 0.99240.0001 1e-05\n",
      "7205/7205 [==============================] - 45s 6ms/step - loss: 0.0188 - categorical_accuracy: 0.9924 - val_loss: 0.0023 - val_categorical_accuracy: 0.9990\n",
      "Epoch 13/40\n",
      "7200/7205 [============================>.] - ETA: 0s - loss: 0.0167 - categorical_accuracy: 0.9933 ETA: 3s - los\n",
      "Epoch 00013: ReduceLROnPlateau reducing learning rate to 1.001e-05.\n",
      "7205/7205 [==============================] - 45s 6ms/step - loss: 0.0167 - categorical_accuracy: 0.9933 - val_loss: 0.0038 - val_categorical_accuracy: 0.9985\n",
      "Epoch 14/40\n",
      "7205/7205 [==============================] - 45s 6ms/step - loss: 0.0237 - categorical_accuracy: 0.9904 - val_loss: 0.0022 - val_categorical_accuracy: 0.9992\n",
      "Epoch 15/40\n",
      "7200/7205 [============================>.] - ETA: 0s - loss: 0.0228 - categorical_accuracy: 0.9907 ETA: 1s - loss: 0.0228 - categorical_ac1.001e-05 1e-05\n",
      "7205/7205 [==============================] - 45s 6ms/step - loss: 0.0228 - categorical_accuracy: 0.9908 - val_loss: 0.0024 - val_categorical_accuracy: 0.9991\n",
      "Epoch 16/40\n",
      "7205/7205 [==============================] - 45s 6ms/step - loss: 0.0224 - categorical_accuracy: 0.9910 - val_loss: 0.0020 - val_categorical_accuracy: 0.9992\n",
      "Epoch 17/40\n",
      "7200/7205 [============================>.] - ETA: 0s - loss: 0.0220 - categorical_accuracy: 0.9911 ETA: 2s - loss: 0.0220 - cate1.001e-05 1e-05\n",
      "7205/7205 [==============================] - 45s 6ms/step - loss: 0.0220 - categorical_accuracy: 0.9911 - val_loss: 0.0027 - val_categorical_accuracy: 0.9990\n",
      "Epoch 18/40\n",
      "7200/7205 [============================>.] - ETA: 0s - loss: 0.0217 - categorical_accuracy: 0.99131.001e-05 1e-05\n",
      "7205/7205 [==============================] - 45s 6ms/step - loss: 0.0217 - categorical_accuracy: 0.9913 - val_loss: 0.0027 - val_categorical_accuracy: 0.9990\n",
      "Epoch 19/40\n",
      "7200/7205 [============================>.] - ETA: 0s - loss: 0.0214 - categorical_accuracy: 0.99141.001e-05 1e-05\n",
      "7205/7205 [==============================] - 45s 6ms/step - loss: 0.0214 - categorical_accuracy: 0.9914 - val_loss: 0.0024 - val_categorical_accuracy: 0.9991\n",
      "Epoch 20/40\n",
      "7200/7205 [============================>.] - ETA: 0s - loss: 0.0211 - categorical_accuracy: 0.99161.001e-05 1e-05\n",
      "7205/7205 [==============================] - 45s 6ms/step - loss: 0.0211 - categorical_accuracy: 0.9916 - val_loss: 0.0029 - val_categorical_accuracy: 0.9989\n",
      "Epoch 21/40\n",
      "7200/7205 [============================>.] - ETA: 0s - loss: 0.0208 - categorical_accuracy: 0.99171.001e-05 1e-05\n",
      "7205/7205 [==============================] - 45s 6ms/step - loss: 0.0208 - categorical_accuracy: 0.9917 - val_loss: 0.0024 - val_categorical_accuracy: 0.9991\n"
     ]
    },
    {
     "data": {
      "text/plain": [
       "<keras.callbacks.History at 0x7efe9affc7f0>"
      ]
     },
     "execution_count": 75,
     "metadata": {},
     "output_type": "execute_result"
    }
   ],
   "source": [
    "# Build model\n",
    "model = generate_model(num_classes, num_channel, segment_size, core_size)\n",
    "\n",
    "# Load optimized weights\n",
    "model.load_weights(model_filename.format('1'))\n",
    "\n",
    "K.set_value(model.optimizer.lr, 1e-4)\n",
    "\n",
    "# Start fine-tuning\n",
    "model.fit(\n",
    "    x_train,\n",
    "    y_train,\n",
    "    epochs=nb_epoch,\n",
    "    validation_split=validation_split,\n",
    "    verbose=1,\n",
    "    callbacks=callbacks)\n",
    "\n",
    "# freeing space\n",
    "#del x_train\n",
    "#del y_train"
   ]
  },
  {
   "cell_type": "code",
   "execution_count": 76,
   "metadata": {},
   "outputs": [],
   "source": [
    "# Load best model\n",
    "model = generate_model(num_classes, num_channel, segment_size, core_size)\n",
    "model.load_weights(model_filename.format('2'))"
   ]
  },
  {
   "cell_type": "code",
   "execution_count": 77,
   "metadata": {},
   "outputs": [
    {
     "name": "stdout",
     "output_type": "stream",
     "text": [
      "800/800 [==============================] - 1s 1ms/step\n"
     ]
    },
    {
     "data": {
      "text/plain": [
       "[0.0019452046148944646, 0.99926935911178594]"
      ]
     },
     "execution_count": 77,
     "metadata": {},
     "output_type": "execute_result"
    }
   ],
   "source": [
    "idx_start_valid = int(len(x_train)*validation_split)\n",
    "model.evaluate(x_train[-idx_start_valid:], y_train[-idx_start_valid:], verbose=1)"
   ]
  },
  {
   "cell_type": "code",
   "execution_count": 78,
   "metadata": {},
   "outputs": [
    {
     "name": "stdout",
     "output_type": "stream",
     "text": [
      "1\n",
      "3300/3300 [==============================] - 3s 860us/step\n",
      "2\n",
      "3300/3300 [==============================] - 3s 800us/step\n",
      "3\n",
      "3300/3300 [==============================] - 3s 801us/step\n",
      "4\n",
      "3300/3300 [==============================] - 3s 802us/step\n"
     ]
    }
   ],
   "source": [
    "segmentations_test = []\n",
    "\n",
    "for i_case, case_idx in enumerate(idxs_test):\n",
    "\n",
    "    print(case_idx)\n",
    "    input_test = data_test[i_case, :, :, :, :]\n",
    "\n",
    "    x_test = np.zeros((len_patch, num_channel,) + segment_size, dtype=precision_global)\n",
    "    for i_channel in range(num_channel):\n",
    "        x_test[:, i_channel, :, :, :] = extract_patches(input_test[i_channel], patch_shape=segment_size, extraction_step=(9, 9, 3))\n",
    "\n",
    "    pred = model.predict(x_test, verbose=1)\n",
    "    pred_classes = np.argmax(pred, axis=2)\n",
    "    pred_classes = pred_classes.reshape((len(pred_classes), 9, 9, 3))\n",
    "    segmentation = reconstruct_volume(pred_classes, matrix_size)\n",
    "    #segmentation = reconstruct_volume_majority(pred_classes, matrix_size, extraction_step=(3, 3, 3))\n",
    "    \n",
    "    segmentations_test = segmentations_test + [segmentation]\n",
    "    \n",
    "segmentations_test = np.stack(segmentations_test, axis=0)"
   ]
  },
  {
   "cell_type": "code",
   "execution_count": 79,
   "metadata": {},
   "outputs": [
    {
     "data": {
      "text/plain": [
       "10.0"
      ]
     },
     "execution_count": 79,
     "metadata": {},
     "output_type": "execute_result"
    }
   ],
   "source": [
    "segmentations_test.max()"
   ]
  },
  {
   "cell_type": "code",
   "execution_count": 80,
   "metadata": {},
   "outputs": [
    {
     "data": {
      "image/png": "[encoded data removed]",
      "text/plain": [
       "<matplotlib.figure.Figure at 0x7efd71a79eb8>"
      ]
     },
     "metadata": {},
     "output_type": "display_data"
    }
   ],
   "source": [
    "plots(np.squeeze(label_test[:,:,:,23]), rows=1, scale = (0, 10))"
   ]
  },
  {
   "cell_type": "code",
   "execution_count": 83,
   "metadata": {},
   "outputs": [
    {
     "data": {
      "image/png": "[encoded data removed]",
      "text/plain": [
       "<matplotlib.figure.Figure at 0x7efeb65234a8>"
      ]
     },
     "metadata": {},
     "output_type": "display_data"
    }
   ],
   "source": [
    "plots(np.squeeze(segmentations_test[:,:,:,23]), rows=1, scale = (0, 10))"
   ]
  },
  {
   "cell_type": "markdown",
   "metadata": {},
   "source": [
    "# 3 Post-processing"
   ]
  },
  {
   "cell_type": "markdown",
   "metadata": {},
   "source": [
    "## 3.1 Pick the largest connected component for each class"
   ]
  },
  {
   "cell_type": "code",
   "execution_count": 82,
   "metadata": {},
   "outputs": [],
   "source": [
    "for i_case, case_idx in enumerate(idxs_test):\n",
    "    segmentation = np.squeeze(segmentations_test[i_case,:,:,:]);\n",
    "    tmp = np.zeros(segmentation.shape, dtype=segmentation.dtype)\n",
    "    \n",
    "    for class_idx in class_mapper_inv :\n",
    "        mask = (segmentation == class_idx)\n",
    "        \n",
    "        if class_idx != 0 and mask.sum() > 0:\n",
    "            labeled_mask, num_cc = ndimage.label(mask)\n",
    "            largest_cc_mask = (labeled_mask == (np.bincount(labeled_mask.flat)[1:].argmax() + 1))\n",
    "            \n",
    "            tmp[largest_cc_mask == 1] = class_idx\n",
    "        \n",
    "    segmentations_test[i_case,:,:,:] = tmp"
   ]
  },
  {
   "cell_type": "markdown",
   "metadata": {},
   "source": [
    "## 3.2 Save it "
   ]
  },
  {
   "cell_type": "code",
   "execution_count": 84,
   "metadata": {},
   "outputs": [
    {
     "name": "stdout",
     "output_type": "stream",
     "text": [
      "1\n",
      "2\n",
      "3\n",
      "4\n",
      "Done with Step 3\n"
     ]
    }
   ],
   "source": [
    "for i_case, case_idx in enumerate(idxs_test):\n",
    "    print(case_idx)\n",
    "    \n",
    "    segmentation = np.copy(np.squeeze(segmentations_test[i_case,:,:,:]))\n",
    "    \n",
    "    tmp = np.copy(segmentation)\n",
    "    for class_idx in class_mapper_inv:\n",
    "        segmentation[tmp == class_idx] = class_mapper_inv[class_idx]\n",
    "    del tmp\n",
    "\n",
    "    save_data(segmentation, case_idx, 'label')    \n",
    "\n",
    "print(\"Done with Step 3\")"
   ]
  },
  {
   "cell_type": "markdown",
   "metadata": {},
   "source": [
    "## 3.3 Calculate metric "
   ]
  },
  {
   "cell_type": "code",
   "execution_count": 85,
   "metadata": {},
   "outputs": [],
   "source": [
    "def calc_dice(m1, m2):\n",
    "    return 2*((m1==1) & (m2==1)).sum()/((m1==1).sum() + (m2==1).sum())"
   ]
  },
  {
   "cell_type": "code",
   "execution_count": 86,
   "metadata": {},
   "outputs": [
    {
     "name": "stdout",
     "output_type": "stream",
     "text": [
      "1\t0.9991\tN/A\t0.8784\t0.8406\t0.9524\t0.9302\t0.9153\t0.9249\t0.8402\t0.8072\t0.7797\t0.8155\t\n",
      "2\t0.9992\tN/A\t0.9286\t0.8478\t0.9316\t0.9394\t0.9908\t0.9645\t0.9348\t0.9522\t0.8557\t0.7773\t\n",
      "3\t0.9986\tN/A\t0.9398\t0.8878\t0.9532\t0.9583\t0.9060\t0.8978\t0.8790\t0.9058\t0.0000\t0.7158\t\n",
      "4\t0.9987\tN/A\t0.8209\t0.8163\t0.8705\t0.9231\t0.7877\t0.8666\t0.9278\t0.8684\t0.7901\t0.9147\t\n"
     ]
    }
   ],
   "source": [
    "for i_case, case_idx in enumerate(idxs_test):\n",
    "    print(case_idx, end='\\t')\n",
    "    print('{:.4f}'.format(accuracy_score(label_test[i_case,:,:,:].flat, segmentations_test[i_case,:,:,:].flat)), end='\\t')\n",
    "    for class_idx in class_mapper_inv:\n",
    "        mask = (np.squeeze(segmentations_test[i_case,:,:,:]) == class_idx)\n",
    "        if class_idx != 0 and mask.sum() > 0:\n",
    "            print('{:.4f}'.format(precision_score(label_test[i_case,:,:,:][mask], segmentations_test[i_case,:,:,:][mask], average='micro')), end='\\t')\n",
    "        else:\n",
    "            print('N/A', end='\\t')\n",
    "    print()"
   ]
  },
  {
   "cell_type": "code",
   "execution_count": 87,
   "metadata": {},
   "outputs": [
    {
     "name": "stdout",
     "output_type": "stream",
     "text": [
      "1\t0\t0.9155\t0.8855\t0.8889\t0.7477\t0.8268\t0.8531\t0.7894\t0.7986\t0.7629\t0.7657\t\n",
      "2\t0\t0.8478\t0.7959\t0.8226\t0.8986\t0.7797\t0.8746\t0.8060\t0.8817\t0.7944\t0.6248\t\n",
      "3\t0\t0.8715\t0.8614\t0.8740\t0.8578\t0.8084\t0.8651\t0.6875\t0.7774\t0.0000\t0.7674\t\n",
      "4\t0\t0.8943\t0.7619\t0.7832\t0.3396\t0.7076\t0.8168\t0.8046\t0.7018\t0.7222\t0.8036\t\n"
     ]
    }
   ],
   "source": [
    "for i_case, case_idx in enumerate(idxs_test):\n",
    "    print(case_idx, end='\\t')\n",
    "    for class_idx in class_mapper_inv:\n",
    "        mask = (np.squeeze(segmentations_test[i_case,:,:,:]) == class_idx)\n",
    "        if class_idx != 0 and mask.sum() > 0:\n",
    "            print('{:.4f}'.format(calc_dice((label_test[i_case,:,:,:]==class_idx).flat, (segmentations_test[i_case,:,:,:]==class_idx).flat)), end='\\t')\n",
    "        else:\n",
    "            print(0, end='\\t')\n",
    "    print()"
   ]
  },
  {
   "cell_type": "code",
   "execution_count": null,
   "metadata": {},
   "outputs": [],
   "source": []
  },
  {
   "cell_type": "code",
   "execution_count": null,
   "metadata": {},
   "outputs": [],
   "source": []
  }
 ],
 "metadata": {
  "kernelspec": {
   "display_name": "Python 3",
   "language": "python",
   "name": "python3"
  },
  "language_info": {
   "codemirror_mode": {
    "name": "ipython",
    "version": 3
   },
   "file_extension": ".py",
   "mimetype": "text/x-python",
   "name": "python",
   "nbconvert_exporter": "python",
   "pygments_lexer": "ipython3",
   "version": "3.5.2"
  }
 },
 "nbformat": 4,
 "nbformat_minor": 2
}
