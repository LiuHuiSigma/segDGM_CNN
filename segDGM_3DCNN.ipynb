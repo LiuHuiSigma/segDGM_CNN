{
 "cells": [
  {
   "cell_type": "code",
   "execution_count": 1,
   "metadata": {},
   "outputs": [
    {
     "name": "stderr",
     "output_type": "stream",
     "text": [
      "Using TensorFlow backend.\n"
     ]
    }
   ],
   "source": [
    "%matplotlib inline\n",
    "import nibabel as nib\n",
    "import numpy as np\n",
    "from scipy import ndimage\n",
    "from keras import backend as K\n",
    "from sklearn.metrics import accuracy_score, precision_score\n",
    "\n",
    "from utils import *\n",
    "from model_FCNN import generate_model\n"
   ]
  },
  {
   "cell_type": "code",
   "execution_count": 2,
   "metadata": {},
   "outputs": [],
   "source": [
    "from importlib import reload\n",
    "\n",
    "import keras\n",
    "reload(keras)\n",
    "from keras import backend as K\n",
    "\n",
    "import utils\n",
    "reload(utils)\n",
    "from utils import *\n",
    "\n",
    "import model_FCNN\n",
    "reload(model_FCNN)\n",
    "from model_FCNN import generate_model\n",
    "\n",
    "import callback_custom\n",
    "reload(callback_custom);"
   ]
  },
  {
   "cell_type": "markdown",
   "metadata": {},
   "source": [
    "# Problem configuration"
   ]
  },
  {
   "cell_type": "code",
   "execution_count": 3,
   "metadata": {},
   "outputs": [],
   "source": [
    "num_classes = 11\n",
    "num_channel = 2\n",
    "\n",
    "# K-fold validation (K=5)\n",
    "n_training = 16\n",
    "n_test = 4\n",
    "\n",
    "idxs_training = list(range(1, 1+16))\n",
    "idxs_test = list(range(17, 17+4))\n",
    "\n",
    "patience = 5\n",
    "model_filename = 'models/outrun_step_{}.h5'\n",
    "csv_filename = 'log/outrun_step_{}.cvs'\n",
    "\n",
    "nb_epoch = 40\n",
    "validation_split = 0.10\n",
    "monitor = 'val_loss'#'val_categorical_accuracy'\n",
    "\n",
    "class_mapper = {0:0}\n",
    "class_mapper.update({ i+1:i for i in range(1, 1+10) })\n",
    "class_mapper_inv = {0:0}\n",
    "class_mapper_inv.update({ i:i+1 for i in range(1, 1+10) })\n",
    "\n",
    "matrix_size = (160, 220, 48)\n",
    "\n",
    "extraction_step = (3, 3, 1)\n",
    "#extraction_step = (5, 5, 3)\n",
    "\n",
    "segment_size = (27, 27, 21)\n",
    "core_size = (9, 9, 3)"
   ]
  },
  {
   "cell_type": "markdown",
   "metadata": {},
   "source": [
    "# Architecture"
   ]
  },
  {
   "cell_type": "markdown",
   "metadata": {},
   "source": [
    "# 1. Initial segmentation"
   ]
  },
  {
   "cell_type": "markdown",
   "metadata": {},
   "source": [
    "## 1.1 Read data"
   ]
  },
  {
   "cell_type": "code",
   "execution_count": 4,
   "metadata": {},
   "outputs": [],
   "source": [
    "QSM_train = np.empty(((n_training,) + matrix_size), dtype=precision_global)\n",
    "MAG_train = np.empty(((n_training,) + matrix_size), dtype=precision_global)\n",
    "R2S_train = np.empty(((n_training,) + matrix_size), dtype=precision_global)\n",
    "label_train = np.empty(((n_training,) + matrix_size), dtype=precision_global)\n",
    "for i, case_idx in enumerate(idxs_training):\n",
    "    QSM_train[i, :, :, :] = read_data(case_idx, 'QSM')\n",
    "    MAG_train[i, :, :, :] = read_data(case_idx, 'MAG')\n",
    "    R2S_train[i, :, :, :] = read_data(case_idx, 'R2S')\n",
    "    label_train[i, :, :, :] = read_data(case_idx, 'label')"
   ]
  },
  {
   "cell_type": "code",
   "execution_count": 5,
   "metadata": {},
   "outputs": [],
   "source": [
    "#data_train = np.stack((QSM_train, MAG_train, R2S_train), axis = 1)\n",
    "data_train = np.stack((QSM_train, R2S_train), axis = 1)\n",
    "#data_train = np.stack((QSM_train,), axis = 1)"
   ]
  },
  {
   "cell_type": "code",
   "execution_count": 6,
   "metadata": {},
   "outputs": [],
   "source": [
    "QSM_test = np.empty(((n_test,) + matrix_size), dtype=precision_global)\n",
    "MAG_test = np.empty(((n_test,) + matrix_size), dtype=precision_global)\n",
    "R2S_test = np.empty(((n_test,) + matrix_size), dtype=precision_global)\n",
    "label_test = np.empty(((n_test,) + matrix_size), dtype=precision_global)\n",
    "for i, case_idx in enumerate(idxs_test):\n",
    "    QSM_test[i, :, :, :] = read_data(case_idx, 'QSM')\n",
    "    MAG_test[i, :, :, :] = read_data(case_idx, 'MAG')\n",
    "    R2S_test[i, :, :, :] = read_data(case_idx, 'R2S')\n",
    "    label_test[i, :, :, :] = read_data(case_idx, 'label')"
   ]
  },
  {
   "cell_type": "code",
   "execution_count": 7,
   "metadata": {},
   "outputs": [],
   "source": [
    "#data_test = np.stack((QSM_test, MAG_test, R2S_test), axis = 1)\n",
    "data_test = np.stack((QSM_test, R2S_test), axis = 1)\n",
    "#data_test = np.stack((QSM_test,), axis = 1)"
   ]
  },
  {
   "cell_type": "markdown",
   "metadata": {},
   "source": [
    "## 1.2 Pre-processing"
   ]
  },
  {
   "cell_type": "code",
   "execution_count": 8,
   "metadata": {},
   "outputs": [],
   "source": [
    "## Intensity normalisation (zero mean and unit variance)\n",
    "input_mean = 127.0\n",
    "input_std = 128.0\n",
    "data_train = (data_train - input_mean) / input_std\n",
    "data_test = (data_test - input_mean) / input_std\n",
    "\n",
    "# Map class label\n",
    "tmp = np.copy(label_train)\n",
    "for class_idx in class_mapper:\n",
    "    label_train[tmp == class_idx] = class_mapper[class_idx]\n",
    "tmp = np.copy(label_test)\n",
    "for class_idx in class_mapper:\n",
    "    label_test[tmp == class_idx] = class_mapper[class_idx]\n",
    "del tmp"
   ]
  },
  {
   "cell_type": "code",
   "execution_count": 9,
   "metadata": {},
   "outputs": [
    {
     "data": {
      "text/plain": [
       "10.0"
      ]
     },
     "execution_count": 9,
     "metadata": {},
     "output_type": "execute_result"
    }
   ],
   "source": [
    "label_train.max()"
   ]
  },
  {
   "cell_type": "code",
   "execution_count": 10,
   "metadata": {},
   "outputs": [
    {
     "data": {
      "image/png": "[encoded data removed]",
      "text/plain": [
       "<matplotlib.figure.Figure at 0x7f2d272f5da0>"
      ]
     },
     "metadata": {},
     "output_type": "display_data"
    }
   ],
   "source": [
    "plots(np.squeeze(label_train[0,:,:,[29,25]]), scale = (0, 10))"
   ]
  },
  {
   "cell_type": "markdown",
   "metadata": {},
   "source": [
    "## 1.3 Data preparation"
   ]
  },
  {
   "cell_type": "code",
   "execution_count": 11,
   "metadata": {},
   "outputs": [
    {
     "name": "stdout",
     "output_type": "stream",
     "text": [
      "0\n",
      "1\n",
      "2\n",
      "3\n",
      "4\n",
      "5\n",
      "6\n",
      "7\n",
      "8\n",
      "9\n",
      "10\n",
      "11\n",
      "12\n",
      "13\n",
      "14\n",
      "15\n"
     ]
    },
    {
     "data": {
      "text/plain": [
       "((33015, 2, 27, 27, 21), (33015, 243, 11))"
      ]
     },
     "execution_count": 11,
     "metadata": {},
     "output_type": "execute_result"
    }
   ],
   "source": [
    "x_train, y_train = build_set(data_train, label_train, extraction_step, segment_size, core_size)\n",
    "x_train.shape, y_train.shape"
   ]
  },
  {
   "cell_type": "code",
   "execution_count": 12,
   "metadata": {},
   "outputs": [],
   "source": [
    "# shuffle array\n",
    "idxs_shuffle = shuffle(x_train)\n",
    "idxs_shuffle = shuffle(y_train, idxs_shuffle)"
   ]
  },
  {
   "cell_type": "markdown",
   "metadata": {},
   "source": [
    "## 1.4 Configure callbacks"
   ]
  },
  {
   "cell_type": "code",
   "execution_count": 13,
   "metadata": {},
   "outputs": [],
   "source": [
    "from keras.callbacks import ModelCheckpoint\n",
    "from keras.callbacks import CSVLogger\n",
    "from keras.callbacks import EarlyStopping\n",
    "\n",
    "from callback_custom import EarlyStoppingLowLR\n",
    "from callback_custom import ReduceLROnPlateauBestWeight\n",
    "\n",
    "\n",
    "\n",
    "# Model checkpoint to save the training results\n",
    "checkpointer = ModelCheckpoint(\n",
    "    filepath=model_filename.format('1'),\n",
    "    monitor=monitor,\n",
    "    verbose=0,\n",
    "    save_best_only=True,\n",
    "    save_weights_only=True)\n",
    "\n",
    "# CSVLogger to save the training results in a csv file\n",
    "csv_logger = CSVLogger(csv_filename.format(1), separator=';')\n",
    "\n",
    "\n",
    "stopper = EarlyStoppingLowLR(patience=patience, monitor=monitor, thresh_LR=1e-5)\n",
    "\n",
    "learning_rate_reduction = ReduceLROnPlateauBestWeight(filepath=model_filename.format('1'),\n",
    "                                                      monitor=monitor, \n",
    "                                                      patience=patience, \n",
    "                                                      verbose=1, \n",
    "                                                      factor=0.1, \n",
    "                                                      min_lr=1.001e-5)\n",
    "\n",
    "callbacks = [checkpointer, csv_logger, learning_rate_reduction, stopper]"
   ]
  },
  {
   "cell_type": "markdown",
   "metadata": {},
   "source": [
    "## 1.5 Training"
   ]
  },
  {
   "cell_type": "code",
   "execution_count": 14,
   "metadata": {
    "scrolled": false
   },
   "outputs": [
    {
     "name": "stdout",
     "output_type": "stream",
     "text": [
      "Train on 29713 samples, validate on 3302 samples\n",
      "Epoch 1/40\n",
      "29713/29713 [==============================] - 187s 6ms/step - loss: 0.3351 - categorical_accuracy: 0.8946 - val_loss: 0.2441 - val_categorical_accuracy: 0.9162\n",
      "Epoch 2/40\n",
      "29713/29713 [==============================] - 183s 6ms/step - loss: 0.0824 - categorical_accuracy: 0.9658 - val_loss: 0.4243 - val_categorical_accuracy: 0.9086\n",
      "Epoch 3/40\n",
      "29696/29713 [============================>.] - ETA: 0s - loss: 0.0387 - categorical_accuracy: 0.98440.001 1e-05\n",
      "29713/29713 [==============================] - 183s 6ms/step - loss: 0.0387 - categorical_accuracy: 0.9844 - val_loss: 0.6648 - val_categorical_accuracy: 0.9029\n",
      "Epoch 4/40\n",
      "29696/29713 [============================>.] - ETA: 0s - loss: 0.0210 - categorical_accuracy: 0.99210.001 1e-05\n",
      "29713/29713 [==============================] - 184s 6ms/step - loss: 0.0210 - categorical_accuracy: 0.9921 - val_loss: 0.5353 - val_categorical_accuracy: 0.9132\n",
      "Epoch 5/40\n",
      "29696/29713 [============================>.] - ETA: 0s - loss: 0.0222 - categorical_accuracy: 0.99210.001 1e-05\n",
      "29713/29713 [==============================] - 185s 6ms/step - loss: 0.0222 - categorical_accuracy: 0.9921 - val_loss: 0.4863 - val_categorical_accuracy: 0.9138\n",
      "Epoch 6/40\n",
      "29696/29713 [============================>.] - ETA: 0s - loss: 0.0074 - categorical_accuracy: 0.9974 - ETA: 31s - loss: - ETA: 23s - loss: 0.0077 - categorical_accura - ETA: 21s - 0.001 1e-05\n",
      "29713/29713 [==============================] - 188s 6ms/step - loss: 0.0074 - categorical_accuracy: 0.9974 - val_loss: 0.7299 - val_categorical_accuracy: 0.9132\n",
      "Epoch 7/40\n",
      "29696/29713 [============================>.] - ETA: 0s - loss: 0.0071 - categorical_accuracy: 0.9976 - ETA: 57s - loss: 0.0070 - categorica - ETA: 5 - ETA: 10s - \n",
      "Epoch 00007: ReduceLROnPlateau reducing learning rate to 0.00010000000474974513.\n",
      "29713/29713 [==============================] - 188s 6ms/step - loss: 0.0071 - categorical_accuracy: 0.9976 - val_loss: 0.7247 - val_categorical_accuracy: 0.9124\n",
      "Epoch 8/40\n",
      "29713/29713 [==============================] - 188s 6ms/step - loss: 0.0764 - categorical_accuracy: 0.9679 - val_loss: 0.4582 - val_categorical_accuracy: 0.9107\n",
      "Epoch 9/40\n",
      "29696/29713 [============================>.] - ETA: 0s - loss: 0.0462 - categorical_accuracy: 0.9810 - ETA: 4s - los0.0001 1e-05\n",
      "29713/29713 [==============================] - 189s 6ms/step - loss: 0.0461 - categorical_accuracy: 0.9811 - val_loss: 0.6806 - val_categorical_accuracy: 0.9050\n",
      "Epoch 10/40\n",
      "29696/29713 [============================>.] - ETA: 0s - loss: 0.0260 - categorical_accuracy: 0.9898 ETA: 0s - loss: 0.0260 - categorical_accuracy: 0.0001 1e-05\n",
      "29713/29713 [==============================] - 189s 6ms/step - loss: 0.0260 - categorical_accuracy: 0.9898 - val_loss: 0.8177 - val_categorical_accuracy: 0.9057\n",
      "Epoch 11/40\n",
      "29696/29713 [============================>.] - ETA: 0s - loss: 0.0148 - categorical_accuracy: 0.99460.0001 1e-05\n",
      "29713/29713 [==============================] - 190s 6ms/step - loss: 0.0148 - categorical_accuracy: 0.9946 - val_loss: 0.9357 - val_categorical_accuracy: 0.9044\n",
      "Epoch 12/40\n",
      "29696/29713 [============================>.] - ETA: 0s - loss: 0.0083 - categorical_accuracy: 0.9971\n",
      "Epoch 00012: ReduceLROnPlateau reducing learning rate to 1.001e-05.\n",
      "29713/29713 [==============================] - 192s 6ms/step - loss: 0.0083 - categorical_accuracy: 0.9971 - val_loss: 1.0586 - val_categorical_accuracy: 0.9023\n",
      "Epoch 13/40\n",
      "29713/29713 [==============================] - 193s 6ms/step - loss: 0.0944 - categorical_accuracy: 0.9602 - val_loss: 0.3312 - val_categorical_accuracy: 0.9117\n",
      "Epoch 14/40\n",
      "29696/29713 [============================>.] - ETA: 0s - loss: 0.0870 - categorical_accuracy: 0.96321.001e-05 1e-05\n",
      "29713/29713 [==============================] - 194s 7ms/step - loss: 0.0870 - categorical_accuracy: 0.9632 - val_loss: 0.3499 - val_categorical_accuracy: 0.9108\n",
      "Epoch 15/40\n",
      "29696/29713 [============================>.] - ETA: 0s - loss: 0.0823 - categorical_accuracy: 0.96521.001e-05 1e-05\n",
      "29713/29713 [==============================] - 194s 7ms/step - loss: 0.0823 - categorical_accuracy: 0.9652 - val_loss: 0.3714 - val_categorical_accuracy: 0.9100\n",
      "Epoch 16/40\n",
      "29696/29713 [============================>.] - ETA: 0s - loss: 0.0779 - categorical_accuracy: 0.9670 - ETA: 51s - loss: 0.0783 - categorical_ac1.001e-05 1e-05\n",
      "29713/29713 [==============================] - 192s 6ms/step - loss: 0.0779 - categorical_accuracy: 0.9670 - val_loss: 0.4037 - val_categorical_accuracy: 0.9078\n",
      "Epoch 17/40\n",
      "29696/29713 [============================>.] - ETA: 0s - loss: 0.0736 - categorical_accuracy: 0.96891.001e-05 1e-05\n",
      "29713/29713 [==============================] - 188s 6ms/step - loss: 0.0736 - categorical_accuracy: 0.9689 - val_loss: 0.4202 - val_categorical_accuracy: 0.9085\n",
      "Epoch 18/40\n",
      "29696/29713 [============================>.] - ETA: 0s - loss: 0.0693 - categorical_accuracy: 0.9708 - ETA: 21s1.001e-05 1e-05\n",
      "29713/29713 [==============================] - 187s 6ms/step - loss: 0.0693 - categorical_accuracy: 0.9708 - val_loss: 0.4520 - val_categorical_accuracy: 0.9085\n"
     ]
    },
    {
     "data": {
      "text/plain": [
       "<keras.callbacks.History at 0x7f2d00863a58>"
      ]
     },
     "execution_count": 14,
     "metadata": {},
     "output_type": "execute_result"
    }
   ],
   "source": [
    "seed = 47\n",
    "np.random.seed(seed)\n",
    "\n",
    "# Build model\n",
    "model = generate_model(num_classes, num_channel, segment_size, core_size)\n",
    "\n",
    "K.set_value(model.optimizer.lr, 1e-3)\n",
    "\n",
    "model.fit(\n",
    "    x_train,\n",
    "    y_train,\n",
    "    epochs=nb_epoch,\n",
    "    validation_split=validation_split,\n",
    "    verbose=1,\n",
    "    callbacks=callbacks)\n",
    "\n",
    "# freeing space\n",
    "#del x_train\n",
    "#del y_train"
   ]
  },
  {
   "cell_type": "markdown",
   "metadata": {},
   "source": [
    "## 1.6 Classification"
   ]
  },
  {
   "cell_type": "code",
   "execution_count": 15,
   "metadata": {},
   "outputs": [],
   "source": [
    "from keras.models import load_model\n",
    "\n",
    "# Load best model\n",
    "model = generate_model(num_classes, num_channel, segment_size, core_size)\n",
    "model.load_weights(model_filename.format(1))"
   ]
  },
  {
   "cell_type": "code",
   "execution_count": 16,
   "metadata": {},
   "outputs": [
    {
     "name": "stdout",
     "output_type": "stream",
     "text": [
      "3301/3301 [==============================] - 3s 883us/step\n"
     ]
    },
    {
     "data": {
      "text/plain": [
       "[0.24420018160421716, 0.91617561157672056]"
      ]
     },
     "execution_count": 16,
     "metadata": {},
     "output_type": "execute_result"
    }
   ],
   "source": [
    "idx_start_valid = int(len(x_train)*validation_split)\n",
    "model.evaluate(x_train[-idx_start_valid:], y_train[-idx_start_valid:], verbose=1)"
   ]
  },
  {
   "cell_type": "code",
   "execution_count": 17,
   "metadata": {},
   "outputs": [
    {
     "data": {
      "text/plain": [
       "3300"
      ]
     },
     "execution_count": 17,
     "metadata": {},
     "output_type": "execute_result"
    }
   ],
   "source": [
    "len_patch = extract_patches(read_data(1, 'QSM'), patch_shape=segment_size, extraction_step=(9, 9, 3)).shape[0]\n",
    "len_patch"
   ]
  },
  {
   "cell_type": "code",
   "execution_count": 18,
   "metadata": {
    "scrolled": false
   },
   "outputs": [
    {
     "name": "stdout",
     "output_type": "stream",
     "text": [
      "1\n",
      "3300/3300 [==============================] - 3s 858us/step\n",
      "2\n",
      "3300/3300 [==============================] - 3s 824us/step\n",
      "3\n",
      "3300/3300 [==============================] - 3s 824us/step\n",
      "4\n",
      "3300/3300 [==============================] - 3s 821us/step\n",
      "5\n",
      "3300/3300 [==============================] - 3s 836us/step\n",
      "6\n",
      "3300/3300 [==============================] - 3s 837us/step\n",
      "7\n",
      "3300/3300 [==============================] - 3s 836us/step\n",
      "8\n",
      "3300/3300 [==============================] - 3s 830us/step\n",
      "9\n",
      "3300/3300 [==============================] - 3s 840us/step\n",
      "10\n",
      "3300/3300 [==============================] - 3s 834us/step\n",
      "11\n",
      "3300/3300 [==============================] - 3s 834us/step\n",
      "12\n",
      "3300/3300 [==============================] - 3s 832us/step\n",
      "13\n",
      "3300/3300 [==============================] - 3s 822us/step\n",
      "14\n",
      "3300/3300 [==============================] - 3s 838us/step\n",
      "15\n",
      "3300/3300 [==============================] - 3s 832us/step\n",
      "16\n",
      "3300/3300 [==============================] - 3s 836us/step\n"
     ]
    }
   ],
   "source": [
    "segmentations_train = []\n",
    "\n",
    "for i_case, case_idx in enumerate(idxs_training):\n",
    "\n",
    "    print(case_idx)\n",
    "    input_train = data_train[i_case, :, :, :, :]\n",
    "\n",
    "    x_test = np.zeros((len_patch, num_channel,) + segment_size, dtype=precision_global)\n",
    "    for i_channel in range(num_channel):\n",
    "        x_test[:, i_channel, :, :, :] = extract_patches(input_train[i_channel], patch_shape=segment_size, extraction_step=(9, 9, 3))\n",
    "\n",
    "    pred = model.predict(x_test, verbose=1)\n",
    "    pred_classes = np.argmax(pred, axis=2)\n",
    "    pred_classes = pred_classes.reshape((len(pred_classes), 9, 9, 3))\n",
    "    segmentation = reconstruct_volume(pred_classes, matrix_size)\n",
    "    \n",
    "    segmentations_train = segmentations_train + [segmentation]\n",
    "    \n",
    "segmentations_train = np.stack(segmentations_train, axis=0)"
   ]
  },
  {
   "cell_type": "code",
   "execution_count": 19,
   "metadata": {},
   "outputs": [
    {
     "data": {
      "text/plain": [
       "10.0"
      ]
     },
     "execution_count": 19,
     "metadata": {},
     "output_type": "execute_result"
    }
   ],
   "source": [
    "segmentations_train.max()"
   ]
  },
  {
   "cell_type": "code",
   "execution_count": 20,
   "metadata": {},
   "outputs": [
    {
     "data": {
      "image/png": "[encoded data removed]",
      "text/plain": [
       "<matplotlib.figure.Figure at 0x7f2ce8eeab70>"
      ]
     },
     "metadata": {},
     "output_type": "display_data"
    }
   ],
   "source": [
    "plots(np.squeeze(label_train[0:15,:,:,25]), rows=3, scale = (0, 10))"
   ]
  },
  {
   "cell_type": "code",
   "execution_count": 21,
   "metadata": {
    "scrolled": true
   },
   "outputs": [
    {
     "data": {
      "image/png": "[encoded data removed]",
      "text/plain": [
       "<matplotlib.figure.Figure at 0x7f2ce8be9c18>"
      ]
     },
     "metadata": {},
     "output_type": "display_data"
    }
   ],
   "source": [
    "plots(np.squeeze(segmentations_train[0:15,:,:,25]), rows=3, scale = (0, 10))"
   ]
  },
  {
   "cell_type": "markdown",
   "metadata": {},
   "source": [
    "## 1.7 Check false-positive"
   ]
  },
  {
   "cell_type": "code",
   "execution_count": 22,
   "metadata": {},
   "outputs": [],
   "source": [
    "idx_fpos = (label_train == 0) & (segmentations_train != 0);"
   ]
  },
  {
   "cell_type": "code",
   "execution_count": 23,
   "metadata": {},
   "outputs": [],
   "source": [
    "mask_fpos = np.zeros(label_train.shape, dtype=precision_global)\n",
    "mask_fpos[idx_fpos == True] = 1"
   ]
  },
  {
   "cell_type": "code",
   "execution_count": 24,
   "metadata": {},
   "outputs": [
    {
     "data": {
      "image/png": "[encoded data removed]",
      "text/plain": [
       "<matplotlib.figure.Figure at 0x7f2ce867c048>"
      ]
     },
     "metadata": {},
     "output_type": "display_data"
    }
   ],
   "source": [
    "plots(200*(np.squeeze(mask_fpos[0:15,:,:,25])), rows=3)"
   ]
  },
  {
   "cell_type": "markdown",
   "metadata": {},
   "source": [
    "# 2 Fine-tuning"
   ]
  },
  {
   "cell_type": "markdown",
   "metadata": {},
   "source": [
    "## 2.2 Rebuild training dataset"
   ]
  },
  {
   "cell_type": "code",
   "execution_count": 25,
   "metadata": {},
   "outputs": [],
   "source": [
    "del x_train, y_train"
   ]
  },
  {
   "cell_type": "code",
   "execution_count": 26,
   "metadata": {},
   "outputs": [
    {
     "name": "stdout",
     "output_type": "stream",
     "text": [
      "0\n",
      "1\n",
      "2\n",
      "3\n",
      "4\n",
      "5\n",
      "6\n",
      "7\n",
      "8\n",
      "9\n",
      "10\n",
      "11\n",
      "12\n",
      "13\n",
      "14\n",
      "15\n"
     ]
    },
    {
     "data": {
      "text/plain": [
       "((18426, 2, 27, 27, 21), (18426, 243, 11))"
      ]
     },
     "execution_count": 26,
     "metadata": {},
     "output_type": "execute_result"
    }
   ],
   "source": [
    "extraction_step_ft = (6,6,3)\n",
    "x_train, y_train = build_set(data_train, label_train, extraction_step_ft, segment_size, core_size, mask_fpos)\n",
    "x_train.shape, y_train.shape"
   ]
  },
  {
   "cell_type": "code",
   "execution_count": 24,
   "metadata": {},
   "outputs": [],
   "source": [
    "# shuffle array\n",
    "idxs_shuffle = shuffle(x_train)\n",
    "idxs_shuffle = shuffle(y_train, idxs_shuffle)"
   ]
  },
  {
   "cell_type": "code",
   "execution_count": 27,
   "metadata": {},
   "outputs": [],
   "source": [
    "save_array('tmp/x_train.bc', x_train)\n",
    "save_array('tmp/y_train.bc', y_train)"
   ]
  },
  {
   "cell_type": "code",
   "execution_count": 4,
   "metadata": {},
   "outputs": [],
   "source": [
    "x_train = load_array('tmp/x_train.bc')\n",
    "y_train = load_array('tmp/y_train.bc')"
   ]
  },
  {
   "cell_type": "markdown",
   "metadata": {},
   "source": [
    "## 2.3 Regenerate model"
   ]
  },
  {
   "cell_type": "code",
   "execution_count": 28,
   "metadata": {},
   "outputs": [],
   "source": [
    "from keras.callbacks import ModelCheckpoint\n",
    "from keras.callbacks import CSVLogger\n",
    "from keras.callbacks import EarlyStopping\n",
    "\n",
    "from callback_custom import EarlyStoppingLowLR\n",
    "from callback_custom import ReduceLROnPlateauBestWeight\n",
    "\n",
    "\n",
    "\n",
    "# Model checkpoint to save the training results\n",
    "checkpointer = ModelCheckpoint(\n",
    "    filepath=model_filename.format('2'),\n",
    "    monitor=monitor,\n",
    "    verbose=0,\n",
    "    save_best_only=True,\n",
    "    save_weights_only=True)\n",
    "\n",
    "# CSVLogger to save the training results in a csv file\n",
    "csv_logger = CSVLogger(csv_filename.format(1), separator=';')\n",
    "\n",
    "\n",
    "stopper = EarlyStoppingLowLR(patience=patience, monitor=monitor, thresh_LR=1e-5)\n",
    "\n",
    "learning_rate_reduction = ReduceLROnPlateauBestWeight(filepath=model_filename.format('2'),\n",
    "                                                      monitor=monitor, \n",
    "                                                      patience=patience, \n",
    "                                                      verbose=1, \n",
    "                                                      factor=0.1, \n",
    "                                                      min_lr=1.001e-5)\n",
    "\n",
    "callbacks = [checkpointer, csv_logger, learning_rate_reduction, stopper]"
   ]
  },
  {
   "cell_type": "code",
   "execution_count": 29,
   "metadata": {
    "scrolled": false
   },
   "outputs": [
    {
     "name": "stdout",
     "output_type": "stream",
     "text": [
      "Train on 16583 samples, validate on 1843 samples\n",
      "Epoch 1/40\n",
      "16583/16583 [==============================] - 100s 6ms/step - loss: 0.0253 - categorical_accuracy: 0.9903 - val_loss: 0.0023 - val_categorical_accuracy: 0.9994\n",
      "Epoch 2/40\n",
      "16583/16583 [==============================] - 100s 6ms/step - loss: 0.0176 - categorical_accuracy: 0.9927 - val_loss: 5.3485e-04 - val_categorical_accuracy: 0.9999\n",
      "Epoch 3/40\n",
      "16583/16583 [==============================] - 101s 6ms/step - loss: 0.0151 - categorical_accuracy: 0.9937 - val_loss: 8.0246e-04 - val_categorical_accuracy: 0.9998\n",
      "Epoch 4/40\n",
      "16576/16583 [============================>.] - ETA: 0s - loss: 0.0137 - categorical_accuracy: 0.99430.0001 1e-05\n",
      "16583/16583 [==============================] - 101s 6ms/step - loss: 0.0137 - categorical_accuracy: 0.9943 - val_loss: 8.4026e-04 - val_categorical_accuracy: 0.9997\n",
      "Epoch 5/40\n",
      "16576/16583 [============================>.] - ETA: 0s - loss: 0.0127 - categorical_accuracy: 0.99470.0001 1e-05\n",
      "16583/16583 [==============================] - 101s 6ms/step - loss: 0.0127 - categorical_accuracy: 0.9947 - val_loss: 8.1469e-04 - val_categorical_accuracy: 0.9997\n",
      "Epoch 6/40\n",
      "16576/16583 [============================>.] - ETA: 0s - loss: 0.0110 - categorical_accuracy: 0.99540.0001 1e-05\n",
      "16583/16583 [==============================] - 102s 6ms/step - loss: 0.0110 - categorical_accuracy: 0.9954 - val_loss: 0.0013 - val_categorical_accuracy: 0.9995\n",
      "Epoch 7/40\n",
      "16583/16583 [==============================] - 103s 6ms/step - loss: 0.0105 - categorical_accuracy: 0.9957 - val_loss: 7.3571e-04 - val_categorical_accuracy: 0.9997\n",
      "Epoch 8/40\n",
      "16583/16583 [==============================] - 102s 6ms/step - loss: 0.0095 - categorical_accuracy: 0.9961 - val_loss: 3.3057e-04 - val_categorical_accuracy: 0.9999\n",
      "Epoch 9/40\n",
      "16576/16583 [============================>.] - ETA: 0s - loss: 0.0082 - categorical_accuracy: 0.9967 - ETA: 15s - loss: 0.0083 - categoric - ETA: 11s - los - ETA: 6s - loss: 0.0083 - categorical_ac0.0001 1e-05\n",
      "16583/16583 [==============================] - 104s 6ms/step - loss: 0.0082 - categorical_accuracy: 0.9967 - val_loss: 5.1147e-04 - val_categorical_accuracy: 0.9998\n",
      "Epoch 10/40\n",
      "16576/16583 [============================>.] - ETA: 0s - loss: 0.0081 - categorical_accuracy: 0.99670.0001 1e-05\n",
      "16583/16583 [==============================] - 105s 6ms/step - loss: 0.0081 - categorical_accuracy: 0.9967 - val_loss: 0.0012 - val_categorical_accuracy: 0.9996\n",
      "Epoch 11/40\n",
      "16576/16583 [============================>.] - ETA: 0s - loss: 0.0070 - categorical_accuracy: 0.9972   ETA: 1: - ETA: 1:10 - loss: 0.0068 - categorical_accuracy - ETA: 1:09 - loss: 0.0068 - categorical_accuracy:  - ET - ETA: 32s - l - ETA: 23s - loss: 0.0069 - categorical_accuracy: 0 - ETA:0.0001 1e-05\n",
      "16583/16583 [==============================] - 105s 6ms/step - loss: 0.0070 - categorical_accuracy: 0.9972 - val_loss: 6.6947e-04 - val_categorical_accuracy: 0.9997\n",
      "Epoch 12/40\n",
      "16576/16583 [============================>.] - ETA: 0s - loss: 0.0062 - categorical_accuracy: 0.99760.0001 1e-05\n",
      "16583/16583 [==============================] - 105s 6ms/step - loss: 0.0062 - categorical_accuracy: 0.9976 - val_loss: 4.8501e-04 - val_categorical_accuracy: 0.9999\n",
      "Epoch 13/40\n",
      "16576/16583 [============================>.] - ETA: 0s - loss: 0.0058 - categorical_accuracy: 0.9978   ETA: 1: - ETA: 27s - loss: 0.0058 - categorical_a - ETA: 13 - ETA: 6s - loss: 0.0058 - categorical_accu0.0001 1e-05\n",
      "16583/16583 [==============================] - 105s 6ms/step - loss: 0.0058 - categorical_accuracy: 0.9978 - val_loss: 0.0022 - val_categorical_accuracy: 0.9994\n",
      "Epoch 14/40\n",
      "16576/16583 [============================>.] - ETA: 0s - loss: 0.0051 - categorical_accuracy: 0.9980\n",
      "Epoch 00014: ReduceLROnPlateau reducing learning rate to 1.001e-05.\n",
      "16583/16583 [==============================] - 105s 6ms/step - loss: 0.0051 - categorical_accuracy: 0.9980 - val_loss: 9.0475e-04 - val_categorical_accuracy: 0.9997\n",
      "Epoch 15/40\n",
      "16583/16583 [==============================] - 106s 6ms/step - loss: 0.0071 - categorical_accuracy: 0.9972 - val_loss: 2.5705e-04 - val_categorical_accuracy: 0.9999\n",
      "Epoch 16/40\n",
      "16576/16583 [============================>.] - ETA: 0s - loss: 0.0067 - categorical_accuracy: 0.99741.001e-05 1e-05\n",
      "16583/16583 [==============================] - 105s 6ms/step - loss: 0.0067 - categorical_accuracy: 0.9974 - val_loss: 2.5883e-04 - val_categorical_accuracy: 0.9999\n",
      "Epoch 17/40\n",
      "16583/16583 [==============================] - 105s 6ms/step - loss: 0.0064 - categorical_accuracy: 0.9975 - val_loss: 2.3480e-04 - val_categorical_accuracy: 0.9999orical_accuracy: 0 - ETA: 46s - loss: 0.0065 - categorical_accuracy: 0. - ETA: 46s - loss: 0.0065 - cate - ETA: 41s - loss: 0.0066 - categorical_accuracy: 0.99 - ETA: - ETA: 31s - loss: 0.0066 - ETA: 24s - loss: 0.0066 - categorical_ac - ETA: 22s - loss: 0.0065 - categorical_acc - ETA: 19s - loss: 0.0065 - categorical_accuracy: 0 - ETA: 18s - loss: 0.0065 - categorical - ETA: 15s - loss: 0.0064 - categorical_a - ETA: - ETA: 6s - loss: 0.0064 - ca - ETA: 3s - loss: 0\n",
      "Epoch 18/40\n",
      "16576/16583 [============================>.] - ETA: 0s - loss: 0.0062 - categorical_accuracy: 0.9976 - ETA: 19s - l - ETA: 1 - ETA: 6s - loss: 0.0062 - cate - ETA: 3s - loss: 01.001e-05 1e-05\n",
      "16583/16583 [==============================] - 104s 6ms/step - loss: 0.0062 - categorical_accuracy: 0.9976 - val_loss: 3.2493e-04 - val_categorical_accuracy: 0.9999\n",
      "Epoch 19/40\n",
      "16576/16583 [============================>.] - ETA: 0s - loss: 0.0060 - categorical_accuracy: 0.99771.001e-05 1e-05\n",
      "16583/16583 [==============================] - 105s 6ms/step - loss: 0.0060 - categorical_accuracy: 0.9977 - val_loss: 2.5234e-04 - val_categorical_accuracy: 0.9999\n",
      "Epoch 20/40\n",
      "16576/16583 [============================>.] - ETA: 0s - loss: 0.0058 - categorical_accuracy: 0.9978 - ETA: 42s - - ETA: 33s - ETA: 24s - loss: 0.0058 - categorical_accuracy: 0. - ETA: 23s - loss: 0.0058 - categorical_accurac - ETA: 10s - 1.001e-05 1e-05\n",
      "16583/16583 [==============================] - 105s 6ms/step - loss: 0.0058 - categorical_accuracy: 0.9978 - val_loss: 3.3035e-04 - val_categorical_accuracy: 0.9999\n",
      "Epoch 21/40\n",
      "16576/16583 [============================>.] - ETA: 0s - loss: 0.0056 - categorical_accuracy: 0.9979 ETA: 2s - loss: 0.0056 - catego1.001e-05 1e-05\n",
      "16583/16583 [==============================] - 106s 6ms/step - loss: 0.0056 - categorical_accuracy: 0.9979 - val_loss: 3.0872e-04 - val_categorical_accuracy: 0.9999\n",
      "Epoch 22/40\n",
      "16576/16583 [============================>.] - ETA: 0s - loss: 0.0054 - categorical_accuracy: 0.99791.001e-05 1e-05\n",
      "16583/16583 [==============================] - 105s 6ms/step - loss: 0.0054 - categorical_accuracy: 0.9979 - val_loss: 4.9716e-04 - val_categorical_accuracy: 0.9998\n"
     ]
    },
    {
     "data": {
      "text/plain": [
       "<keras.callbacks.History at 0x7f2cf817b7b8>"
      ]
     },
     "execution_count": 29,
     "metadata": {},
     "output_type": "execute_result"
    }
   ],
   "source": [
    "# Build model\n",
    "model = generate_model(num_classes, num_channel, segment_size, core_size)\n",
    "\n",
    "# Load optimized weights\n",
    "model.load_weights(model_filename.format('1'))\n",
    "\n",
    "K.set_value(model.optimizer.lr, 1e-4)\n",
    "\n",
    "# Start fine-tuning\n",
    "model.fit(\n",
    "    x_train,\n",
    "    y_train,\n",
    "    epochs=nb_epoch,\n",
    "    validation_split=validation_split,\n",
    "    verbose=1,\n",
    "    callbacks=callbacks)\n",
    "\n",
    "# freeing space\n",
    "#del x_train\n",
    "#del y_train"
   ]
  },
  {
   "cell_type": "code",
   "execution_count": 30,
   "metadata": {},
   "outputs": [],
   "source": [
    "# Load best model\n",
    "model = generate_model(num_classes, num_channel, segment_size, core_size)\n",
    "model.load_weights(model_filename.format('2'))"
   ]
  },
  {
   "cell_type": "code",
   "execution_count": 31,
   "metadata": {},
   "outputs": [
    {
     "name": "stdout",
     "output_type": "stream",
     "text": [
      "1842/1842 [==============================] - 2s 942us/step\n"
     ]
    },
    {
     "data": {
      "text/plain": [
       "[0.00023492626337577228, 0.99990375331895232]"
      ]
     },
     "execution_count": 31,
     "metadata": {},
     "output_type": "execute_result"
    }
   ],
   "source": [
    "idx_start_valid = int(len(x_train)*validation_split)\n",
    "model.evaluate(x_train[-idx_start_valid:], y_train[-idx_start_valid:], verbose=1)"
   ]
  },
  {
   "cell_type": "code",
   "execution_count": 32,
   "metadata": {},
   "outputs": [
    {
     "name": "stdout",
     "output_type": "stream",
     "text": [
      "17\n",
      "3300/3300 [==============================] - 3s 810us/step\n",
      "18\n",
      "3300/3300 [==============================] - 3s 780us/step\n",
      "19\n",
      "3300/3300 [==============================] - 3s 785us/step\n",
      "20\n",
      "3300/3300 [==============================] - 3s 788us/step\n"
     ]
    }
   ],
   "source": [
    "segmentations_test = []\n",
    "\n",
    "for i_case, case_idx in enumerate(idxs_test):\n",
    "\n",
    "    print(case_idx)\n",
    "    input_test = data_test[i_case, :, :, :, :]\n",
    "\n",
    "    x_test = np.zeros((len_patch, num_channel,) + segment_size, dtype=precision_global)\n",
    "    for i_channel in range(num_channel):\n",
    "        x_test[:, i_channel, :, :, :] = extract_patches(input_test[i_channel], patch_shape=segment_size, extraction_step=(9, 9, 3))\n",
    "\n",
    "    pred = model.predict(x_test, verbose=1)\n",
    "    pred_classes = np.argmax(pred, axis=2)\n",
    "    pred_classes = pred_classes.reshape((len(pred_classes), 9, 9, 3))\n",
    "    segmentation = reconstruct_volume(pred_classes, matrix_size)\n",
    "    #segmentation = reconstruct_volume_majority(pred_classes, matrix_size, extraction_step=(3, 3, 3))\n",
    "    \n",
    "    segmentations_test = segmentations_test + [segmentation]\n",
    "    \n",
    "segmentations_test = np.stack(segmentations_test, axis=0)"
   ]
  },
  {
   "cell_type": "code",
   "execution_count": 33,
   "metadata": {},
   "outputs": [
    {
     "data": {
      "text/plain": [
       "10.0"
      ]
     },
     "execution_count": 33,
     "metadata": {},
     "output_type": "execute_result"
    }
   ],
   "source": [
    "segmentations_test.max()"
   ]
  },
  {
   "cell_type": "code",
   "execution_count": 34,
   "metadata": {},
   "outputs": [
    {
     "data": {
      "image/png": "[encoded data removed]",
      "text/plain": [
       "<matplotlib.figure.Figure at 0x7f2ce8d891d0>"
      ]
     },
     "metadata": {},
     "output_type": "display_data"
    }
   ],
   "source": [
    "plots(np.squeeze(label_test[:,:,:,23]), rows=1, scale = (0, 10))"
   ]
  },
  {
   "cell_type": "code",
   "execution_count": 35,
   "metadata": {},
   "outputs": [
    {
     "data": {
      "image/png": "[encoded data removed]",
      "text/plain": [
       "<matplotlib.figure.Figure at 0x7f2cd6c59710>"
      ]
     },
     "metadata": {},
     "output_type": "display_data"
    }
   ],
   "source": [
    "plots(np.squeeze(segmentations_test[:,:,:,23]), rows=1, scale = (0, 10))"
   ]
  },
  {
   "cell_type": "markdown",
   "metadata": {},
   "source": [
    "# 3 Post-processing"
   ]
  },
  {
   "cell_type": "markdown",
   "metadata": {},
   "source": [
    "## 3.1 Pick the largest connected component for each class"
   ]
  },
  {
   "cell_type": "code",
   "execution_count": 36,
   "metadata": {},
   "outputs": [],
   "source": [
    "for i_case, case_idx in enumerate(idxs_test):\n",
    "    segmentation = np.squeeze(segmentations_test[i_case,:,:,:]);\n",
    "    tmp = np.zeros(segmentation.shape, dtype=segmentation.dtype)\n",
    "    \n",
    "    for class_idx in class_mapper_inv :\n",
    "        mask = (segmentation == class_idx)\n",
    "        \n",
    "        if class_idx != 0 and mask.sum() > 0:\n",
    "            labeled_mask, num_cc = ndimage.label(mask)\n",
    "            largest_cc_mask = (labeled_mask == (np.bincount(labeled_mask.flat)[1:].argmax() + 1))\n",
    "            \n",
    "            tmp[largest_cc_mask == 1] = class_idx\n",
    "        \n",
    "    segmentations_test[i_case,:,:,:] = tmp"
   ]
  },
  {
   "cell_type": "markdown",
   "metadata": {},
   "source": [
    "## 3.2 Save it "
   ]
  },
  {
   "cell_type": "code",
   "execution_count": 37,
   "metadata": {},
   "outputs": [
    {
     "name": "stdout",
     "output_type": "stream",
     "text": [
      "17\n",
      "18\n",
      "19\n",
      "20\n",
      "Done with Step 3\n"
     ]
    }
   ],
   "source": [
    "for i_case, case_idx in enumerate(idxs_test):\n",
    "    print(case_idx)\n",
    "    \n",
    "    segmentation = np.copy(np.squeeze(segmentations_test[i_case,:,:,:]))\n",
    "    \n",
    "    tmp = np.copy(segmentation)\n",
    "    for class_idx in class_mapper_inv:\n",
    "        segmentation[tmp == class_idx] = class_mapper_inv[class_idx]\n",
    "    del tmp\n",
    "\n",
    "    save_data(segmentation, case_idx, 'label')    \n",
    "\n",
    "print(\"Done with Step 3\")"
   ]
  },
  {
   "cell_type": "markdown",
   "metadata": {},
   "source": [
    "## 3.3 Calculate metric "
   ]
  },
  {
   "cell_type": "code",
   "execution_count": 38,
   "metadata": {},
   "outputs": [],
   "source": [
    "def calc_dice(m1, m2):\n",
    "    return 2*((m1==1) & (m2==1)).sum()/((m1==1).sum() + (m2==1).sum())"
   ]
  },
  {
   "cell_type": "code",
   "execution_count": 39,
   "metadata": {},
   "outputs": [
    {
     "name": "stdout",
     "output_type": "stream",
     "text": [
      "17\t0.9993\tN/A\t0.8990\t0.9178\t0.7884\t0.7735\t0.7988\t0.9391\t0.8498\t0.8645\t0.9261\t0.8571\t\n",
      "18\t0.9990\tN/A\t0.8837\t0.9000\t0.9038\t0.7953\t0.7459\t0.7520\t0.7654\t0.6948\t0.7602\t0.7486\t\n",
      "19\t0.9988\tN/A\t1.0000\t0.8810\t0.9659\t0.8690\t0.9568\t0.9933\t0.9091\t0.8655\t0.7576\t0.7425\t\n",
      "20\t0.9989\tN/A\t0.9811\t0.8000\t0.8465\t0.8750\t0.9488\t0.9208\t0.7157\t0.6382\t0.8054\t0.7485\t\n"
     ]
    }
   ],
   "source": [
    "for i_case, case_idx in enumerate(idxs_test):\n",
    "    print(case_idx, end='\\t')\n",
    "    print('{:.4f}'.format(accuracy_score(label_test[i_case,:,:,:].flat, segmentations_test[i_case,:,:,:].flat)), end='\\t')\n",
    "    for class_idx in class_mapper_inv:\n",
    "        mask = (np.squeeze(segmentations_test[i_case,:,:,:]) == class_idx)\n",
    "        if class_idx != 0 and mask.sum() > 0:\n",
    "            print('{:.4f}'.format(precision_score(label_test[i_case,:,:,:][mask], segmentations_test[i_case,:,:,:][mask], average='micro')), end='\\t')\n",
    "        else:\n",
    "            print('N/A', end='\\t')\n",
    "    print()"
   ]
  },
  {
   "cell_type": "code",
   "execution_count": 40,
   "metadata": {},
   "outputs": [
    {
     "name": "stdout",
     "output_type": "stream",
     "text": [
      "17\t0\t0.9223\t0.8272\t0.8466\t0.8485\t0.8539\t0.8937\t0.8774\t0.8932\t0.8631\t0.7619\t\n",
      "18\t0\t0.7308\t0.2727\t0.8139\t0.7727\t0.8240\t0.8145\t0.8042\t0.6137\t0.5937\t0.8140\t\n",
      "19\t0\t0.3810\t0.7048\t0.5822\t0.6738\t0.8304\t0.8558\t0.4120\t0.8143\t0.5144\t0.4901\t\n",
      "20\t0\t0.9043\t0.7517\t0.8053\t0.9000\t0.8128\t0.7825\t0.7502\t0.7507\t0.8285\t0.6193\t\n"
     ]
    }
   ],
   "source": [
    "for i_case, case_idx in enumerate(idxs_test):\n",
    "    print(case_idx, end='\\t')\n",
    "    for class_idx in class_mapper_inv:\n",
    "        mask = (np.squeeze(segmentations_test[i_case,:,:,:]) == class_idx)\n",
    "        if class_idx != 0 and mask.sum() > 0:\n",
    "            print('{:.4f}'.format(calc_dice((label_test[i_case,:,:,:]==class_idx).flat, (segmentations_test[i_case,:,:,:]==class_idx).flat)), end='\\t')\n",
    "        else:\n",
    "            print(0, end='\\t')\n",
    "    print()"
   ]
  }
 ],
 "metadata": {
  "kernelspec": {
   "display_name": "Python 3",
   "language": "python",
   "name": "python3"
  },
  "language_info": {
   "codemirror_mode": {
    "name": "ipython",
    "version": 3
   },
   "file_extension": ".py",
   "mimetype": "text/x-python",
   "name": "python",
   "nbconvert_exporter": "python",
   "pygments_lexer": "ipython3",
   "version": "3.5.2"
  }
 },
 "nbformat": 4,
 "nbformat_minor": 2
}
