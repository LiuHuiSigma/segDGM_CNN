{
 "cells": [
  {
   "cell_type": "code",
   "execution_count": 1,
   "metadata": {},
   "outputs": [
    {
     "name": "stderr",
     "output_type": "stream",
     "text": [
      "Using TensorFlow backend.\n"
     ]
    }
   ],
   "source": [
    "%matplotlib inline\n",
    "import nibabel as nib\n",
    "import numpy as np\n",
    "from scipy import ndimage\n",
    "from keras import backend as K\n",
    "from sklearn.metrics import accuracy_score, precision_score\n",
    "\n",
    "from utils import *\n",
    "from model_FCNN import generate_model\n"
   ]
  },
  {
   "cell_type": "code",
   "execution_count": 2,
   "metadata": {},
   "outputs": [],
   "source": [
    "from importlib import reload\n",
    "\n",
    "import keras\n",
    "reload(keras)\n",
    "from keras import backend as K\n",
    "\n",
    "import utils\n",
    "reload(utils)\n",
    "from utils import *\n",
    "\n",
    "import model_FCNN\n",
    "reload(model_FCNN)\n",
    "from model_FCNN import generate_model\n",
    "\n",
    "import callback_custom\n",
    "reload(callback_custom);"
   ]
  },
  {
   "cell_type": "markdown",
   "metadata": {},
   "source": [
    "# Problem configuration"
   ]
  },
  {
   "cell_type": "code",
   "execution_count": 3,
   "metadata": {},
   "outputs": [],
   "source": [
    "num_classes = 11\n",
    "num_channel = 2\n",
    "\n",
    "# K-fold validation (K=5)\n",
    "n_training = 16\n",
    "n_test = 4\n",
    "\n",
    "#idxs_training = list(range(1, 1+16))\n",
    "#idxs_test = list(range(17, 17+4))\n",
    "idxs_training = list(range(1, 1+8)) + list(range(13, 13+8))\n",
    "idxs_test = list(range(9,9+4))\n",
    "\n",
    "patience = 5\n",
    "model_filename = 'models/outrun_step_{}.h5'\n",
    "csv_filename = 'log/outrun_step_{}.cvs'\n",
    "\n",
    "nb_epoch = 40\n",
    "validation_split = 0.10\n",
    "monitor = 'val_loss'#'val_categorical_accuracy'\n",
    "\n",
    "class_mapper = {0:0}\n",
    "class_mapper.update({ i+1:i for i in range(1, 1+10) })\n",
    "class_mapper_inv = {0:0}\n",
    "class_mapper_inv.update({ i:i+1 for i in range(1, 1+10) })\n",
    "\n",
    "matrix_size = (160, 220, 48)\n",
    "\n",
    "extraction_step = (3, 3, 1)\n",
    "#extraction_step = (5, 5, 3)\n",
    "\n",
    "segment_size = (27, 27, 21)\n",
    "core_size = (9, 9, 3)"
   ]
  },
  {
   "cell_type": "markdown",
   "metadata": {},
   "source": [
    "# Architecture"
   ]
  },
  {
   "cell_type": "markdown",
   "metadata": {},
   "source": [
    "# 1. Initial segmentation"
   ]
  },
  {
   "cell_type": "markdown",
   "metadata": {},
   "source": [
    "## 1.1 Read data"
   ]
  },
  {
   "cell_type": "code",
   "execution_count": 4,
   "metadata": {},
   "outputs": [],
   "source": [
    "QSM_train = np.empty(((n_training,) + matrix_size), dtype=precision_global)\n",
    "MAG_train = np.empty(((n_training,) + matrix_size), dtype=precision_global)\n",
    "R2S_train = np.empty(((n_training,) + matrix_size), dtype=precision_global)\n",
    "label_train = np.empty(((n_training,) + matrix_size), dtype=precision_global)\n",
    "for i, case_idx in enumerate(idxs_training):\n",
    "    QSM_train[i, :, :, :] = read_data(case_idx, 'QSM')\n",
    "    MAG_train[i, :, :, :] = read_data(case_idx, 'MAG')\n",
    "    R2S_train[i, :, :, :] = read_data(case_idx, 'R2S')\n",
    "    label_train[i, :, :, :] = read_data(case_idx, 'label')"
   ]
  },
  {
   "cell_type": "code",
   "execution_count": 5,
   "metadata": {},
   "outputs": [],
   "source": [
    "#data_train = np.stack((QSM_train, MAG_train, R2S_train), axis = 1)\n",
    "data_train = np.stack((QSM_train, R2S_train), axis = 1)\n",
    "#data_train = np.stack((QSM_train,), axis = 1)"
   ]
  },
  {
   "cell_type": "code",
   "execution_count": 6,
   "metadata": {},
   "outputs": [],
   "source": [
    "QSM_test = np.empty(((n_test,) + matrix_size), dtype=precision_global)\n",
    "MAG_test = np.empty(((n_test,) + matrix_size), dtype=precision_global)\n",
    "R2S_test = np.empty(((n_test,) + matrix_size), dtype=precision_global)\n",
    "label_test = np.empty(((n_test,) + matrix_size), dtype=precision_global)\n",
    "for i, case_idx in enumerate(idxs_test):\n",
    "    QSM_test[i, :, :, :] = read_data(case_idx, 'QSM')\n",
    "    MAG_test[i, :, :, :] = read_data(case_idx, 'MAG')\n",
    "    R2S_test[i, :, :, :] = read_data(case_idx, 'R2S')\n",
    "    label_test[i, :, :, :] = read_data(case_idx, 'label')"
   ]
  },
  {
   "cell_type": "code",
   "execution_count": 7,
   "metadata": {},
   "outputs": [],
   "source": [
    "#data_test = np.stack((QSM_test, MAG_test, R2S_test), axis = 1)\n",
    "data_test = np.stack((QSM_test, R2S_test), axis = 1)\n",
    "#data_test = np.stack((QSM_test,), axis = 1)"
   ]
  },
  {
   "cell_type": "markdown",
   "metadata": {},
   "source": [
    "## 1.2 Pre-processing"
   ]
  },
  {
   "cell_type": "code",
   "execution_count": 8,
   "metadata": {},
   "outputs": [],
   "source": [
    "## Intensity normalisation (zero mean and unit variance)\n",
    "input_mean = 127.0\n",
    "input_std = 128.0\n",
    "data_train = (data_train - input_mean) / input_std\n",
    "data_test = (data_test - input_mean) / input_std\n",
    "\n",
    "# Map class label\n",
    "tmp = np.copy(label_train)\n",
    "for class_idx in class_mapper:\n",
    "    label_train[tmp == class_idx] = class_mapper[class_idx]\n",
    "tmp = np.copy(label_test)\n",
    "for class_idx in class_mapper:\n",
    "    label_test[tmp == class_idx] = class_mapper[class_idx]\n",
    "del tmp"
   ]
  },
  {
   "cell_type": "code",
   "execution_count": 9,
   "metadata": {},
   "outputs": [
    {
     "data": {
      "text/plain": [
       "10.0"
      ]
     },
     "execution_count": 9,
     "metadata": {},
     "output_type": "execute_result"
    }
   ],
   "source": [
    "label_train.max()"
   ]
  },
  {
   "cell_type": "code",
   "execution_count": 10,
   "metadata": {},
   "outputs": [
    {
     "data": {
      "image/png": "[encoded data removed]",
      "text/plain": [
       "<matplotlib.figure.Figure at 0x7f7ed66e10f0>"
      ]
     },
     "metadata": {},
     "output_type": "display_data"
    }
   ],
   "source": [
    "plots(np.squeeze(label_train[0,:,:,[29,25]]), scale = (0, 10))"
   ]
  },
  {
   "cell_type": "markdown",
   "metadata": {},
   "source": [
    "## 1.3 Data preparation"
   ]
  },
  {
   "cell_type": "code",
   "execution_count": 11,
   "metadata": {},
   "outputs": [
    {
     "name": "stdout",
     "output_type": "stream",
     "text": [
      "0\n",
      "1\n",
      "2\n",
      "3\n",
      "4\n",
      "5\n",
      "6\n",
      "7\n",
      "8\n",
      "9\n",
      "10\n",
      "11\n",
      "12\n",
      "13\n",
      "14\n",
      "15\n"
     ]
    },
    {
     "data": {
      "text/plain": [
       "((33591, 2, 27, 27, 21), (33591, 243, 11))"
      ]
     },
     "execution_count": 11,
     "metadata": {},
     "output_type": "execute_result"
    }
   ],
   "source": [
    "x_train, y_train = build_set(data_train, label_train, extraction_step, segment_size, core_size)\n",
    "x_train.shape, y_train.shape"
   ]
  },
  {
   "cell_type": "code",
   "execution_count": 12,
   "metadata": {},
   "outputs": [],
   "source": [
    "# shuffle array\n",
    "idxs_shuffle = shuffle(x_train)\n",
    "idxs_shuffle = shuffle(y_train, idxs_shuffle)"
   ]
  },
  {
   "cell_type": "markdown",
   "metadata": {},
   "source": [
    "## 1.4 Configure callbacks"
   ]
  },
  {
   "cell_type": "code",
   "execution_count": 13,
   "metadata": {},
   "outputs": [],
   "source": [
    "from keras.callbacks import ModelCheckpoint\n",
    "from keras.callbacks import CSVLogger\n",
    "from keras.callbacks import EarlyStopping\n",
    "\n",
    "from callback_custom import EarlyStoppingLowLR\n",
    "from callback_custom import ReduceLROnPlateauBestWeight\n",
    "\n",
    "\n",
    "\n",
    "# Model checkpoint to save the training results\n",
    "checkpointer = ModelCheckpoint(\n",
    "    filepath=model_filename.format('1'),\n",
    "    monitor=monitor,\n",
    "    verbose=0,\n",
    "    save_best_only=True,\n",
    "    save_weights_only=True)\n",
    "\n",
    "# CSVLogger to save the training results in a csv file\n",
    "csv_logger = CSVLogger(csv_filename.format(1), separator=';')\n",
    "\n",
    "\n",
    "stopper = EarlyStoppingLowLR(patience=patience, monitor=monitor, thresh_LR=1e-5)\n",
    "\n",
    "learning_rate_reduction = ReduceLROnPlateauBestWeight(filepath=model_filename.format('1'),\n",
    "                                                      monitor=monitor, \n",
    "                                                      patience=patience, \n",
    "                                                      verbose=1, \n",
    "                                                      factor=0.1, \n",
    "                                                      min_lr=1.001e-5)\n",
    "\n",
    "callbacks = [checkpointer, csv_logger, learning_rate_reduction, stopper]"
   ]
  },
  {
   "cell_type": "markdown",
   "metadata": {},
   "source": [
    "## 1.5 Training"
   ]
  },
  {
   "cell_type": "code",
   "execution_count": 14,
   "metadata": {
    "scrolled": false
   },
   "outputs": [
    {
     "name": "stdout",
     "output_type": "stream",
     "text": [
      "Train on 30231 samples, validate on 3360 samples\n",
      "Epoch 1/40\n",
      "30231/30231 [==============================] - 187s 6ms/step - loss: 0.3914 - categorical_accuracy: 0.8774 - val_loss: 0.2578 - val_categorical_accuracy: 0.9208\n",
      "Epoch 2/40\n",
      "30231/30231 [==============================] - 186s 6ms/step - loss: 0.0902 - categorical_accuracy: 0.9628 - val_loss: 0.3923 - val_categorical_accuracy: 0.9211\n",
      "Epoch 3/40\n",
      "30208/30231 [============================>.] - ETA: 0s - loss: 0.0427 - categorical_accuracy: 0.98270.001 1e-05\n",
      "30231/30231 [==============================] - 186s 6ms/step - loss: 0.0427 - categorical_accuracy: 0.9827 - val_loss: 0.4559 - val_categorical_accuracy: 0.9235\n",
      "Epoch 4/40\n",
      "30208/30231 [============================>.] - ETA: 0s - loss: 0.0278 - categorical_accuracy: 0.98930.001 1e-05\n",
      "30231/30231 [==============================] - 187s 6ms/step - loss: 0.0278 - categorical_accuracy: 0.9893 - val_loss: 0.5318 - val_categorical_accuracy: 0.9263\n",
      "Epoch 5/40\n",
      "30208/30231 [============================>.] - ETA: 0s - loss: 0.0117 - categorical_accuracy: 0.99580.001 1e-05\n",
      "30231/30231 [==============================] - 188s 6ms/step - loss: 0.0117 - categorical_accuracy: 0.9958 - val_loss: 0.6242 - val_categorical_accuracy: 0.9221\n",
      "Epoch 6/40\n",
      "30208/30231 [============================>.] - ETA: 0s - loss: 0.0217 - categorical_accuracy: 0.99250.001 1e-05\n",
      "30231/30231 [==============================] - 189s 6ms/step - loss: 0.0217 - categorical_accuracy: 0.9925 - val_loss: 0.4515 - val_categorical_accuracy: 0.9222\n",
      "Epoch 7/40\n",
      "30208/30231 [============================>.] - ETA: 0s - loss: 0.0065 - categorical_accuracy: 0.9978\n",
      "Epoch 00007: ReduceLROnPlateau reducing learning rate to 0.00010000000474974513.\n",
      "30231/30231 [==============================] - 190s 6ms/step - loss: 0.0065 - categorical_accuracy: 0.9978 - val_loss: 0.7122 - val_categorical_accuracy: 0.9237\n",
      "Epoch 8/40\n",
      "30231/30231 [==============================] - 191s 6ms/step - loss: 0.0848 - categorical_accuracy: 0.9644 - val_loss: 0.3552 - val_categorical_accuracy: 0.9222\n",
      "Epoch 9/40\n",
      "30208/30231 [============================>.] - ETA: 0s - loss: 0.0556 - categorical_accuracy: 0.97700.0001 1e-05\n",
      "30231/30231 [==============================] - 190s 6ms/step - loss: 0.0555 - categorical_accuracy: 0.9770 - val_loss: 0.4724 - val_categorical_accuracy: 0.9186\n",
      "Epoch 10/40\n",
      "30208/30231 [============================>.] - ETA: 0s - loss: 0.0347 - categorical_accuracy: 0.98600.0001 1e-05\n",
      "30231/30231 [==============================] - 189s 6ms/step - loss: 0.0347 - categorical_accuracy: 0.9860 - val_loss: 0.5964 - val_categorical_accuracy: 0.9164\n",
      "Epoch 11/40\n",
      "30208/30231 [============================>.] - ETA: 0s - loss: 0.0207 - categorical_accuracy: 0.99190.0001 1e-05\n",
      "30231/30231 [==============================] - 190s 6ms/step - loss: 0.0207 - categorical_accuracy: 0.9919 - val_loss: 0.7003 - val_categorical_accuracy: 0.9155\n",
      "Epoch 12/40\n",
      "30208/30231 [============================>.] - ETA: 0s - loss: 0.0123 - categorical_accuracy: 0.9954\n",
      "Epoch 00012: ReduceLROnPlateau reducing learning rate to 1.001e-05.\n",
      "30231/30231 [==============================] - 191s 6ms/step - loss: 0.0123 - categorical_accuracy: 0.9954 - val_loss: 0.7942 - val_categorical_accuracy: 0.9161\n",
      "Epoch 13/40\n",
      "30231/30231 [==============================] - 191s 6ms/step - loss: 0.1001 - categorical_accuracy: 0.9583 - val_loss: 0.2669 - val_categorical_accuracy: 0.9239\n",
      "Epoch 14/40\n",
      "30208/30231 [============================>.] - ETA: 0s - loss: 0.0936 - categorical_accuracy: 0.96081.001e-05 1e-05\n",
      "30231/30231 [==============================] - 192s 6ms/step - loss: 0.0936 - categorical_accuracy: 0.9608 - val_loss: 0.2783 - val_categorical_accuracy: 0.9240\n",
      "Epoch 15/40\n",
      "30208/30231 [============================>.] - ETA: 0s - loss: 0.0893 - categorical_accuracy: 0.9626 - ETA: 53s - loss: 0.0899 - categorical_ac - ETA: 50s - loss: 0.0898 - categorical_1.001e-05 1e-05\n",
      "30231/30231 [==============================] - 192s 6ms/step - loss: 0.0893 - categorical_accuracy: 0.9626 - val_loss: 0.2882 - val_categorical_accuracy: 0.9241\n",
      "Epoch 16/40\n",
      "30208/30231 [============================>.] - ETA: 0s - loss: 0.0851 - categorical_accuracy: 0.96431.001e-05 1e-05\n",
      "30231/30231 [==============================] - 193s 6ms/step - loss: 0.0851 - categorical_accuracy: 0.9643 - val_loss: 0.3046 - val_categorical_accuracy: 0.9234\n",
      "Epoch 17/40\n",
      "30208/30231 [============================>.] - ETA: 0s - loss: 0.0810 - categorical_accuracy: 0.96601.001e-05 1e-05\n",
      "30231/30231 [==============================] - 195s 6ms/step - loss: 0.0810 - categorical_accuracy: 0.9660 - val_loss: 0.3202 - val_categorical_accuracy: 0.9228\n",
      "Epoch 18/40\n",
      "30208/30231 [============================>.] - ETA: 0s - loss: 0.0768 - categorical_accuracy: 0.96781.001e-05 1e-05\n",
      "30231/30231 [==============================] - 196s 6ms/step - loss: 0.0768 - categorical_accuracy: 0.9678 - val_loss: 0.3333 - val_categorical_accuracy: 0.9223\n"
     ]
    },
    {
     "data": {
      "text/plain": [
       "<keras.callbacks.History at 0x7f7eaf465a58>"
      ]
     },
     "execution_count": 14,
     "metadata": {},
     "output_type": "execute_result"
    }
   ],
   "source": [
    "seed = 47\n",
    "np.random.seed(seed)\n",
    "\n",
    "# Build model\n",
    "model = generate_model(num_classes, num_channel, segment_size, core_size)\n",
    "\n",
    "K.set_value(model.optimizer.lr, 1e-3)\n",
    "\n",
    "model.fit(\n",
    "    x_train,\n",
    "    y_train,\n",
    "    epochs=nb_epoch,\n",
    "    validation_split=validation_split,\n",
    "    verbose=1,\n",
    "    callbacks=callbacks)\n",
    "\n",
    "# freeing space\n",
    "#del x_train\n",
    "#del y_train"
   ]
  },
  {
   "cell_type": "markdown",
   "metadata": {},
   "source": [
    "## 1.6 Classification"
   ]
  },
  {
   "cell_type": "code",
   "execution_count": 15,
   "metadata": {},
   "outputs": [],
   "source": [
    "from keras.models import load_model\n",
    "\n",
    "# Load best model\n",
    "model = generate_model(num_classes, num_channel, segment_size, core_size)\n",
    "model.load_weights(model_filename.format(1))"
   ]
  },
  {
   "cell_type": "code",
   "execution_count": 16,
   "metadata": {},
   "outputs": [
    {
     "name": "stdout",
     "output_type": "stream",
     "text": [
      "3359/3359 [==============================] - 3s 842us/step\n"
     ]
    },
    {
     "data": {
      "text/plain": [
       "[0.25783444805740069, 0.92078507255322528]"
      ]
     },
     "execution_count": 16,
     "metadata": {},
     "output_type": "execute_result"
    }
   ],
   "source": [
    "idx_start_valid = int(len(x_train)*validation_split)\n",
    "model.evaluate(x_train[-idx_start_valid:], y_train[-idx_start_valid:], verbose=1)"
   ]
  },
  {
   "cell_type": "code",
   "execution_count": 17,
   "metadata": {},
   "outputs": [
    {
     "data": {
      "text/plain": [
       "3300"
      ]
     },
     "execution_count": 17,
     "metadata": {},
     "output_type": "execute_result"
    }
   ],
   "source": [
    "len_patch = extract_patches(read_data(1, 'QSM'), patch_shape=segment_size, extraction_step=(9, 9, 3)).shape[0]\n",
    "len_patch"
   ]
  },
  {
   "cell_type": "code",
   "execution_count": 18,
   "metadata": {
    "scrolled": false
   },
   "outputs": [
    {
     "name": "stdout",
     "output_type": "stream",
     "text": [
      "1\n",
      "3300/3300 [==============================] - 3s 808us/step\n",
      "2\n",
      "3300/3300 [==============================] - 3s 776us/step\n",
      "3\n",
      "3300/3300 [==============================] - 3s 774us/step\n",
      "4\n",
      "3300/3300 [==============================] - 3s 766us/step\n",
      "5\n",
      "3300/3300 [==============================] - 3s 765us/step\n",
      "6\n",
      "3300/3300 [==============================] - 3s 772us/step\n",
      "7\n",
      "3300/3300 [==============================] - 3s 771us/step\n",
      "8\n",
      "3300/3300 [==============================] - 3s 783us/step\n",
      "13\n",
      "3300/3300 [==============================] - 3s 777us/step\n",
      "14\n",
      "3300/3300 [==============================] - 3s 779us/step\n",
      "15\n",
      "3300/3300 [==============================] - 3s 776us/step\n",
      "16\n",
      "3300/3300 [==============================] - 3s 777us/step\n",
      "17\n",
      "3300/3300 [==============================] - 3s 778us/step\n",
      "18\n",
      "3300/3300 [==============================] - 3s 784us/step\n",
      "19\n",
      "3300/3300 [==============================] - 3s 790us/step\n",
      "20\n",
      "3300/3300 [==============================] - 3s 793us/step\n"
     ]
    }
   ],
   "source": [
    "segmentations_train = []\n",
    "\n",
    "for i_case, case_idx in enumerate(idxs_training):\n",
    "\n",
    "    print(case_idx)\n",
    "    input_train = data_train[i_case, :, :, :, :]\n",
    "\n",
    "    x_test = np.zeros((len_patch, num_channel,) + segment_size, dtype=precision_global)\n",
    "    for i_channel in range(num_channel):\n",
    "        x_test[:, i_channel, :, :, :] = extract_patches(input_train[i_channel], patch_shape=segment_size, extraction_step=(9, 9, 3))\n",
    "\n",
    "    pred = model.predict(x_test, verbose=1)\n",
    "    pred_classes = np.argmax(pred, axis=2)\n",
    "    pred_classes = pred_classes.reshape((len(pred_classes), 9, 9, 3))\n",
    "    segmentation = reconstruct_volume(pred_classes, matrix_size)\n",
    "    \n",
    "    segmentations_train = segmentations_train + [segmentation]\n",
    "    \n",
    "segmentations_train = np.stack(segmentations_train, axis=0)"
   ]
  },
  {
   "cell_type": "code",
   "execution_count": 19,
   "metadata": {},
   "outputs": [
    {
     "data": {
      "text/plain": [
       "10.0"
      ]
     },
     "execution_count": 19,
     "metadata": {},
     "output_type": "execute_result"
    }
   ],
   "source": [
    "segmentations_train.max()"
   ]
  },
  {
   "cell_type": "code",
   "execution_count": 20,
   "metadata": {},
   "outputs": [
    {
     "data": {
      "image/png": "[encoded data removed]",
      "text/plain": [
       "<matplotlib.figure.Figure at 0x7f7eb8e40898>"
      ]
     },
     "metadata": {},
     "output_type": "display_data"
    }
   ],
   "source": [
    "plots(np.squeeze(label_train[0:15,:,:,25]), rows=3, scale = (0, 10))"
   ]
  },
  {
   "cell_type": "code",
   "execution_count": 21,
   "metadata": {
    "scrolled": true
   },
   "outputs": [
    {
     "data": {
      "image/png": "[encoded data removed]",
      "text/plain": [
       "<matplotlib.figure.Figure at 0x7f7e87233da0>"
      ]
     },
     "metadata": {},
     "output_type": "display_data"
    }
   ],
   "source": [
    "plots(np.squeeze(segmentations_train[0:15,:,:,25]), rows=3, scale = (0, 10))"
   ]
  },
  {
   "cell_type": "markdown",
   "metadata": {},
   "source": [
    "## 1.7 Check false-positive"
   ]
  },
  {
   "cell_type": "code",
   "execution_count": 22,
   "metadata": {},
   "outputs": [],
   "source": [
    "idx_fpos = (label_train == 0) & (segmentations_train != 0);"
   ]
  },
  {
   "cell_type": "code",
   "execution_count": 23,
   "metadata": {},
   "outputs": [],
   "source": [
    "mask_fpos = np.zeros(label_train.shape, dtype=precision_global)\n",
    "mask_fpos[idx_fpos == True] = 1"
   ]
  },
  {
   "cell_type": "code",
   "execution_count": 24,
   "metadata": {},
   "outputs": [
    {
     "data": {
      "image/png": "[encoded data removed]",
      "text/plain": [
       "<matplotlib.figure.Figure at 0x7f7e86be74a8>"
      ]
     },
     "metadata": {},
     "output_type": "display_data"
    }
   ],
   "source": [
    "plots(200*(np.squeeze(mask_fpos[0:15,:,:,25])), rows=3)"
   ]
  },
  {
   "cell_type": "markdown",
   "metadata": {},
   "source": [
    "# 2 Fine-tuning"
   ]
  },
  {
   "cell_type": "markdown",
   "metadata": {},
   "source": [
    "## 2.2 Rebuild training dataset"
   ]
  },
  {
   "cell_type": "code",
   "execution_count": 25,
   "metadata": {},
   "outputs": [],
   "source": [
    "del x_train, y_train"
   ]
  },
  {
   "cell_type": "code",
   "execution_count": 26,
   "metadata": {},
   "outputs": [
    {
     "name": "stdout",
     "output_type": "stream",
     "text": [
      "0\n",
      "1\n",
      "2\n",
      "3\n",
      "4\n",
      "5\n",
      "6\n",
      "7\n",
      "8\n",
      "9\n",
      "10\n",
      "11\n",
      "12\n",
      "13\n",
      "14\n",
      "15\n"
     ]
    },
    {
     "data": {
      "text/plain": [
       "((7873, 2, 27, 27, 21), (7873, 243, 11))"
      ]
     },
     "execution_count": 26,
     "metadata": {},
     "output_type": "execute_result"
    }
   ],
   "source": [
    "extraction_step_ft = (6,6,3)\n",
    "x_train, y_train = build_set(data_train, label_train, extraction_step_ft, segment_size, core_size, mask_fpos)\n",
    "x_train.shape, y_train.shape"
   ]
  },
  {
   "cell_type": "code",
   "execution_count": 24,
   "metadata": {},
   "outputs": [],
   "source": [
    "# shuffle array\n",
    "idxs_shuffle = shuffle(x_train)\n",
    "idxs_shuffle = shuffle(y_train, idxs_shuffle)"
   ]
  },
  {
   "cell_type": "code",
   "execution_count": 32,
   "metadata": {},
   "outputs": [],
   "source": [
    "save_array('tmp/x_train.bc', x_train)\n",
    "save_array('tmp/y_train.bc', y_train)"
   ]
  },
  {
   "cell_type": "code",
   "execution_count": 4,
   "metadata": {},
   "outputs": [],
   "source": [
    "x_train = load_array('tmp/x_train.bc')\n",
    "y_train = load_array('tmp/y_train.bc')"
   ]
  },
  {
   "cell_type": "markdown",
   "metadata": {},
   "source": [
    "## 2.3 Regenerate model"
   ]
  },
  {
   "cell_type": "code",
   "execution_count": 27,
   "metadata": {},
   "outputs": [],
   "source": [
    "from keras.callbacks import ModelCheckpoint\n",
    "from keras.callbacks import CSVLogger\n",
    "from keras.callbacks import EarlyStopping\n",
    "\n",
    "from callback_custom import EarlyStoppingLowLR\n",
    "from callback_custom import ReduceLROnPlateauBestWeight\n",
    "\n",
    "\n",
    "\n",
    "# Model checkpoint to save the training results\n",
    "checkpointer = ModelCheckpoint(\n",
    "    filepath=model_filename.format('2'),\n",
    "    monitor=monitor,\n",
    "    verbose=0,\n",
    "    save_best_only=True,\n",
    "    save_weights_only=True)\n",
    "\n",
    "# CSVLogger to save the training results in a csv file\n",
    "csv_logger = CSVLogger(csv_filename.format(1), separator=';')\n",
    "\n",
    "\n",
    "stopper = EarlyStoppingLowLR(patience=patience, monitor=monitor, thresh_LR=1e-5)\n",
    "\n",
    "learning_rate_reduction = ReduceLROnPlateauBestWeight(filepath=model_filename.format('2'),\n",
    "                                                      monitor=monitor, \n",
    "                                                      patience=patience, \n",
    "                                                      verbose=1, \n",
    "                                                      factor=0.1, \n",
    "                                                      min_lr=1.001e-5)\n",
    "\n",
    "callbacks = [checkpointer, csv_logger, learning_rate_reduction, stopper]"
   ]
  },
  {
   "cell_type": "code",
   "execution_count": 28,
   "metadata": {
    "scrolled": false
   },
   "outputs": [
    {
     "name": "stdout",
     "output_type": "stream",
     "text": [
      "Train on 7085 samples, validate on 788 samples\n",
      "Epoch 1/40\n",
      "7085/7085 [==============================] - 43s 6ms/step - loss: 0.0587 - categorical_accuracy: 0.9772 - val_loss: 0.0035 - val_categorical_accuracy: 0.9990\n",
      "Epoch 2/40\n",
      "7085/7085 [==============================] - 42s 6ms/step - loss: 0.0452 - categorical_accuracy: 0.9816 - val_loss: 0.0037 - val_categorical_accuracy: 0.9991\n",
      "Epoch 3/40\n",
      "7072/7085 [============================>.] - ETA: 0s - loss: 0.0406 - categorical_accuracy: 0.98330.0001 1e-05\n",
      "7085/7085 [==============================] - 43s 6ms/step - loss: 0.0405 - categorical_accuracy: 0.9834 - val_loss: 0.0037 - val_categorical_accuracy: 0.9989\n",
      "Epoch 4/40\n",
      "7085/7085 [==============================] - 43s 6ms/step - loss: 0.0373 - categorical_accuracy: 0.9845 - val_loss: 0.0021 - val_categorical_accuracy: 0.9993\n",
      "Epoch 5/40\n",
      "7072/7085 [============================>.] - ETA: 0s - loss: 0.0346 - categorical_accuracy: 0.98560.0001 1e-05\n",
      "7085/7085 [==============================] - 43s 6ms/step - loss: 0.0346 - categorical_accuracy: 0.9856 - val_loss: 0.0039 - val_categorical_accuracy: 0.9987\n",
      "Epoch 6/40\n",
      "7085/7085 [==============================] - 43s 6ms/step - loss: 0.0322 - categorical_accuracy: 0.9867 - val_loss: 0.0019 - val_categorical_accuracy: 0.9994\n",
      "Epoch 7/40\n",
      "7085/7085 [==============================] - 44s 6ms/step - loss: 0.0298 - categorical_accuracy: 0.9877 - val_loss: 0.0014 - val_categorical_accuracy: 0.9996\n",
      "Epoch 8/40\n",
      "7072/7085 [============================>.] - ETA: 0s - loss: 0.0276 - categorical_accuracy: 0.98860.0001 1e-05\n",
      "7085/7085 [==============================] - 44s 6ms/step - loss: 0.0276 - categorical_accuracy: 0.9886 - val_loss: 0.0035 - val_categorical_accuracy: 0.9986\n",
      "Epoch 9/40\n",
      "7072/7085 [============================>.] - ETA: 0s - loss: 0.0259 - categorical_accuracy: 0.98940.0001 1e-05\n",
      "7085/7085 [==============================] - 44s 6ms/step - loss: 0.0259 - categorical_accuracy: 0.9894 - val_loss: 0.0016 - val_categorical_accuracy: 0.9994\n",
      "Epoch 10/40\n",
      "7072/7085 [============================>.] - ETA: 0s - loss: 0.0245 - categorical_accuracy: 0.99000.0001 1e-05\n",
      "7085/7085 [==============================] - 44s 6ms/step - loss: 0.0245 - categorical_accuracy: 0.9900 - val_loss: 0.0019 - val_categorical_accuracy: 0.9993\n",
      "Epoch 11/40\n",
      "7072/7085 [============================>.] - ETA: 0s - loss: 0.0223 - categorical_accuracy: 0.99100.0001 1e-05\n",
      "7085/7085 [==============================] - 44s 6ms/step - loss: 0.0222 - categorical_accuracy: 0.9910 - val_loss: 0.0017 - val_categorical_accuracy: 0.9993\n",
      "Epoch 12/40\n",
      "7072/7085 [============================>.] - ETA: 0s - loss: 0.0200 - categorical_accuracy: 0.99190.0001 1e-05\n",
      "7085/7085 [==============================] - 44s 6ms/step - loss: 0.0200 - categorical_accuracy: 0.9919 - val_loss: 0.0015 - val_categorical_accuracy: 0.9994\n",
      "Epoch 13/40\n",
      "7072/7085 [============================>.] - ETA: 0s - loss: 0.0186 - categorical_accuracy: 0.9925\n",
      "Epoch 00013: ReduceLROnPlateau reducing learning rate to 1.001e-05.\n",
      "7085/7085 [==============================] - 44s 6ms/step - loss: 0.0187 - categorical_accuracy: 0.9925 - val_loss: 0.0026 - val_categorical_accuracy: 0.9991\n",
      "Epoch 14/40\n",
      "7085/7085 [==============================] - 44s 6ms/step - loss: 0.0260 - categorical_accuracy: 0.9894 - val_loss: 0.0015 - val_categorical_accuracy: 0.9995\n",
      "Epoch 15/40\n",
      "7085/7085 [==============================] - 44s 6ms/step - loss: 0.0253 - categorical_accuracy: 0.9897 - val_loss: 0.0015 - val_categorical_accuracy: 0.9995\n",
      "Epoch 16/40\n",
      "7072/7085 [============================>.] - ETA: 0s - loss: 0.0249 - categorical_accuracy: 0.98991.001e-05 1e-05\n",
      "7085/7085 [==============================] - 44s 6ms/step - loss: 0.0249 - categorical_accuracy: 0.9899 - val_loss: 0.0016 - val_categorical_accuracy: 0.9994\n",
      "Epoch 17/40\n",
      "7085/7085 [==============================] - 44s 6ms/step - loss: 0.0246 - categorical_accuracy: 0.9900 - val_loss: 0.0015 - val_categorical_accuracy: 0.9995\n",
      "Epoch 18/40\n",
      "7072/7085 [============================>.] - ETA: 0s - loss: 0.0243 - categorical_accuracy: 0.99011.001e-05 1e-05\n",
      "7085/7085 [==============================] - 44s 6ms/step - loss: 0.0242 - categorical_accuracy: 0.9901 - val_loss: 0.0016 - val_categorical_accuracy: 0.9994\n",
      "Epoch 19/40\n",
      "7072/7085 [============================>.] - ETA: 0s - loss: 0.0240 - categorical_accuracy: 0.99031.001e-05 1e-05\n",
      "7085/7085 [==============================] - 44s 6ms/step - loss: 0.0239 - categorical_accuracy: 0.9903 - val_loss: 0.0016 - val_categorical_accuracy: 0.9994\n",
      "Epoch 20/40\n",
      "7072/7085 [============================>.] - ETA: 0s - loss: 0.0236 - categorical_accuracy: 0.99051.001e-05 1e-05\n",
      "7085/7085 [==============================] - 44s 6ms/step - loss: 0.0236 - categorical_accuracy: 0.9905 - val_loss: 0.0015 - val_categorical_accuracy: 0.9995\n",
      "Epoch 21/40\n",
      "7072/7085 [============================>.] - ETA: 0s - loss: 0.0233 - categorical_accuracy: 0.99051.001e-05 1e-05\n",
      "7085/7085 [==============================] - 44s 6ms/step - loss: 0.0233 - categorical_accuracy: 0.9906 - val_loss: 0.0018 - val_categorical_accuracy: 0.9994\n",
      "Epoch 22/40\n",
      "7072/7085 [============================>.] - ETA: 0s - loss: 0.0230 - categorical_accuracy: 0.99071.001e-05 1e-05\n",
      "7085/7085 [==============================] - 44s 6ms/step - loss: 0.0230 - categorical_accuracy: 0.9907 - val_loss: 0.0016 - val_categorical_accuracy: 0.9994\n"
     ]
    },
    {
     "data": {
      "text/plain": [
       "<keras.callbacks.History at 0x7f7e86a8bf60>"
      ]
     },
     "execution_count": 28,
     "metadata": {},
     "output_type": "execute_result"
    }
   ],
   "source": [
    "# Build model\n",
    "model = generate_model(num_classes, num_channel, segment_size, core_size)\n",
    "\n",
    "# Load optimized weights\n",
    "model.load_weights(model_filename.format('1'))\n",
    "\n",
    "K.set_value(model.optimizer.lr, 1e-4)\n",
    "\n",
    "# Start fine-tuning\n",
    "model.fit(\n",
    "    x_train,\n",
    "    y_train,\n",
    "    epochs=nb_epoch,\n",
    "    validation_split=validation_split,\n",
    "    verbose=1,\n",
    "    callbacks=callbacks)\n",
    "\n",
    "# freeing space\n",
    "#del x_train\n",
    "#del y_train"
   ]
  },
  {
   "cell_type": "code",
   "execution_count": 29,
   "metadata": {},
   "outputs": [],
   "source": [
    "# Load best model\n",
    "model = generate_model(num_classes, num_channel, segment_size, core_size)\n",
    "model.load_weights(model_filename.format('2'))"
   ]
  },
  {
   "cell_type": "code",
   "execution_count": 30,
   "metadata": {},
   "outputs": [
    {
     "name": "stdout",
     "output_type": "stream",
     "text": [
      "787/787 [==============================] - 1s 1ms/step\n"
     ]
    },
    {
     "data": {
      "text/plain": [
       "[0.0014225059498652929, 0.99955534351826325]"
      ]
     },
     "execution_count": 30,
     "metadata": {},
     "output_type": "execute_result"
    }
   ],
   "source": [
    "idx_start_valid = int(len(x_train)*validation_split)\n",
    "model.evaluate(x_train[-idx_start_valid:], y_train[-idx_start_valid:], verbose=1)"
   ]
  },
  {
   "cell_type": "code",
   "execution_count": 31,
   "metadata": {},
   "outputs": [
    {
     "name": "stdout",
     "output_type": "stream",
     "text": [
      "9\n",
      "3300/3300 [==============================] - 3s 792us/step\n",
      "10\n",
      "3300/3300 [==============================] - 3s 769us/step\n",
      "11\n",
      "3300/3300 [==============================] - 3s 770us/step\n",
      "12\n",
      "3300/3300 [==============================] - 3s 762us/step\n"
     ]
    }
   ],
   "source": [
    "segmentations_test = []\n",
    "\n",
    "for i_case, case_idx in enumerate(idxs_test):\n",
    "\n",
    "    print(case_idx)\n",
    "    input_test = data_test[i_case, :, :, :, :]\n",
    "\n",
    "    x_test = np.zeros((len_patch, num_channel,) + segment_size, dtype=precision_global)\n",
    "    for i_channel in range(num_channel):\n",
    "        x_test[:, i_channel, :, :, :] = extract_patches(input_test[i_channel], patch_shape=segment_size, extraction_step=(9, 9, 3))\n",
    "\n",
    "    pred = model.predict(x_test, verbose=1)\n",
    "    pred_classes = np.argmax(pred, axis=2)\n",
    "    pred_classes = pred_classes.reshape((len(pred_classes), 9, 9, 3))\n",
    "    segmentation = reconstruct_volume(pred_classes, matrix_size)\n",
    "    #segmentation = reconstruct_volume_majority(pred_classes, matrix_size, extraction_step=(3, 3, 3))\n",
    "    \n",
    "    segmentations_test = segmentations_test + [segmentation]\n",
    "    \n",
    "segmentations_test = np.stack(segmentations_test, axis=0)"
   ]
  },
  {
   "cell_type": "code",
   "execution_count": 32,
   "metadata": {},
   "outputs": [
    {
     "data": {
      "text/plain": [
       "10.0"
      ]
     },
     "execution_count": 32,
     "metadata": {},
     "output_type": "execute_result"
    }
   ],
   "source": [
    "segmentations_test.max()"
   ]
  },
  {
   "cell_type": "code",
   "execution_count": 33,
   "metadata": {},
   "outputs": [
    {
     "data": {
      "image/png": "[encoded data removed]",
      "text/plain": [
       "<matplotlib.figure.Figure at 0x7f7e85be7cf8>"
      ]
     },
     "metadata": {},
     "output_type": "display_data"
    }
   ],
   "source": [
    "plots(np.squeeze(label_test[:,:,:,23]), rows=1, scale = (0, 10))"
   ]
  },
  {
   "cell_type": "code",
   "execution_count": 34,
   "metadata": {},
   "outputs": [
    {
     "data": {
      "image/png": "[encoded data removed]",
      "text/plain": [
       "<matplotlib.figure.Figure at 0x7f7e86a8b630>"
      ]
     },
     "metadata": {},
     "output_type": "display_data"
    }
   ],
   "source": [
    "plots(np.squeeze(segmentations_test[:,:,:,23]), rows=1, scale = (0, 10))"
   ]
  },
  {
   "cell_type": "markdown",
   "metadata": {},
   "source": [
    "# 3 Post-processing"
   ]
  },
  {
   "cell_type": "markdown",
   "metadata": {},
   "source": [
    "## 3.1 Pick the largest connected component for each class"
   ]
  },
  {
   "cell_type": "code",
   "execution_count": 35,
   "metadata": {},
   "outputs": [],
   "source": [
    "for i_case, case_idx in enumerate(idxs_test):\n",
    "    segmentation = np.squeeze(segmentations_test[i_case,:,:,:]);\n",
    "    tmp = np.zeros(segmentation.shape, dtype=segmentation.dtype)\n",
    "    \n",
    "    for class_idx in class_mapper_inv :\n",
    "        mask = (segmentation == class_idx)\n",
    "        \n",
    "        if class_idx != 0 and mask.sum() > 0:\n",
    "            labeled_mask, num_cc = ndimage.label(mask)\n",
    "            largest_cc_mask = (labeled_mask == (np.bincount(labeled_mask.flat)[1:].argmax() + 1))\n",
    "            \n",
    "            tmp[largest_cc_mask == 1] = class_idx\n",
    "        \n",
    "    segmentations_test[i_case,:,:,:] = tmp"
   ]
  },
  {
   "cell_type": "markdown",
   "metadata": {},
   "source": [
    "## 3.2 Save it "
   ]
  },
  {
   "cell_type": "code",
   "execution_count": 36,
   "metadata": {},
   "outputs": [
    {
     "name": "stdout",
     "output_type": "stream",
     "text": [
      "9\n",
      "10\n",
      "11\n",
      "12\n",
      "Done with Step 3\n"
     ]
    }
   ],
   "source": [
    "for i_case, case_idx in enumerate(idxs_test):\n",
    "    print(case_idx)\n",
    "    \n",
    "    segmentation = np.copy(np.squeeze(segmentations_test[i_case,:,:,:]))\n",
    "    \n",
    "    tmp = np.copy(segmentation)\n",
    "    for class_idx in class_mapper_inv:\n",
    "        segmentation[tmp == class_idx] = class_mapper_inv[class_idx]\n",
    "    del tmp\n",
    "\n",
    "    save_data(segmentation, case_idx, 'label')    \n",
    "\n",
    "print(\"Done with Step 3\")"
   ]
  },
  {
   "cell_type": "markdown",
   "metadata": {},
   "source": [
    "## 3.3 Calculate metric "
   ]
  },
  {
   "cell_type": "code",
   "execution_count": 37,
   "metadata": {},
   "outputs": [],
   "source": [
    "def calc_dice(m1, m2):\n",
    "    return 2*((m1==1) & (m2==1)).sum()/((m1==1).sum() + (m2==1).sum())"
   ]
  },
  {
   "cell_type": "code",
   "execution_count": 38,
   "metadata": {},
   "outputs": [
    {
     "name": "stdout",
     "output_type": "stream",
     "text": [
      "9\t0.9991\tN/A\t0.7529\t0.8125\t0.9262\t0.9676\t0.8361\t0.6384\t0.9349\t0.7836\t0.7188\t0.8698\t\n",
      "10\t0.9991\tN/A\t0.8980\t0.8267\t0.7157\t0.8270\t0.7823\t0.7761\t0.9162\t0.9344\t0.7500\t0.7332\t\n",
      "11\t0.9992\tN/A\t0.7907\t0.8000\t0.8798\t0.8366\t0.8072\t0.7675\t0.8544\t0.8683\t0.8719\t0.5607\t\n",
      "12\t0.9993\tN/A\t0.8810\t0.8750\t0.9537\t0.9626\t0.9884\t0.9121\t0.8593\t0.9251\t0.5564\t0.5479\t\n"
     ]
    }
   ],
   "source": [
    "for i_case, case_idx in enumerate(idxs_test):\n",
    "    print(case_idx, end='\\t')\n",
    "    print('{:.4f}'.format(accuracy_score(label_test[i_case,:,:,:].flat, segmentations_test[i_case,:,:,:].flat)), end='\\t')\n",
    "    for class_idx in class_mapper_inv:\n",
    "        mask = (np.squeeze(segmentations_test[i_case,:,:,:]) == class_idx)\n",
    "        if class_idx != 0 and mask.sum() > 0:\n",
    "            print('{:.4f}'.format(precision_score(label_test[i_case,:,:,:][mask], segmentations_test[i_case,:,:,:][mask], average='micro')), end='\\t')\n",
    "        else:\n",
    "            print('N/A', end='\\t')\n",
    "    print()"
   ]
  },
  {
   "cell_type": "code",
   "execution_count": 39,
   "metadata": {},
   "outputs": [
    {
     "name": "stdout",
     "output_type": "stream",
     "text": [
      "9\t0\t0.8312\t0.8497\t0.7931\t0.8775\t0.8648\t0.7676\t0.8671\t0.7755\t0.7823\t0.8931\t\n",
      "10\t0\t0.8000\t0.8493\t0.5123\t0.7612\t0.8467\t0.8633\t0.8545\t0.8747\t0.7702\t0.7603\t\n",
      "11\t0\t0.8608\t0.8387\t0.9096\t0.8678\t0.8602\t0.7497\t0.8824\t0.6388\t0.8624\t0.6369\t\n",
      "12\t0\t0.8506\t0.7692\t0.7574\t0.8996\t0.9031\t0.9275\t0.8417\t0.8380\t0.6327\t0.6830\t\n"
     ]
    }
   ],
   "source": [
    "for i_case, case_idx in enumerate(idxs_test):\n",
    "    print(case_idx, end='\\t')\n",
    "    for class_idx in class_mapper_inv:\n",
    "        mask = (np.squeeze(segmentations_test[i_case,:,:,:]) == class_idx)\n",
    "        if class_idx != 0 and mask.sum() > 0:\n",
    "            print('{:.4f}'.format(calc_dice((label_test[i_case,:,:,:]==class_idx).flat, (segmentations_test[i_case,:,:,:]==class_idx).flat)), end='\\t')\n",
    "        else:\n",
    "            print(0, end='\\t')\n",
    "    print()"
   ]
  },
  {
   "cell_type": "code",
   "execution_count": null,
   "metadata": {},
   "outputs": [],
   "source": []
  },
  {
   "cell_type": "code",
   "execution_count": null,
   "metadata": {},
   "outputs": [],
   "source": []
  }
 ],
 "metadata": {
  "kernelspec": {
   "display_name": "Python 3",
   "language": "python",
   "name": "python3"
  },
  "language_info": {
   "codemirror_mode": {
    "name": "ipython",
    "version": 3
   },
   "file_extension": ".py",
   "mimetype": "text/x-python",
   "name": "python",
   "nbconvert_exporter": "python",
   "pygments_lexer": "ipython3",
   "version": "3.5.2"
  }
 },
 "nbformat": 4,
 "nbformat_minor": 2
}
