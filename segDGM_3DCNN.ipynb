{
 "cells": [
  {
   "cell_type": "markdown",
   "metadata": {},
   "source": [
    "# Problem configuration"
   ]
  },
  {
   "cell_type": "code",
   "execution_count": 67,
   "metadata": {},
   "outputs": [],
   "source": [
    "%matplotlib inline\n",
    "import sys\n",
    "import nibabel as nib\n",
    "import numpy as np\n",
    "from scipy import ndimage\n",
    "from keras import backend as K\n",
    "from sklearn.metrics import accuracy_score, precision_score\n",
    "from openpyxl import Workbook, load_workbook\n",
    "\n",
    "from utils import *\n",
    "from model_FCNN import generate_model\n",
    "from segDGM_3DCNN import pipeline_Kvalid\n"
   ]
  },
  {
   "cell_type": "code",
   "execution_count": 2,
   "metadata": {},
   "outputs": [],
   "source": [
    "from importlib import reload\n",
    "\n",
    "import keras\n",
    "reload(keras)\n",
    "from keras import backend as K\n",
    "\n",
    "import utils\n",
    "reload(utils)\n",
    "from utils import *\n",
    "\n",
    "import model_FCNN\n",
    "reload(model_FCNN)\n",
    "from model_FCNN import generate_model\n",
    "\n",
    "import callback_custom\n",
    "reload(callback_custom);\n",
    "\n",
    "import segDGM_3DCNN\n",
    "reload(segDGM_3DCNN)\n",
    "from segDGM_3DCNN import pipeline_Kvalid\n"
   ]
  },
  {
   "cell_type": "code",
   "execution_count": 23,
   "metadata": {},
   "outputs": [],
   "source": [
    "fn_compile = 'results/compile.xlsx'\n",
    "\n",
    "fn_name_ROI = 'datasets/ROI_name.txt'\n",
    "\n",
    "fn_output = 'output/iK{}_result.cvs'"
   ]
  },
  {
   "cell_type": "code",
   "execution_count": null,
   "metadata": {
    "scrolled": true
   },
   "outputs": [],
   "source": [
    "for iK in range(1, 11):\n",
    "    segDGM_3DCNN.pipeline_Kvalid(iK)"
   ]
  },
  {
   "cell_type": "markdown",
   "metadata": {},
   "source": [
    "# 4. Compile result"
   ]
  },
  {
   "cell_type": "code",
   "execution_count": 27,
   "metadata": {},
   "outputs": [],
   "source": [
    "map_name_ROI = {}\n",
    "with open(fn_name_ROI, 'r') as f:\n",
    "    for line in f:\n",
    "        label, name = line.rstrip('\\n').split(':')\n",
    "        name = name.lstrip('\\t')\n",
    "        map_name_ROI[int(label)] = name\n",
    "        \n",
    "n_ROI = len(map_name_ROI)"
   ]
  },
  {
   "cell_type": "code",
   "execution_count": 91,
   "metadata": {},
   "outputs": [],
   "source": [
    "wb =load_workbook(fn_compile)\n",
    "\n",
    "name_sheet = 'K10_QSM_R2S'\n",
    "if name_sheet not in wb.get_sheet_names():\n",
    "    wb.create_sheet(name_sheet)\n",
    "    \n",
    "ws = wb.get_sheet_by_name(name_sheet)\n",
    "\n",
    "ws.cell(column=1, row=1, value='Precision')\n",
    "ws.cell(column=1, row=15, value='Dice')\n",
    "for anchor in (1, 15):\n",
    "    ws.cell(column=1, row=anchor+1, value='ROI Name')\n",
    "    for label in range(2, 2+10):\n",
    "        row = anchor + label\n",
    "        ws.cell(column=1, row=row, value=map_name_ROI[label])\n",
    "\n",
    "for iK in range(1, 1+10):\n",
    "    # Write data\n",
    "    with open(fn_output.format(iK)) as f:\n",
    "        data = [ list(map(lambda x: float(x) if x != 'N/A' else 0.0, line.rstrip('\\n').strip('\\t').split('\\t')[-n_ROI:])) for line in f ]\n",
    "        n_test = len(data)//2\n",
    "        mean_prec = [ sum(x)/n_test for x in zip(*data[:n_test]) ]\n",
    "        mean_dice = [ sum(x)/n_test for x in zip(*data[n_test:]) ]\n",
    "\n",
    "    ws.cell(column=iK+1, row=1+1, value='K={}'.format(iK))\n",
    "    for label in range(2, 2+10):\n",
    "        row = 1+label\n",
    "        ws.cell(column=iK+1, row=row, value=mean_prec[label-2])\n",
    "    \n",
    "    ws.cell(column=iK+1, row=15+1, value='K={}'.format(iK))\n",
    "    for label in range(2, 2+10):\n",
    "        row = 15+label\n",
    "        ws.cell(column=iK+1, row=row, value=mean_dice[label-2])\n",
    "    \n",
    "wb.save(fn_compile)"
   ]
  },
  {
   "cell_type": "code",
   "execution_count": 80,
   "metadata": {},
   "outputs": [],
   "source": [
    "\n",
    "\n",
    "\n",
    "workbook = xlsxwriter.Workbook(fn_compile)\n",
    "worksheet = workbook.add_worksheet('K10_QSM_R2S')\n",
    "\n",
    "bold = workbook.add_format({'bold': True})\n",
    "form = workbook.add_format({'num_format': '0.000', 'align': 'right'})\n",
    "align = workbook.add_format({'align': 'right'})\n",
    "\n",
    "\n",
    "# Write ROI name\n",
    "worksheet.set_column(0, 0, 20)\n",
    "worksheet.write(0, 0, 'Precision', bold)\n",
    "worksheet.write(14, 0, 'Dice', bold)\n",
    "for anchor in (0, 14):\n",
    "    worksheet.write(anchor+1, 0, 'ROI Name', bold)\n",
    "    for label in range(2, 2+10):\n",
    "        row = anchor+label\n",
    "        worksheet.write(row, 0, map_name_ROI[label])\n",
    "    \n",
    "for iK in range(1, 1+10):\n",
    "    # Write data\n",
    "    with open(fn_output.format(iK)) as f:\n",
    "        data = [ list(map(lambda x: float(x) if x != 'N/A' else 0.0, line.rstrip('\\n').strip('\\t').split('\\t')[-n_ROI:])) for line in f ]\n",
    "        n_test = len(data)//2\n",
    "        mean_prec = [ sum(x)/n_test for x in zip(*data[:n_test]) ]\n",
    "        mean_dice = [ sum(x)/n_test for x in zip(*data[n_test:]) ]\n",
    "\n",
    "    worksheet.write(1, iK, 'K={}'.format(iK), align)\n",
    "    for label in range(2, 2+10):\n",
    "        row = label\n",
    "        worksheet.write(row, iK, mean_prec[label-2], form)\n",
    "    \n",
    "    worksheet.write(14+1, iK, 'K={}'.format(iK), align)\n",
    "    for label in range(2, 2+10):\n",
    "        row = 14+label\n",
    "        worksheet.write(row, iK, mean_dice[label-2], form)\n",
    "\n",
    "    \n",
    "\n",
    "workbook.close()"
   ]
  },
  {
   "cell_type": "code",
   "execution_count": 56,
   "metadata": {},
   "outputs": [
    {
     "name": "stdout",
     "output_type": "stream",
     "text": [
      "Object `Format` not found.\n"
     ]
    }
   ],
   "source": [
    "\n"
   ]
  },
  {
   "cell_type": "markdown",
   "metadata": {},
   "source": [
    "## 1.2 Pre-processing"
   ]
  },
  {
   "cell_type": "code",
   "execution_count": 56,
   "metadata": {},
   "outputs": [],
   "source": [
    "## Intensity normalisation (zero mean and unit variance)\n",
    "input_mean = 127.0\n",
    "input_std = 64.0#128.0\n",
    "data_train = (data_train - input_mean) / input_std\n",
    "data_test = (data_test - input_mean) / input_std\n",
    "\n",
    "# Map class label\n",
    "tmp = np.copy(label_train)\n",
    "for class_idx in class_mapper:\n",
    "    label_train[tmp == class_idx] = class_mapper[class_idx]\n",
    "tmp = np.copy(label_test)\n",
    "for class_idx in class_mapper:\n",
    "    label_test[tmp == class_idx] = class_mapper[class_idx]\n",
    "del tmp"
   ]
  },
  {
   "cell_type": "code",
   "execution_count": 57,
   "metadata": {},
   "outputs": [
    {
     "data": {
      "text/plain": [
       "10.0"
      ]
     },
     "execution_count": 57,
     "metadata": {},
     "output_type": "execute_result"
    }
   ],
   "source": [
    "label_train.max()"
   ]
  },
  {
   "cell_type": "code",
   "execution_count": 58,
   "metadata": {
    "collapsed": true
   },
   "outputs": [
    {
     "data": {
      "image/png": "[encoded data removed]",
      "text/plain": [
       "<matplotlib.figure.Figure at 0x7f07c12b2828>"
      ]
     },
     "metadata": {},
     "output_type": "display_data"
    }
   ],
   "source": [
    "plots(np.squeeze(label_train[0,:,:,[29,25]]), scale = (0, 10))"
   ]
  },
  {
   "cell_type": "markdown",
   "metadata": {},
   "source": [
    "## 1.3 Data preparation"
   ]
  },
  {
   "cell_type": "code",
   "execution_count": 59,
   "metadata": {
    "scrolled": true
   },
   "outputs": [
    {
     "name": "stdout",
     "output_type": "stream",
     "text": [
      "0\n",
      "1\n",
      "2\n",
      "3\n",
      "4\n",
      "5\n",
      "6\n",
      "7\n",
      "8\n",
      "9\n",
      "10\n",
      "11\n",
      "12\n",
      "13\n",
      "14\n",
      "15\n",
      "16\n",
      "17\n"
     ]
    },
    {
     "data": {
      "text/plain": [
       "((12424, 2, 27, 27, 21), (12424, 243, 11))"
      ]
     },
     "execution_count": 59,
     "metadata": {},
     "output_type": "execute_result"
    }
   ],
   "source": [
    "x_train, y_train = build_set(data_train, label_train, extraction_step, segment_size, core_size)\n",
    "x_train.shape, y_train.shape"
   ]
  },
  {
   "cell_type": "code",
   "execution_count": 60,
   "metadata": {},
   "outputs": [],
   "source": [
    "# shuffle array\n",
    "idxs_shuffle = shuffle(x_train)\n",
    "idxs_shuffle = shuffle(y_train, idxs_shuffle)"
   ]
  },
  {
   "cell_type": "markdown",
   "metadata": {},
   "source": [
    "## 1.4 Configure callbacks"
   ]
  },
  {
   "cell_type": "code",
   "execution_count": 61,
   "metadata": {},
   "outputs": [],
   "source": [
    "from keras.callbacks import ModelCheckpoint\n",
    "from keras.callbacks import CSVLogger\n",
    "from keras.callbacks import EarlyStopping\n",
    "\n",
    "from callback_custom import EarlyStoppingLowLR\n",
    "from callback_custom import ReduceLROnPlateauBestWeight\n",
    "\n",
    "\n",
    "\n",
    "# Model checkpoint to save the training results\n",
    "checkpointer = ModelCheckpoint(\n",
    "    filepath=model_filename.format('1'),\n",
    "    monitor=monitor,\n",
    "    verbose=0,\n",
    "    save_best_only=True,\n",
    "    save_weights_only=True)\n",
    "\n",
    "# CSVLogger to save the training results in a csv file\n",
    "csv_logger = CSVLogger(csv_filename.format(1), separator=';')\n",
    "\n",
    "\n",
    "stopper = EarlyStoppingLowLR(patience=patience, monitor=monitor, thresh_LR=1e-5)\n",
    "\n",
    "learning_rate_reduction = ReduceLROnPlateauBestWeight(filepath=model_filename.format('1'),\n",
    "                                                      monitor=monitor, \n",
    "                                                      patience=patience, \n",
    "                                                      verbose=1, \n",
    "                                                      factor=0.1, \n",
    "                                                      min_lr=1.001e-5)\n",
    "\n",
    "callbacks = [checkpointer, csv_logger, learning_rate_reduction, stopper]"
   ]
  },
  {
   "cell_type": "markdown",
   "metadata": {},
   "source": [
    "## 1.5 Training"
   ]
  },
  {
   "cell_type": "code",
   "execution_count": 62,
   "metadata": {
    "scrolled": false
   },
   "outputs": [
    {
     "name": "stdout",
     "output_type": "stream",
     "text": [
      "Train on 11181 samples, validate on 1243 samples\n",
      "Epoch 1/40\n",
      "11181/11181 [==============================] - 68s 6ms/step - loss: 0.6807 - categorical_accuracy: 0.7866 - val_loss: 0.4168 - val_categorical_accuracy: 0.8513\n",
      "Epoch 2/40\n",
      "11181/11181 [==============================] - 67s 6ms/step - loss: 0.2503 - categorical_accuracy: 0.9104 - val_loss: 0.1901 - val_categorical_accuracy: 0.9275\n",
      "Epoch 3/40\n",
      "11181/11181 [==============================] - 67s 6ms/step - loss: 0.1179 - categorical_accuracy: 0.9527 - val_loss: 0.1872 - val_categorical_accuracy: 0.9307\n",
      "Epoch 4/40\n",
      "11181/11181 [==============================] - 68s 6ms/step - loss: 0.0910 - categorical_accuracy: 0.9631 - val_loss: 0.2037 - val_categorical_accuracy: 0.9309\n",
      "Epoch 5/40\n",
      "11168/11181 [============================>.] - ETA: 0s - loss: 0.0693 - categorical_accuracy: 0.97160.001 1e-05\n",
      "11181/11181 [==============================] - 68s 6ms/step - loss: 0.0693 - categorical_accuracy: 0.9716 - val_loss: 0.2162 - val_categorical_accuracy: 0.9368\n",
      "Epoch 6/40\n",
      "11168/11181 [============================>.] - ETA: 0s - loss: 0.0504 - categorical_accuracy: 0.97950.001 1e-05\n",
      "11181/11181 [==============================] - 69s 6ms/step - loss: 0.0504 - categorical_accuracy: 0.9795 - val_loss: 0.2332 - val_categorical_accuracy: 0.9343\n",
      "Epoch 7/40\n",
      "11168/11181 [============================>.] - ETA: 0s - loss: 0.0430 - categorical_accuracy: 0.9827 ETA: 4s - loss: 0.0438 - categorica - ETA: 3s - loss: 0.0435 - categorical_accu - ETA: 1s - loss: 0.0433 - categorica0.001 1e-05\n",
      "11181/11181 [==============================] - 70s 6ms/step - loss: 0.0430 - categorical_accuracy: 0.9827 - val_loss: 0.3039 - val_categorical_accuracy: 0.9339\n",
      "Epoch 8/40\n",
      "11168/11181 [============================>.] - ETA: 0s - loss: 0.0268 - categorical_accuracy: 0.98950.001 1e-05\n",
      "11181/11181 [==============================] - 70s 6ms/step - loss: 0.0268 - categorical_accuracy: 0.9895 - val_loss: 0.3634 - val_categorical_accuracy: 0.9327\n",
      "Epoch 9/40\n",
      "11168/11181 [============================>.] - ETA: 0s - loss: 0.0252 - categorical_accuracy: 0.9904 ETA: 1s - loss: 0.0252 - categorical_accura\n",
      "Epoch 00009: ReduceLROnPlateau reducing learning rate to 0.00010000000474974513.\n",
      "11181/11181 [==============================] - 71s 6ms/step - loss: 0.0252 - categorical_accuracy: 0.9904 - val_loss: 0.3322 - val_categorical_accuracy: 0.9347\n",
      "Epoch 10/40\n",
      "11181/11181 [==============================] - 70s 6ms/step - loss: 0.0752 - categorical_accuracy: 0.9688 - val_loss: 0.2048 - val_categorical_accuracy: 0.9356\n",
      "Epoch 11/40\n",
      "11168/11181 [============================>.] - ETA: 0s - loss: 0.0631 - categorical_accuracy: 0.9737 ETA: 1s - loss: 0.0631 - categorical_0.0001 1e-05\n",
      "11181/11181 [==============================] - 71s 6ms/step - loss: 0.0631 - categorical_accuracy: 0.9737 - val_loss: 0.2289 - val_categorical_accuracy: 0.9338\n",
      "Epoch 12/40\n",
      "11168/11181 [============================>.] - ETA: 0s - loss: 0.0538 - categorical_accuracy: 0.97760.0001 1e-05\n",
      "11181/11181 [==============================] - 71s 6ms/step - loss: 0.0538 - categorical_accuracy: 0.9776 - val_loss: 0.2558 - val_categorical_accuracy: 0.9345\n",
      "Epoch 13/40\n",
      "11168/11181 [============================>.] - ETA: 0s - loss: 0.0448 - categorical_accuracy: 0.9815 - ETA: 28s - loss: 0.0462 - categorical_accura - ETA: 26s - loss: 0.0461 - catego - ETA: 22s - loss: 0.0460 - categorical_accuracy:  - ETA: 21s - loss: 0.0460 - categorical_accurac - ETA: 19s - loss: 0.040.0001 1e-05\n",
      "11181/11181 [==============================] - 71s 6ms/step - loss: 0.0448 - categorical_accuracy: 0.9815 - val_loss: 0.2831 - val_categorical_accuracy: 0.9346\n",
      "Epoch 14/40\n",
      "11168/11181 [============================>.] - ETA: 0s - loss: 0.0357 - categorical_accuracy: 0.9854\n",
      "Epoch 00014: ReduceLROnPlateau reducing learning rate to 1.001e-05.\n",
      "11181/11181 [==============================] - 71s 6ms/step - loss: 0.0357 - categorical_accuracy: 0.9854 - val_loss: 0.3262 - val_categorical_accuracy: 0.9335\n",
      "Epoch 15/40\n",
      "11181/11181 [==============================] - 72s 6ms/step - loss: 0.0832 - categorical_accuracy: 0.9658 - val_loss: 0.1876 - val_categorical_accuracy: 0.9347\n",
      "Epoch 16/40\n",
      "11168/11181 [============================>.] - ETA: 0s - loss: 0.0772 - categorical_accuracy: 0.96811.001e-05 1e-05\n",
      "11181/11181 [==============================] - 71s 6ms/step - loss: 0.0772 - categorical_accuracy: 0.9681 - val_loss: 0.1928 - val_categorical_accuracy: 0.9351\n",
      "Epoch 17/40\n",
      "11168/11181 [============================>.] - ETA: 0s - loss: 0.0743 - categorical_accuracy: 0.96931.001e-05 1e-05\n",
      "11181/11181 [==============================] - 72s 6ms/step - loss: 0.0743 - categorical_accuracy: 0.9693 - val_loss: 0.1940 - val_categorical_accuracy: 0.9356\n",
      "Epoch 18/40\n",
      "11168/11181 [============================>.] - ETA: 0s - loss: 0.0719 - categorical_accuracy: 0.97011.001e-05 1e-05\n",
      "11181/11181 [==============================] - 72s 6ms/step - loss: 0.0719 - categorical_accuracy: 0.9701 - val_loss: 0.1986 - val_categorical_accuracy: 0.9352\n",
      "Epoch 19/40\n",
      "11168/11181 [============================>.] - ETA: 0s - loss: 0.0699 - categorical_accuracy: 0.97091.001e-05 1e-05\n",
      "11181/11181 [==============================] - 72s 6ms/step - loss: 0.0699 - categorical_accuracy: 0.9709 - val_loss: 0.1962 - val_categorical_accuracy: 0.9367\n",
      "Epoch 20/40\n",
      "11168/11181 [============================>.] - ETA: 0s - loss: 0.0680 - categorical_accuracy: 0.97171.001e-05 1e-05\n",
      "11181/11181 [==============================] - 72s 6ms/step - loss: 0.0680 - categorical_accuracy: 0.9717 - val_loss: 0.2013 - val_categorical_accuracy: 0.9360\n"
     ]
    },
    {
     "data": {
      "text/plain": [
       "<keras.callbacks.History at 0x7f07c7525fd0>"
      ]
     },
     "execution_count": 62,
     "metadata": {},
     "output_type": "execute_result"
    }
   ],
   "source": [
    "seed = 47\n",
    "np.random.seed(seed)\n",
    "\n",
    "# Build model\n",
    "model = generate_model(num_classes, num_channel, segment_size, core_size)\n",
    "\n",
    "K.set_value(model.optimizer.lr, 1e-3)\n",
    "\n",
    "model.fit(\n",
    "    x_train,\n",
    "    y_train,\n",
    "    epochs=nb_epoch,\n",
    "    validation_split=validation_split,\n",
    "    verbose=1,\n",
    "    callbacks=callbacks)\n",
    "\n",
    "# freeing space\n",
    "#del x_train\n",
    "#del y_train"
   ]
  },
  {
   "cell_type": "markdown",
   "metadata": {},
   "source": [
    "## 1.6 Classification"
   ]
  },
  {
   "cell_type": "code",
   "execution_count": 63,
   "metadata": {},
   "outputs": [],
   "source": [
    "from keras.models import load_model\n",
    "\n",
    "# Load best model\n",
    "model = generate_model(num_classes, num_channel, segment_size, core_size)\n",
    "model.load_weights(model_filename.format(1))"
   ]
  },
  {
   "cell_type": "code",
   "execution_count": 64,
   "metadata": {},
   "outputs": [
    {
     "name": "stdout",
     "output_type": "stream",
     "text": [
      "1242/1242 [==============================] - 1s 981us/step\n"
     ]
    },
    {
     "data": {
      "text/plain": [
       "[0.18726991788872582, 0.93065725518885445]"
      ]
     },
     "execution_count": 64,
     "metadata": {},
     "output_type": "execute_result"
    }
   ],
   "source": [
    "idx_start_valid = int(len(x_train)*validation_split)\n",
    "model.evaluate(x_train[-idx_start_valid:], y_train[-idx_start_valid:], verbose=1)"
   ]
  },
  {
   "cell_type": "code",
   "execution_count": 65,
   "metadata": {},
   "outputs": [
    {
     "data": {
      "text/plain": [
       "3300"
      ]
     },
     "execution_count": 65,
     "metadata": {},
     "output_type": "execute_result"
    }
   ],
   "source": [
    "len_patch = extract_patches(read_data(1, 'QSM'), patch_shape=segment_size, extraction_step=(9, 9, 3)).shape[0]\n",
    "len_patch"
   ]
  },
  {
   "cell_type": "code",
   "execution_count": 66,
   "metadata": {
    "scrolled": false
   },
   "outputs": [
    {
     "name": "stdout",
     "output_type": "stream",
     "text": [
      "1\n",
      "3300/3300 [==============================] - 3s 810us/step\n",
      "2\n",
      "3300/3300 [==============================] - 3s 775us/step\n",
      "3\n",
      "3300/3300 [==============================] - 3s 775us/step\n",
      "4\n",
      "3300/3300 [==============================] - 3s 778us/step\n",
      "5\n",
      "3300/3300 [==============================] - 3s 776us/step\n",
      "6\n",
      "3300/3300 [==============================] - 3s 782us/step\n",
      "7\n",
      "3300/3300 [==============================] - 3s 786us/step\n",
      "8\n",
      "3300/3300 [==============================] - 3s 777us/step\n",
      "9\n",
      "3300/3300 [==============================] - 3s 788us/step\n",
      "10\n",
      "3300/3300 [==============================] - 3s 788us/step\n",
      "11\n",
      "3300/3300 [==============================] - 3s 786us/step\n",
      "12\n",
      "3300/3300 [==============================] - 3s 786us/step\n",
      "13\n",
      "3300/3300 [==============================] - 3s 781us/step\n",
      "14\n",
      "3300/3300 [==============================] - 3s 782us/step\n",
      "15\n",
      "3300/3300 [==============================] - 3s 785us/step\n",
      "16\n",
      "3300/3300 [==============================] - 3s 788us/step\n",
      "17\n",
      "3300/3300 [==============================] - 3s 780us/step\n",
      "18\n",
      "3300/3300 [==============================] - 3s 782us/step\n"
     ]
    }
   ],
   "source": [
    "segmentations_train = []\n",
    "\n",
    "for i_case, case_idx in enumerate(idxs_training):\n",
    "\n",
    "    print(case_idx)\n",
    "    input_train = data_train[i_case, :, :, :, :]\n",
    "\n",
    "    x_test = np.zeros((len_patch, num_channel,) + segment_size, dtype=precision_global)\n",
    "    for i_channel in range(num_channel):\n",
    "        x_test[:, i_channel, :, :, :] = extract_patches(input_train[i_channel], patch_shape=segment_size, extraction_step=(9, 9, 3))\n",
    "\n",
    "    pred = model.predict(x_test, verbose=1)\n",
    "    pred_classes = np.argmax(pred, axis=2)\n",
    "    pred_classes = pred_classes.reshape((len(pred_classes), 9, 9, 3))\n",
    "    segmentation = reconstruct_volume(pred_classes, matrix_size)\n",
    "    \n",
    "    segmentations_train = segmentations_train + [segmentation]\n",
    "    \n",
    "segmentations_train = np.stack(segmentations_train, axis=0)"
   ]
  },
  {
   "cell_type": "code",
   "execution_count": 67,
   "metadata": {},
   "outputs": [
    {
     "data": {
      "text/plain": [
       "10.0"
      ]
     },
     "execution_count": 67,
     "metadata": {},
     "output_type": "execute_result"
    }
   ],
   "source": [
    "segmentations_train.max()"
   ]
  },
  {
   "cell_type": "code",
   "execution_count": 68,
   "metadata": {},
   "outputs": [
    {
     "data": {
      "image/png": "[encoded data removed]",
      "text/plain": [
       "<matplotlib.figure.Figure at 0x7f07c652ec88>"
      ]
     },
     "metadata": {},
     "output_type": "display_data"
    }
   ],
   "source": [
    "plots(np.squeeze(label_train[0:15,:,:,25]), rows=3, scale = (0, 10))"
   ]
  },
  {
   "cell_type": "code",
   "execution_count": 69,
   "metadata": {
    "scrolled": true
   },
   "outputs": [
    {
     "data": {
      "image/png": "[encoded data removed]",
      "text/plain": [
       "<matplotlib.figure.Figure at 0x7f07c64e4208>"
      ]
     },
     "metadata": {},
     "output_type": "display_data"
    }
   ],
   "source": [
    "plots(np.squeeze(segmentations_train[0:15,:,:,25]), rows=3, scale = (0, 10))"
   ]
  },
  {
   "cell_type": "markdown",
   "metadata": {},
   "source": [
    "## 1.7 Check false-positive"
   ]
  },
  {
   "cell_type": "code",
   "execution_count": 70,
   "metadata": {},
   "outputs": [],
   "source": [
    "idx_fpos = (label_train == 0) & (segmentations_train != 0);"
   ]
  },
  {
   "cell_type": "code",
   "execution_count": 71,
   "metadata": {},
   "outputs": [],
   "source": [
    "mask_fpos = np.zeros(label_train.shape, dtype=precision_global)\n",
    "mask_fpos[idx_fpos == True] = 1"
   ]
  },
  {
   "cell_type": "code",
   "execution_count": 72,
   "metadata": {},
   "outputs": [
    {
     "data": {
      "image/png": "[encoded data removed]",
      "text/plain": [
       "<matplotlib.figure.Figure at 0x7f07c64bfba8>"
      ]
     },
     "metadata": {},
     "output_type": "display_data"
    }
   ],
   "source": [
    "plots(200*(np.squeeze(mask_fpos[0:15,:,:,25])), rows=3)"
   ]
  },
  {
   "cell_type": "markdown",
   "metadata": {},
   "source": [
    "# 2 Fine-tuning"
   ]
  },
  {
   "cell_type": "markdown",
   "metadata": {},
   "source": [
    "## 2.2 Rebuild training dataset"
   ]
  },
  {
   "cell_type": "code",
   "execution_count": 73,
   "metadata": {},
   "outputs": [],
   "source": [
    "del x_train, y_train"
   ]
  },
  {
   "cell_type": "code",
   "execution_count": 74,
   "metadata": {},
   "outputs": [
    {
     "name": "stdout",
     "output_type": "stream",
     "text": [
      "0\n",
      "1\n",
      "2\n",
      "3\n",
      "4\n",
      "5\n",
      "6\n",
      "7\n",
      "8\n",
      "9\n",
      "10\n",
      "11\n",
      "12\n",
      "13\n",
      "14\n",
      "15\n",
      "16\n",
      "17\n"
     ]
    },
    {
     "data": {
      "text/plain": [
       "((9923, 2, 27, 27, 21), (9923, 243, 11))"
      ]
     },
     "execution_count": 74,
     "metadata": {},
     "output_type": "execute_result"
    }
   ],
   "source": [
    "#extraction_step_ft = (6,6,3)\n",
    "x_train, y_train = build_set(data_train, label_train, extraction_step_ft, segment_size, core_size, mask_fpos)\n",
    "x_train.shape, y_train.shape"
   ]
  },
  {
   "cell_type": "code",
   "execution_count": 75,
   "metadata": {},
   "outputs": [],
   "source": [
    "# shuffle array\n",
    "#idxs_shuffle = shuffle(x_train)\n",
    "#idxs_shuffle = shuffle(y_train, idxs_shuffle)"
   ]
  },
  {
   "cell_type": "code",
   "execution_count": 76,
   "metadata": {},
   "outputs": [],
   "source": [
    "save_array('tmp/x_train.bc', x_train)\n",
    "save_array('tmp/y_train.bc', y_train)"
   ]
  },
  {
   "cell_type": "code",
   "execution_count": 77,
   "metadata": {},
   "outputs": [],
   "source": [
    "#x_train = load_array('tmp/x_train.bc')\n",
    "#y_train = load_array('tmp/y_train.bc')"
   ]
  },
  {
   "cell_type": "markdown",
   "metadata": {},
   "source": [
    "## 2.3 Regenerate model"
   ]
  },
  {
   "cell_type": "code",
   "execution_count": 78,
   "metadata": {},
   "outputs": [],
   "source": [
    "from keras.callbacks import ModelCheckpoint\n",
    "from keras.callbacks import CSVLogger\n",
    "from keras.callbacks import EarlyStopping\n",
    "\n",
    "from callback_custom import EarlyStoppingLowLR\n",
    "from callback_custom import ReduceLROnPlateauBestWeight\n",
    "\n",
    "\n",
    "\n",
    "# Model checkpoint to save the training results\n",
    "checkpointer = ModelCheckpoint(\n",
    "    filepath=model_filename.format('2'),\n",
    "    monitor=monitor,\n",
    "    verbose=0,\n",
    "    save_best_only=True,\n",
    "    save_weights_only=True)\n",
    "\n",
    "# CSVLogger to save the training results in a csv file\n",
    "csv_logger = CSVLogger(csv_filename.format(1), separator=';')\n",
    "\n",
    "\n",
    "stopper = EarlyStoppingLowLR(patience=patience, monitor=monitor, thresh_LR=1e-5)\n",
    "\n",
    "learning_rate_reduction = ReduceLROnPlateauBestWeight(filepath=model_filename.format('2'),\n",
    "                                                      monitor=monitor, \n",
    "                                                      patience=patience, \n",
    "                                                      verbose=1, \n",
    "                                                      factor=0.1, \n",
    "                                                      min_lr=1.001e-5)\n",
    "\n",
    "callbacks = [checkpointer, csv_logger, learning_rate_reduction, stopper]"
   ]
  },
  {
   "cell_type": "code",
   "execution_count": 79,
   "metadata": {
    "scrolled": false
   },
   "outputs": [
    {
     "name": "stdout",
     "output_type": "stream",
     "text": [
      "Train on 8930 samples, validate on 993 samples\n",
      "Epoch 1/40\n",
      "8930/8930 [==============================] - 54s 6ms/step - loss: 0.0415 - categorical_accuracy: 0.9835 - val_loss: 0.0074 - val_categorical_accuracy: 0.9969\n",
      "Epoch 2/40\n",
      "8930/8930 [==============================] - 53s 6ms/step - loss: 0.0311 - categorical_accuracy: 0.9873 - val_loss: 0.0058 - val_categorical_accuracy: 0.9974\n",
      "Epoch 3/40\n",
      "8930/8930 [==============================] - 53s 6ms/step - loss: 0.0270 - categorical_accuracy: 0.9889 - val_loss: 0.0040 - val_categorical_accuracy: 0.9981\n",
      "Epoch 4/40\n",
      "8930/8930 [==============================] - 53s 6ms/step - loss: 0.0241 - categorical_accuracy: 0.9901 - val_loss: 0.0032 - val_categorical_accuracy: 0.9986\n",
      "Epoch 5/40\n",
      "8930/8930 [==============================] - 53s 6ms/step - loss: 0.0220 - categorical_accuracy: 0.9909 - val_loss: 0.0025 - val_categorical_accuracy: 0.9991\n",
      "Epoch 6/40\n",
      "8930/8930 [==============================] - 53s 6ms/step - loss: 0.0198 - categorical_accuracy: 0.9919 - val_loss: 0.0038 - val_categorical_accuracy: 0.9985\n",
      "Epoch 7/40\n",
      "8930/8930 [==============================] - 54s 6ms/step - loss: 0.0177 - categorical_accuracy: 0.9928 - val_loss: 0.0024 - val_categorical_accuracy: 0.9989\n",
      "Epoch 8/40\n",
      "8928/8930 [============================>.] - ETA: 0s - loss: 0.0164 - categorical_accuracy: 0.99340.0001 1e-05\n",
      "8930/8930 [==============================] - 55s 6ms/step - loss: 0.0164 - categorical_accuracy: 0.9934 - val_loss: 0.0030 - val_categorical_accuracy: 0.9988\n",
      "Epoch 9/40\n",
      "8928/8930 [============================>.] - ETA: 0s - loss: 0.0146 - categorical_accuracy: 0.99410.0001 1e-05\n",
      "8930/8930 [==============================] - 56s 6ms/step - loss: 0.0146 - categorical_accuracy: 0.9941 - val_loss: 0.0029 - val_categorical_accuracy: 0.9989\n",
      "Epoch 10/40\n",
      "8930/8930 [==============================] - 55s 6ms/step - loss: 0.0129 - categorical_accuracy: 0.9949 - val_loss: 0.0021 - val_categorical_accuracy: 0.9991\n",
      "Epoch 11/40\n",
      "8928/8930 [============================>.] - ETA: 0s - loss: 0.0121 - categorical_accuracy: 0.99520.0001 1e-05\n",
      "8930/8930 [==============================] - 55s 6ms/step - loss: 0.0121 - categorical_accuracy: 0.9952 - val_loss: 0.0047 - val_categorical_accuracy: 0.9982\n",
      "Epoch 12/40\n",
      "8928/8930 [============================>.] - ETA: 0s - loss: 0.0104 - categorical_accuracy: 0.99600.0001 1e-05\n",
      "8930/8930 [==============================] - 56s 6ms/step - loss: 0.0104 - categorical_accuracy: 0.9960 - val_loss: 0.0049 - val_categorical_accuracy: 0.9983\n",
      "Epoch 13/40\n",
      "8928/8930 [============================>.] - ETA: 0s - loss: 0.0126 - categorical_accuracy: 0.99520.0001 1e-05\n",
      "8930/8930 [==============================] - 56s 6ms/step - loss: 0.0126 - categorical_accuracy: 0.9952 - val_loss: 0.0036 - val_categorical_accuracy: 0.9986\n",
      "Epoch 14/40\n",
      "8928/8930 [============================>.] - ETA: 0s - loss: 0.0088 - categorical_accuracy: 0.9967 ETA: 7s - loss: 0.008 - ETA: 0.0001 1e-05\n",
      "8930/8930 [==============================] - 56s 6ms/step - loss: 0.0088 - categorical_accuracy: 0.9967 - val_loss: 0.0025 - val_categorical_accuracy: 0.9991\n",
      "Epoch 15/40\n",
      "8928/8930 [============================>.] - ETA: 0s - loss: 0.0088 - categorical_accuracy: 0.99680.0001 1e-05\n",
      "8930/8930 [==============================] - 57s 6ms/step - loss: 0.0088 - categorical_accuracy: 0.9968 - val_loss: 0.0032 - val_categorical_accuracy: 0.9988\n",
      "Epoch 16/40\n",
      "8928/8930 [============================>.] - ETA: 0s - loss: 0.0064 - categorical_accuracy: 0.9977\n",
      "Epoch 00016: ReduceLROnPlateau reducing learning rate to 1.001e-05.\n",
      "8930/8930 [==============================] - 57s 6ms/step - loss: 0.0064 - categorical_accuracy: 0.9977 - val_loss: 0.0039 - val_categorical_accuracy: 0.9987\n",
      "Epoch 17/40\n",
      "8930/8930 [==============================] - 57s 6ms/step - loss: 0.0105 - categorical_accuracy: 0.9961 - val_loss: 0.0025 - val_categorical_accuracy: 0.9990\n",
      "Epoch 18/40\n",
      "8928/8930 [============================>.] - ETA: 0s - loss: 0.0096 - categorical_accuracy: 0.9965 ETA: 2s - loss: 0.0096 - 1.001e-05 1e-05\n",
      "8930/8930 [==============================] - 57s 6ms/step - loss: 0.0096 - categorical_accuracy: 0.9965 - val_loss: 0.0026 - val_categorical_accuracy: 0.9989\n",
      "Epoch 19/40\n",
      "8928/8930 [============================>.] - ETA: 0s - loss: 0.0092 - categorical_accuracy: 0.99671.001e-05 1e-05\n",
      "8930/8930 [==============================] - 54s 6ms/step - loss: 0.0092 - categorical_accuracy: 0.9967 - val_loss: 0.0029 - val_categorical_accuracy: 0.9989\n",
      "Epoch 20/40\n",
      "8928/8930 [============================>.] - ETA: 0s - loss: 0.0089 - categorical_accuracy: 0.99681.001e-05 1e-05\n",
      "8930/8930 [==============================] - 56s 6ms/step - loss: 0.0089 - categorical_accuracy: 0.9968 - val_loss: 0.0029 - val_categorical_accuracy: 0.9989\n",
      "Epoch 21/40\n",
      "8928/8930 [============================>.] - ETA: 0s - loss: 0.0086 - categorical_accuracy: 0.99691.001e-05 1e-05\n",
      "8930/8930 [==============================] - 57s 6ms/step - loss: 0.0086 - categorical_accuracy: 0.9969 - val_loss: 0.0027 - val_categorical_accuracy: 0.9990\n",
      "Epoch 22/40\n",
      "8928/8930 [============================>.] - ETA: 0s - loss: 0.0084 - categorical_accuracy: 0.99701.001e-05 1e-05\n",
      "8930/8930 [==============================] - 57s 6ms/step - loss: 0.0084 - categorical_accuracy: 0.9970 - val_loss: 0.0028 - val_categorical_accuracy: 0.9989\n"
     ]
    },
    {
     "data": {
      "text/plain": [
       "<keras.callbacks.History at 0x7f07c117c1d0>"
      ]
     },
     "execution_count": 79,
     "metadata": {},
     "output_type": "execute_result"
    }
   ],
   "source": [
    "# Build model\n",
    "model = generate_model(num_classes, num_channel, segment_size, core_size)\n",
    "\n",
    "# Load optimized weights\n",
    "model.load_weights(model_filename.format('1'))\n",
    "\n",
    "K.set_value(model.optimizer.lr, 1e-4)\n",
    "\n",
    "# Start fine-tuning\n",
    "model.fit(\n",
    "    x_train,\n",
    "    y_train,\n",
    "    epochs=nb_epoch,\n",
    "    validation_split=validation_split,\n",
    "    verbose=1,\n",
    "    callbacks=callbacks)\n",
    "\n",
    "# freeing space\n",
    "#del x_train\n",
    "#del y_train"
   ]
  },
  {
   "cell_type": "code",
   "execution_count": 80,
   "metadata": {},
   "outputs": [],
   "source": [
    "# Load best model\n",
    "model = generate_model(num_classes, num_channel, segment_size, core_size)\n",
    "model.load_weights(model_filename.format('2'))"
   ]
  },
  {
   "cell_type": "code",
   "execution_count": 81,
   "metadata": {},
   "outputs": [
    {
     "name": "stdout",
     "output_type": "stream",
     "text": [
      "992/992 [==============================] - 1s 954us/step\n"
     ]
    },
    {
     "data": {
      "text/plain": [
       "[0.0020898483061530223, 0.99914107976421229]"
      ]
     },
     "execution_count": 81,
     "metadata": {},
     "output_type": "execute_result"
    }
   ],
   "source": [
    "idx_start_valid = int(len(x_train)*validation_split)\n",
    "model.evaluate(x_train[-idx_start_valid:], y_train[-idx_start_valid:], verbose=1)"
   ]
  },
  {
   "cell_type": "code",
   "execution_count": 82,
   "metadata": {},
   "outputs": [
    {
     "name": "stdout",
     "output_type": "stream",
     "text": [
      "19\n",
      "3300/3300 [==============================] - 3s 832us/step\n",
      "20\n",
      "3300/3300 [==============================] - 3s 787us/step\n"
     ]
    }
   ],
   "source": [
    "segmentations_test = []\n",
    "\n",
    "for i_case, case_idx in enumerate(idxs_test):\n",
    "\n",
    "    print(case_idx)\n",
    "    input_test = data_test[i_case, :, :, :, :]\n",
    "\n",
    "    x_test = np.zeros((len_patch, num_channel,) + segment_size, dtype=precision_global)\n",
    "    for i_channel in range(num_channel):\n",
    "        x_test[:, i_channel, :, :, :] = extract_patches(input_test[i_channel], patch_shape=segment_size, extraction_step=(9, 9, 3))\n",
    "\n",
    "    pred = model.predict(x_test, verbose=1)\n",
    "    pred_classes = np.argmax(pred, axis=2)\n",
    "    pred_classes = pred_classes.reshape((len(pred_classes), 9, 9, 3))\n",
    "    segmentation = reconstruct_volume(pred_classes, matrix_size)\n",
    "    #segmentation = reconstruct_volume_majority(pred_classes, matrix_size, extraction_step=(3, 3, 3))\n",
    "    \n",
    "    segmentations_test = segmentations_test + [segmentation]\n",
    "    \n",
    "segmentations_test = np.stack(segmentations_test, axis=0)"
   ]
  },
  {
   "cell_type": "code",
   "execution_count": 83,
   "metadata": {},
   "outputs": [
    {
     "data": {
      "text/plain": [
       "10.0"
      ]
     },
     "execution_count": 83,
     "metadata": {},
     "output_type": "execute_result"
    }
   ],
   "source": [
    "segmentations_test.max()"
   ]
  },
  {
   "cell_type": "code",
   "execution_count": 84,
   "metadata": {},
   "outputs": [
    {
     "data": {
      "image/png": "[encoded data removed]",
      "text/plain": [
       "<matplotlib.figure.Figure at 0x7f07af91f940>"
      ]
     },
     "metadata": {},
     "output_type": "display_data"
    }
   ],
   "source": [
    "plots(np.squeeze(label_test[:,:,:,23]), rows=1, scale = (0, 10))"
   ]
  },
  {
   "cell_type": "code",
   "execution_count": 85,
   "metadata": {},
   "outputs": [
    {
     "data": {
      "image/png": "[encoded data removed]",
      "text/plain": [
       "<matplotlib.figure.Figure at 0x7f07aff1eb70>"
      ]
     },
     "metadata": {},
     "output_type": "display_data"
    }
   ],
   "source": [
    "plots(np.squeeze(segmentations_test[:,:,:,23]), rows=1, scale = (0, 10))"
   ]
  },
  {
   "cell_type": "markdown",
   "metadata": {},
   "source": [
    "# 3 Post-processing"
   ]
  },
  {
   "cell_type": "markdown",
   "metadata": {},
   "source": [
    "## 3.1 Pick the largest connected component for each class"
   ]
  },
  {
   "cell_type": "code",
   "execution_count": 87,
   "metadata": {},
   "outputs": [],
   "source": [
    "for i_case, case_idx in enumerate(idxs_test):\n",
    "    segmentation = np.squeeze(segmentations_test[i_case,:,:,:]);\n",
    "    tmp = np.zeros(segmentation.shape, dtype=segmentation.dtype)\n",
    "    \n",
    "    for class_idx in class_mapper_inv :\n",
    "        mask = (segmentation == class_idx)\n",
    "        \n",
    "        if class_idx != 0 and mask.sum() > 0:\n",
    "            labeled_mask, num_cc = ndimage.label(mask)\n",
    "            largest_cc_mask = (labeled_mask == (np.bincount(labeled_mask.flat)[1:].argmax() + 1))\n",
    "            \n",
    "            tmp[largest_cc_mask == 1] = class_idx\n",
    "        \n",
    "    segmentations_test[i_case,:,:,:] = tmp"
   ]
  },
  {
   "cell_type": "markdown",
   "metadata": {},
   "source": [
    "## 3.2 Save it "
   ]
  },
  {
   "cell_type": "code",
   "execution_count": 88,
   "metadata": {},
   "outputs": [
    {
     "name": "stdout",
     "output_type": "stream",
     "text": [
      "19\n",
      "20\n",
      "Done with Step 3\n"
     ]
    }
   ],
   "source": [
    "for i_case, case_idx in enumerate(idxs_test):\n",
    "    print(case_idx)\n",
    "    \n",
    "    segmentation = np.copy(np.squeeze(segmentations_test[i_case,:,:,:]))\n",
    "    \n",
    "    tmp = np.copy(segmentation)\n",
    "    for class_idx in class_mapper_inv:\n",
    "        segmentation[tmp == class_idx] = class_mapper_inv[class_idx]\n",
    "    del tmp\n",
    "\n",
    "    save_data(segmentation, case_idx, 'label')    \n",
    "\n",
    "print(\"Done with Step 3\")"
   ]
  },
  {
   "cell_type": "markdown",
   "metadata": {},
   "source": [
    "## 3.3 Calculate metric "
   ]
  },
  {
   "cell_type": "code",
   "execution_count": 104,
   "metadata": {},
   "outputs": [],
   "source": [
    "orig_stdout = sys.stdout\n",
    "f = open(output_filename, 'w')\n",
    "sys.stdout = f"
   ]
  },
  {
   "cell_type": "code",
   "execution_count": 105,
   "metadata": {},
   "outputs": [],
   "source": [
    "def calc_dice(m1, m2):\n",
    "    return 2*((m1==1) & (m2==1)).sum()/((m1==1).sum() + (m2==1).sum())"
   ]
  },
  {
   "cell_type": "code",
   "execution_count": 106,
   "metadata": {},
   "outputs": [],
   "source": [
    "for i_case, case_idx in enumerate(idxs_test):\n",
    "    print(case_idx, end='\\t')\n",
    "    print('{:.4f}'.format(accuracy_score(label_test[i_case,:,:,:].flat, segmentations_test[i_case,:,:,:].flat)), end='\\t')\n",
    "    for class_idx in class_mapper_inv:\n",
    "        mask = (np.squeeze(segmentations_test[i_case,:,:,:]) == class_idx)\n",
    "        if class_idx != 0 and mask.sum() > 0:\n",
    "            print('{:.4f}'.format(precision_score(label_test[i_case,:,:,:][mask], segmentations_test[i_case,:,:,:][mask], average='micro')), end='\\t')\n",
    "        else:\n",
    "            print('N/A', end='\\t')\n",
    "    print()"
   ]
  },
  {
   "cell_type": "code",
   "execution_count": 107,
   "metadata": {},
   "outputs": [],
   "source": [
    "for i_case, case_idx in enumerate(idxs_test):\n",
    "    print(case_idx, end='\\t')\n",
    "    for class_idx in class_mapper_inv:\n",
    "        mask = (np.squeeze(segmentations_test[i_case,:,:,:]) == class_idx)\n",
    "        if class_idx != 0 and mask.sum() > 0:\n",
    "            print('{:.4f}'.format(calc_dice((label_test[i_case,:,:,:]==class_idx).flat, (segmentations_test[i_case,:,:,:]==class_idx).flat)), end='\\t')\n",
    "        else:\n",
    "            print(0, end='\\t')\n",
    "    print()"
   ]
  },
  {
   "cell_type": "code",
   "execution_count": 108,
   "metadata": {},
   "outputs": [],
   "source": [
    "sys.stdout = orig_stdout\n",
    "f.close()"
   ]
  },
  {
   "cell_type": "code",
   "execution_count": null,
   "metadata": {},
   "outputs": [],
   "source": []
  }
 ],
 "metadata": {
  "kernelspec": {
   "display_name": "Python 3",
   "language": "python",
   "name": "python3"
  },
  "language_info": {
   "codemirror_mode": {
    "name": "ipython",
    "version": 3
   },
   "file_extension": ".py",
   "mimetype": "text/x-python",
   "name": "python",
   "nbconvert_exporter": "python",
   "pygments_lexer": "ipython3",
   "version": "3.5.2"
  }
 },
 "nbformat": 4,
 "nbformat_minor": 2
}
