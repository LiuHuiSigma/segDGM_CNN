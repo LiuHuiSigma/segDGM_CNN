{
 "cells": [
  {
   "cell_type": "code",
   "execution_count": 1,
   "metadata": {},
   "outputs": [
    {
     "name": "stderr",
     "output_type": "stream",
     "text": [
      "Using TensorFlow backend.\n"
     ]
    }
   ],
   "source": [
    "%matplotlib inline\n",
    "import nibabel as nib\n",
    "import numpy as np\n",
    "from scipy import ndimage\n",
    "from keras import backend as K\n",
    "from sklearn.metrics import accuracy_score, precision_score\n",
    "\n",
    "from utils import *\n",
    "from model_FCNN import generate_model\n"
   ]
  },
  {
   "cell_type": "code",
   "execution_count": 2,
   "metadata": {},
   "outputs": [],
   "source": [
    "from importlib import reload\n",
    "\n",
    "import keras\n",
    "reload(keras)\n",
    "from keras import backend as K\n",
    "\n",
    "import utils\n",
    "reload(utils)\n",
    "from utils import *\n",
    "\n",
    "import model_FCNN\n",
    "reload(model_FCNN)\n",
    "from model_FCNN import generate_model\n",
    "\n",
    "import callback_custom\n",
    "reload(callback_custom);"
   ]
  },
  {
   "cell_type": "markdown",
   "metadata": {},
   "source": [
    "# Problem configuration"
   ]
  },
  {
   "cell_type": "code",
   "execution_count": 3,
   "metadata": {},
   "outputs": [],
   "source": [
    "num_classes = 11\n",
    "num_channel = 1\n",
    "\n",
    "# K-fold validation (K=5)\n",
    "n_training = 16\n",
    "n_test = 4\n",
    "\n",
    "idxs_training = list(range(1, 1+16))\n",
    "idxs_test = list(range(17, 17+4))\n",
    "\n",
    "patience = 5\n",
    "model_filename = 'models/outrun_step_{}.h5'\n",
    "csv_filename = 'log/outrun_step_{}.cvs'\n",
    "\n",
    "nb_epoch = 40\n",
    "validation_split = 0.10\n",
    "monitor = 'val_loss'#'val_categorical_accuracy'\n",
    "\n",
    "class_mapper = {0:0}\n",
    "class_mapper.update({ i+1:i for i in range(1, 1+10) })\n",
    "class_mapper_inv = {0:0}\n",
    "class_mapper_inv.update({ i:i+1 for i in range(1, 1+10) })\n",
    "\n",
    "matrix_size = (160, 220, 48)\n",
    "\n",
    "extraction_step = (3, 3, 1)\n",
    "#extraction_step = (5, 5, 3)\n",
    "\n",
    "segment_size = (27, 27, 21)\n",
    "core_size = (9, 9, 3)"
   ]
  },
  {
   "cell_type": "markdown",
   "metadata": {},
   "source": [
    "# Architecture"
   ]
  },
  {
   "cell_type": "markdown",
   "metadata": {},
   "source": [
    "# 1. Initial segmentation"
   ]
  },
  {
   "cell_type": "markdown",
   "metadata": {},
   "source": [
    "## 1.1 Read data"
   ]
  },
  {
   "cell_type": "code",
   "execution_count": 5,
   "metadata": {},
   "outputs": [],
   "source": [
    "QSM_train = np.empty(((n_training,) + matrix_size), dtype=precision_global)\n",
    "MAG_train = np.empty(((n_training,) + matrix_size), dtype=precision_global)\n",
    "R2S_train = np.empty(((n_training,) + matrix_size), dtype=precision_global)\n",
    "label_train = np.empty(((n_training,) + matrix_size), dtype=precision_global)\n",
    "for i, case_idx in enumerate(idxs_training):\n",
    "    QSM_train[i, :, :, :] = read_data(case_idx, 'QSM')\n",
    "    MAG_train[i, :, :, :] = read_data(case_idx, 'MAG')\n",
    "    R2S_train[i, :, :, :] = read_data(case_idx, 'R2S')\n",
    "    label_train[i, :, :, :] = read_data(case_idx, 'label')"
   ]
  },
  {
   "cell_type": "code",
   "execution_count": 6,
   "metadata": {},
   "outputs": [],
   "source": [
    "#data_train = np.stack((QSM_train, MAG_train, R2S_train), axis = 1)\n",
    "#data_train = np.stack((QSM_train, R2S_train), axis = 1)\n",
    "data_train = np.stack((QSM_train,), axis = 1)"
   ]
  },
  {
   "cell_type": "code",
   "execution_count": 7,
   "metadata": {},
   "outputs": [],
   "source": [
    "QSM_test = np.empty(((n_test,) + matrix_size), dtype=precision_global)\n",
    "MAG_test = np.empty(((n_test,) + matrix_size), dtype=precision_global)\n",
    "R2S_test = np.empty(((n_test,) + matrix_size), dtype=precision_global)\n",
    "label_test = np.empty(((n_test,) + matrix_size), dtype=precision_global)\n",
    "for i, case_idx in enumerate(idxs_test):\n",
    "    QSM_test[i, :, :, :] = read_data(case_idx, 'QSM')\n",
    "    MAG_test[i, :, :, :] = read_data(case_idx, 'MAG')\n",
    "    R2S_test[i, :, :, :] = read_data(case_idx, 'R2S')\n",
    "    label_test[i, :, :, :] = read_data(case_idx, 'label')"
   ]
  },
  {
   "cell_type": "code",
   "execution_count": 8,
   "metadata": {},
   "outputs": [],
   "source": [
    "#data_test = np.stack((QSM_test, MAG_test, R2S_test), axis = 1)\n",
    "#data_test = np.stack((QSM_test, R2S_test), axis = 1)\n",
    "data_test = np.stack((QSM_test,), axis = 1)"
   ]
  },
  {
   "cell_type": "markdown",
   "metadata": {},
   "source": [
    "## 1.2 Pre-processing"
   ]
  },
  {
   "cell_type": "code",
   "execution_count": 9,
   "metadata": {},
   "outputs": [],
   "source": [
    "## Intensity normalisation (zero mean and unit variance)\n",
    "input_mean = 127.0\n",
    "input_std = 128.0\n",
    "data_train = (data_train - input_mean) / input_std\n",
    "data_test = (data_test - input_mean) / input_std\n",
    "\n",
    "# Map class label\n",
    "tmp = np.copy(label_train)\n",
    "for class_idx in class_mapper:\n",
    "    label_train[tmp == class_idx] = class_mapper[class_idx]\n",
    "tmp = np.copy(label_test)\n",
    "for class_idx in class_mapper:\n",
    "    label_test[tmp == class_idx] = class_mapper[class_idx]\n",
    "del tmp"
   ]
  },
  {
   "cell_type": "code",
   "execution_count": 10,
   "metadata": {},
   "outputs": [
    {
     "data": {
      "text/plain": [
       "10.0"
      ]
     },
     "execution_count": 10,
     "metadata": {},
     "output_type": "execute_result"
    }
   ],
   "source": [
    "label_train.max()"
   ]
  },
  {
   "cell_type": "code",
   "execution_count": 11,
   "metadata": {},
   "outputs": [
    {
     "data": {
      "image/png": "[encoded data removed]",
      "text/plain": [
       "<matplotlib.figure.Figure at 0x7efeca2e20f0>"
      ]
     },
     "metadata": {},
     "output_type": "display_data"
    }
   ],
   "source": [
    "plots(np.squeeze(label_train[0,:,:,[29,25]]), scale = (0, 10))"
   ]
  },
  {
   "cell_type": "markdown",
   "metadata": {},
   "source": [
    "## 1.3 Data preparation"
   ]
  },
  {
   "cell_type": "code",
   "execution_count": 12,
   "metadata": {},
   "outputs": [
    {
     "name": "stdout",
     "output_type": "stream",
     "text": [
      "0\n",
      "1\n",
      "2\n",
      "3\n",
      "4\n",
      "5\n",
      "6\n",
      "7\n",
      "8\n",
      "9\n",
      "10\n",
      "11\n",
      "12\n",
      "13\n",
      "14\n",
      "15\n"
     ]
    },
    {
     "data": {
      "text/plain": [
       "((33015, 1, 27, 27, 21), (33015, 243, 11))"
      ]
     },
     "execution_count": 12,
     "metadata": {},
     "output_type": "execute_result"
    }
   ],
   "source": [
    "x_train, y_train = build_set(data_train, label_train, extraction_step, segment_size, core_size)\n",
    "x_train.shape, y_train.shape"
   ]
  },
  {
   "cell_type": "code",
   "execution_count": 13,
   "metadata": {},
   "outputs": [],
   "source": [
    "# shuffle array\n",
    "idxs_shuffle = shuffle(x_train)\n",
    "idxs_shuffle = shuffle(y_train, idxs_shuffle)"
   ]
  },
  {
   "cell_type": "markdown",
   "metadata": {},
   "source": [
    "## 1.4 Configure callbacks"
   ]
  },
  {
   "cell_type": "code",
   "execution_count": 14,
   "metadata": {},
   "outputs": [],
   "source": [
    "from keras.callbacks import ModelCheckpoint\n",
    "from keras.callbacks import CSVLogger\n",
    "from keras.callbacks import EarlyStopping\n",
    "\n",
    "from callback_custom import EarlyStoppingLowLR\n",
    "from callback_custom import ReduceLROnPlateauBestWeight\n",
    "\n",
    "\n",
    "\n",
    "# Model checkpoint to save the training results\n",
    "checkpointer = ModelCheckpoint(\n",
    "    filepath=model_filename.format('1'),\n",
    "    monitor=monitor,\n",
    "    verbose=0,\n",
    "    save_best_only=True,\n",
    "    save_weights_only=True)\n",
    "\n",
    "# CSVLogger to save the training results in a csv file\n",
    "csv_logger = CSVLogger(csv_filename.format(1), separator=';')\n",
    "\n",
    "\n",
    "stopper = EarlyStoppingLowLR(patience=patience, monitor=monitor, thresh_LR=1e-5)\n",
    "\n",
    "learning_rate_reduction = ReduceLROnPlateauBestWeight(filepath=model_filename.format('1'),\n",
    "                                                      monitor=monitor, \n",
    "                                                      patience=patience, \n",
    "                                                      verbose=1, \n",
    "                                                      factor=0.1, \n",
    "                                                      min_lr=1.001e-5)\n",
    "\n",
    "callbacks = [checkpointer, csv_logger, learning_rate_reduction, stopper]"
   ]
  },
  {
   "cell_type": "markdown",
   "metadata": {},
   "source": [
    "## 1.5 Training"
   ]
  },
  {
   "cell_type": "code",
   "execution_count": 15,
   "metadata": {
    "scrolled": false
   },
   "outputs": [
    {
     "name": "stdout",
     "output_type": "stream",
     "text": [
      "Train on 29713 samples, validate on 3302 samples\n",
      "Epoch 1/40\n",
      "29713/29713 [==============================] - 184s 6ms/step - loss: 0.3313 - categorical_accuracy: 0.8949 - val_loss: 0.2350 - val_categorical_accuracy: 0.9133\n",
      "Epoch 2/40\n",
      "29713/29713 [==============================] - 182s 6ms/step - loss: 0.0824 - categorical_accuracy: 0.9659 - val_loss: 0.4583 - val_categorical_accuracy: 0.9089\n",
      "Epoch 3/40\n",
      "29696/29713 [============================>.] - ETA: 0s - loss: 0.0381 - categorical_accuracy: 0.98470.001 1e-05\n",
      "29713/29713 [==============================] - 182s 6ms/step - loss: 0.0381 - categorical_accuracy: 0.9847 - val_loss: 0.4848 - val_categorical_accuracy: 0.9152\n",
      "Epoch 4/40\n",
      "29696/29713 [============================>.] - ETA: 0s - loss: 0.0186 - categorical_accuracy: 0.99300.001 1e-05\n",
      "29713/29713 [==============================] - 183s 6ms/step - loss: 0.0186 - categorical_accuracy: 0.9930 - val_loss: 0.6154 - val_categorical_accuracy: 0.9142\n",
      "Epoch 5/40\n",
      "29696/29713 [============================>.] - ETA: 0s - loss: 0.0191 - categorical_accuracy: 0.99320.001 1e-05\n",
      "29713/29713 [==============================] - 184s 6ms/step - loss: 0.0191 - categorical_accuracy: 0.9932 - val_loss: 0.6886 - val_categorical_accuracy: 0.9150\n",
      "Epoch 6/40\n",
      "29696/29713 [============================>.] - ETA: 0s - loss: 0.0060 - categorical_accuracy: 0.9980 - ETA: 21s - loss: 0.0062 - categorical_accuracy:  - ETA: 20s - loss: 0.0062 - categorical_accuracy:  - ETA: 18s - loss: 0.0062  - ETA: 13s - loss: 0.0061 - categorical_accuracy - ETA:0.001 1e-05\n",
      "29713/29713 [==============================] - 187s 6ms/step - loss: 0.0060 - categorical_accuracy: 0.9980 - val_loss: 0.7018 - val_categorical_accuracy: 0.9178\n",
      "Epoch 7/40\n",
      "29696/29713 [============================>.] - ETA: 0s - loss: 0.0087 - categorical_accuracy: 0.9971   E - ETA: 1:01 - loss: 0.0099 - ca -\n",
      "Epoch 00007: ReduceLROnPlateau reducing learning rate to 0.00010000000474974513.\n",
      "29713/29713 [==============================] - 188s 6ms/step - loss: 0.0087 - categorical_accuracy: 0.9971 - val_loss: 0.4959 - val_categorical_accuracy: 0.9096\n",
      "Epoch 8/40\n",
      "29713/29713 [==============================] - 188s 6ms/step - loss: 0.0770 - categorical_accuracy: 0.9679 - val_loss: 0.4121 - val_categorical_accuracy: 0.9135\n",
      "Epoch 9/40\n",
      "29696/29713 [============================>.] - ETA: 0s - loss: 0.0473 - categorical_accuracy: 0.98060.0001 1e-05\n",
      "29713/29713 [==============================] - 189s 6ms/step - loss: 0.0473 - categorical_accuracy: 0.9806 - val_loss: 0.5631 - val_categorical_accuracy: 0.9114\n",
      "Epoch 10/40\n",
      "29696/29713 [============================>.] - ETA: 0s - loss: 0.0264 - categorical_accuracy: 0.98960.0001 1e-05\n",
      "29713/29713 [==============================] - 190s 6ms/step - loss: 0.0264 - categorical_accuracy: 0.9896 - val_loss: 0.7011 - val_categorical_accuracy: 0.9109\n",
      "Epoch 11/40\n",
      "29696/29713 [============================>.] - ETA: 0s - loss: 0.0148 - categorical_accuracy: 0.99460.0001 1e-05\n",
      "29713/29713 [==============================] - 191s 6ms/step - loss: 0.0148 - categorical_accuracy: 0.9946 - val_loss: 0.7402 - val_categorical_accuracy: 0.9118\n",
      "Epoch 12/40\n",
      "29696/29713 [============================>.] - ETA: 0s - loss: 0.0073 - categorical_accuracy: 0.9976\n",
      "Epoch 00012: ReduceLROnPlateau reducing learning rate to 1.001e-05.\n",
      "29713/29713 [==============================] - 191s 6ms/step - loss: 0.0073 - categorical_accuracy: 0.9976 - val_loss: 0.8890 - val_categorical_accuracy: 0.9115\n",
      "Epoch 13/40\n",
      "29713/29713 [==============================] - 189s 6ms/step - loss: 0.0971 - categorical_accuracy: 0.9596 - val_loss: 0.2783 - val_categorical_accuracy: 0.9156\n",
      "Epoch 14/40\n",
      "29696/29713 [============================>.] - ETA: 0s - loss: 0.0877 - categorical_accuracy: 0.96321.001e-05 1e-05\n",
      "29713/29713 [==============================] - 189s 6ms/step - loss: 0.0877 - categorical_accuracy: 0.9632 - val_loss: 0.3023 - val_categorical_accuracy: 0.9155\n",
      "Epoch 15/40\n",
      "29696/29713 [============================>.] - ETA: 0s - loss: 0.0825 - categorical_accuracy: 0.96531.001e-05 1e-05\n",
      "29713/29713 [==============================] - 190s 6ms/step - loss: 0.0825 - categorical_accuracy: 0.9653 - val_loss: 0.3226 - val_categorical_accuracy: 0.9144\n",
      "Epoch 16/40\n",
      "29696/29713 [============================>.] - ETA: 0s - loss: 0.0778 - categorical_accuracy: 0.96741.001e-05 1e-05\n",
      "29713/29713 [==============================] - 191s 6ms/step - loss: 0.0778 - categorical_accuracy: 0.9674 - val_loss: 0.3463 - val_categorical_accuracy: 0.9138\n",
      "Epoch 17/40\n",
      "29696/29713 [============================>.] - ETA: 0s - loss: 0.0733 - categorical_accuracy: 0.96931.001e-05 1e-05\n",
      "29713/29713 [==============================] - 192s 6ms/step - loss: 0.0733 - categorical_accuracy: 0.9693 - val_loss: 0.3668 - val_categorical_accuracy: 0.9139\n",
      "Epoch 18/40\n",
      "29696/29713 [============================>.] - ETA: 0s - loss: 0.0690 - categorical_accuracy: 0.97131.001e-05 1e-05\n",
      "29713/29713 [==============================] - 193s 6ms/step - loss: 0.0690 - categorical_accuracy: 0.9713 - val_loss: 0.3865 - val_categorical_accuracy: 0.9137\n"
     ]
    },
    {
     "data": {
      "text/plain": [
       "<keras.callbacks.History at 0x7efeb0168828>"
      ]
     },
     "execution_count": 15,
     "metadata": {},
     "output_type": "execute_result"
    }
   ],
   "source": [
    "seed = 47\n",
    "np.random.seed(seed)\n",
    "\n",
    "# Build model\n",
    "model = generate_model(num_classes, num_channel, segment_size, core_size)\n",
    "\n",
    "K.set_value(model.optimizer.lr, 1e-3)\n",
    "\n",
    "model.fit(\n",
    "    x_train,\n",
    "    y_train,\n",
    "    epochs=nb_epoch,\n",
    "    validation_split=validation_split,\n",
    "    verbose=1,\n",
    "    callbacks=callbacks)\n",
    "\n",
    "# freeing space\n",
    "#del x_train\n",
    "#del y_train"
   ]
  },
  {
   "cell_type": "markdown",
   "metadata": {},
   "source": [
    "## 1.6 Classification"
   ]
  },
  {
   "cell_type": "code",
   "execution_count": 16,
   "metadata": {},
   "outputs": [],
   "source": [
    "from keras.models import load_model\n",
    "\n",
    "# Load best model\n",
    "model = generate_model(num_classes, num_channel, segment_size, core_size)\n",
    "model.load_weights(model_filename.format(1))"
   ]
  },
  {
   "cell_type": "code",
   "execution_count": 17,
   "metadata": {},
   "outputs": [
    {
     "name": "stdout",
     "output_type": "stream",
     "text": [
      "3301/3301 [==============================] - 3s 793us/step\n"
     ]
    },
    {
     "data": {
      "text/plain": [
       "[0.23511123135082154, 0.91327462982531926]"
      ]
     },
     "execution_count": 17,
     "metadata": {},
     "output_type": "execute_result"
    }
   ],
   "source": [
    "idx_start_valid = int(len(x_train)*validation_split)\n",
    "model.evaluate(x_train[-idx_start_valid:], y_train[-idx_start_valid:], verbose=1)"
   ]
  },
  {
   "cell_type": "code",
   "execution_count": 18,
   "metadata": {},
   "outputs": [
    {
     "data": {
      "text/plain": [
       "3300"
      ]
     },
     "execution_count": 18,
     "metadata": {},
     "output_type": "execute_result"
    }
   ],
   "source": [
    "len_patch = extract_patches(read_data(1, 'QSM'), patch_shape=segment_size, extraction_step=(9, 9, 3)).shape[0]\n",
    "len_patch"
   ]
  },
  {
   "cell_type": "code",
   "execution_count": 19,
   "metadata": {
    "scrolled": false
   },
   "outputs": [
    {
     "name": "stdout",
     "output_type": "stream",
     "text": [
      "1\n",
      "3300/3300 [==============================] - 3s 786us/step\n",
      "2\n",
      "3300/3300 [==============================] - 2s 735us/step\n",
      "3\n",
      "3300/3300 [==============================] - 2s 736us/step\n",
      "4\n",
      "3300/3300 [==============================] - 2s 738us/step\n",
      "5\n",
      "3300/3300 [==============================] - 2s 740us/step\n",
      "6\n",
      "3300/3300 [==============================] - 2s 734us/step\n",
      "7\n",
      "3300/3300 [==============================] - 2s 737us/step\n",
      "8\n",
      "3300/3300 [==============================] - 2s 746us/step\n",
      "9\n",
      "3300/3300 [==============================] - 2s 745us/step\n",
      "10\n",
      "3300/3300 [==============================] - 2s 747us/step\n",
      "11\n",
      "3300/3300 [==============================] - 2s 745us/step\n",
      "12\n",
      "3300/3300 [==============================] - 2s 747us/step\n",
      "13\n",
      "3300/3300 [==============================] - 2s 748us/step\n",
      "14\n",
      "3300/3300 [==============================] - 2s 748us/step\n",
      "15\n",
      "3300/3300 [==============================] - 2s 745us/step\n",
      "16\n",
      "3300/3300 [==============================] - 2s 750us/step\n"
     ]
    }
   ],
   "source": [
    "segmentations_train = []\n",
    "\n",
    "for i_case, case_idx in enumerate(idxs_training):\n",
    "\n",
    "    print(case_idx)\n",
    "    input_train = data_train[i_case, :, :, :, :]\n",
    "\n",
    "    x_test = np.zeros((len_patch, num_channel,) + segment_size, dtype=precision_global)\n",
    "    for i_channel in range(num_channel):\n",
    "        x_test[:, i_channel, :, :, :] = extract_patches(input_train[i_channel], patch_shape=segment_size, extraction_step=(9, 9, 3))\n",
    "\n",
    "    pred = model.predict(x_test, verbose=1)\n",
    "    pred_classes = np.argmax(pred, axis=2)\n",
    "    pred_classes = pred_classes.reshape((len(pred_classes), 9, 9, 3))\n",
    "    segmentation = reconstruct_volume(pred_classes, matrix_size)\n",
    "    \n",
    "    segmentations_train = segmentations_train + [segmentation]\n",
    "    \n",
    "segmentations_train = np.stack(segmentations_train, axis=0)"
   ]
  },
  {
   "cell_type": "code",
   "execution_count": 20,
   "metadata": {},
   "outputs": [
    {
     "data": {
      "text/plain": [
       "10.0"
      ]
     },
     "execution_count": 20,
     "metadata": {},
     "output_type": "execute_result"
    }
   ],
   "source": [
    "segmentations_train.max()"
   ]
  },
  {
   "cell_type": "code",
   "execution_count": 21,
   "metadata": {},
   "outputs": [
    {
     "data": {
      "image/png": "[encoded data removed]",
      "text/plain": [
       "<matplotlib.figure.Figure at 0x7efe757fd198>"
      ]
     },
     "metadata": {},
     "output_type": "display_data"
    }
   ],
   "source": [
    "plots(np.squeeze(label_train[0:15,:,:,25]), rows=3, scale = (0, 10))"
   ]
  },
  {
   "cell_type": "code",
   "execution_count": 22,
   "metadata": {
    "scrolled": true
   },
   "outputs": [
    {
     "data": {
      "image/png": "[encoded data removed]",
      "text/plain": [
       "<matplotlib.figure.Figure at 0x7efe757fd9b0>"
      ]
     },
     "metadata": {},
     "output_type": "display_data"
    }
   ],
   "source": [
    "plots(np.squeeze(segmentations_train[0:15,:,:,25]), rows=3, scale = (0, 10))"
   ]
  },
  {
   "cell_type": "markdown",
   "metadata": {},
   "source": [
    "## 1.7 Check false-positive"
   ]
  },
  {
   "cell_type": "code",
   "execution_count": 23,
   "metadata": {},
   "outputs": [],
   "source": [
    "idx_fpos = (label_train == 0) & (segmentations_train != 0);"
   ]
  },
  {
   "cell_type": "code",
   "execution_count": 24,
   "metadata": {},
   "outputs": [],
   "source": [
    "mask_fpos = np.zeros(label_train.shape, dtype=precision_global)\n",
    "mask_fpos[idx_fpos == True] = 1"
   ]
  },
  {
   "cell_type": "code",
   "execution_count": 25,
   "metadata": {},
   "outputs": [
    {
     "data": {
      "image/png": "[encoded data removed]",
      "text/plain": [
       "<matplotlib.figure.Figure at 0x7efde7022470>"
      ]
     },
     "metadata": {},
     "output_type": "display_data"
    }
   ],
   "source": [
    "plots(200*(np.squeeze(mask_fpos[0:15,:,:,25])), rows=3)"
   ]
  },
  {
   "cell_type": "markdown",
   "metadata": {},
   "source": [
    "# 2 Fine-tuning"
   ]
  },
  {
   "cell_type": "markdown",
   "metadata": {},
   "source": [
    "## 2.2 Rebuild training dataset"
   ]
  },
  {
   "cell_type": "code",
   "execution_count": 26,
   "metadata": {},
   "outputs": [],
   "source": [
    "del x_train, y_train"
   ]
  },
  {
   "cell_type": "code",
   "execution_count": 27,
   "metadata": {},
   "outputs": [
    {
     "name": "stdout",
     "output_type": "stream",
     "text": [
      "0\n",
      "1\n",
      "2\n",
      "3\n",
      "4\n",
      "5\n",
      "6\n",
      "7\n",
      "8\n",
      "9\n",
      "10\n",
      "11\n",
      "12\n",
      "13\n",
      "14\n",
      "15\n"
     ]
    },
    {
     "data": {
      "text/plain": [
       "((13807, 1, 27, 27, 21), (13807, 243, 11))"
      ]
     },
     "execution_count": 27,
     "metadata": {},
     "output_type": "execute_result"
    }
   ],
   "source": [
    "extraction_step_ft = (6,6,3)\n",
    "x_train, y_train = build_set(data_train, label_train, extraction_step_ft, segment_size, core_size, mask_fpos)\n",
    "x_train.shape, y_train.shape"
   ]
  },
  {
   "cell_type": "code",
   "execution_count": 24,
   "metadata": {},
   "outputs": [],
   "source": [
    "# shuffle array\n",
    "idxs_shuffle = shuffle(x_train)\n",
    "idxs_shuffle = shuffle(y_train, idxs_shuffle)"
   ]
  },
  {
   "cell_type": "code",
   "execution_count": 28,
   "metadata": {},
   "outputs": [],
   "source": [
    "save_array('tmp/x_train.bc', x_train)\n",
    "save_array('tmp/y_train.bc', y_train)"
   ]
  },
  {
   "cell_type": "code",
   "execution_count": 4,
   "metadata": {},
   "outputs": [],
   "source": [
    "x_train = load_array('tmp/x_train.bc')\n",
    "y_train = load_array('tmp/y_train.bc')"
   ]
  },
  {
   "cell_type": "markdown",
   "metadata": {},
   "source": [
    "## 2.3 Regenerate model"
   ]
  },
  {
   "cell_type": "code",
   "execution_count": 29,
   "metadata": {},
   "outputs": [],
   "source": [
    "from keras.callbacks import ModelCheckpoint\n",
    "from keras.callbacks import CSVLogger\n",
    "from keras.callbacks import EarlyStopping\n",
    "\n",
    "from callback_custom import EarlyStoppingLowLR\n",
    "from callback_custom import ReduceLROnPlateauBestWeight\n",
    "\n",
    "\n",
    "\n",
    "# Model checkpoint to save the training results\n",
    "checkpointer = ModelCheckpoint(\n",
    "    filepath=model_filename.format('2'),\n",
    "    monitor=monitor,\n",
    "    verbose=0,\n",
    "    save_best_only=True,\n",
    "    save_weights_only=True)\n",
    "\n",
    "# CSVLogger to save the training results in a csv file\n",
    "csv_logger = CSVLogger(csv_filename.format(1), separator=';')\n",
    "\n",
    "\n",
    "stopper = EarlyStoppingLowLR(patience=patience, monitor=monitor, thresh_LR=1e-5)\n",
    "\n",
    "learning_rate_reduction = ReduceLROnPlateauBestWeight(filepath=model_filename.format('2'),\n",
    "                                                      monitor=monitor, \n",
    "                                                      patience=patience, \n",
    "                                                      verbose=1, \n",
    "                                                      factor=0.1, \n",
    "                                                      min_lr=1.001e-5)\n",
    "\n",
    "callbacks = [checkpointer, csv_logger, learning_rate_reduction, stopper]"
   ]
  },
  {
   "cell_type": "code",
   "execution_count": 30,
   "metadata": {
    "scrolled": false
   },
   "outputs": [
    {
     "name": "stdout",
     "output_type": "stream",
     "text": [
      "Train on 12426 samples, validate on 1381 samples\n",
      "Epoch 1/40\n",
      "12426/12426 [==============================] - 74s 6ms/step - loss: 0.0344 - categorical_accuracy: 0.9867 - val_loss: 0.0024 - val_categorical_accuracy: 0.9992\n",
      "Epoch 2/40\n",
      "12426/12426 [==============================] - 74s 6ms/step - loss: 0.0240 - categorical_accuracy: 0.9902 - val_loss: 0.0025 - val_categorical_accuracy: 0.9992\n",
      "Epoch 3/40\n",
      "12426/12426 [==============================] - 75s 6ms/step - loss: 0.0207 - categorical_accuracy: 0.9915 - val_loss: 0.0019 - val_categorical_accuracy: 0.9993\n",
      "Epoch 4/40\n",
      "12426/12426 [==============================] - 75s 6ms/step - loss: 0.0188 - categorical_accuracy: 0.9922 - val_loss: 0.0013 - val_categorical_accuracy: 0.9995\n",
      "Epoch 5/40\n",
      "12416/12426 [============================>.] - ETA: 0s - loss: 0.0169 - categorical_accuracy: 0.99300.0001 1e-05\n",
      "12426/12426 [==============================] - 75s 6ms/step - loss: 0.0169 - categorical_accuracy: 0.9930 - val_loss: 0.0015 - val_categorical_accuracy: 0.9994\n",
      "Epoch 6/40\n",
      "12426/12426 [==============================] - 76s 6ms/step - loss: 0.0154 - categorical_accuracy: 0.9936 - val_loss: 5.5724e-04 - val_categorical_accuracy: 0.9998\n",
      "Epoch 7/40\n",
      "12416/12426 [============================>.] - ETA: 0s - loss: 0.0142 - categorical_accuracy: 0.99410.0001 1e-05\n",
      "12426/12426 [==============================] - 77s 6ms/step - loss: 0.0142 - categorical_accuracy: 0.9941 - val_loss: 7.2833e-04 - val_categorical_accuracy: 0.9997\n",
      "Epoch 8/40\n",
      "12416/12426 [============================>.] - ETA: 0s - loss: 0.0131 - categorical_accuracy: 0.99460.0001 1e-05\n",
      "12426/12426 [==============================] - 77s 6ms/step - loss: 0.0131 - categorical_accuracy: 0.9946 - val_loss: 0.0041 - val_categorical_accuracy: 0.9984\n",
      "Epoch 9/40\n",
      "12416/12426 [============================>.] - ETA: 0s - loss: 0.0119 - categorical_accuracy: 0.99510.0001 1e-05\n",
      "12426/12426 [==============================] - 77s 6ms/step - loss: 0.0119 - categorical_accuracy: 0.9951 - val_loss: 0.0012 - val_categorical_accuracy: 0.9995\n",
      "Epoch 10/40\n",
      "12426/12426 [==============================] - 77s 6ms/step - loss: 0.0109 - categorical_accuracy: 0.9956 - val_loss: 5.1981e-04 - val_categorical_accuracy: 0.9998\n",
      "Epoch 11/40\n",
      "12416/12426 [============================>.] - ETA: 0s - loss: 0.0099 - categorical_accuracy: 0.99600.0001 1e-05\n",
      "12426/12426 [==============================] - 77s 6ms/step - loss: 0.0099 - categorical_accuracy: 0.9960 - val_loss: 0.0019 - val_categorical_accuracy: 0.9992\n",
      "Epoch 12/40\n",
      "12416/12426 [============================>.] - ETA: 0s - loss: 0.0091 - categorical_accuracy: 0.9964\n",
      "Epoch 00012: ReduceLROnPlateau reducing learning rate to 1.001e-05.\n",
      "12426/12426 [==============================] - 78s 6ms/step - loss: 0.0091 - categorical_accuracy: 0.9964 - val_loss: 8.8145e-04 - val_categorical_accuracy: 0.9997\n",
      "Epoch 13/40\n",
      "12416/12426 [============================>.] - ETA: 0s - loss: 0.0088 - categorical_accuracy: 0.9966 - ETA: 57s - loss: 0.0096 -  - ETA: 52s - loss: 0.0092 -  -  - ETA: 1 - ETA: 1s - loss: 0.0088 - categorical_accura1.001e-05 1e-05\n",
      "12426/12426 [==============================] - 78s 6ms/step - loss: 0.0088 - categorical_accuracy: 0.9966 - val_loss: 9.2075e-04 - val_categorical_accuracy: 0.9996\n",
      "Epoch 14/40\n",
      "12416/12426 [============================>.] - ETA: 0s - loss: 0.0080 - categorical_accuracy: 0.99690- ETA: 51s - loss: - ETA: 44s - loss: 0.0081 - cate - ETA: 27s - loss: 0 - ETA: 20s - loss: 0.0080 - categorical_accurac - ETA: 19s - loss: 0.0080 - categorical_accur - ETA: 16s - loss: 0.0080 - categori - ETA: 12s - loss: 0.0080 - categorical_a - ETA: 9s - loss: 0. - ETA: 6s - loss: 0.0 - ETA: 2s - loss: 0.0080 - 1.001e-05 1e-05\n",
      "12426/12426 [==============================] - 78s 6ms/step - loss: 0.0080 - categorical_accuracy: 0.9969 - val_loss: 9.2635e-04 - val_categorical_accuracy: 0.9996\n",
      "Epoch 15/40\n",
      "12416/12426 [============================>.] - ETA: 0s - loss: 0.0076 - categorical_accuracy: 0.9971 ETA: 7s - los - ETA: 3s - loss: 0.0076 - categorical_accu - ETA: 2s - loss: 0.0076 - categori1.001e-05 1e-05\n",
      "12426/12426 [==============================] - 79s 6ms/step - loss: 0.0076 - categorical_accuracy: 0.9971 - val_loss: 0.0011 - val_categorical_accuracy: 0.9996\n",
      "Epoch 16/40\n",
      "12416/12426 [============================>.] - ETA: 0s - loss: 0.0074 - categorical_accuracy: 0.9972 ETA: 3s - loss: 0.0071.001e-05 1e-05\n",
      "12426/12426 [==============================] - 79s 6ms/step - loss: 0.0074 - categorical_accuracy: 0.9972 - val_loss: 0.0011 - val_categorical_accuracy: 0.9996\n",
      "Epoch 17/40\n",
      "12416/12426 [============================>.] - ETA: 0s - loss: 0.0071 - categorical_accuracy: 0.9973 - ETA: 56s - loss: 0.0074 - categorical_accuracy: 0. - ETA: 55s - loss: 0.0075 - cat - ETA: 50s - loss: 0 - ETA: 32s -  - 1.001e-05 1e-05\n",
      "12426/12426 [==============================] - 78s 6ms/step - loss: 0.0071 - categorical_accuracy: 0.9973 - val_loss: 0.0012 - val_categorical_accuracy: 0.9996\n"
     ]
    },
    {
     "data": {
      "text/plain": [
       "<keras.callbacks.History at 0x7efe755ab208>"
      ]
     },
     "execution_count": 30,
     "metadata": {},
     "output_type": "execute_result"
    }
   ],
   "source": [
    "# Build model\n",
    "model = generate_model(num_classes, num_channel, segment_size, core_size)\n",
    "\n",
    "# Load optimized weights\n",
    "model.load_weights(model_filename.format('1'))\n",
    "\n",
    "K.set_value(model.optimizer.lr, 1e-4)\n",
    "\n",
    "# Start fine-tuning\n",
    "model.fit(\n",
    "    x_train,\n",
    "    y_train,\n",
    "    epochs=nb_epoch,\n",
    "    validation_split=validation_split,\n",
    "    verbose=1,\n",
    "    callbacks=callbacks)\n",
    "\n",
    "# freeing space\n",
    "#del x_train\n",
    "#del y_train"
   ]
  },
  {
   "cell_type": "code",
   "execution_count": 31,
   "metadata": {},
   "outputs": [],
   "source": [
    "# Load best model\n",
    "model = generate_model(num_classes, num_channel, segment_size, core_size)\n",
    "model.load_weights(model_filename.format('2'))"
   ]
  },
  {
   "cell_type": "code",
   "execution_count": 32,
   "metadata": {},
   "outputs": [
    {
     "name": "stdout",
     "output_type": "stream",
     "text": [
      "1380/1380 [==============================] - 1s 873us/step\n"
     ]
    },
    {
     "data": {
      "text/plain": [
       "[0.00052018868791426514, 0.99981492550476736]"
      ]
     },
     "execution_count": 32,
     "metadata": {},
     "output_type": "execute_result"
    }
   ],
   "source": [
    "idx_start_valid = int(len(x_train)*validation_split)\n",
    "model.evaluate(x_train[-idx_start_valid:], y_train[-idx_start_valid:], verbose=1)"
   ]
  },
  {
   "cell_type": "code",
   "execution_count": 33,
   "metadata": {},
   "outputs": [
    {
     "name": "stdout",
     "output_type": "stream",
     "text": [
      "17\n",
      "3300/3300 [==============================] - 3s 781us/step\n",
      "18\n",
      "3300/3300 [==============================] - 2s 734us/step\n",
      "19\n",
      "3300/3300 [==============================] - 2s 740us/step\n",
      "20\n",
      "3300/3300 [==============================] - 2s 737us/step\n"
     ]
    }
   ],
   "source": [
    "segmentations_test = []\n",
    "\n",
    "for i_case, case_idx in enumerate(idxs_test):\n",
    "\n",
    "    print(case_idx)\n",
    "    input_test = data_test[i_case, :, :, :, :]\n",
    "\n",
    "    x_test = np.zeros((len_patch, num_channel,) + segment_size, dtype=precision_global)\n",
    "    for i_channel in range(num_channel):\n",
    "        x_test[:, i_channel, :, :, :] = extract_patches(input_test[i_channel], patch_shape=segment_size, extraction_step=(9, 9, 3))\n",
    "\n",
    "    pred = model.predict(x_test, verbose=1)\n",
    "    pred_classes = np.argmax(pred, axis=2)\n",
    "    pred_classes = pred_classes.reshape((len(pred_classes), 9, 9, 3))\n",
    "    segmentation = reconstruct_volume(pred_classes, matrix_size)\n",
    "    #segmentation = reconstruct_volume_majority(pred_classes, matrix_size, extraction_step=(3, 3, 3))\n",
    "    \n",
    "    segmentations_test = segmentations_test + [segmentation]\n",
    "    \n",
    "segmentations_test = np.stack(segmentations_test, axis=0)"
   ]
  },
  {
   "cell_type": "code",
   "execution_count": 34,
   "metadata": {},
   "outputs": [
    {
     "data": {
      "text/plain": [
       "10.0"
      ]
     },
     "execution_count": 34,
     "metadata": {},
     "output_type": "execute_result"
    }
   ],
   "source": [
    "segmentations_test.max()"
   ]
  },
  {
   "cell_type": "code",
   "execution_count": 35,
   "metadata": {},
   "outputs": [
    {
     "data": {
      "image/png": "[encoded data removed]",
      "text/plain": [
       "<matplotlib.figure.Figure at 0x7efdba5c7588>"
      ]
     },
     "metadata": {},
     "output_type": "display_data"
    }
   ],
   "source": [
    "plots(np.squeeze(label_test[:,:,:,23]), rows=1, scale = (0, 10))"
   ]
  },
  {
   "cell_type": "code",
   "execution_count": 36,
   "metadata": {},
   "outputs": [
    {
     "data": {
      "image/png": "[encoded data removed]",
      "text/plain": [
       "<matplotlib.figure.Figure at 0x7efdba624208>"
      ]
     },
     "metadata": {},
     "output_type": "display_data"
    }
   ],
   "source": [
    "plots(np.squeeze(segmentations_test[:,:,:,23]), rows=1, scale = (0, 10))"
   ]
  },
  {
   "cell_type": "markdown",
   "metadata": {},
   "source": [
    "# 3 Post-processing"
   ]
  },
  {
   "cell_type": "markdown",
   "metadata": {},
   "source": [
    "## 3.1 Pick the largest connected component for each class"
   ]
  },
  {
   "cell_type": "code",
   "execution_count": 37,
   "metadata": {},
   "outputs": [],
   "source": [
    "for i_case, case_idx in enumerate(idxs_test):\n",
    "    segmentation = np.squeeze(segmentations_test[i_case,:,:,:]);\n",
    "    tmp = np.zeros(segmentation.shape, dtype=segmentation.dtype)\n",
    "    \n",
    "    for class_idx in class_mapper_inv :\n",
    "        mask = (segmentation == class_idx)\n",
    "        \n",
    "        if class_idx != 0 and mask.sum() > 0:\n",
    "            labeled_mask, num_cc = ndimage.label(mask)\n",
    "            largest_cc_mask = (labeled_mask == (np.bincount(labeled_mask.flat)[1:].argmax() + 1))\n",
    "            \n",
    "            tmp[largest_cc_mask == 1] = class_idx\n",
    "        \n",
    "    segmentations_test[i_case,:,:,:] = tmp"
   ]
  },
  {
   "cell_type": "markdown",
   "metadata": {},
   "source": [
    "## 3.2 Save it "
   ]
  },
  {
   "cell_type": "code",
   "execution_count": 38,
   "metadata": {},
   "outputs": [
    {
     "name": "stdout",
     "output_type": "stream",
     "text": [
      "17\n",
      "18\n",
      "19\n",
      "20\n",
      "Done with Step 3\n"
     ]
    }
   ],
   "source": [
    "for i_case, case_idx in enumerate(idxs_test):\n",
    "    print(case_idx)\n",
    "    \n",
    "    segmentation = np.copy(np.squeeze(segmentations_test[i_case,:,:,:]))\n",
    "    \n",
    "    tmp = np.copy(segmentation)\n",
    "    for class_idx in class_mapper_inv:\n",
    "        segmentation[tmp == class_idx] = class_mapper_inv[class_idx]\n",
    "    del tmp\n",
    "\n",
    "    save_data(segmentation, case_idx, 'label')    \n",
    "\n",
    "print(\"Done with Step 3\")"
   ]
  },
  {
   "cell_type": "markdown",
   "metadata": {},
   "source": [
    "## 3.3 Calculate metric "
   ]
  },
  {
   "cell_type": "code",
   "execution_count": 39,
   "metadata": {},
   "outputs": [],
   "source": [
    "def calc_dice(m1, m2):\n",
    "    return 2*((m1==1) & (m2==1)).sum()/((m1==1).sum() + (m2==1).sum())"
   ]
  },
  {
   "cell_type": "code",
   "execution_count": 40,
   "metadata": {},
   "outputs": [
    {
     "name": "stdout",
     "output_type": "stream",
     "text": [
      "17\t0.9992\tN/A\t0.8969\t0.9028\t0.8734\t0.7474\t0.7294\t0.9221\t0.8342\t0.8425\t0.9524\t0.7178\t\n",
      "18\t0.9991\tN/A\tN/A\t0.8421\t0.9000\t0.9152\t0.7519\t0.7519\t0.8328\t0.8355\t0.8875\t0.8017\t\n",
      "19\t0.9992\tN/A\t0.8333\t0.8448\t0.9695\t0.9718\t0.9769\t0.9739\t0.8474\t0.8701\t0.7808\t0.7606\t\n",
      "20\t0.9987\tN/A\t0.9322\t0.7386\t0.8103\t0.8814\t0.9471\t0.9076\t0.7088\t0.6207\t0.7435\t0.6495\t\n"
     ]
    }
   ],
   "source": [
    "for i_case, case_idx in enumerate(idxs_test):\n",
    "    print(case_idx, end='\\t')\n",
    "    print('{:.4f}'.format(accuracy_score(label_test[i_case,:,:,:].flat, segmentations_test[i_case,:,:,:].flat)), end='\\t')\n",
    "    for class_idx in class_mapper_inv:\n",
    "        mask = (np.squeeze(segmentations_test[i_case,:,:,:]) == class_idx)\n",
    "        if class_idx != 0 and mask.sum() > 0:\n",
    "            print('{:.4f}'.format(precision_score(label_test[i_case,:,:,:][mask], segmentations_test[i_case,:,:,:][mask], average='micro')), end='\\t')\n",
    "        else:\n",
    "            print('N/A', end='\\t')\n",
    "    print()"
   ]
  },
  {
   "cell_type": "code",
   "execution_count": 41,
   "metadata": {},
   "outputs": [
    {
     "name": "stdout",
     "output_type": "stream",
     "text": [
      "17\t0\t0.9110\t0.8075\t0.8598\t0.8378\t0.8108\t0.9062\t0.8822\t0.8866\t0.8421\t0.7894\t\n",
      "18\t0\t0\t0.4267\t0.7465\t0.8728\t0.8117\t0.8232\t0.8304\t0.7919\t0.3060\t0.8237\t\n",
      "19\t0\t0.8081\t0.8099\t0.7582\t0.8473\t0.9128\t0.8899\t0.8504\t0.8340\t0.6988\t0.2634\t\n",
      "20\t0\t0.9091\t0.7784\t0.7315\t0.8495\t0.7959\t0.7874\t0.6999\t0.6486\t0.6308\t0.5975\t\n"
     ]
    }
   ],
   "source": [
    "for i_case, case_idx in enumerate(idxs_test):\n",
    "    print(case_idx, end='\\t')\n",
    "    for class_idx in class_mapper_inv:\n",
    "        mask = (np.squeeze(segmentations_test[i_case,:,:,:]) == class_idx)\n",
    "        if class_idx != 0 and mask.sum() > 0:\n",
    "            print('{:.4f}'.format(calc_dice((label_test[i_case,:,:,:]==class_idx).flat, (segmentations_test[i_case,:,:,:]==class_idx).flat)), end='\\t')\n",
    "        else:\n",
    "            print(0, end='\\t')\n",
    "    print()"
   ]
  },
  {
   "cell_type": "code",
   "execution_count": null,
   "metadata": {},
   "outputs": [],
   "source": []
  }
 ],
 "metadata": {
  "kernelspec": {
   "display_name": "Python 3",
   "language": "python",
   "name": "python3"
  },
  "language_info": {
   "codemirror_mode": {
    "name": "ipython",
    "version": 3
   },
   "file_extension": ".py",
   "mimetype": "text/x-python",
   "name": "python",
   "nbconvert_exporter": "python",
   "pygments_lexer": "ipython3",
   "version": "3.5.2"
  }
 },
 "nbformat": 4,
 "nbformat_minor": 2
}
