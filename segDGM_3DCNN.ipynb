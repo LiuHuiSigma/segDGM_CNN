{
 "cells": [
  {
   "cell_type": "code",
   "execution_count": 3,
   "metadata": {},
   "outputs": [],
   "source": [
    "%matplotlib inline\n",
    "import nibabel as nib\n",
    "import numpy as np\n",
    "from scipy import ndimage\n",
    "from keras import backend as K\n",
    "from sklearn.metrics import accuracy_score, precision_score\n",
    "\n",
    "from utils import *\n",
    "from model_FCNN import generate_model\n"
   ]
  },
  {
   "cell_type": "code",
   "execution_count": 102,
   "metadata": {},
   "outputs": [
    {
     "data": {
      "text/plain": [
       "<module 'callback_custom' from '/home/kumamon/src/segDGM_3DCNN/callback_custom.py'>"
      ]
     },
     "execution_count": 102,
     "metadata": {},
     "output_type": "execute_result"
    }
   ],
   "source": [
    "from importlib import reload\n",
    "\n",
    "import keras\n",
    "reload(keras)\n",
    "from keras import backend as K\n",
    "\n",
    "import utils\n",
    "reload(utils)\n",
    "from utils import *\n",
    "\n",
    "import model_FCNN\n",
    "reload(model_FCNN)\n",
    "from model_FCNN import generate_model\n",
    "\n",
    "import callback_custom\n",
    "reload(callback_custom)"
   ]
  },
  {
   "cell_type": "markdown",
   "metadata": {},
   "source": [
    "# Problem configuration"
   ]
  },
  {
   "cell_type": "code",
   "execution_count": 95,
   "metadata": {},
   "outputs": [],
   "source": [
    "num_classes = 11\n",
    "num_channel = 1\n",
    "\n",
    "# K-fold validation (K=5)\n",
    "n_training = 16\n",
    "n_test = 4\n",
    "\n",
    "idxs_training = list(range(1, 1+16))\n",
    "idxs_test = list(range(17, 17+4))\n",
    "\n",
    "patience = 5\n",
    "model_filename = 'models/outrun_step_{}.h5'\n",
    "csv_filename = 'log/outrun_step_{}.cvs'\n",
    "\n",
    "nb_epoch = 40\n",
    "validation_split = 0.20\n",
    "monitor = 'val_loss'#'val_categorical_accuracy'\n",
    "\n",
    "class_mapper = {0:0}\n",
    "class_mapper.update({ i+1:i for i in range(1, 1+10) })\n",
    "class_mapper_inv = {0:0}\n",
    "class_mapper_inv.update({ i:i+1 for i in range(1, 1+10) })\n",
    "\n",
    "matrix_size = (160, 220, 48)\n",
    "\n",
    "extraction_step = (3, 3, 3)\n",
    "#extraction_step = (9, 9, 3)\n",
    "\n",
    "segment_size = (27, 27, 21)\n",
    "core_size = (9, 9, 3)"
   ]
  },
  {
   "cell_type": "markdown",
   "metadata": {},
   "source": [
    "# Architecture"
   ]
  },
  {
   "cell_type": "markdown",
   "metadata": {},
   "source": [
    "# 1. Initial segmentation"
   ]
  },
  {
   "cell_type": "markdown",
   "metadata": {},
   "source": [
    "## 1.1 Read data"
   ]
  },
  {
   "cell_type": "code",
   "execution_count": 12,
   "metadata": {},
   "outputs": [],
   "source": [
    "QSM_train = np.empty(((n_training,) + matrix_size), dtype=precision_global)\n",
    "MAG_train = np.empty(((n_training,) + matrix_size), dtype=precision_global)\n",
    "R2S_train = np.empty(((n_training,) + matrix_size), dtype=precision_global)\n",
    "label_train = np.empty(((n_training,) + matrix_size), dtype=precision_global)\n",
    "for i, case_idx in enumerate(idxs_training):\n",
    "    QSM_train[i, :, :, :] = read_data(case_idx, 'QSM')\n",
    "    MAG_train[i, :, :, :] = read_data(case_idx, 'MAG')\n",
    "    R2S_train[i, :, :, :] = read_data(case_idx, 'R2S')\n",
    "    label_train[i, :, :, :] = read_data(case_idx, 'label')"
   ]
  },
  {
   "cell_type": "code",
   "execution_count": 13,
   "metadata": {},
   "outputs": [],
   "source": [
    "#data_train = np.stack((QSM_train, MAG_train, R2S_train), axis = 1)\n",
    "data_train = np.stack((QSM_train,), axis = 1)"
   ]
  },
  {
   "cell_type": "code",
   "execution_count": 14,
   "metadata": {},
   "outputs": [],
   "source": [
    "QSM_test = np.empty(((n_test,) + matrix_size), dtype=precision_global)\n",
    "MAG_test = np.empty(((n_test,) + matrix_size), dtype=precision_global)\n",
    "R2S_test = np.empty(((n_test,) + matrix_size), dtype=precision_global)\n",
    "label_test = np.empty(((n_test,) + matrix_size), dtype=precision_global)\n",
    "for i, case_idx in enumerate(idxs_test):\n",
    "    QSM_test[i, :, :, :] = read_data(case_idx, 'QSM')\n",
    "    MAG_test[i, :, :, :] = read_data(case_idx, 'MAG')\n",
    "    R2S_test[i, :, :, :] = read_data(case_idx, 'R2S')\n",
    "    label_test[i, :, :, :] = read_data(case_idx, 'label')"
   ]
  },
  {
   "cell_type": "code",
   "execution_count": 15,
   "metadata": {},
   "outputs": [],
   "source": [
    "#data_test = np.stack((QSM_test, MAG_test, R2S_test), axis = 1)\n",
    "data_test = np.stack((QSM_test,), axis = 1)"
   ]
  },
  {
   "cell_type": "markdown",
   "metadata": {},
   "source": [
    "## 1.2 Pre-processing"
   ]
  },
  {
   "cell_type": "code",
   "execution_count": 16,
   "metadata": {},
   "outputs": [],
   "source": [
    "## Intensity normalisation (zero mean and unit variance)\n",
    "input_mean = 127.0\n",
    "input_std = 128.0\n",
    "data_train = (data_train - input_mean) / input_std\n",
    "data_test = (data_test - input_mean) / input_std\n",
    "\n",
    "# Map class label\n",
    "tmp = np.copy(label_train)\n",
    "for class_idx in class_mapper:\n",
    "    label_train[tmp == class_idx] = class_mapper[class_idx]\n",
    "tmp = np.copy(label_test)\n",
    "for class_idx in class_mapper:\n",
    "    label_test[tmp == class_idx] = class_mapper[class_idx]\n",
    "del tmp"
   ]
  },
  {
   "cell_type": "code",
   "execution_count": 19,
   "metadata": {},
   "outputs": [
    {
     "data": {
      "text/plain": [
       "10.0"
      ]
     },
     "execution_count": 19,
     "metadata": {},
     "output_type": "execute_result"
    }
   ],
   "source": [
    "label_train.max()"
   ]
  },
  {
   "cell_type": "code",
   "execution_count": 20,
   "metadata": {},
   "outputs": [
    {
     "data": {
      "image/png": "[encoded data removed]",
      "text/plain": [
       "<matplotlib.figure.Figure at 0x7f0b8d6bfb00>"
      ]
     },
     "metadata": {},
     "output_type": "display_data"
    }
   ],
   "source": [
    "plots(np.squeeze(label_train[0,:,:,[29,25]]), scale = (0, 10))"
   ]
  },
  {
   "cell_type": "markdown",
   "metadata": {},
   "source": [
    "## 1.3 Data preparation"
   ]
  },
  {
   "cell_type": "code",
   "execution_count": 62,
   "metadata": {},
   "outputs": [
    {
     "name": "stdout",
     "output_type": "stream",
     "text": [
      "0\n",
      "1\n",
      "2\n",
      "3\n",
      "4\n",
      "5\n",
      "6\n",
      "7\n",
      "8\n",
      "9\n",
      "10\n",
      "11\n",
      "12\n",
      "13\n",
      "14\n",
      "15\n"
     ]
    },
    {
     "data": {
      "text/plain": [
       "((10850, 1, 27, 27, 21), (10850, 243, 11))"
      ]
     },
     "execution_count": 62,
     "metadata": {},
     "output_type": "execute_result"
    }
   ],
   "source": [
    "x_train, y_train = build_set(data_train, label_train, extraction_step, segment_size, core_size)\n",
    "x_train.shape, y_train.shape"
   ]
  },
  {
   "cell_type": "code",
   "execution_count": 113,
   "metadata": {},
   "outputs": [],
   "source": [
    "# shuffle array\n",
    "idxs_shuffle = shuffle(x_train)\n",
    "idxs_shuffle = shuffle(y_train, idxs_shuffle)"
   ]
  },
  {
   "cell_type": "markdown",
   "metadata": {},
   "source": [
    "## 1.4 Configure callbacks"
   ]
  },
  {
   "cell_type": "code",
   "execution_count": 65,
   "metadata": {},
   "outputs": [],
   "source": [
    "from keras.callbacks import ModelCheckpoint\n",
    "from keras.callbacks import CSVLogger\n",
    "from keras.callbacks import EarlyStopping\n",
    "\n",
    "# Early stopping for reducing over-fitting risk\n",
    "stopper = EarlyStopping(patience=patience, monitor='val_categorical_accuracy')\n",
    "\n",
    "# Model checkpoint to save the training results\n",
    "checkpointer = ModelCheckpoint(\n",
    "    filepath=model_filename.format('1'),\n",
    "    monitor='val_categorical_accuracy',\n",
    "    verbose=0,\n",
    "    save_best_only=True,\n",
    "    save_weights_only=True)\n",
    "\n",
    "# CSVLogger to save the training results in a csv file\n",
    "csv_logger = CSVLogger(csv_filename.format(1), separator=';')\n",
    "\n",
    "callbacks = [checkpointer, csv_logger, stopper]"
   ]
  },
  {
   "cell_type": "code",
   "execution_count": 29,
   "metadata": {},
   "outputs": [],
   "source": [
    "from keras.callbacks import ReduceLROnPlateau\n",
    "\n",
    "learning_rate_reduction = ReduceLROnPlateau(monitor='val_categorical_accuracy', \n",
    "                                            patience=patience, \n",
    "                                            verbose=1, \n",
    "                                            factor=0.1, \n",
    "                                            min_lr=1e-5)\n",
    "\n",
    "callbacks = [checkpointer, csv_logger, learning_rate_reduction]"
   ]
  },
  {
   "cell_type": "code",
   "execution_count": 115,
   "metadata": {},
   "outputs": [],
   "source": [
    "from keras.callbacks import ModelCheckpoint\n",
    "from keras.callbacks import CSVLogger\n",
    "from keras.callbacks import EarlyStopping\n",
    "\n",
    "from callback_custom import EarlyStoppingLowLR\n",
    "from callback_custom import ReduceLROnPlateauBestWeight\n",
    "\n",
    "\n",
    "\n",
    "# Model checkpoint to save the training results\n",
    "checkpointer = ModelCheckpoint(\n",
    "    filepath=model_filename.format('1'),\n",
    "    monitor=monitor,\n",
    "    verbose=1,\n",
    "    save_best_only=True,\n",
    "    save_weights_only=True)\n",
    "\n",
    "# CSVLogger to save the training results in a csv file\n",
    "csv_logger = CSVLogger(csv_filename.format(1), separator=';')\n",
    "\n",
    "\n",
    "stopper = EarlyStoppingLowLR(patience=patience, monitor=monitor, thresh_LR=1e-5)\n",
    "\n",
    "learning_rate_reduction = ReduceLROnPlateauBestWeight(filepath=model_filename.format('1'),\n",
    "                                                      monitor=monitor, \n",
    "                                                      patience=patience, \n",
    "                                                      verbose=1, \n",
    "                                                      factor=0.1, \n",
    "                                                      min_lr=1.001e-5)\n",
    "\n",
    "callbacks = [checkpointer, csv_logger, learning_rate_reduction, stopper]"
   ]
  },
  {
   "cell_type": "markdown",
   "metadata": {},
   "source": [
    "## 1.5 Training"
   ]
  },
  {
   "cell_type": "code",
   "execution_count": 116,
   "metadata": {
    "scrolled": false
   },
   "outputs": [
    {
     "name": "stdout",
     "output_type": "stream",
     "text": [
      "Train on 8680 samples, validate on 2170 samples\n",
      "Epoch 1/40\n",
      "8672/8680 [============================>.] - ETA: 0s - loss: 0.6799 - categorical_accuracy: 0.8149Epoch 00001: val_loss improved from inf to 0.54188, saving model to models/outrun_step_1.h5\n",
      "8680/8680 [==============================] - 55s 6ms/step - loss: 0.6797 - categorical_accuracy: 0.8149 - val_loss: 0.5419 - val_categorical_accuracy: 0.8283\n",
      "Epoch 2/40\n",
      "8672/8680 [============================>.] - ETA: 0s - loss: 0.2810 - categorical_accuracy: 0.9024Epoch 00002: val_loss did not improve\n",
      "8680/8680 [==============================] - 52s 6ms/step - loss: 0.2808 - categorical_accuracy: 0.9025 - val_loss: 0.6537 - val_categorical_accuracy: 0.8613\n",
      "Epoch 3/40\n",
      "8672/8680 [============================>.] - ETA: 0s - loss: 0.1363 - categorical_accuracy: 0.9453Epoch 00003: val_loss improved from 0.54188 to 0.50965, saving model to models/outrun_step_1.h5\n",
      "8680/8680 [==============================] - 53s 6ms/step - loss: 0.1363 - categorical_accuracy: 0.9453 - val_loss: 0.5097 - val_categorical_accuracy: 0.8799\n",
      "Epoch 4/40\n",
      "8672/8680 [============================>.] - ETA: 0s - loss: 0.1026 - categorical_accuracy: 0.9581Epoch 00004: val_loss improved from 0.50965 to 0.45949, saving model to models/outrun_step_1.h5\n",
      "8680/8680 [==============================] - 54s 6ms/step - loss: 0.1027 - categorical_accuracy: 0.9581 - val_loss: 0.4595 - val_categorical_accuracy: 0.9025\n",
      "Epoch 5/40\n",
      "8672/8680 [============================>.] - ETA: 0s - loss: 0.0765 - categorical_accuracy: 0.9683Epoch 00005: val_loss did not improve\n",
      "0.001 1e-05\n",
      "8680/8680 [==============================] - 54s 6ms/step - loss: 0.0765 - categorical_accuracy: 0.9683 - val_loss: 0.6237 - val_categorical_accuracy: 0.8943\n",
      "Epoch 6/40\n",
      "8672/8680 [============================>.] - ETA: 0s - loss: 0.0557 - categorical_accuracy: 0.9771Epoch 00006: val_loss did not improve\n",
      "0.001 1e-05\n",
      "8680/8680 [==============================] - 54s 6ms/step - loss: 0.0557 - categorical_accuracy: 0.9771 - val_loss: 0.6760 - val_categorical_accuracy: 0.8973\n",
      "Epoch 7/40\n",
      "8672/8680 [============================>.] - ETA: 0s - loss: 0.0454 - categorical_accuracy: 0.9817Epoch 00007: val_loss did not improve\n",
      "0.001 1e-05\n",
      "8680/8680 [==============================] - 54s 6ms/step - loss: 0.0454 - categorical_accuracy: 0.9817 - val_loss: 0.6133 - val_categorical_accuracy: 0.9029\n",
      "Epoch 8/40\n",
      "8672/8680 [============================>.] - ETA: 0s - loss: 0.0372 - categorical_accuracy: 0.9853Epoch 00008: val_loss did not improve\n",
      "0.001 1e-05\n",
      "8680/8680 [==============================] - 54s 6ms/step - loss: 0.0372 - categorical_accuracy: 0.9853 - val_loss: 0.7462 - val_categorical_accuracy: 0.9006\n",
      "Epoch 9/40\n",
      "8672/8680 [============================>.] - ETA: 0s - loss: 0.0262 - categorical_accuracy: 0.9898Epoch 00009: val_loss did not improve\n",
      "0.001 1e-05\n",
      "8680/8680 [==============================] - 54s 6ms/step - loss: 0.0262 - categorical_accuracy: 0.9898 - val_loss: 0.6461 - val_categorical_accuracy: 0.9011\n",
      "Epoch 10/40\n",
      "8672/8680 [============================>.] - ETA: 0s - loss: 0.0266 - categorical_accuracy: 0.9898Epoch 00010: val_loss did not improve\n",
      "\n",
      "Epoch 00010: ReduceLROnPlateau reducing learning rate to 0.00010000000474974513.\n",
      "8680/8680 [==============================] - 55s 6ms/step - loss: 0.0266 - categorical_accuracy: 0.9898 - val_loss: 0.8134 - val_categorical_accuracy: 0.9006\n",
      "Epoch 11/40\n",
      "8672/8680 [============================>.] - ETA: 0s - loss: 0.0634 - categorical_accuracy: 0.9737 - ETA: 17s - los - ETA: 3s - loss: 0.0 - ETA: 0s - loss: 0.0634 - categorical_accuracy: 0.Epoch 00011: val_loss did not improve\n",
      "8680/8680 [==============================] - 56s 6ms/step - loss: 0.0634 - categorical_accuracy: 0.9737 - val_loss: 0.5822 - val_categorical_accuracy: 0.9002\n",
      "Epoch 12/40\n",
      "8672/8680 [============================>.] - ETA: 0s - loss: 0.0531 - categorical_accuracy: 0.9781Epoch 00012: val_loss did not improve\n",
      "0.0001 1e-05\n",
      "8680/8680 [==============================] - 56s 6ms/step - loss: 0.0531 - categorical_accuracy: 0.9781 - val_loss: 0.6618 - val_categorical_accuracy: 0.8995\n",
      "Epoch 13/40\n",
      "8672/8680 [============================>.] - ETA: 0s - loss: 0.0456 - categorical_accuracy: 0.9815Epoch 00013: val_loss did not improve\n",
      "0.0001 1e-05\n",
      "8680/8680 [==============================] - 56s 7ms/step - loss: 0.0456 - categorical_accuracy: 0.9815 - val_loss: 0.7148 - val_categorical_accuracy: 0.8985\n",
      "Epoch 14/40\n",
      "8672/8680 [============================>.] - ETA: 0s - loss: 0.0385 - categorical_accuracy: 0.9847Epoch 00014: val_loss did not improve\n",
      "0.0001 1e-05\n",
      "8680/8680 [==============================] - 56s 7ms/step - loss: 0.0385 - categorical_accuracy: 0.9847 - val_loss: 0.7899 - val_categorical_accuracy: 0.8981\n",
      "Epoch 15/40\n",
      "8672/8680 [============================>.] - ETA: 0s - loss: 0.0314 - categorical_accuracy: 0.9878 ETA: 4s - lEpoch 00015: val_loss did not improve\n",
      "\n",
      "Epoch 00015: ReduceLROnPlateau reducing learning rate to 1.001e-05.\n",
      "8680/8680 [==============================] - 56s 6ms/step - loss: 0.0314 - categorical_accuracy: 0.9878 - val_loss: 0.8798 - val_categorical_accuracy: 0.8963\n",
      "Epoch 16/40\n",
      "8672/8680 [============================>.] - ETA: 0s - loss: 0.0694 - categorical_accuracy: 0.9710Epoch 00016: val_loss did not improve\n",
      "8680/8680 [==============================] - 56s 7ms/step - loss: 0.0694 - categorical_accuracy: 0.9710 - val_loss: 0.5076 - val_categorical_accuracy: 0.9012\n",
      "Epoch 17/40\n",
      "8672/8680 [============================>.] - ETA: 0s - loss: 0.0643 - categorical_accuracy: 0.9732 ETA: 2s - loss: 0.0642 - Epoch 00017: val_loss did not improve\n",
      "1.001e-05 1e-05\n",
      "8680/8680 [==============================] - 56s 6ms/step - loss: 0.0644 - categorical_accuracy: 0.9732 - val_loss: 0.5291 - val_categorical_accuracy: 0.9016\n",
      "Epoch 18/40\n",
      "8672/8680 [============================>.] - ETA: 0s - loss: 0.0619 - categorical_accuracy: 0.9743Epoch 00018: val_loss did not improve\n",
      "1.001e-05 1e-05\n",
      "8680/8680 [==============================] - 56s 7ms/step - loss: 0.0619 - categorical_accuracy: 0.9743 - val_loss: 0.5566 - val_categorical_accuracy: 0.9006\n",
      "Epoch 19/40\n",
      "8672/8680 [============================>.] - ETA: 0s - loss: 0.0599 - categorical_accuracy: 0.9751Epoch 00019: val_loss did not improve\n",
      "1.001e-05 1e-05\n",
      "8680/8680 [==============================] - 56s 7ms/step - loss: 0.0599 - categorical_accuracy: 0.9751 - val_loss: 0.5552 - val_categorical_accuracy: 0.9017\n",
      "Epoch 20/40\n",
      "8672/8680 [============================>.] - ETA: 0s - loss: 0.0581 - categorical_accuracy: 0.9759Epoch 00020: val_loss did not improve\n",
      "1.001e-05 1e-05\n",
      "8680/8680 [==============================] - 56s 6ms/step - loss: 0.0581 - categorical_accuracy: 0.9759 - val_loss: 0.5698 - val_categorical_accuracy: 0.9017\n",
      "Epoch 21/40\n",
      "8672/8680 [============================>.] - ETA: 0s - loss: 0.0565 - categorical_accuracy: 0.9767Epoch 00021: val_loss did not improve\n",
      "1.001e-05 1e-05\n",
      "8680/8680 [==============================] - 56s 6ms/step - loss: 0.0565 - categorical_accuracy: 0.9767 - val_loss: 0.5866 - val_categorical_accuracy: 0.9005\n"
     ]
    },
    {
     "data": {
      "text/plain": [
       "<keras.callbacks.History at 0x7fa7f12ecda0>"
      ]
     },
     "execution_count": 116,
     "metadata": {},
     "output_type": "execute_result"
    }
   ],
   "source": [
    "seed = 47\n",
    "np.random.seed(seed)\n",
    "\n",
    "# Build model\n",
    "model = generate_model(num_classes, num_channel, segment_size, core_size)\n",
    "\n",
    "K.set_value(model.optimizer.lr, 1e-3)\n",
    "\n",
    "model.fit(\n",
    "    x_train,\n",
    "    y_train,\n",
    "    epochs=nb_epoch,\n",
    "    validation_split=validation_split,\n",
    "    verbose=1,\n",
    "    callbacks=callbacks)\n",
    "\n",
    "# freeing space\n",
    "#del x_train\n",
    "#del y_train"
   ]
  },
  {
   "cell_type": "markdown",
   "metadata": {},
   "source": [
    "## 1.6 Classification"
   ]
  },
  {
   "cell_type": "code",
   "execution_count": 117,
   "metadata": {},
   "outputs": [],
   "source": [
    "from keras.models import load_model\n",
    "\n",
    "# Load best model\n",
    "model = generate_model(num_classes, num_channel, segment_size, core_size)\n",
    "model.load_weights(model_filename.format(1))"
   ]
  },
  {
   "cell_type": "code",
   "execution_count": 118,
   "metadata": {},
   "outputs": [
    {
     "name": "stdout",
     "output_type": "stream",
     "text": [
      "2170/2170 [==============================] - 2s 1ms/step\n"
     ]
    },
    {
     "data": {
      "text/plain": [
       "[0.45949072467017282, 0.90250119833352926]"
      ]
     },
     "execution_count": 118,
     "metadata": {},
     "output_type": "execute_result"
    }
   ],
   "source": [
    "idx_start_valid = int(len(x_train)*validation_split)\n",
    "model.evaluate(x_train[-idx_start_valid:], y_train[-idx_start_valid:], verbose=1)"
   ]
  },
  {
   "cell_type": "code",
   "execution_count": 119,
   "metadata": {},
   "outputs": [
    {
     "data": {
      "text/plain": [
       "3300"
      ]
     },
     "execution_count": 119,
     "metadata": {},
     "output_type": "execute_result"
    }
   ],
   "source": [
    "len_patch = extract_patches(read_data(1, 'QSM'), patch_shape=segment_size, extraction_step=(9, 9, 3)).shape[0]\n",
    "len_patch"
   ]
  },
  {
   "cell_type": "code",
   "execution_count": 120,
   "metadata": {},
   "outputs": [
    {
     "name": "stdout",
     "output_type": "stream",
     "text": [
      "1\n",
      "3300/3300 [==============================] - 3s 930us/step\n",
      "2\n",
      "3300/3300 [==============================] - 3s 803us/step\n",
      "3\n",
      "3300/3300 [==============================] - 3s 773us/step\n",
      "4\n",
      "3300/3300 [==============================] - 3s 785us/step\n",
      "5\n",
      "3300/3300 [==============================] - 3s 774us/step\n",
      "6\n",
      "3300/3300 [==============================] - 3s 777us/step\n",
      "7\n",
      "3300/3300 [==============================] - 3s 770us/step\n",
      "8\n",
      "3300/3300 [==============================] - 3s 780us/step\n",
      "9\n",
      "3300/3300 [==============================] - 3s 792us/step\n",
      "10\n",
      "3300/3300 [==============================] - 3s 778us/step\n",
      "11\n",
      "3300/3300 [==============================] - 3s 786us/step\n",
      "12\n",
      "3300/3300 [==============================] - 3s 790us/step\n",
      "13\n",
      "3300/3300 [==============================] - 3s 782us/step\n",
      "14\n",
      "3300/3300 [==============================] - 3s 795us/step\n",
      "15\n",
      "3300/3300 [==============================] - 3s 785us/step\n",
      "16\n",
      "3300/3300 [==============================] - 3s 795us/step\n"
     ]
    }
   ],
   "source": [
    "segmentations_train = []\n",
    "\n",
    "for i_case, case_idx in enumerate(idxs_training):\n",
    "\n",
    "    print(case_idx)\n",
    "    input_train = data_train[i_case, :, :, :, :]\n",
    "\n",
    "    x_test = np.zeros((len_patch, num_channel,) + segment_size, dtype=precision_global)\n",
    "    for i_channel in range(num_channel):\n",
    "        x_test[:, i_channel, :, :, :] = extract_patches(input_train[i_channel], patch_shape=segment_size, extraction_step=(9, 9, 3))\n",
    "\n",
    "    pred = model.predict(x_test, verbose=1)\n",
    "    pred_classes = np.argmax(pred, axis=2)\n",
    "    pred_classes = pred_classes.reshape((len(pred_classes), 9, 9, 3))\n",
    "    segmentation = reconstruct_volume(pred_classes, matrix_size)\n",
    "    \n",
    "    segmentations_train = segmentations_train + [segmentation]\n",
    "    \n",
    "segmentations_train = np.stack(segmentations_train, axis=0)"
   ]
  },
  {
   "cell_type": "code",
   "execution_count": 78,
   "metadata": {},
   "outputs": [
    {
     "data": {
      "text/plain": [
       "10.0"
      ]
     },
     "execution_count": 78,
     "metadata": {},
     "output_type": "execute_result"
    }
   ],
   "source": [
    "segmentations_train.max()"
   ]
  },
  {
   "cell_type": "code",
   "execution_count": 46,
   "metadata": {},
   "outputs": [
    {
     "data": {
      "image/png": "[encoded data removed]",
      "text/plain": [
       "<matplotlib.figure.Figure at 0x7fa86ee7a0b8>"
      ]
     },
     "metadata": {},
     "output_type": "display_data"
    }
   ],
   "source": [
    "plots(np.squeeze(label_train[0:15,:,:,25]), rows=3, scale = (0, 10))"
   ]
  },
  {
   "cell_type": "code",
   "execution_count": 121,
   "metadata": {
    "scrolled": true
   },
   "outputs": [
    {
     "data": {
      "image/png": "[encoded data removed]",
      "text/plain": [
       "<matplotlib.figure.Figure at 0x7fa86ee7a320>"
      ]
     },
     "metadata": {},
     "output_type": "display_data"
    }
   ],
   "source": [
    "plots(np.squeeze(segmentations_train[0:15,:,:,25]), rows=3, scale = (0, 10))"
   ]
  },
  {
   "cell_type": "markdown",
   "metadata": {},
   "source": [
    "## 1.7 Check false-positive"
   ]
  },
  {
   "cell_type": "code",
   "execution_count": 125,
   "metadata": {},
   "outputs": [],
   "source": [
    "idx_fpos = (label_train == 0) & (segmentations_train != 0);"
   ]
  },
  {
   "cell_type": "code",
   "execution_count": 126,
   "metadata": {},
   "outputs": [],
   "source": [
    "mask_fpos = np.zeros(label_train.shape, dtype=precision_global)\n",
    "mask_fpos[idx_fpos == True] = 1"
   ]
  },
  {
   "cell_type": "code",
   "execution_count": 127,
   "metadata": {},
   "outputs": [
    {
     "data": {
      "image/png": "[encoded data removed]",
      "text/plain": [
       "<matplotlib.figure.Figure at 0x7fa7f7add5f8>"
      ]
     },
     "metadata": {},
     "output_type": "display_data"
    }
   ],
   "source": [
    "plots(200*(np.squeeze(mask_fpos[0:15,:,:,25])), rows=3)"
   ]
  },
  {
   "cell_type": "markdown",
   "metadata": {},
   "source": [
    "# 2 Fine-tuning"
   ]
  },
  {
   "cell_type": "markdown",
   "metadata": {},
   "source": [
    "## 2.2 Rebuild training dataset"
   ]
  },
  {
   "cell_type": "code",
   "execution_count": 128,
   "metadata": {},
   "outputs": [],
   "source": [
    "del x_train, y_train"
   ]
  },
  {
   "cell_type": "code",
   "execution_count": 129,
   "metadata": {},
   "outputs": [
    {
     "name": "stdout",
     "output_type": "stream",
     "text": [
      "0\n",
      "1\n",
      "2\n",
      "3\n",
      "4\n",
      "5\n",
      "6\n",
      "7\n",
      "8\n",
      "9\n",
      "10\n",
      "11\n",
      "12\n",
      "13\n",
      "14\n",
      "15\n"
     ]
    },
    {
     "data": {
      "text/plain": [
       "((34305, 1, 27, 27, 21), (34305, 243, 11))"
      ]
     },
     "execution_count": 129,
     "metadata": {},
     "output_type": "execute_result"
    }
   ],
   "source": [
    "x_train, y_train = build_set(data_train, label_train, extraction_step, segment_size, core_size, mask_fpos)\n",
    "x_train.shape, y_train.shape"
   ]
  },
  {
   "cell_type": "code",
   "execution_count": 130,
   "metadata": {},
   "outputs": [],
   "source": [
    "# shuffle array\n",
    "idxs_shuffle = shuffle(x_train)\n",
    "idxs_shuffle = shuffle(y_train, idxs_shuffle)"
   ]
  },
  {
   "cell_type": "code",
   "execution_count": 131,
   "metadata": {},
   "outputs": [],
   "source": [
    "save_array('tmp/x_train.bc', x_train)\n",
    "save_array('tmp/y_train.bc', y_train)"
   ]
  },
  {
   "cell_type": "code",
   "execution_count": 4,
   "metadata": {},
   "outputs": [],
   "source": [
    "x_train = load_array('tmp/x_train.bc')\n",
    "y_train = load_array('tmp/y_train.bc')"
   ]
  },
  {
   "cell_type": "markdown",
   "metadata": {},
   "source": [
    "## 2.3 Regenerate model"
   ]
  },
  {
   "cell_type": "code",
   "execution_count": 58,
   "metadata": {},
   "outputs": [],
   "source": [
    "from keras.callbacks import ModelCheckpoint\n",
    "from keras.callbacks import CSVLogger\n",
    "from keras.callbacks import EarlyStopping\n",
    "\n",
    "# Early stopping for reducing over-fitting risk\n",
    "stopper = EarlyStopping(patience=patience, monitor='val_categorical_accuracy')\n",
    "\n",
    "# Model checkpoint to save the training results\n",
    "checkpointer = ModelCheckpoint(\n",
    "    filepath=model_filename.format('2'),\n",
    "    monitor='val_categorical_accuracy',\n",
    "    verbose=0,\n",
    "    save_best_only=True,\n",
    "    save_weights_only=True)\n",
    "\n",
    "# CSVLogger to save the training results in a csv file\n",
    "csv_logger = CSVLogger(csv_filename.format(1), separator=';')\n",
    "\n",
    "callbacks = [checkpointer, csv_logger, stopper]"
   ]
  },
  {
   "cell_type": "code",
   "execution_count": 41,
   "metadata": {},
   "outputs": [],
   "source": [
    "from keras.callbacks import ReduceLROnPlateau\n",
    "\n",
    "learning_rate_reduction = ReduceLROnPlateau(monitor='val_categorical_accuracy', \n",
    "                                            patience=patience, \n",
    "                                            verbose=1, \n",
    "                                            factor=0.1, \n",
    "                                            min_lr=1e-5)\n",
    "\n",
    "callbacks = [checkpointer, csv_logger, learning_rate_reduction]"
   ]
  },
  {
   "cell_type": "code",
   "execution_count": 132,
   "metadata": {},
   "outputs": [],
   "source": [
    "from keras.callbacks import ModelCheckpoint\n",
    "from keras.callbacks import CSVLogger\n",
    "from keras.callbacks import EarlyStopping\n",
    "\n",
    "from callback_custom import EarlyStoppingLowLR\n",
    "from callback_custom import ReduceLROnPlateauBestWeight\n",
    "\n",
    "\n",
    "\n",
    "# Model checkpoint to save the training results\n",
    "checkpointer = ModelCheckpoint(\n",
    "    filepath=model_filename.format('2'),\n",
    "    monitor=monitor,\n",
    "    verbose=1,\n",
    "    save_best_only=True,\n",
    "    save_weights_only=True)\n",
    "\n",
    "# CSVLogger to save the training results in a csv file\n",
    "csv_logger = CSVLogger(csv_filename.format(1), separator=';')\n",
    "\n",
    "\n",
    "stopper = EarlyStoppingLowLR(patience=patience, monitor=monitor, thresh_LR=1e-5)\n",
    "\n",
    "learning_rate_reduction = ReduceLROnPlateauBestWeight(filepath=model_filename.format('2'),\n",
    "                                                      monitor=monitor, \n",
    "                                                      patience=patience, \n",
    "                                                      verbose=1, \n",
    "                                                      factor=0.1, \n",
    "                                                      min_lr=1.001e-5)\n",
    "\n",
    "callbacks = [checkpointer, csv_logger, learning_rate_reduction, stopper]"
   ]
  },
  {
   "cell_type": "code",
   "execution_count": 133,
   "metadata": {},
   "outputs": [
    {
     "name": "stdout",
     "output_type": "stream",
     "text": [
      "Train on 27444 samples, validate on 6861 samples\n",
      "Epoch 1/40\n",
      "27424/27444 [============================>.] - ETA: 0s - loss: 0.0260 - categorical_accuracy: 0.9895Epoch 00001: val_loss improved from inf to 0.33690, saving model to models/outrun_step_2.h5\n",
      "27444/27444 [==============================] - 170s 6ms/step - loss: 0.0260 - categorical_accuracy: 0.9895 - val_loss: 0.3369 - val_categorical_accuracy: 0.9566\n",
      "Epoch 2/40\n",
      "27424/27444 [============================>.] - ETA: 0s - loss: 0.0158 - categorical_accuracy: 0.9936Epoch 00002: val_loss did not improve\n",
      "27444/27444 [==============================] - 168s 6ms/step - loss: 0.0158 - categorical_accuracy: 0.9936 - val_loss: 0.3807 - val_categorical_accuracy: 0.9564\n",
      "Epoch 3/40\n",
      "27424/27444 [============================>.] - ETA: 0s - loss: 0.0120 - categorical_accuracy: 0.9952Epoch 00003: val_loss did not improve\n",
      "0.0001 1e-05\n",
      "27444/27444 [==============================] - 169s 6ms/step - loss: 0.0120 - categorical_accuracy: 0.9952 - val_loss: 0.3828 - val_categorical_accuracy: 0.9581\n",
      "Epoch 4/40\n",
      "27424/27444 [============================>.] - ETA: 0s - loss: 0.0093 - categorical_accuracy: 0.9963Epoch 00004: val_loss did not improve\n",
      "27444/27444 [==============================] - 170s 6ms/step - loss: 0.0093 - categorical_accuracy: 0.9963 - val_loss: 0.3798 - val_categorical_accuracy: 0.9581\n",
      "Epoch 5/40\n",
      "27424/27444 [============================>.] - ETA: 0s - loss: 0.0070 - categorical_accuracy: 0.9973 ETA: 7s - loss: 0.0070 - categorical_Epoch 00005: val_loss did not improve\n",
      "0.0001 1e-05\n",
      "27444/27444 [==============================] - 172s 6ms/step - loss: 0.0070 - categorical_accuracy: 0.9973 - val_loss: 0.4335 - val_categorical_accuracy: 0.9572\n",
      "Epoch 6/40\n",
      "27424/27444 [============================>.] - ETA: 0s - loss: 0.0053 - categorical_accuracy: 0.9980Epoch 00006: val_loss did not improve\n",
      "0.0001 1e-05\n",
      "27444/27444 [==============================] - 175s 6ms/step - loss: 0.0053 - categorical_accuracy: 0.9980 - val_loss: 0.4801 - val_categorical_accuracy: 0.9558\n",
      "Epoch 7/40\n",
      "27424/27444 [============================>.] - ETA: 0s - loss: 0.0063 - categorical_accuracy: 0.9978 ETA: 2s - loss: 0.0063 - cateEpoch 00007: val_loss did not improve\n",
      "\n",
      "Epoch 00007: ReduceLROnPlateau reducing learning rate to 1.001e-05.\n",
      "27444/27444 [==============================] - 175s 6ms/step - loss: 0.0063 - categorical_accuracy: 0.9978 - val_loss: 0.4047 - val_categorical_accuracy: 0.9576\n",
      "Epoch 8/40\n",
      "27424/27444 [============================>.] - ETA: 0s - loss: 0.0164 - categorical_accuracy: 0.9934Epoch 00008: val_loss improved from 0.33690 to 0.33092, saving model to models/outrun_step_2.h5\n",
      "27444/27444 [==============================] - 177s 6ms/step - loss: 0.0164 - categorical_accuracy: 0.9934 - val_loss: 0.3309 - val_categorical_accuracy: 0.9576\n",
      "Epoch 9/40\n",
      "27424/27444 [============================>.] - ETA: 0s - loss: 0.0156 - categorical_accuracy: 0.9937Epoch 00009: val_loss did not improve\n",
      "1.001e-05 1e-05\n",
      "27444/27444 [==============================] - 177s 6ms/step - loss: 0.0155 - categorical_accuracy: 0.9937 - val_loss: 0.3428 - val_categorical_accuracy: 0.9575\n",
      "Epoch 10/40\n",
      "27424/27444 [============================>.] - ETA: 0s - loss: 0.0148 - categorical_accuracy: 0.9940 ETA: 1s - loss: 0.0148 - categorical_accuracy: 0.99 - ETA: 1s - loss: 0.0148 - categorical_accu - ETA: 0s - loss: 0.0148 - categorical_accuracy: 0.99Epoch 00010: val_loss did not improve\n",
      "1.001e-05 1e-05\n",
      "27444/27444 [==============================] - 176s 6ms/step - loss: 0.0148 - categorical_accuracy: 0.9940 - val_loss: 0.3604 - val_categorical_accuracy: 0.9570\n",
      "Epoch 11/40\n",
      "27424/27444 [============================>.] - ETA: 0s - loss: 0.0140 - categorical_accuracy: 0.9944Epoch 00011: val_loss did not improve\n",
      "1.001e-05 1e-05\n",
      "27444/27444 [==============================] - 176s 6ms/step - loss: 0.0140 - categorical_accuracy: 0.9944 - val_loss: 0.3597 - val_categorical_accuracy: 0.9573\n",
      "Epoch 12/40\n",
      "27424/27444 [============================>.] - ETA: 0s - loss: 0.0132 - categorical_accuracy: 0.9947Epoch 00012: val_loss did not improve\n",
      "1.001e-05 1e-05\n",
      "27444/27444 [==============================] - 177s 6ms/step - loss: 0.0132 - categorical_accuracy: 0.9947 - val_loss: 0.3777 - val_categorical_accuracy: 0.9570\n",
      "Epoch 13/40\n",
      "27424/27444 [============================>.] - ETA: 0s - loss: 0.0125 - categorical_accuracy: 0.9951Epoch 00013: val_loss did not improve\n",
      "1.001e-05 1e-05\n",
      "27444/27444 [==============================] - 177s 6ms/step - loss: 0.0125 - categorical_accuracy: 0.9951 - val_loss: 0.3785 - val_categorical_accuracy: 0.9571\n"
     ]
    },
    {
     "data": {
      "text/plain": [
       "<keras.callbacks.History at 0x7fa7f44e7dd8>"
      ]
     },
     "execution_count": 133,
     "metadata": {},
     "output_type": "execute_result"
    }
   ],
   "source": [
    "# Build model\n",
    "model = generate_model(num_classes, num_channel, segment_size, core_size)\n",
    "\n",
    "# Load optimized weights\n",
    "model.load_weights(model_filename.format('1'))\n",
    "\n",
    "K.set_value(model.optimizer.lr, 1e-4)\n",
    "\n",
    "# Start fine-tuning\n",
    "model.fit(\n",
    "    x_train,\n",
    "    y_train,\n",
    "    epochs=nb_epoch,\n",
    "    validation_split=validation_split,\n",
    "    verbose=1,\n",
    "    callbacks=callbacks)\n",
    "\n",
    "# freeing space\n",
    "#del x_train\n",
    "#del y_train"
   ]
  },
  {
   "cell_type": "code",
   "execution_count": 134,
   "metadata": {},
   "outputs": [],
   "source": [
    "# Load best model\n",
    "model = generate_model(num_classes, num_channel, segment_size, core_size)\n",
    "model.load_weights(model_filename.format('2'))"
   ]
  },
  {
   "cell_type": "code",
   "execution_count": 135,
   "metadata": {},
   "outputs": [
    {
     "name": "stdout",
     "output_type": "stream",
     "text": [
      "6861/6861 [==============================] - 6s 851us/step\n"
     ]
    },
    {
     "data": {
      "text/plain": [
       "[0.33092002472511617, 0.95755856075538459]"
      ]
     },
     "execution_count": 135,
     "metadata": {},
     "output_type": "execute_result"
    }
   ],
   "source": [
    "idx_start_valid = int(len(x_train)*validation_split)\n",
    "model.evaluate(x_train[-idx_start_valid:], y_train[-idx_start_valid:], verbose=1)"
   ]
  },
  {
   "cell_type": "code",
   "execution_count": 136,
   "metadata": {},
   "outputs": [
    {
     "name": "stdout",
     "output_type": "stream",
     "text": [
      "17\n",
      "3300/3300 [==============================] - 3s 947us/step\n",
      "18\n",
      "3300/3300 [==============================] - 3s 762us/step\n",
      "19\n",
      "3300/3300 [==============================] - 3s 761us/step\n",
      "20\n",
      "3300/3300 [==============================] - 3s 771us/step\n"
     ]
    }
   ],
   "source": [
    "segmentations_test = []\n",
    "\n",
    "for i_case, case_idx in enumerate(idxs_test):\n",
    "\n",
    "    print(case_idx)\n",
    "    input_test = data_test[i_case, :, :, :, :]\n",
    "\n",
    "    x_test = np.zeros((len_patch, num_channel,) + segment_size, dtype=precision_global)\n",
    "    for i_channel in range(num_channel):\n",
    "        x_test[:, i_channel, :, :, :] = extract_patches(input_test[i_channel], patch_shape=segment_size, extraction_step=(9, 9, 3))\n",
    "\n",
    "    pred = model.predict(x_test, verbose=1)\n",
    "    pred_classes = np.argmax(pred, axis=2)\n",
    "    pred_classes = pred_classes.reshape((len(pred_classes), 9, 9, 3))\n",
    "    segmentation = reconstruct_volume(pred_classes, matrix_size)\n",
    "    \n",
    "    segmentations_test = segmentations_test + [segmentation]\n",
    "    \n",
    "segmentations_test = np.stack(segmentations_test, axis=0)"
   ]
  },
  {
   "cell_type": "code",
   "execution_count": 137,
   "metadata": {},
   "outputs": [
    {
     "data": {
      "text/plain": [
       "10.0"
      ]
     },
     "execution_count": 137,
     "metadata": {},
     "output_type": "execute_result"
    }
   ],
   "source": [
    "segmentations_test.max()"
   ]
  },
  {
   "cell_type": "code",
   "execution_count": 139,
   "metadata": {},
   "outputs": [
    {
     "data": {
      "image/png": "[encoded data removed]",
      "text/plain": [
       "<matplotlib.figure.Figure at 0x7fa7f0130d68>"
      ]
     },
     "metadata": {},
     "output_type": "display_data"
    }
   ],
   "source": [
    "plots(np.squeeze(label_test[:,:,:,22]), rows=1, scale = (0, 10))"
   ]
  },
  {
   "cell_type": "code",
   "execution_count": 140,
   "metadata": {},
   "outputs": [
    {
     "data": {
      "image/png": "[encoded data removed]",
      "text/plain": [
       "<matplotlib.figure.Figure at 0x7fa7f75bcd30>"
      ]
     },
     "metadata": {},
     "output_type": "display_data"
    }
   ],
   "source": [
    "plots(np.squeeze(segmentations_test[:,:,:,22]), rows=1, scale = (0, 10))"
   ]
  },
  {
   "cell_type": "markdown",
   "metadata": {},
   "source": [
    "# 3 Post-processing"
   ]
  },
  {
   "cell_type": "markdown",
   "metadata": {},
   "source": [
    "## 3.1 Pick the largest connected component for each class"
   ]
  },
  {
   "cell_type": "code",
   "execution_count": 141,
   "metadata": {},
   "outputs": [],
   "source": [
    "for i_case, case_idx in enumerate(idxs_test):\n",
    "    segmentation = np.squeeze(segmentations_test[i_case,:,:,:]);\n",
    "    tmp = np.zeros(segmentation.shape, dtype=segmentation.dtype)\n",
    "    \n",
    "    for class_idx in class_mapper_inv :\n",
    "        mask = (segmentation == class_idx)\n",
    "        \n",
    "        if class_idx != 0 and mask.sum() > 0:\n",
    "            labeled_mask, num_cc = ndimage.label(mask)\n",
    "            largest_cc_mask = (labeled_mask == (np.bincount(labeled_mask.flat)[1:].argmax() + 1))\n",
    "            \n",
    "            tmp[largest_cc_mask == 1] = class_idx\n",
    "        \n",
    "    segmentations_test[i_case,:,:,:] = tmp"
   ]
  },
  {
   "cell_type": "markdown",
   "metadata": {},
   "source": [
    "## 3.2 Save it "
   ]
  },
  {
   "cell_type": "code",
   "execution_count": 142,
   "metadata": {},
   "outputs": [
    {
     "name": "stdout",
     "output_type": "stream",
     "text": [
      "17\n",
      "18\n",
      "19\n",
      "20\n",
      "Done with Step 3\n"
     ]
    }
   ],
   "source": [
    "for i_case, case_idx in enumerate(idxs_test):\n",
    "    print(case_idx)\n",
    "    \n",
    "    segmentation = np.squeeze(segmentations_test[i_case,:,:,:]);\n",
    "\n",
    "    save_data(segmentation, case_idx, 'label')    \n",
    "\n",
    "print(\"Done with Step 3\")"
   ]
  },
  {
   "cell_type": "markdown",
   "metadata": {},
   "source": [
    "## 3.3 Calculate metric "
   ]
  },
  {
   "cell_type": "code",
   "execution_count": 143,
   "metadata": {},
   "outputs": [],
   "source": [
    "def calc_dice(m1, m2):\n",
    "    return 2*((m1==1) & (m2==1)).sum()/((m1==1).sum() + (m2==1).sum())"
   ]
  },
  {
   "cell_type": "code",
   "execution_count": 144,
   "metadata": {},
   "outputs": [
    {
     "name": "stdout",
     "output_type": "stream",
     "text": [
      "17\t0.9992\tN/A\t0.9367\t0.8333\t0.8735\t0.7617\t0.7063\t0.9350\t0.8353\t0.8483\t0.9528\t0.7242\t\n",
      "18\t0.9990\tN/A\t1.0000\t0.5714\t0.8727\t0.8882\t0.7586\t0.8013\t0.8987\t0.7932\t0.7789\t0.8121\t\n",
      "19\t0.9992\tN/A\t1.0000\t0.9184\t0.9704\t0.9274\t0.9532\t0.9737\t0.9050\t0.8246\t0.6792\t0.6667\t\n",
      "20\t0.9987\tN/A\t0.9500\t0.7879\t0.8551\t0.9137\t0.9404\t0.9535\t0.6996\t0.6188\t0.9132\t0.6331\t\n"
     ]
    }
   ],
   "source": [
    "for i_case, case_idx in enumerate(idxs_test):\n",
    "    print(case_idx, end='\\t')\n",
    "    print('{:.4f}'.format(accuracy_score(label_test[i_case,:,:,:].flat, segmentations_test[i_case,:,:,:].flat)), end='\\t')\n",
    "    for class_idx in class_mapper_inv:\n",
    "        mask = (np.squeeze(segmentations_test[i_case,:,:,:]) == class_idx)\n",
    "        if class_idx != 0 and mask.sum() > 0:\n",
    "            print('{:.4f}'.format(precision_score(label_test[i_case,:,:,:][mask], segmentations_test[i_case,:,:,:][mask], average='micro')), end='\\t')\n",
    "        else:\n",
    "            print('N/A', end='\\t')\n",
    "    print()"
   ]
  },
  {
   "cell_type": "code",
   "execution_count": 145,
   "metadata": {},
   "outputs": [
    {
     "name": "stdout",
     "output_type": "stream",
     "text": [
      "17\t0\t0.8555\t0.8092\t0.8815\t0.8596\t0.8137\t0.8969\t0.8576\t0.8790\t0.8058\t0.7836\t\n",
      "18\t0\t0.0635\t0.3810\t0.8101\t0.8604\t0.8261\t0.8436\t0.5612\t0.7165\t0.6637\t0.8148\t\n",
      "19\t0\t0.8000\t0.8036\t0.8794\t0.8137\t0.8836\t0.8868\t0.8334\t0.8396\t0.6143\t0.2173\t\n",
      "20\t0\t0.9344\t0.7172\t0.7973\t0.8843\t0.7972\t0.7675\t0.7030\t0.6680\t0.5770\t0.5407\t\n"
     ]
    }
   ],
   "source": [
    "for i_case, case_idx in enumerate(idxs_test):\n",
    "    print(case_idx, end='\\t')\n",
    "    for class_idx in class_mapper_inv:\n",
    "        mask = (np.squeeze(segmentations_test[i_case,:,:,:]) == class_idx)\n",
    "        if class_idx != 0 and mask.sum() > 0:\n",
    "            print('{:.4f}'.format(calc_dice((label_test[i_case,:,:,:]==class_idx).flat, (segmentations_test[i_case,:,:,:]==class_idx).flat)), end='\\t')\n",
    "        else:\n",
    "            print(0, end='\\t')\n",
    "    print()"
   ]
  },
  {
   "cell_type": "code",
   "execution_count": null,
   "metadata": {},
   "outputs": [],
   "source": []
  },
  {
   "cell_type": "code",
   "execution_count": null,
   "metadata": {},
   "outputs": [],
   "source": []
  }
 ],
 "metadata": {
  "kernelspec": {
   "display_name": "Python 3",
   "language": "python",
   "name": "python3"
  },
  "language_info": {
   "codemirror_mode": {
    "name": "ipython",
    "version": 3
   },
   "file_extension": ".py",
   "mimetype": "text/x-python",
   "name": "python",
   "nbconvert_exporter": "python",
   "pygments_lexer": "ipython3",
   "version": "3.5.2"
  }
 },
 "nbformat": 4,
 "nbformat_minor": 2
}
